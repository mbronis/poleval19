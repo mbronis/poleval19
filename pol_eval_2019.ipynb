{
 "cells": [
  {
   "cell_type": "markdown",
   "id": "ace1ff59",
   "metadata": {},
   "source": [
    "# Intro\n",
    "\n",
    "\n",
    "Ponieważ jest to moje pierwsze zetknięcie z `NLP` i mam dość ograniczony czas, przyjąłem najprostsze podejście: `bag-of-words` + kilka komplementarnych i uniwersalnych algorytmów do klasyfikacji (model liniowy, svm, rf i boosting).  \n",
    "Zastosowałem \"zdroworozdądkowe\" podejscie do features engineering (opisane w następnym akapicie). Generalnie chciałem oczyścić tekst z nieistotnych znaków, zaadresować problem literówek (nie rozwiązywany przez model języka którego użyłem) oraz ujednolicić formy wyrazów.  \n",
    "Wyniki wszystkich zastosowanych przeze mnie modeli wskazywały na mocne przeuczenie, stąd decyzja o regularyzacji z wykorzystaniem optymalizacji hiperparametrów.  \n",
    "W kolejnym kroku sprawdzę czy różne klasy modeli mylą się (`false negative` dla klas 1/2) na innych obserwacjach. Jeśli tak będzię zastosuję `blend` optymalnych klasyfikatorów. Wydaje się, że flagowanie tweetów klasą 1/2 jeśli którykowliek klasyfikator wskaże tą klasę może poprawić metryki.\n",
    "\n",
    "W rozwiązaniu przyłożyłem większą niż zwykle wagę do aspektów Inzynierskich/MLOpsowych. Czytam teraz *Clean Code in Python* i zadanie wykorzystałem jako okazja do przećwiczenia tego czego się nauczyłem :) Mam nadzieję że nie przegiąłem z hintami :p Pomimo że zadanie jest z natury jednorazowe, starałem się wytworzyć kod który będzie czytelny, reużywalny i łatwo rozszeżalny.\n",
    "\n",
    "\n",
    "**Pomysły jeśli miałbym więcej czsu**\n",
    "* lepszy model języka. Obraz `Dockera` byłby cięższy i tagowanie mogłobybyć dłuższe, ale z przeprowadzonych testów wynika że w obu kwestiach mam duży zapas. \n",
    "* wykorzystanie 2/3-gramów\n",
    "* wytworzenie nowych obserwacji dla klas 1/2.  \n",
    "Pomysł który chciałbym przetestować to:\n",
    "    * spośród `False Negative` dla tych klas wybrać n-gramy których częstość wystpępowania w kalsach 1/2 jest istotnie wyższa niż w klasie 0\n",
    "    * te n-gramy tworzyłyby zbiór \"rdzeni\" nowego tweeta\n",
    "    * dla każdego egzemplarza \"rdzenia\" dolosować n-gramy z typowych - których częstość występowania we wszystkich klasach jest podobna\n",
    "    * zbiór takich tokenów tworzyłby nową obserwację  \n",
    "    Parametry tej procedury można byłoby poddać optymalizacji (np. częstości, długość nowego tweeta, liczba \"rdzeni\" w nowym tweecie\"\n",
    "* generalnie w pracy nad danymi tabelarycznymi dużo poświęcam kwestiom `xai`, co pomaga zrozumieć działanie modeli a także ich poprawę i ciekawi mnie jak można byłoby te techniki wykorzystać w `NLP`\n",
    "* wykorzystanie modeli deep learning dedykowanych `NLP`\n",
    "\n",
    "\n",
    "W tym notebooku opisuję tylko kroki czysto ML-owe. Informacje o kwestiach inżynierskich zawarłem w pliku Readme.md"
   ]
  },
  {
   "cell_type": "markdown",
   "id": "51903df8",
   "metadata": {},
   "source": [
    "# setup"
   ]
  },
  {
   "cell_type": "code",
   "execution_count": 1,
   "id": "d2b9bae2",
   "metadata": {
    "ExecuteTime": {
     "end_time": "2021-05-29T22:41:08.452225Z",
     "start_time": "2021-05-29T22:41:08.425125Z"
    }
   },
   "outputs": [],
   "source": [
    "%load_ext autoreload\n",
    "%autoreload 2"
   ]
  },
  {
   "cell_type": "code",
   "execution_count": 33,
   "id": "76dfb67b",
   "metadata": {
    "ExecuteTime": {
     "end_time": "2021-05-29T23:08:58.898116Z",
     "start_time": "2021-05-29T23:08:58.846851Z"
    }
   },
   "outputs": [],
   "source": [
    "import os\n",
    "import re\n",
    "import ast\n",
    "import spacy\n",
    "import itertools\n",
    "import pickle\n",
    "import pandas as pd\n",
    "import numpy as np\n",
    "\n",
    "from random import choice\n",
    "from typing import Any, List, Set, Dict, Tuple, Optional\n",
    "from sklearn.metrics import multilabel_confusion_matrix\n",
    "from hyperopt import hp"
   ]
  },
  {
   "cell_type": "code",
   "execution_count": 136,
   "id": "d903424b",
   "metadata": {
    "ExecuteTime": {
     "end_time": "2021-05-30T01:20:46.713573Z",
     "start_time": "2021-05-30T01:20:46.672002Z"
    }
   },
   "outputs": [],
   "source": [
    "from src.preproc import DataReader\n",
    "from src.models import Baseline, SVM, Ridge, RF, LGBM\n",
    "from src.model_utils import model_performance, model_performance_summary, Optimizer, best_hyperopt_params, score"
   ]
  },
  {
   "cell_type": "code",
   "execution_count": 4,
   "id": "29ee33c9",
   "metadata": {
    "ExecuteTime": {
     "end_time": "2021-05-29T22:41:12.952429Z",
     "start_time": "2021-05-29T22:41:12.897714Z"
    }
   },
   "outputs": [],
   "source": [
    "train_text = './data/raw/training_set_clean_only_text.txt'\n",
    "train_tags = './data/raw/training_set_clean_only_tags.txt'\n",
    "test_text = './data/raw/test_set_only_text.txt'\n",
    "test_tags = './data/raw/test_set_only_tags.txt'"
   ]
  },
  {
   "cell_type": "markdown",
   "id": "452cc185",
   "metadata": {
    "ExecuteTime": {
     "end_time": "2021-05-14T22:40:24.322526Z",
     "start_time": "2021-05-14T22:40:24.287156Z"
    }
   },
   "source": [
    "# czyszczenie danych + tokenizacja"
   ]
  },
  {
   "cell_type": "markdown",
   "id": "d5c23970",
   "metadata": {},
   "source": [
    "**Czyszczenie danych**  \n",
    "Wykonałem następujące kroki:\n",
    "\n",
    "1. usunięcie frazy `@anonymized_account`\n",
    "1. usunięcie znaków innych niż litery i spacje (znaki specjalne, emotikonki, etc.)  \n",
    "Do ewentualnego rozważenia, wykorzystanie emotikonek. Być może, np.: występowanie obok siebie pistoletu i smutnej buzi niesie jakiś sygnał. Można byłoby to zrealizować zastąpieniem kodów emotek tokenami nie występującymi w korpusie z zadania.\n",
    "1. usunięcie zduplikowanych spacji\n",
    "1. sprowadzenie do małych liter\n",
    "1. **tokenizacja**: wykorzytałem lematyzację z wykorzystaniem lekkiego modelu `pl_spacy_model`  \n",
    "Znalazłem w międzyczasie lepsze modele, w szczególności takie które radzą sobie z literówkami. Jednak ze względu na ograniczenie czasowe zostałem przy podstawowym modelu.\n",
    "1. usunięcie polskich znaków diakrytycznych\n",
    "1. usunięcie zduplikowanych i sąsiadujących liter  \n",
    "W obu powyższych krokach mam nadzieję zaadresować problem literówek.\n",
    "1. oczyszczenie rozstrzelonych wyrazów, tj.: *s u p e r* -> *super*  \n",
    "Warte byłoby też przetestowanie zastosowania trzech powyższych kroków przed lematyzacją, szczególnie jeśli korzystałbym z lepszego modelu języka\n",
    "1. usunięcie tokenów 0/1 literowych\n",
    "\n",
    "Ze względu na brak czasu powyższych kroków nie poddaje optymalizacji. Elementem każdego klasyfikatora są jeszcze dwa etapy (ich parametry będą optymalizowane).\n",
    "1. `countVectorizer` - realizacja `bag-of-words`\n",
    "1. `Tfidf` - zmniejszenie wagi tokenów z wysoką częstością - słów powszechnych które nie niosą informacji potrzebnej do klasyfikacji.\n"
   ]
  },
  {
   "cell_type": "code",
   "execution_count": 5,
   "id": "4649df2f",
   "metadata": {
    "ExecuteTime": {
     "end_time": "2021-05-29T22:41:17.205005Z",
     "start_time": "2021-05-29T22:41:17.081666Z"
    },
    "scrolled": true
   },
   "outputs": [
    {
     "name": "stderr",
     "output_type": "stream",
     "text": [
      "INFO:io:reading from pickle\n",
      "INFO:io:data ready\n"
     ]
    },
    {
     "name": "stdout",
     "output_type": "stream",
     "text": [
      "-------- stats --------\n",
      "=======================\n",
      "tweets count:\n",
      "10041\n",
      "=======================\n",
      "tokens in tweet distribution:\n",
      "count    10041.000000\n",
      "mean         9.629320\n",
      "std          4.282671\n",
      "min          0.000000\n",
      "25%          6.000000\n",
      "50%          9.000000\n",
      "75%         13.000000\n",
      "95%         18.000000\n",
      "99%         20.000000\n",
      "max         28.000000\n",
      "Name: tokens_count, dtype: float64\n",
      "=======================\n",
      "unique tokens:\n",
      "14420\n",
      "=======================\n",
      "tags count:\n",
      "0    9190\n",
      "1     253\n",
      "2     598\n",
      "Name: tag, dtype: int64\n"
     ]
    }
   ],
   "source": [
    "train_data = DataReader(train_text, train_tags)"
   ]
  },
  {
   "cell_type": "code",
   "execution_count": 6,
   "id": "77e8c376",
   "metadata": {
    "ExecuteTime": {
     "end_time": "2021-05-29T22:41:17.835092Z",
     "start_time": "2021-05-29T22:41:17.766657Z"
    },
    "scrolled": true
   },
   "outputs": [
    {
     "name": "stderr",
     "output_type": "stream",
     "text": [
      "INFO:io:reading from pickle\n",
      "INFO:io:data ready\n"
     ]
    },
    {
     "name": "stdout",
     "output_type": "stream",
     "text": [
      "-------- stats --------\n",
      "=======================\n",
      "tweets count:\n",
      "1000\n",
      "=======================\n",
      "tokens in tweet distribution:\n",
      "count    1000.000000\n",
      "mean        9.445000\n",
      "std         4.166093\n",
      "min         2.000000\n",
      "25%         6.000000\n",
      "50%         9.000000\n",
      "75%        12.000000\n",
      "95%        18.000000\n",
      "99%        19.000000\n",
      "max        25.000000\n",
      "Name: tokens_count, dtype: float64\n",
      "=======================\n",
      "unique tokens:\n",
      "3087\n",
      "=======================\n",
      "tags count:\n",
      "0    866\n",
      "1     25\n",
      "2    109\n",
      "Name: tag, dtype: int64\n"
     ]
    }
   ],
   "source": [
    "test_data = DataReader(test_text, test_tags)"
   ]
  },
  {
   "cell_type": "markdown",
   "id": "b4b3da1e",
   "metadata": {},
   "source": [
    "**Obserwacje**:\n",
    "* zbiór jest niezbalansowany - klasy 1/2 są żadsze (2.5% i 6% odpowiednio). To zachęca do przetestowania przetestowania algorytmów do detekcji anomalii. W mojej praktyce modele typu `isolation forest` lub `ecliptic envelope` w pierwszej warstwie modeli czasami pomagały poprawić jakość i stabilność całego stacku. Do zastosowania jeśli zostanie mi czas.\n",
    "* zbiór testowy jest bardziej \"rzadki\": jest 3k unikalnych tokenów w 1k tweetów - stosunek ~3x, w zbiorze treningowym tylko 1.4x (przy podobnym rozkładzie liczby tokenów w tweet-cie)\n",
    "* częstość klasy 2 `hate-speach` jest prawie dwókrotnie wyższa w zbiorze testowym\n",
    "* te dwa fakty mogą świadczyć że zbiory treningowy i testowy pochodzą z różnych rozkładów (np.: zostały zebrane w różnych okresach czasu, lub wśród różnych grup użytkowników). Jeśli tak by było, trenowanie modeli które dobrze generalizowałyby się na zbiór testowy byłoby utrudnione."
   ]
  },
  {
   "cell_type": "markdown",
   "id": "3f08f031",
   "metadata": {},
   "source": [
    "# modele na domyślnych parametrach"
   ]
  },
  {
   "cell_type": "markdown",
   "id": "0a0ea8cb",
   "metadata": {},
   "source": [
    "Wytrenuję teraz modele z domyślnymi ustawieniami oraz model \"bazowy\" - prognozujący zawsze klasę 0."
   ]
  },
  {
   "cell_type": "code",
   "execution_count": 7,
   "id": "52272ce4",
   "metadata": {
    "ExecuteTime": {
     "end_time": "2021-05-29T22:41:22.379181Z",
     "start_time": "2021-05-29T22:41:22.326741Z"
    }
   },
   "outputs": [],
   "source": [
    "# prep data\n",
    "X = train_data.df['tokens']\n",
    "y = train_data.df['tag']\n",
    "\n",
    "X_test = test_data.df['tokens']\n",
    "y_test = test_data.df['tag']"
   ]
  },
  {
   "cell_type": "code",
   "execution_count": 147,
   "id": "0ac3e60b",
   "metadata": {
    "ExecuteTime": {
     "end_time": "2021-05-30T01:42:32.331048Z",
     "start_time": "2021-05-30T01:41:26.625035Z"
    }
   },
   "outputs": [],
   "source": [
    "# train models\n",
    "base_results = model_performance(Baseline(), X, y, X_test, y_test)\n",
    "svm_results = model_performance(SVM(), X, y, X_test, y_test)\n",
    "ridge_results = model_performance(Ridge(), X, y, X_test, y_test)\n",
    "rf_results = model_performance(RF(), X, y, X_test, y_test)\n",
    "lgbm_results = model_performance(LGBM(), X, y, X_test, y_test)\n",
    "\n",
    "\n",
    "default_results = [base_results, svm_results, ridge_results, rf_results, lgbm_results]"
   ]
  },
  {
   "cell_type": "code",
   "execution_count": 83,
   "id": "2aabe767",
   "metadata": {
    "ExecuteTime": {
     "end_time": "2021-05-30T00:54:21.506730Z",
     "start_time": "2021-05-30T00:54:21.457263Z"
    }
   },
   "outputs": [
    {
     "name": "stdout",
     "output_type": "stream",
     "text": [
      "\n",
      "Model: baseline (Baseline)\n",
      "                macro\tmicro\n",
      "score train:\t0.9152\t0.3186\n",
      "score oof:\t0.9152\t0.3186\n",
      "score test:\t0.866\t0.3094\n",
      "\n",
      "Model: default_svm (SVM)\n",
      "                macro\tmicro\n",
      "score train:\t0.9907\t0.9538\n",
      "score oof:\t0.9282\t0.5141\n",
      "score test:\t0.878\t0.4089\n",
      "\n",
      "Model: default_ridge (Ridge)\n",
      "                macro\tmicro\n",
      "score train:\t0.9594\t0.7345\n",
      "score oof:\t0.9239\t0.4439\n",
      "score test:\t0.874\t0.3616\n",
      "\n",
      "Model: default_rf (RF)\n",
      "                macro\tmicro\n",
      "score train:\t0.9997\t0.998\n",
      "score oof:\t0.9271\t0.4766\n",
      "score test:\t0.868\t0.3435\n",
      "\n",
      "Model: default_rf (LGBM)\n",
      "                macro\tmicro\n",
      "score train:\t0.958\t0.7874\n",
      "score oof:\t0.9169\t0.3997\n",
      "score test:\t0.866\t0.3431\n"
     ]
    }
   ],
   "source": [
    "# display results\n",
    "for model_results in default_results:\n",
    "    model_performance_summary(model_results)"
   ]
  },
  {
   "cell_type": "markdown",
   "id": "325761b3",
   "metadata": {},
   "source": [
    "**Obserwacje**:\n",
    "* model `baseline` działa bardzo dobrze jeśli chodzi o `f1 macro`. Wynika to z faktu, że zbiór jest niezbalansowany.\n",
    "* wydaje się że wybór `f1 macro` jako głównej metryki jest wątpliwy w tym przypadku. Kluczowe jest flagowanie klas 1/2, ponieważ koszt `False Negative` dla nich jest znacznie wyższy.  \n",
    "Modele dostrojone pod `f1 macro` mogą nie być optymalne do tego zadania. Nie mniej zostaję przy zadanej metryce.\n",
    "* wszystkie modele mocno przeuczają - jest wyraźny spadek pomiędzy `score oof` i ` score train`. W następnym kroku postaram się zregularyzować je przez optymalizację hiperparametrów.\n",
    "* fakt, że `score test` jest systematycnie niższy niż `score oof` też przemawia za hipotezą, że zbiory pochodzą z innego rozkładu"
   ]
  },
  {
   "cell_type": "markdown",
   "id": "3e9bb685",
   "metadata": {},
   "source": [
    "Sprawdzę teraz wyniki blizej."
   ]
  },
  {
   "cell_type": "code",
   "execution_count": 10,
   "id": "2af7ec7e",
   "metadata": {
    "ExecuteTime": {
     "end_time": "2021-05-28T16:22:36.593913Z",
     "start_time": "2021-05-28T16:22:36.242373Z"
    },
    "scrolled": true
   },
   "outputs": [
    {
     "name": "stdout",
     "output_type": "stream",
     "text": [
      "\n",
      "------------------------------------------------------\n",
      "Model: baseline (Baseline)\n",
      "\n",
      "train conf matrix\n"
     ]
    },
    {
     "data": {
      "text/html": [
       "<div>\n",
       "<style scoped>\n",
       "    .dataframe tbody tr th:only-of-type {\n",
       "        vertical-align: middle;\n",
       "    }\n",
       "\n",
       "    .dataframe tbody tr th {\n",
       "        vertical-align: top;\n",
       "    }\n",
       "\n",
       "    .dataframe thead th {\n",
       "        text-align: right;\n",
       "    }\n",
       "</style>\n",
       "<table border=\"1\" class=\"dataframe\">\n",
       "  <thead>\n",
       "    <tr style=\"text-align: right;\">\n",
       "      <th>pred</th>\n",
       "      <th>0</th>\n",
       "    </tr>\n",
       "    <tr>\n",
       "      <th>act</th>\n",
       "      <th></th>\n",
       "    </tr>\n",
       "  </thead>\n",
       "  <tbody>\n",
       "    <tr>\n",
       "      <th>0</th>\n",
       "      <td>9190</td>\n",
       "    </tr>\n",
       "    <tr>\n",
       "      <th>1</th>\n",
       "      <td>253</td>\n",
       "    </tr>\n",
       "    <tr>\n",
       "      <th>2</th>\n",
       "      <td>598</td>\n",
       "    </tr>\n",
       "  </tbody>\n",
       "</table>\n",
       "</div>"
      ],
      "text/plain": [
       "pred     0\n",
       "act       \n",
       "0     9190\n",
       "1      253\n",
       "2      598"
      ]
     },
     "metadata": {},
     "output_type": "display_data"
    },
    {
     "name": "stdout",
     "output_type": "stream",
     "text": [
      "\n",
      "oof conf matrix\n"
     ]
    },
    {
     "data": {
      "text/html": [
       "<div>\n",
       "<style scoped>\n",
       "    .dataframe tbody tr th:only-of-type {\n",
       "        vertical-align: middle;\n",
       "    }\n",
       "\n",
       "    .dataframe tbody tr th {\n",
       "        vertical-align: top;\n",
       "    }\n",
       "\n",
       "    .dataframe thead th {\n",
       "        text-align: right;\n",
       "    }\n",
       "</style>\n",
       "<table border=\"1\" class=\"dataframe\">\n",
       "  <thead>\n",
       "    <tr style=\"text-align: right;\">\n",
       "      <th>pred</th>\n",
       "      <th>0</th>\n",
       "    </tr>\n",
       "    <tr>\n",
       "      <th>act</th>\n",
       "      <th></th>\n",
       "    </tr>\n",
       "  </thead>\n",
       "  <tbody>\n",
       "    <tr>\n",
       "      <th>0</th>\n",
       "      <td>9190</td>\n",
       "    </tr>\n",
       "    <tr>\n",
       "      <th>1</th>\n",
       "      <td>253</td>\n",
       "    </tr>\n",
       "    <tr>\n",
       "      <th>2</th>\n",
       "      <td>598</td>\n",
       "    </tr>\n",
       "  </tbody>\n",
       "</table>\n",
       "</div>"
      ],
      "text/plain": [
       "pred     0\n",
       "act       \n",
       "0     9190\n",
       "1      253\n",
       "2      598"
      ]
     },
     "metadata": {},
     "output_type": "display_data"
    },
    {
     "name": "stdout",
     "output_type": "stream",
     "text": [
      "\n",
      "test conf matrix\n"
     ]
    },
    {
     "data": {
      "text/html": [
       "<div>\n",
       "<style scoped>\n",
       "    .dataframe tbody tr th:only-of-type {\n",
       "        vertical-align: middle;\n",
       "    }\n",
       "\n",
       "    .dataframe tbody tr th {\n",
       "        vertical-align: top;\n",
       "    }\n",
       "\n",
       "    .dataframe thead th {\n",
       "        text-align: right;\n",
       "    }\n",
       "</style>\n",
       "<table border=\"1\" class=\"dataframe\">\n",
       "  <thead>\n",
       "    <tr style=\"text-align: right;\">\n",
       "      <th>pred</th>\n",
       "      <th>0</th>\n",
       "    </tr>\n",
       "    <tr>\n",
       "      <th>act</th>\n",
       "      <th></th>\n",
       "    </tr>\n",
       "  </thead>\n",
       "  <tbody>\n",
       "    <tr>\n",
       "      <th>0</th>\n",
       "      <td>866</td>\n",
       "    </tr>\n",
       "    <tr>\n",
       "      <th>1</th>\n",
       "      <td>25</td>\n",
       "    </tr>\n",
       "    <tr>\n",
       "      <th>2</th>\n",
       "      <td>109</td>\n",
       "    </tr>\n",
       "  </tbody>\n",
       "</table>\n",
       "</div>"
      ],
      "text/plain": [
       "pred    0\n",
       "act      \n",
       "0     866\n",
       "1      25\n",
       "2     109"
      ]
     },
     "metadata": {},
     "output_type": "display_data"
    },
    {
     "name": "stdout",
     "output_type": "stream",
     "text": [
      "\n",
      "------------------------------------------------------\n",
      "Model: default_svm (SVM)\n",
      "\n",
      "train conf matrix\n"
     ]
    },
    {
     "data": {
      "text/html": [
       "<div>\n",
       "<style scoped>\n",
       "    .dataframe tbody tr th:only-of-type {\n",
       "        vertical-align: middle;\n",
       "    }\n",
       "\n",
       "    .dataframe tbody tr th {\n",
       "        vertical-align: top;\n",
       "    }\n",
       "\n",
       "    .dataframe thead th {\n",
       "        text-align: right;\n",
       "    }\n",
       "</style>\n",
       "<table border=\"1\" class=\"dataframe\">\n",
       "  <thead>\n",
       "    <tr style=\"text-align: right;\">\n",
       "      <th>pred</th>\n",
       "      <th>0</th>\n",
       "      <th>1</th>\n",
       "      <th>2</th>\n",
       "    </tr>\n",
       "    <tr>\n",
       "      <th>act</th>\n",
       "      <th></th>\n",
       "      <th></th>\n",
       "      <th></th>\n",
       "    </tr>\n",
       "  </thead>\n",
       "  <tbody>\n",
       "    <tr>\n",
       "      <th>0</th>\n",
       "      <td>9188.0</td>\n",
       "      <td>1.0</td>\n",
       "      <td>1.0</td>\n",
       "    </tr>\n",
       "    <tr>\n",
       "      <th>1</th>\n",
       "      <td>34.0</td>\n",
       "      <td>215.0</td>\n",
       "      <td>4.0</td>\n",
       "    </tr>\n",
       "    <tr>\n",
       "      <th>2</th>\n",
       "      <td>53.0</td>\n",
       "      <td>0.0</td>\n",
       "      <td>545.0</td>\n",
       "    </tr>\n",
       "  </tbody>\n",
       "</table>\n",
       "</div>"
      ],
      "text/plain": [
       "pred       0      1      2\n",
       "act                       \n",
       "0     9188.0    1.0    1.0\n",
       "1       34.0  215.0    4.0\n",
       "2       53.0    0.0  545.0"
      ]
     },
     "metadata": {},
     "output_type": "display_data"
    },
    {
     "name": "stdout",
     "output_type": "stream",
     "text": [
      "\n",
      "oof conf matrix\n"
     ]
    },
    {
     "data": {
      "text/html": [
       "<div>\n",
       "<style scoped>\n",
       "    .dataframe tbody tr th:only-of-type {\n",
       "        vertical-align: middle;\n",
       "    }\n",
       "\n",
       "    .dataframe tbody tr th {\n",
       "        vertical-align: top;\n",
       "    }\n",
       "\n",
       "    .dataframe thead th {\n",
       "        text-align: right;\n",
       "    }\n",
       "</style>\n",
       "<table border=\"1\" class=\"dataframe\">\n",
       "  <thead>\n",
       "    <tr style=\"text-align: right;\">\n",
       "      <th>pred</th>\n",
       "      <th>0</th>\n",
       "      <th>1</th>\n",
       "      <th>2</th>\n",
       "    </tr>\n",
       "    <tr>\n",
       "      <th>act</th>\n",
       "      <th></th>\n",
       "      <th></th>\n",
       "      <th></th>\n",
       "    </tr>\n",
       "  </thead>\n",
       "  <tbody>\n",
       "    <tr>\n",
       "      <th>0</th>\n",
       "      <td>9110</td>\n",
       "      <td>19</td>\n",
       "      <td>61</td>\n",
       "    </tr>\n",
       "    <tr>\n",
       "      <th>1</th>\n",
       "      <td>211</td>\n",
       "      <td>22</td>\n",
       "      <td>20</td>\n",
       "    </tr>\n",
       "    <tr>\n",
       "      <th>2</th>\n",
       "      <td>401</td>\n",
       "      <td>9</td>\n",
       "      <td>188</td>\n",
       "    </tr>\n",
       "  </tbody>\n",
       "</table>\n",
       "</div>"
      ],
      "text/plain": [
       "pred     0   1    2\n",
       "act                \n",
       "0     9110  19   61\n",
       "1      211  22   20\n",
       "2      401   9  188"
      ]
     },
     "metadata": {},
     "output_type": "display_data"
    },
    {
     "name": "stdout",
     "output_type": "stream",
     "text": [
      "\n",
      "test conf matrix\n"
     ]
    },
    {
     "data": {
      "text/html": [
       "<div>\n",
       "<style scoped>\n",
       "    .dataframe tbody tr th:only-of-type {\n",
       "        vertical-align: middle;\n",
       "    }\n",
       "\n",
       "    .dataframe tbody tr th {\n",
       "        vertical-align: top;\n",
       "    }\n",
       "\n",
       "    .dataframe thead th {\n",
       "        text-align: right;\n",
       "    }\n",
       "</style>\n",
       "<table border=\"1\" class=\"dataframe\">\n",
       "  <thead>\n",
       "    <tr style=\"text-align: right;\">\n",
       "      <th>pred</th>\n",
       "      <th>0</th>\n",
       "      <th>1</th>\n",
       "      <th>2</th>\n",
       "    </tr>\n",
       "    <tr>\n",
       "      <th>act</th>\n",
       "      <th></th>\n",
       "      <th></th>\n",
       "      <th></th>\n",
       "    </tr>\n",
       "  </thead>\n",
       "  <tbody>\n",
       "    <tr>\n",
       "      <th>0</th>\n",
       "      <td>863</td>\n",
       "      <td>1</td>\n",
       "      <td>2</td>\n",
       "    </tr>\n",
       "    <tr>\n",
       "      <th>1</th>\n",
       "      <td>23</td>\n",
       "      <td>1</td>\n",
       "      <td>1</td>\n",
       "    </tr>\n",
       "    <tr>\n",
       "      <th>2</th>\n",
       "      <td>93</td>\n",
       "      <td>2</td>\n",
       "      <td>14</td>\n",
       "    </tr>\n",
       "  </tbody>\n",
       "</table>\n",
       "</div>"
      ],
      "text/plain": [
       "pred    0  1   2\n",
       "act             \n",
       "0     863  1   2\n",
       "1      23  1   1\n",
       "2      93  2  14"
      ]
     },
     "metadata": {},
     "output_type": "display_data"
    },
    {
     "name": "stdout",
     "output_type": "stream",
     "text": [
      "\n",
      "------------------------------------------------------\n",
      "Model: default_ridge (Ridge)\n",
      "\n",
      "train conf matrix\n"
     ]
    },
    {
     "data": {
      "text/html": [
       "<div>\n",
       "<style scoped>\n",
       "    .dataframe tbody tr th:only-of-type {\n",
       "        vertical-align: middle;\n",
       "    }\n",
       "\n",
       "    .dataframe tbody tr th {\n",
       "        vertical-align: top;\n",
       "    }\n",
       "\n",
       "    .dataframe thead th {\n",
       "        text-align: right;\n",
       "    }\n",
       "</style>\n",
       "<table border=\"1\" class=\"dataframe\">\n",
       "  <thead>\n",
       "    <tr style=\"text-align: right;\">\n",
       "      <th>pred</th>\n",
       "      <th>0</th>\n",
       "      <th>1</th>\n",
       "      <th>2</th>\n",
       "    </tr>\n",
       "    <tr>\n",
       "      <th>act</th>\n",
       "      <th></th>\n",
       "      <th></th>\n",
       "      <th></th>\n",
       "    </tr>\n",
       "  </thead>\n",
       "  <tbody>\n",
       "    <tr>\n",
       "      <th>0</th>\n",
       "      <td>9188.0</td>\n",
       "      <td>0.0</td>\n",
       "      <td>2.0</td>\n",
       "    </tr>\n",
       "    <tr>\n",
       "      <th>1</th>\n",
       "      <td>168.0</td>\n",
       "      <td>78.0</td>\n",
       "      <td>7.0</td>\n",
       "    </tr>\n",
       "    <tr>\n",
       "      <th>2</th>\n",
       "      <td>231.0</td>\n",
       "      <td>0.0</td>\n",
       "      <td>367.0</td>\n",
       "    </tr>\n",
       "  </tbody>\n",
       "</table>\n",
       "</div>"
      ],
      "text/plain": [
       "pred       0     1      2\n",
       "act                      \n",
       "0     9188.0   0.0    2.0\n",
       "1      168.0  78.0    7.0\n",
       "2      231.0   0.0  367.0"
      ]
     },
     "metadata": {},
     "output_type": "display_data"
    },
    {
     "name": "stdout",
     "output_type": "stream",
     "text": [
      "\n",
      "oof conf matrix\n"
     ]
    },
    {
     "data": {
      "text/html": [
       "<div>\n",
       "<style scoped>\n",
       "    .dataframe tbody tr th:only-of-type {\n",
       "        vertical-align: middle;\n",
       "    }\n",
       "\n",
       "    .dataframe tbody tr th {\n",
       "        vertical-align: top;\n",
       "    }\n",
       "\n",
       "    .dataframe thead th {\n",
       "        text-align: right;\n",
       "    }\n",
       "</style>\n",
       "<table border=\"1\" class=\"dataframe\">\n",
       "  <thead>\n",
       "    <tr style=\"text-align: right;\">\n",
       "      <th>pred</th>\n",
       "      <th>0</th>\n",
       "      <th>1</th>\n",
       "      <th>2</th>\n",
       "    </tr>\n",
       "    <tr>\n",
       "      <th>act</th>\n",
       "      <th></th>\n",
       "      <th></th>\n",
       "      <th></th>\n",
       "    </tr>\n",
       "  </thead>\n",
       "  <tbody>\n",
       "    <tr>\n",
       "      <th>0</th>\n",
       "      <td>9155</td>\n",
       "      <td>8</td>\n",
       "      <td>27</td>\n",
       "    </tr>\n",
       "    <tr>\n",
       "      <th>1</th>\n",
       "      <td>227</td>\n",
       "      <td>10</td>\n",
       "      <td>16</td>\n",
       "    </tr>\n",
       "    <tr>\n",
       "      <th>2</th>\n",
       "      <td>484</td>\n",
       "      <td>2</td>\n",
       "      <td>112</td>\n",
       "    </tr>\n",
       "  </tbody>\n",
       "</table>\n",
       "</div>"
      ],
      "text/plain": [
       "pred     0   1    2\n",
       "act                \n",
       "0     9155   8   27\n",
       "1      227  10   16\n",
       "2      484   2  112"
      ]
     },
     "metadata": {},
     "output_type": "display_data"
    },
    {
     "name": "stdout",
     "output_type": "stream",
     "text": [
      "\n",
      "test conf matrix\n"
     ]
    },
    {
     "data": {
      "text/html": [
       "<div>\n",
       "<style scoped>\n",
       "    .dataframe tbody tr th:only-of-type {\n",
       "        vertical-align: middle;\n",
       "    }\n",
       "\n",
       "    .dataframe tbody tr th {\n",
       "        vertical-align: top;\n",
       "    }\n",
       "\n",
       "    .dataframe thead th {\n",
       "        text-align: right;\n",
       "    }\n",
       "</style>\n",
       "<table border=\"1\" class=\"dataframe\">\n",
       "  <thead>\n",
       "    <tr style=\"text-align: right;\">\n",
       "      <th>pred</th>\n",
       "      <th>0</th>\n",
       "      <th>1</th>\n",
       "      <th>2</th>\n",
       "    </tr>\n",
       "    <tr>\n",
       "      <th>act</th>\n",
       "      <th></th>\n",
       "      <th></th>\n",
       "      <th></th>\n",
       "    </tr>\n",
       "  </thead>\n",
       "  <tbody>\n",
       "    <tr>\n",
       "      <th>0</th>\n",
       "      <td>865.0</td>\n",
       "      <td>1.0</td>\n",
       "      <td>0.0</td>\n",
       "    </tr>\n",
       "    <tr>\n",
       "      <th>1</th>\n",
       "      <td>24.0</td>\n",
       "      <td>0.0</td>\n",
       "      <td>1.0</td>\n",
       "    </tr>\n",
       "    <tr>\n",
       "      <th>2</th>\n",
       "      <td>98.0</td>\n",
       "      <td>2.0</td>\n",
       "      <td>9.0</td>\n",
       "    </tr>\n",
       "  </tbody>\n",
       "</table>\n",
       "</div>"
      ],
      "text/plain": [
       "pred      0    1    2\n",
       "act                  \n",
       "0     865.0  1.0  0.0\n",
       "1      24.0  0.0  1.0\n",
       "2      98.0  2.0  9.0"
      ]
     },
     "metadata": {},
     "output_type": "display_data"
    },
    {
     "name": "stdout",
     "output_type": "stream",
     "text": [
      "\n",
      "------------------------------------------------------\n",
      "Model: default_rf (RF)\n",
      "\n",
      "train conf matrix\n"
     ]
    },
    {
     "data": {
      "text/html": [
       "<div>\n",
       "<style scoped>\n",
       "    .dataframe tbody tr th:only-of-type {\n",
       "        vertical-align: middle;\n",
       "    }\n",
       "\n",
       "    .dataframe tbody tr th {\n",
       "        vertical-align: top;\n",
       "    }\n",
       "\n",
       "    .dataframe thead th {\n",
       "        text-align: right;\n",
       "    }\n",
       "</style>\n",
       "<table border=\"1\" class=\"dataframe\">\n",
       "  <thead>\n",
       "    <tr style=\"text-align: right;\">\n",
       "      <th>pred</th>\n",
       "      <th>0</th>\n",
       "      <th>1</th>\n",
       "      <th>2</th>\n",
       "    </tr>\n",
       "    <tr>\n",
       "      <th>act</th>\n",
       "      <th></th>\n",
       "      <th></th>\n",
       "      <th></th>\n",
       "    </tr>\n",
       "  </thead>\n",
       "  <tbody>\n",
       "    <tr>\n",
       "      <th>0</th>\n",
       "      <td>9190.0</td>\n",
       "      <td>0.0</td>\n",
       "      <td>0.0</td>\n",
       "    </tr>\n",
       "    <tr>\n",
       "      <th>1</th>\n",
       "      <td>2.0</td>\n",
       "      <td>251.0</td>\n",
       "      <td>0.0</td>\n",
       "    </tr>\n",
       "    <tr>\n",
       "      <th>2</th>\n",
       "      <td>1.0</td>\n",
       "      <td>0.0</td>\n",
       "      <td>597.0</td>\n",
       "    </tr>\n",
       "  </tbody>\n",
       "</table>\n",
       "</div>"
      ],
      "text/plain": [
       "pred       0      1      2\n",
       "act                       \n",
       "0     9190.0    0.0    0.0\n",
       "1        2.0  251.0    0.0\n",
       "2        1.0    0.0  597.0"
      ]
     },
     "metadata": {},
     "output_type": "display_data"
    },
    {
     "name": "stdout",
     "output_type": "stream",
     "text": [
      "\n",
      "oof conf matrix\n"
     ]
    },
    {
     "data": {
      "text/html": [
       "<div>\n",
       "<style scoped>\n",
       "    .dataframe tbody tr th:only-of-type {\n",
       "        vertical-align: middle;\n",
       "    }\n",
       "\n",
       "    .dataframe tbody tr th {\n",
       "        vertical-align: top;\n",
       "    }\n",
       "\n",
       "    .dataframe thead th {\n",
       "        text-align: right;\n",
       "    }\n",
       "</style>\n",
       "<table border=\"1\" class=\"dataframe\">\n",
       "  <thead>\n",
       "    <tr style=\"text-align: right;\">\n",
       "      <th>pred</th>\n",
       "      <th>0</th>\n",
       "      <th>1</th>\n",
       "      <th>2</th>\n",
       "    </tr>\n",
       "    <tr>\n",
       "      <th>act</th>\n",
       "      <th></th>\n",
       "      <th></th>\n",
       "      <th></th>\n",
       "    </tr>\n",
       "  </thead>\n",
       "  <tbody>\n",
       "    <tr>\n",
       "      <th>0</th>\n",
       "      <td>9154</td>\n",
       "      <td>9</td>\n",
       "      <td>27</td>\n",
       "    </tr>\n",
       "    <tr>\n",
       "      <th>1</th>\n",
       "      <td>227</td>\n",
       "      <td>17</td>\n",
       "      <td>9</td>\n",
       "    </tr>\n",
       "    <tr>\n",
       "      <th>2</th>\n",
       "      <td>456</td>\n",
       "      <td>4</td>\n",
       "      <td>138</td>\n",
       "    </tr>\n",
       "  </tbody>\n",
       "</table>\n",
       "</div>"
      ],
      "text/plain": [
       "pred     0   1    2\n",
       "act                \n",
       "0     9154   9   27\n",
       "1      227  17    9\n",
       "2      456   4  138"
      ]
     },
     "metadata": {},
     "output_type": "display_data"
    },
    {
     "name": "stdout",
     "output_type": "stream",
     "text": [
      "\n",
      "test conf matrix\n"
     ]
    },
    {
     "data": {
      "text/html": [
       "<div>\n",
       "<style scoped>\n",
       "    .dataframe tbody tr th:only-of-type {\n",
       "        vertical-align: middle;\n",
       "    }\n",
       "\n",
       "    .dataframe tbody tr th {\n",
       "        vertical-align: top;\n",
       "    }\n",
       "\n",
       "    .dataframe thead th {\n",
       "        text-align: right;\n",
       "    }\n",
       "</style>\n",
       "<table border=\"1\" class=\"dataframe\">\n",
       "  <thead>\n",
       "    <tr style=\"text-align: right;\">\n",
       "      <th>pred</th>\n",
       "      <th>0</th>\n",
       "      <th>2</th>\n",
       "    </tr>\n",
       "    <tr>\n",
       "      <th>act</th>\n",
       "      <th></th>\n",
       "      <th></th>\n",
       "    </tr>\n",
       "  </thead>\n",
       "  <tbody>\n",
       "    <tr>\n",
       "      <th>0</th>\n",
       "      <td>864.0</td>\n",
       "      <td>2.0</td>\n",
       "    </tr>\n",
       "    <tr>\n",
       "      <th>1</th>\n",
       "      <td>25.0</td>\n",
       "      <td>0.0</td>\n",
       "    </tr>\n",
       "    <tr>\n",
       "      <th>2</th>\n",
       "      <td>105.0</td>\n",
       "      <td>4.0</td>\n",
       "    </tr>\n",
       "  </tbody>\n",
       "</table>\n",
       "</div>"
      ],
      "text/plain": [
       "pred      0    2\n",
       "act             \n",
       "0     864.0  2.0\n",
       "1      25.0  0.0\n",
       "2     105.0  4.0"
      ]
     },
     "metadata": {},
     "output_type": "display_data"
    },
    {
     "name": "stdout",
     "output_type": "stream",
     "text": [
      "\n",
      "------------------------------------------------------\n",
      "Model: default_rf (LGBM)\n",
      "\n",
      "train conf matrix\n"
     ]
    },
    {
     "data": {
      "text/html": [
       "<div>\n",
       "<style scoped>\n",
       "    .dataframe tbody tr th:only-of-type {\n",
       "        vertical-align: middle;\n",
       "    }\n",
       "\n",
       "    .dataframe tbody tr th {\n",
       "        vertical-align: top;\n",
       "    }\n",
       "\n",
       "    .dataframe thead th {\n",
       "        text-align: right;\n",
       "    }\n",
       "</style>\n",
       "<table border=\"1\" class=\"dataframe\">\n",
       "  <thead>\n",
       "    <tr style=\"text-align: right;\">\n",
       "      <th>pred</th>\n",
       "      <th>0</th>\n",
       "      <th>1</th>\n",
       "      <th>2</th>\n",
       "    </tr>\n",
       "    <tr>\n",
       "      <th>act</th>\n",
       "      <th></th>\n",
       "      <th></th>\n",
       "      <th></th>\n",
       "    </tr>\n",
       "  </thead>\n",
       "  <tbody>\n",
       "    <tr>\n",
       "      <th>0</th>\n",
       "      <td>9183.0</td>\n",
       "      <td>1.0</td>\n",
       "      <td>6.0</td>\n",
       "    </tr>\n",
       "    <tr>\n",
       "      <th>1</th>\n",
       "      <td>102.0</td>\n",
       "      <td>150.0</td>\n",
       "      <td>1.0</td>\n",
       "    </tr>\n",
       "    <tr>\n",
       "      <th>2</th>\n",
       "      <td>312.0</td>\n",
       "      <td>0.0</td>\n",
       "      <td>286.0</td>\n",
       "    </tr>\n",
       "  </tbody>\n",
       "</table>\n",
       "</div>"
      ],
      "text/plain": [
       "pred       0      1      2\n",
       "act                       \n",
       "0     9183.0    1.0    6.0\n",
       "1      102.0  150.0    1.0\n",
       "2      312.0    0.0  286.0"
      ]
     },
     "metadata": {},
     "output_type": "display_data"
    },
    {
     "name": "stdout",
     "output_type": "stream",
     "text": [
      "\n",
      "oof conf matrix\n"
     ]
    },
    {
     "data": {
      "text/html": [
       "<div>\n",
       "<style scoped>\n",
       "    .dataframe tbody tr th:only-of-type {\n",
       "        vertical-align: middle;\n",
       "    }\n",
       "\n",
       "    .dataframe tbody tr th {\n",
       "        vertical-align: top;\n",
       "    }\n",
       "\n",
       "    .dataframe thead th {\n",
       "        text-align: right;\n",
       "    }\n",
       "</style>\n",
       "<table border=\"1\" class=\"dataframe\">\n",
       "  <thead>\n",
       "    <tr style=\"text-align: right;\">\n",
       "      <th>pred</th>\n",
       "      <th>0</th>\n",
       "      <th>1</th>\n",
       "      <th>2</th>\n",
       "    </tr>\n",
       "    <tr>\n",
       "      <th>act</th>\n",
       "      <th></th>\n",
       "      <th></th>\n",
       "      <th></th>\n",
       "    </tr>\n",
       "  </thead>\n",
       "  <tbody>\n",
       "    <tr>\n",
       "      <th>0</th>\n",
       "      <td>9134</td>\n",
       "      <td>12</td>\n",
       "      <td>44</td>\n",
       "    </tr>\n",
       "    <tr>\n",
       "      <th>1</th>\n",
       "      <td>234</td>\n",
       "      <td>9</td>\n",
       "      <td>10</td>\n",
       "    </tr>\n",
       "    <tr>\n",
       "      <th>2</th>\n",
       "      <td>521</td>\n",
       "      <td>13</td>\n",
       "      <td>64</td>\n",
       "    </tr>\n",
       "  </tbody>\n",
       "</table>\n",
       "</div>"
      ],
      "text/plain": [
       "pred     0   1   2\n",
       "act               \n",
       "0     9134  12  44\n",
       "1      234   9  10\n",
       "2      521  13  64"
      ]
     },
     "metadata": {},
     "output_type": "display_data"
    },
    {
     "name": "stdout",
     "output_type": "stream",
     "text": [
      "\n",
      "test conf matrix\n"
     ]
    },
    {
     "data": {
      "text/html": [
       "<div>\n",
       "<style scoped>\n",
       "    .dataframe tbody tr th:only-of-type {\n",
       "        vertical-align: middle;\n",
       "    }\n",
       "\n",
       "    .dataframe tbody tr th {\n",
       "        vertical-align: top;\n",
       "    }\n",
       "\n",
       "    .dataframe thead th {\n",
       "        text-align: right;\n",
       "    }\n",
       "</style>\n",
       "<table border=\"1\" class=\"dataframe\">\n",
       "  <thead>\n",
       "    <tr style=\"text-align: right;\">\n",
       "      <th>pred</th>\n",
       "      <th>0</th>\n",
       "      <th>1</th>\n",
       "      <th>2</th>\n",
       "    </tr>\n",
       "    <tr>\n",
       "      <th>act</th>\n",
       "      <th></th>\n",
       "      <th></th>\n",
       "      <th></th>\n",
       "    </tr>\n",
       "  </thead>\n",
       "  <tbody>\n",
       "    <tr>\n",
       "      <th>0</th>\n",
       "      <td>860.0</td>\n",
       "      <td>3.0</td>\n",
       "      <td>3.0</td>\n",
       "    </tr>\n",
       "    <tr>\n",
       "      <th>1</th>\n",
       "      <td>25.0</td>\n",
       "      <td>0.0</td>\n",
       "      <td>0.0</td>\n",
       "    </tr>\n",
       "    <tr>\n",
       "      <th>2</th>\n",
       "      <td>103.0</td>\n",
       "      <td>0.0</td>\n",
       "      <td>6.0</td>\n",
       "    </tr>\n",
       "  </tbody>\n",
       "</table>\n",
       "</div>"
      ],
      "text/plain": [
       "pred      0    1    2\n",
       "act                  \n",
       "0     860.0  3.0  3.0\n",
       "1      25.0  0.0  0.0\n",
       "2     103.0  0.0  6.0"
      ]
     },
     "metadata": {},
     "output_type": "display_data"
    }
   ],
   "source": [
    "# conf matrix\n",
    "for model_results in default_results:\n",
    "    model_performance_summary(model_results, scores=False, matrix=True)"
   ]
  },
  {
   "cell_type": "markdown",
   "id": "9f3b35ba",
   "metadata": {},
   "source": [
    "**Obserwacje**:\n",
    "* wszystkie modele nie radzą sobie w generalizacją, nie są na tyle dobre w wykrywaniu 1/2 żeby mieć zastosowanie produkcyjne.\n",
    "* `svm` wygląda najlepiej, chociaż myli się pomiędzy klasami 1 i 2\n",
    "* `ridge` jest niedouczony - nawet na zbiorze testowym jest dużo `false negative` dla klas 1/2. Być może zmniejszenie domyślnej regularyzacji mu pomoże. Generalnie chciałbym tu zastosować `lasso` szczególnie dla selekcji nieistotnych ficzerów ale nie znalazłem na szybko algorytmu działającego na reprezentacji rzadkiej\n",
    "* `rf` nauczył się zbioru treningowego doskonale :) Ale generalizuje się słabo, na test prawie nic nie wykrył (kolejna przesłanka za hipotezą o różnym rozkładzie train i test). Tu będzie potrzebna mocna regularyzacja\n",
    "* `gbm` w przeciwieństwie do `rf` nie nauczył się wszystkiego, generalizuje się słabiej.\n",
    "\n",
    "Na podstawie powyższych skupię się na modelach w takiej kolejności `svm` > `rf` > `gbm` > `ridge`."
   ]
  },
  {
   "cell_type": "markdown",
   "id": "5c34a28d",
   "metadata": {},
   "source": [
    "# optymalizacja hiperparametrów"
   ]
  },
  {
   "cell_type": "markdown",
   "id": "a695e04d",
   "metadata": {},
   "source": [
    "Do optymalizacji hiperparametrów skorzystam z biblioteki `hyperopt`.  \n",
    "Ma ona tą przewagę na standardowym `grid/random search`, że aktywnie wykorzystuje wyniki poprzednich kroków do wyboru kolejnego punktu hiperprzestrzeni parametrów do przetestowania.  \n",
    "Pozwala to znacznie skrócić czas potrzebny na znalezienie optymalnych parametrów, a także przeszukiwać większe przestrzenie.  \n",
    "\n",
    "W losowych krokach optymalizacji dodaję losowy wybór punktu przestrzeni. Ma to zapobiec utknięciu optymalizatora w lokalnym minimum.\n",
    "\n",
    "Jako funkcję do optymalizacji przyjmę `f1 makro` na prognozach `oof`. Dodatkowo zależy mi na stabilności wyników, dlatego dodam małą karę do funkcji kosztu za rozstrzał metryki pomiędzy train i oof.  \n",
    "\n",
    "Gdyby metryka zadania nie była zadana wybrałbym `f1 mikro` lub `f1 mikro` liczoną tylko na klasach 1/2. Ewentualnie zwiększyłbym wagę `recall` (np. `f2 score`) ponieważ uważam, że koszt `Fals Negative` jest większy niż `Fals Positive`.\n",
    "\n",
    "Zapisuję statystyki ewaluacji każdego punktu w przestrzeni. Przy większej ilości czasu przeprowadziłbym analizę wpływu hiperparametrów na jakość modeli, to pozwoliłoby zrozumieć wpływ każdego z parametrów na metryki a także lepiej zdefiniować zakres przestrzeni hiperparametrów.  \n",
    "Sprawdzę też stabilność najlepszych puntków i wybiorę ten punkt którego wyniki są najbardziej stabilne. Wykorzystam do tego powtórzoną walidację krzyżową ze zmiennym ziarnem podziału zbiory na foldy.\n",
    "\n",
    "Do optymalizacji parametrów używam tylko zbioru train. Dla każdego kalsyfikatora testowanych będzie 500 punktów z przestrzeni."
   ]
  },
  {
   "cell_type": "markdown",
   "id": "21a4043e",
   "metadata": {},
   "source": [
    "Najpierw zdefiniuję przestrzeń dla transformerów - uniwersalną dla wszystkich klasyfikatorów."
   ]
  },
  {
   "cell_type": "code",
   "execution_count": 230,
   "id": "b546c379",
   "metadata": {
    "ExecuteTime": {
     "end_time": "2021-05-30T09:05:44.477686Z",
     "start_time": "2021-05-30T09:05:44.435393Z"
    }
   },
   "outputs": [],
   "source": [
    "hyper_space_transformers = {\n",
    "    'vect__binary': hp.choice('binary', [True, False]),\n",
    "    \n",
    "    'tfidf__norm': hp.choice('norm', ['l1', 'l2']), # norm type for output vector. l2 - sum of squares, l1 - absolute values\n",
    "    'tfidf__use_idf': hp.choice('use_idf', [True, False]),    \n",
    "    'tfidf__smooth_idf': hp.choice('smooth_idf', [True, False]),    \n",
    "    'tfidf__sublinear_tf': hp.choice('sublinear_tf', [True, False]),\n",
    "}"
   ]
  },
  {
   "cell_type": "markdown",
   "id": "df273b6a",
   "metadata": {},
   "source": [
    "## svm"
   ]
  },
  {
   "cell_type": "code",
   "execution_count": 282,
   "id": "acb48dcb",
   "metadata": {
    "ExecuteTime": {
     "end_time": "2021-05-30T20:37:41.445523Z",
     "start_time": "2021-05-30T20:37:41.412098Z"
    }
   },
   "outputs": [],
   "source": [
    "hyper_space_clf = {\n",
    "    'clf__dual': hp.choice('dual', [True, False]),\n",
    "    'clf__C': hp.uniform('C', 0.0001, 10),\n",
    "    'clf__loss': hp.choice('loss', ['squared_hinge']),\n",
    "    'clf__class_weight': hp.choice('class_weight', ['balanced', None]),\n",
    "    'clf__max_iter': hp.uniform('max_iter', 1000, 5000),\n",
    "    'clf__intercept_scaling': hp.uniform('intercept_scaling', 0.1, 10),\n",
    "}\n",
    "\n",
    "hyper_space = {**hyper_space_transformers, **hyper_space_clf}"
   ]
  },
  {
   "cell_type": "code",
   "execution_count": 283,
   "id": "058ebcfd",
   "metadata": {
    "ExecuteTime": {
     "end_time": "2021-05-30T21:22:27.015309Z",
     "start_time": "2021-05-30T20:37:48.244505Z"
    },
    "scrolled": true
   },
   "outputs": [
    {
     "name": "stdout",
     "output_type": "stream",
     "text": [
      "\r",
      "  0%|          | 0/500 [00:00<?, ?trial/s, best loss=?]"
     ]
    },
    {
     "name": "stderr",
     "output_type": "stream",
     "text": [
      "INFO:hyperopt.tpe:build_posterior_wrapper took 0.003541 seconds\n",
      "INFO:hyperopt.tpe:TPE using 0 trials\n",
      "/Users/michal.bronis/Desktop/nlp/poleval19/venv/lib/python3.8/site-packages/sklearn/svm/_base.py:985: ConvergenceWarning: Liblinear failed to converge, increase the number of iterations.\n",
      "  warnings.warn(\"Liblinear failed to converge, increase \"\n",
      "\n",
      "/Users/michal.bronis/Desktop/nlp/poleval19/venv/lib/python3.8/site-packages/sklearn/svm/_base.py:985: ConvergenceWarning: Liblinear failed to converge, increase the number of iterations.\n",
      "  warnings.warn(\"Liblinear failed to converge, increase \"\n",
      "\n",
      "/Users/michal.bronis/Desktop/nlp/poleval19/venv/lib/python3.8/site-packages/sklearn/svm/_base.py:985: ConvergenceWarning: Liblinear failed to converge, increase the number of iterations.\n",
      "  warnings.warn(\"Liblinear failed to converge, increase \"\n",
      "\n",
      "/Users/michal.bronis/Desktop/nlp/poleval19/venv/lib/python3.8/site-packages/sklearn/svm/_base.py:985: ConvergenceWarning: Liblinear failed to converge, increase the number of iterations.\n",
      "  warnings.warn(\"Liblinear failed to converge, increase \"\n",
      "\n",
      "/Users/michal.bronis/Desktop/nlp/poleval19/venv/lib/python3.8/site-packages/sklearn/svm/_base.py:985: ConvergenceWarning: Liblinear failed to converge, increase the number of iterations.\n",
      "  warnings.warn(\"Liblinear failed to converge, increase \"\n",
      "\n",
      "/Users/michal.bronis/Desktop/nlp/poleval19/venv/lib/python3.8/site-packages/sklearn/svm/_base.py:985: ConvergenceWarning: Liblinear failed to converge, increase the number of iterations.\n",
      "  warnings.warn(\"Liblinear failed to converge, increase \"\n",
      "\n",
      "/Users/michal.bronis/Desktop/nlp/poleval19/venv/lib/python3.8/site-packages/sklearn/svm/_base.py:985: ConvergenceWarning: Liblinear failed to converge, increase the number of iterations.\n",
      "  warnings.warn(\"Liblinear failed to converge, increase \"\n",
      "\n",
      "/Users/michal.bronis/Desktop/nlp/poleval19/venv/lib/python3.8/site-packages/sklearn/svm/_base.py:985: ConvergenceWarning: Liblinear failed to converge, increase the number of iterations.\n",
      "  warnings.warn(\"Liblinear failed to converge, increase \"\n",
      "\n",
      "/Users/michal.bronis/Desktop/nlp/poleval19/venv/lib/python3.8/site-packages/sklearn/svm/_base.py:985: ConvergenceWarning: Liblinear failed to converge, increase the number of iterations.\n",
      "  warnings.warn(\"Liblinear failed to converge, increase \"\n",
      "\n",
      "/Users/michal.bronis/Desktop/nlp/poleval19/venv/lib/python3.8/site-packages/sklearn/svm/_base.py:985: ConvergenceWarning: Liblinear failed to converge, increase the number of iterations.\n",
      "  warnings.warn(\"Liblinear failed to converge, increase \"\n",
      "\n",
      "/Users/michal.bronis/Desktop/nlp/poleval19/venv/lib/python3.8/site-packages/sklearn/svm/_base.py:985: ConvergenceWarning: Liblinear failed to converge, increase the number of iterations.\n",
      "  warnings.warn(\"Liblinear failed to converge, increase \"\n",
      "\n",
      "/Users/michal.bronis/Desktop/nlp/poleval19/venv/lib/python3.8/site-packages/sklearn/svm/_base.py:985: ConvergenceWarning: Liblinear failed to converge, increase the number of iterations.\n",
      "  warnings.warn(\"Liblinear failed to converge, increase \"\n",
      "\n",
      "/Users/michal.bronis/Desktop/nlp/poleval19/venv/lib/python3.8/site-packages/sklearn/svm/_base.py:985: ConvergenceWarning: Liblinear failed to converge, increase the number of iterations.\n",
      "  warnings.warn(\"Liblinear failed to converge, increase \"\n",
      "\n",
      "/Users/michal.bronis/Desktop/nlp/poleval19/venv/lib/python3.8/site-packages/sklearn/svm/_base.py:985: ConvergenceWarning: Liblinear failed to converge, increase the number of iterations.\n",
      "  warnings.warn(\"Liblinear failed to converge, increase \"\n",
      "\n",
      "/Users/michal.bronis/Desktop/nlp/poleval19/venv/lib/python3.8/site-packages/sklearn/svm/_base.py:985: ConvergenceWarning: Liblinear failed to converge, increase the number of iterations.\n",
      "  warnings.warn(\"Liblinear failed to converge, increase \"\n",
      "\n",
      "/Users/michal.bronis/Desktop/nlp/poleval19/venv/lib/python3.8/site-packages/sklearn/svm/_base.py:985: ConvergenceWarning: Liblinear failed to converge, increase the number of iterations.\n",
      "  warnings.warn(\"Liblinear failed to converge, increase \"\n",
      "\n",
      "/Users/michal.bronis/Desktop/nlp/poleval19/venv/lib/python3.8/site-packages/sklearn/svm/_base.py:985: ConvergenceWarning: Liblinear failed to converge, increase the number of iterations.\n",
      "  warnings.warn(\"Liblinear failed to converge, increase \"\n",
      "\n",
      "/Users/michal.bronis/Desktop/nlp/poleval19/venv/lib/python3.8/site-packages/sklearn/svm/_base.py:985: ConvergenceWarning: Liblinear failed to converge, increase the number of iterations.\n",
      "  warnings.warn(\"Liblinear failed to converge, increase \"\n",
      "\n"
     ]
    },
    {
     "name": "stdout",
     "output_type": "stream",
     "text": [
      "\r",
      "  2%|▏         | 10/500 [01:16<1:02:04,  7.60s/trial, best loss: -0.9163899999999999]"
     ]
    },
    {
     "name": "stderr",
     "output_type": "stream",
     "text": [
      "INFO:hyperopt.tpe:build_posterior_wrapper took 0.004990 seconds\n",
      "INFO:hyperopt.tpe:TPE using 10/10 trials with best loss -0.916390\n",
      "/Users/michal.bronis/Desktop/nlp/poleval19/venv/lib/python3.8/site-packages/sklearn/svm/_base.py:985: ConvergenceWarning: Liblinear failed to converge, increase the number of iterations.\n",
      "  warnings.warn(\"Liblinear failed to converge, increase \"\n",
      "\n",
      "/Users/michal.bronis/Desktop/nlp/poleval19/venv/lib/python3.8/site-packages/sklearn/svm/_base.py:985: ConvergenceWarning: Liblinear failed to converge, increase the number of iterations.\n",
      "  warnings.warn(\"Liblinear failed to converge, increase \"\n",
      "\n",
      "/Users/michal.bronis/Desktop/nlp/poleval19/venv/lib/python3.8/site-packages/sklearn/svm/_base.py:985: ConvergenceWarning: Liblinear failed to converge, increase the number of iterations.\n",
      "  warnings.warn(\"Liblinear failed to converge, increase \"\n",
      "\n",
      "/Users/michal.bronis/Desktop/nlp/poleval19/venv/lib/python3.8/site-packages/sklearn/svm/_base.py:985: ConvergenceWarning: Liblinear failed to converge, increase the number of iterations.\n",
      "  warnings.warn(\"Liblinear failed to converge, increase \"\n",
      "\n",
      "/Users/michal.bronis/Desktop/nlp/poleval19/venv/lib/python3.8/site-packages/sklearn/svm/_base.py:985: ConvergenceWarning: Liblinear failed to converge, increase the number of iterations.\n",
      "  warnings.warn(\"Liblinear failed to converge, increase \"\n",
      "\n",
      "/Users/michal.bronis/Desktop/nlp/poleval19/venv/lib/python3.8/site-packages/sklearn/svm/_base.py:985: ConvergenceWarning: Liblinear failed to converge, increase the number of iterations.\n",
      "  warnings.warn(\"Liblinear failed to converge, increase \"\n",
      "\n",
      "/Users/michal.bronis/Desktop/nlp/poleval19/venv/lib/python3.8/site-packages/sklearn/svm/_base.py:985: ConvergenceWarning: Liblinear failed to converge, increase the number of iterations.\n",
      "  warnings.warn(\"Liblinear failed to converge, increase \"\n",
      "\n",
      "/Users/michal.bronis/Desktop/nlp/poleval19/venv/lib/python3.8/site-packages/sklearn/svm/_base.py:985: ConvergenceWarning: Liblinear failed to converge, increase the number of iterations.\n",
      "  warnings.warn(\"Liblinear failed to converge, increase \"\n",
      "\n",
      "/Users/michal.bronis/Desktop/nlp/poleval19/venv/lib/python3.8/site-packages/sklearn/svm/_base.py:985: ConvergenceWarning: Liblinear failed to converge, increase the number of iterations.\n",
      "  warnings.warn(\"Liblinear failed to converge, increase \"\n",
      "\n",
      "/Users/michal.bronis/Desktop/nlp/poleval19/venv/lib/python3.8/site-packages/sklearn/svm/_base.py:985: ConvergenceWarning: Liblinear failed to converge, increase the number of iterations.\n",
      "  warnings.warn(\"Liblinear failed to converge, increase \"\n",
      "\n",
      "/Users/michal.bronis/Desktop/nlp/poleval19/venv/lib/python3.8/site-packages/sklearn/svm/_base.py:985: ConvergenceWarning: Liblinear failed to converge, increase the number of iterations.\n",
      "  warnings.warn(\"Liblinear failed to converge, increase \"\n",
      "\n",
      "/Users/michal.bronis/Desktop/nlp/poleval19/venv/lib/python3.8/site-packages/sklearn/svm/_base.py:985: ConvergenceWarning: Liblinear failed to converge, increase the number of iterations.\n",
      "  warnings.warn(\"Liblinear failed to converge, increase \"\n",
      "\n",
      "/Users/michal.bronis/Desktop/nlp/poleval19/venv/lib/python3.8/site-packages/sklearn/svm/_base.py:985: ConvergenceWarning: Liblinear failed to converge, increase the number of iterations.\n",
      "  warnings.warn(\"Liblinear failed to converge, increase \"\n",
      "\n",
      "/Users/michal.bronis/Desktop/nlp/poleval19/venv/lib/python3.8/site-packages/sklearn/svm/_base.py:985: ConvergenceWarning: Liblinear failed to converge, increase the number of iterations.\n",
      "  warnings.warn(\"Liblinear failed to converge, increase \"\n",
      "\n",
      "/Users/michal.bronis/Desktop/nlp/poleval19/venv/lib/python3.8/site-packages/sklearn/svm/_base.py:985: ConvergenceWarning: Liblinear failed to converge, increase the number of iterations.\n",
      "  warnings.warn(\"Liblinear failed to converge, increase \"\n",
      "\n",
      "/Users/michal.bronis/Desktop/nlp/poleval19/venv/lib/python3.8/site-packages/sklearn/svm/_base.py:985: ConvergenceWarning: Liblinear failed to converge, increase the number of iterations.\n",
      "  warnings.warn(\"Liblinear failed to converge, increase \"\n",
      "\n",
      "/Users/michal.bronis/Desktop/nlp/poleval19/venv/lib/python3.8/site-packages/sklearn/svm/_base.py:985: ConvergenceWarning: Liblinear failed to converge, increase the number of iterations.\n",
      "  warnings.warn(\"Liblinear failed to converge, increase \"\n",
      "\n",
      "/Users/michal.bronis/Desktop/nlp/poleval19/venv/lib/python3.8/site-packages/sklearn/svm/_base.py:985: ConvergenceWarning: Liblinear failed to converge, increase the number of iterations.\n",
      "  warnings.warn(\"Liblinear failed to converge, increase \"\n",
      "\n",
      "/Users/michal.bronis/Desktop/nlp/poleval19/venv/lib/python3.8/site-packages/sklearn/svm/_base.py:985: ConvergenceWarning: Liblinear failed to converge, increase the number of iterations.\n",
      "  warnings.warn(\"Liblinear failed to converge, increase \"\n",
      "\n",
      "/Users/michal.bronis/Desktop/nlp/poleval19/venv/lib/python3.8/site-packages/sklearn/svm/_base.py:985: ConvergenceWarning: Liblinear failed to converge, increase the number of iterations.\n",
      "  warnings.warn(\"Liblinear failed to converge, increase \"\n",
      "\n",
      "/Users/michal.bronis/Desktop/nlp/poleval19/venv/lib/python3.8/site-packages/sklearn/svm/_base.py:985: ConvergenceWarning: Liblinear failed to converge, increase the number of iterations.\n",
      "  warnings.warn(\"Liblinear failed to converge, increase \"\n",
      "\n",
      "/Users/michal.bronis/Desktop/nlp/poleval19/venv/lib/python3.8/site-packages/sklearn/svm/_base.py:985: ConvergenceWarning: Liblinear failed to converge, increase the number of iterations.\n",
      "  warnings.warn(\"Liblinear failed to converge, increase \"\n",
      "\n",
      "/Users/michal.bronis/Desktop/nlp/poleval19/venv/lib/python3.8/site-packages/sklearn/svm/_base.py:985: ConvergenceWarning: Liblinear failed to converge, increase the number of iterations.\n",
      "  warnings.warn(\"Liblinear failed to converge, increase \"\n",
      "\n",
      "/Users/michal.bronis/Desktop/nlp/poleval19/venv/lib/python3.8/site-packages/sklearn/svm/_base.py:985: ConvergenceWarning: Liblinear failed to converge, increase the number of iterations.\n",
      "  warnings.warn(\"Liblinear failed to converge, increase \"\n",
      "\n",
      "/Users/michal.bronis/Desktop/nlp/poleval19/venv/lib/python3.8/site-packages/sklearn/svm/_base.py:985: ConvergenceWarning: Liblinear failed to converge, increase the number of iterations.\n",
      "  warnings.warn(\"Liblinear failed to converge, increase \"\n",
      "\n",
      "/Users/michal.bronis/Desktop/nlp/poleval19/venv/lib/python3.8/site-packages/sklearn/svm/_base.py:985: ConvergenceWarning: Liblinear failed to converge, increase the number of iterations.\n",
      "  warnings.warn(\"Liblinear failed to converge, increase \"\n",
      "\n",
      "/Users/michal.bronis/Desktop/nlp/poleval19/venv/lib/python3.8/site-packages/sklearn/svm/_base.py:985: ConvergenceWarning: Liblinear failed to converge, increase the number of iterations.\n",
      "  warnings.warn(\"Liblinear failed to converge, increase \"\n",
      "\n",
      "/Users/michal.bronis/Desktop/nlp/poleval19/venv/lib/python3.8/site-packages/sklearn/svm/_base.py:985: ConvergenceWarning: Liblinear failed to converge, increase the number of iterations.\n",
      "  warnings.warn(\"Liblinear failed to converge, increase \"\n",
      "\n",
      "/Users/michal.bronis/Desktop/nlp/poleval19/venv/lib/python3.8/site-packages/sklearn/svm/_base.py:985: ConvergenceWarning: Liblinear failed to converge, increase the number of iterations.\n",
      "  warnings.warn(\"Liblinear failed to converge, increase \"\n",
      "\n",
      "/Users/michal.bronis/Desktop/nlp/poleval19/venv/lib/python3.8/site-packages/sklearn/svm/_base.py:985: ConvergenceWarning: Liblinear failed to converge, increase the number of iterations.\n",
      "  warnings.warn(\"Liblinear failed to converge, increase \"\n",
      "\n",
      "/Users/michal.bronis/Desktop/nlp/poleval19/venv/lib/python3.8/site-packages/sklearn/svm/_base.py:985: ConvergenceWarning: Liblinear failed to converge, increase the number of iterations.\n",
      "  warnings.warn(\"Liblinear failed to converge, increase \"\n",
      "\n",
      "/Users/michal.bronis/Desktop/nlp/poleval19/venv/lib/python3.8/site-packages/sklearn/svm/_base.py:985: ConvergenceWarning: Liblinear failed to converge, increase the number of iterations.\n",
      "  warnings.warn(\"Liblinear failed to converge, increase \"\n",
      "\n",
      "/Users/michal.bronis/Desktop/nlp/poleval19/venv/lib/python3.8/site-packages/sklearn/svm/_base.py:985: ConvergenceWarning: Liblinear failed to converge, increase the number of iterations.\n",
      "  warnings.warn(\"Liblinear failed to converge, increase \"\n",
      "\n"
     ]
    },
    {
     "name": "stderr",
     "output_type": "stream",
     "text": [
      "/Users/michal.bronis/Desktop/nlp/poleval19/venv/lib/python3.8/site-packages/sklearn/svm/_base.py:985: ConvergenceWarning: Liblinear failed to converge, increase the number of iterations.\n",
      "  warnings.warn(\"Liblinear failed to converge, increase \"\n",
      "\n",
      "/Users/michal.bronis/Desktop/nlp/poleval19/venv/lib/python3.8/site-packages/sklearn/svm/_base.py:985: ConvergenceWarning: Liblinear failed to converge, increase the number of iterations.\n",
      "  warnings.warn(\"Liblinear failed to converge, increase \"\n",
      "\n",
      "/Users/michal.bronis/Desktop/nlp/poleval19/venv/lib/python3.8/site-packages/sklearn/svm/_base.py:985: ConvergenceWarning: Liblinear failed to converge, increase the number of iterations.\n",
      "  warnings.warn(\"Liblinear failed to converge, increase \"\n",
      "\n",
      "/Users/michal.bronis/Desktop/nlp/poleval19/venv/lib/python3.8/site-packages/sklearn/svm/_base.py:985: ConvergenceWarning: Liblinear failed to converge, increase the number of iterations.\n",
      "  warnings.warn(\"Liblinear failed to converge, increase \"\n",
      "\n",
      "/Users/michal.bronis/Desktop/nlp/poleval19/venv/lib/python3.8/site-packages/sklearn/svm/_base.py:985: ConvergenceWarning: Liblinear failed to converge, increase the number of iterations.\n",
      "  warnings.warn(\"Liblinear failed to converge, increase \"\n",
      "\n",
      "/Users/michal.bronis/Desktop/nlp/poleval19/venv/lib/python3.8/site-packages/sklearn/svm/_base.py:985: ConvergenceWarning: Liblinear failed to converge, increase the number of iterations.\n",
      "  warnings.warn(\"Liblinear failed to converge, increase \"\n",
      "\n",
      "/Users/michal.bronis/Desktop/nlp/poleval19/venv/lib/python3.8/site-packages/sklearn/svm/_base.py:985: ConvergenceWarning: Liblinear failed to converge, increase the number of iterations.\n",
      "  warnings.warn(\"Liblinear failed to converge, increase \"\n",
      "\n",
      "/Users/michal.bronis/Desktop/nlp/poleval19/venv/lib/python3.8/site-packages/sklearn/svm/_base.py:985: ConvergenceWarning: Liblinear failed to converge, increase the number of iterations.\n",
      "  warnings.warn(\"Liblinear failed to converge, increase \"\n",
      "\n"
     ]
    },
    {
     "name": "stdout",
     "output_type": "stream",
     "text": [
      "\r",
      "  4%|▍         | 20/500 [03:42<1:34:12, 11.78s/trial, best loss: -0.9163899999999999]"
     ]
    },
    {
     "name": "stderr",
     "output_type": "stream",
     "text": [
      "/Users/michal.bronis/Desktop/nlp/poleval19/venv/lib/python3.8/site-packages/sklearn/svm/_base.py:985: ConvergenceWarning: Liblinear failed to converge, increase the number of iterations.\n",
      "  warnings.warn(\"Liblinear failed to converge, increase \"\n",
      "\n",
      "INFO:hyperopt.tpe:build_posterior_wrapper took 0.003443 seconds\n",
      "INFO:hyperopt.tpe:TPE using 20/20 trials with best loss -0.916390\n",
      "INFO:hyperopt.tpe:build_posterior_wrapper took 0.003033 seconds\n",
      "INFO:hyperopt.tpe:TPE using 21/21 trials with best loss -0.916390\n",
      "INFO:hyperopt.tpe:build_posterior_wrapper took 0.003050 seconds\n",
      "INFO:hyperopt.tpe:TPE using 22/22 trials with best loss -0.916390\n",
      "INFO:hyperopt.tpe:build_posterior_wrapper took 0.003463 seconds\n",
      "INFO:hyperopt.tpe:TPE using 23/23 trials with best loss -0.916390\n",
      "/Users/michal.bronis/Desktop/nlp/poleval19/venv/lib/python3.8/site-packages/sklearn/svm/_base.py:985: ConvergenceWarning: Liblinear failed to converge, increase the number of iterations.\n",
      "  warnings.warn(\"Liblinear failed to converge, increase \"\n",
      "\n",
      "/Users/michal.bronis/Desktop/nlp/poleval19/venv/lib/python3.8/site-packages/sklearn/svm/_base.py:985: ConvergenceWarning: Liblinear failed to converge, increase the number of iterations.\n",
      "  warnings.warn(\"Liblinear failed to converge, increase \"\n",
      "\n",
      "/Users/michal.bronis/Desktop/nlp/poleval19/venv/lib/python3.8/site-packages/sklearn/svm/_base.py:985: ConvergenceWarning: Liblinear failed to converge, increase the number of iterations.\n",
      "  warnings.warn(\"Liblinear failed to converge, increase \"\n",
      "\n",
      "/Users/michal.bronis/Desktop/nlp/poleval19/venv/lib/python3.8/site-packages/sklearn/svm/_base.py:985: ConvergenceWarning: Liblinear failed to converge, increase the number of iterations.\n",
      "  warnings.warn(\"Liblinear failed to converge, increase \"\n",
      "\n",
      "/Users/michal.bronis/Desktop/nlp/poleval19/venv/lib/python3.8/site-packages/sklearn/svm/_base.py:985: ConvergenceWarning: Liblinear failed to converge, increase the number of iterations.\n",
      "  warnings.warn(\"Liblinear failed to converge, increase \"\n",
      "\n",
      "/Users/michal.bronis/Desktop/nlp/poleval19/venv/lib/python3.8/site-packages/sklearn/svm/_base.py:985: ConvergenceWarning: Liblinear failed to converge, increase the number of iterations.\n",
      "  warnings.warn(\"Liblinear failed to converge, increase \"\n",
      "\n",
      "/Users/michal.bronis/Desktop/nlp/poleval19/venv/lib/python3.8/site-packages/sklearn/svm/_base.py:985: ConvergenceWarning: Liblinear failed to converge, increase the number of iterations.\n",
      "  warnings.warn(\"Liblinear failed to converge, increase \"\n",
      "\n",
      "/Users/michal.bronis/Desktop/nlp/poleval19/venv/lib/python3.8/site-packages/sklearn/svm/_base.py:985: ConvergenceWarning: Liblinear failed to converge, increase the number of iterations.\n",
      "  warnings.warn(\"Liblinear failed to converge, increase \"\n",
      "\n",
      "/Users/michal.bronis/Desktop/nlp/poleval19/venv/lib/python3.8/site-packages/sklearn/svm/_base.py:985: ConvergenceWarning: Liblinear failed to converge, increase the number of iterations.\n",
      "  warnings.warn(\"Liblinear failed to converge, increase \"\n",
      "\n",
      "/Users/michal.bronis/Desktop/nlp/poleval19/venv/lib/python3.8/site-packages/sklearn/svm/_base.py:985: ConvergenceWarning: Liblinear failed to converge, increase the number of iterations.\n",
      "  warnings.warn(\"Liblinear failed to converge, increase \"\n",
      "\n",
      "/Users/michal.bronis/Desktop/nlp/poleval19/venv/lib/python3.8/site-packages/sklearn/svm/_base.py:985: ConvergenceWarning: Liblinear failed to converge, increase the number of iterations.\n",
      "  warnings.warn(\"Liblinear failed to converge, increase \"\n",
      "\n",
      "/Users/michal.bronis/Desktop/nlp/poleval19/venv/lib/python3.8/site-packages/sklearn/svm/_base.py:985: ConvergenceWarning: Liblinear failed to converge, increase the number of iterations.\n",
      "  warnings.warn(\"Liblinear failed to converge, increase \"\n",
      "\n",
      "/Users/michal.bronis/Desktop/nlp/poleval19/venv/lib/python3.8/site-packages/sklearn/svm/_base.py:985: ConvergenceWarning: Liblinear failed to converge, increase the number of iterations.\n",
      "  warnings.warn(\"Liblinear failed to converge, increase \"\n",
      "\n",
      "/Users/michal.bronis/Desktop/nlp/poleval19/venv/lib/python3.8/site-packages/sklearn/svm/_base.py:985: ConvergenceWarning: Liblinear failed to converge, increase the number of iterations.\n",
      "  warnings.warn(\"Liblinear failed to converge, increase \"\n",
      "\n",
      "/Users/michal.bronis/Desktop/nlp/poleval19/venv/lib/python3.8/site-packages/sklearn/svm/_base.py:985: ConvergenceWarning: Liblinear failed to converge, increase the number of iterations.\n",
      "  warnings.warn(\"Liblinear failed to converge, increase \"\n",
      "\n",
      "/Users/michal.bronis/Desktop/nlp/poleval19/venv/lib/python3.8/site-packages/sklearn/svm/_base.py:985: ConvergenceWarning: Liblinear failed to converge, increase the number of iterations.\n",
      "  warnings.warn(\"Liblinear failed to converge, increase \"\n",
      "\n",
      "/Users/michal.bronis/Desktop/nlp/poleval19/venv/lib/python3.8/site-packages/sklearn/svm/_base.py:985: ConvergenceWarning: Liblinear failed to converge, increase the number of iterations.\n",
      "  warnings.warn(\"Liblinear failed to converge, increase \"\n",
      "\n",
      "/Users/michal.bronis/Desktop/nlp/poleval19/venv/lib/python3.8/site-packages/sklearn/svm/_base.py:985: ConvergenceWarning: Liblinear failed to converge, increase the number of iterations.\n",
      "  warnings.warn(\"Liblinear failed to converge, increase \"\n",
      "\n",
      "/Users/michal.bronis/Desktop/nlp/poleval19/venv/lib/python3.8/site-packages/sklearn/svm/_base.py:985: ConvergenceWarning: Liblinear failed to converge, increase the number of iterations.\n",
      "  warnings.warn(\"Liblinear failed to converge, increase \"\n",
      "\n",
      "/Users/michal.bronis/Desktop/nlp/poleval19/venv/lib/python3.8/site-packages/sklearn/svm/_base.py:985: ConvergenceWarning: Liblinear failed to converge, increase the number of iterations.\n",
      "  warnings.warn(\"Liblinear failed to converge, increase \"\n",
      "\n",
      "/Users/michal.bronis/Desktop/nlp/poleval19/venv/lib/python3.8/site-packages/sklearn/svm/_base.py:985: ConvergenceWarning: Liblinear failed to converge, increase the number of iterations.\n",
      "  warnings.warn(\"Liblinear failed to converge, increase \"\n",
      "\n",
      "/Users/michal.bronis/Desktop/nlp/poleval19/venv/lib/python3.8/site-packages/sklearn/svm/_base.py:985: ConvergenceWarning: Liblinear failed to converge, increase the number of iterations.\n",
      "  warnings.warn(\"Liblinear failed to converge, increase \"\n",
      "\n",
      "/Users/michal.bronis/Desktop/nlp/poleval19/venv/lib/python3.8/site-packages/sklearn/svm/_base.py:985: ConvergenceWarning: Liblinear failed to converge, increase the number of iterations.\n",
      "  warnings.warn(\"Liblinear failed to converge, increase \"\n",
      "\n"
     ]
    },
    {
     "name": "stdout",
     "output_type": "stream",
     "text": [
      "\r",
      "  6%|▌         | 30/500 [04:45<1:12:18,  9.23s/trial, best loss: -0.92074]           "
     ]
    },
    {
     "name": "stderr",
     "output_type": "stream",
     "text": [
      "/Users/michal.bronis/Desktop/nlp/poleval19/venv/lib/python3.8/site-packages/sklearn/svm/_base.py:985: ConvergenceWarning: Liblinear failed to converge, increase the number of iterations.\n",
      "  warnings.warn(\"Liblinear failed to converge, increase \"\n",
      "\n",
      "INFO:hyperopt.tpe:build_posterior_wrapper took 0.002892 seconds\n",
      "INFO:hyperopt.tpe:TPE using 30/30 trials with best loss -0.920740\n",
      "/Users/michal.bronis/Desktop/nlp/poleval19/venv/lib/python3.8/site-packages/sklearn/svm/_base.py:985: ConvergenceWarning: Liblinear failed to converge, increase the number of iterations.\n",
      "  warnings.warn(\"Liblinear failed to converge, increase \"\n",
      "\n",
      "/Users/michal.bronis/Desktop/nlp/poleval19/venv/lib/python3.8/site-packages/sklearn/svm/_base.py:985: ConvergenceWarning: Liblinear failed to converge, increase the number of iterations.\n",
      "  warnings.warn(\"Liblinear failed to converge, increase \"\n",
      "\n",
      "/Users/michal.bronis/Desktop/nlp/poleval19/venv/lib/python3.8/site-packages/sklearn/svm/_base.py:985: ConvergenceWarning: Liblinear failed to converge, increase the number of iterations.\n",
      "  warnings.warn(\"Liblinear failed to converge, increase \"\n",
      "\n",
      "/Users/michal.bronis/Desktop/nlp/poleval19/venv/lib/python3.8/site-packages/sklearn/svm/_base.py:985: ConvergenceWarning: Liblinear failed to converge, increase the number of iterations.\n",
      "  warnings.warn(\"Liblinear failed to converge, increase \"\n",
      "\n",
      "/Users/michal.bronis/Desktop/nlp/poleval19/venv/lib/python3.8/site-packages/sklearn/svm/_base.py:985: ConvergenceWarning: Liblinear failed to converge, increase the number of iterations.\n",
      "  warnings.warn(\"Liblinear failed to converge, increase \"\n",
      "\n",
      "/Users/michal.bronis/Desktop/nlp/poleval19/venv/lib/python3.8/site-packages/sklearn/svm/_base.py:985: ConvergenceWarning: Liblinear failed to converge, increase the number of iterations.\n",
      "  warnings.warn(\"Liblinear failed to converge, increase \"\n",
      "\n",
      "/Users/michal.bronis/Desktop/nlp/poleval19/venv/lib/python3.8/site-packages/sklearn/svm/_base.py:985: ConvergenceWarning: Liblinear failed to converge, increase the number of iterations.\n",
      "  warnings.warn(\"Liblinear failed to converge, increase \"\n",
      "\n",
      "/Users/michal.bronis/Desktop/nlp/poleval19/venv/lib/python3.8/site-packages/sklearn/svm/_base.py:985: ConvergenceWarning: Liblinear failed to converge, increase the number of iterations.\n",
      "  warnings.warn(\"Liblinear failed to converge, increase \"\n",
      "\n",
      "/Users/michal.bronis/Desktop/nlp/poleval19/venv/lib/python3.8/site-packages/sklearn/svm/_base.py:985: ConvergenceWarning: Liblinear failed to converge, increase the number of iterations.\n",
      "  warnings.warn(\"Liblinear failed to converge, increase \"\n",
      "\n",
      "/Users/michal.bronis/Desktop/nlp/poleval19/venv/lib/python3.8/site-packages/sklearn/svm/_base.py:985: ConvergenceWarning: Liblinear failed to converge, increase the number of iterations.\n",
      "  warnings.warn(\"Liblinear failed to converge, increase \"\n",
      "\n",
      "/Users/michal.bronis/Desktop/nlp/poleval19/venv/lib/python3.8/site-packages/sklearn/svm/_base.py:985: ConvergenceWarning: Liblinear failed to converge, increase the number of iterations.\n",
      "  warnings.warn(\"Liblinear failed to converge, increase \"\n",
      "\n",
      "/Users/michal.bronis/Desktop/nlp/poleval19/venv/lib/python3.8/site-packages/sklearn/svm/_base.py:985: ConvergenceWarning: Liblinear failed to converge, increase the number of iterations.\n",
      "  warnings.warn(\"Liblinear failed to converge, increase \"\n",
      "\n"
     ]
    },
    {
     "name": "stdout",
     "output_type": "stream",
     "text": [
      "\r",
      "  8%|▊         | 40/500 [05:29<56:11,  7.33s/trial, best loss: -0.92074]  "
     ]
    },
    {
     "name": "stderr",
     "output_type": "stream",
     "text": [
      "INFO:hyperopt.tpe:build_posterior_wrapper took 0.004689 seconds\n",
      "INFO:hyperopt.tpe:TPE using 40/40 trials with best loss -0.920740\n",
      "INFO:hyperopt.tpe:build_posterior_wrapper took 0.002873 seconds\n",
      "INFO:hyperopt.tpe:TPE using 41/41 trials with best loss -0.920740\n",
      "INFO:hyperopt.tpe:build_posterior_wrapper took 0.004961 seconds\n",
      "INFO:hyperopt.tpe:TPE using 42/42 trials with best loss -0.920740\n",
      "INFO:hyperopt.tpe:build_posterior_wrapper took 0.006128 seconds\n",
      "INFO:hyperopt.tpe:TPE using 43/43 trials with best loss -0.920740\n",
      "INFO:hyperopt.tpe:build_posterior_wrapper took 0.004940 seconds\n",
      "INFO:hyperopt.tpe:TPE using 44/44 trials with best loss -0.920740\n",
      "INFO:hyperopt.tpe:build_posterior_wrapper took 0.006536 seconds\n",
      "INFO:hyperopt.tpe:TPE using 45/45 trials with best loss -0.920740\n",
      "/Users/michal.bronis/Desktop/nlp/poleval19/venv/lib/python3.8/site-packages/sklearn/svm/_base.py:985: ConvergenceWarning: Liblinear failed to converge, increase the number of iterations.\n",
      "  warnings.warn(\"Liblinear failed to converge, increase \"\n",
      "\n",
      "/Users/michal.bronis/Desktop/nlp/poleval19/venv/lib/python3.8/site-packages/sklearn/svm/_base.py:985: ConvergenceWarning: Liblinear failed to converge, increase the number of iterations.\n",
      "  warnings.warn(\"Liblinear failed to converge, increase \"\n",
      "\n",
      "/Users/michal.bronis/Desktop/nlp/poleval19/venv/lib/python3.8/site-packages/sklearn/svm/_base.py:985: ConvergenceWarning: Liblinear failed to converge, increase the number of iterations.\n",
      "  warnings.warn(\"Liblinear failed to converge, increase \"\n",
      "\n",
      "/Users/michal.bronis/Desktop/nlp/poleval19/venv/lib/python3.8/site-packages/sklearn/svm/_base.py:985: ConvergenceWarning: Liblinear failed to converge, increase the number of iterations.\n",
      "  warnings.warn(\"Liblinear failed to converge, increase \"\n",
      "\n",
      "/Users/michal.bronis/Desktop/nlp/poleval19/venv/lib/python3.8/site-packages/sklearn/svm/_base.py:985: ConvergenceWarning: Liblinear failed to converge, increase the number of iterations.\n",
      "  warnings.warn(\"Liblinear failed to converge, increase \"\n",
      "\n",
      "/Users/michal.bronis/Desktop/nlp/poleval19/venv/lib/python3.8/site-packages/sklearn/svm/_base.py:985: ConvergenceWarning: Liblinear failed to converge, increase the number of iterations.\n",
      "  warnings.warn(\"Liblinear failed to converge, increase \"\n",
      "\n"
     ]
    },
    {
     "name": "stdout",
     "output_type": "stream",
     "text": [
      "\r",
      " 10%|█         | 50/500 [05:54<42:02,  5.61s/trial, best loss: -0.921]  "
     ]
    },
    {
     "name": "stderr",
     "output_type": "stream",
     "text": [
      "INFO:hyperopt.tpe:build_posterior_wrapper took 0.003797 seconds\n",
      "INFO:hyperopt.tpe:TPE using 50/50 trials with best loss -0.921000\n",
      "INFO:hyperopt.tpe:build_posterior_wrapper took 0.004691 seconds\n",
      "INFO:hyperopt.tpe:TPE using 51/51 trials with best loss -0.921000\n",
      "INFO:hyperopt.tpe:build_posterior_wrapper took 0.004317 seconds\n",
      "INFO:hyperopt.tpe:TPE using 52/52 trials with best loss -0.921000\n",
      "INFO:hyperopt.tpe:build_posterior_wrapper took 0.004580 seconds\n",
      "INFO:hyperopt.tpe:TPE using 53/53 trials with best loss -0.921000\n",
      "INFO:hyperopt.tpe:build_posterior_wrapper took 0.007018 seconds\n",
      "INFO:hyperopt.tpe:TPE using 54/54 trials with best loss -0.921000\n",
      "INFO:hyperopt.tpe:build_posterior_wrapper took 0.003307 seconds\n",
      "INFO:hyperopt.tpe:TPE using 55/55 trials with best loss -0.921000\n",
      "/Users/michal.bronis/Desktop/nlp/poleval19/venv/lib/python3.8/site-packages/sklearn/svm/_base.py:985: ConvergenceWarning: Liblinear failed to converge, increase the number of iterations.\n",
      "  warnings.warn(\"Liblinear failed to converge, increase \"\n",
      "\n",
      "/Users/michal.bronis/Desktop/nlp/poleval19/venv/lib/python3.8/site-packages/sklearn/svm/_base.py:985: ConvergenceWarning: Liblinear failed to converge, increase the number of iterations.\n",
      "  warnings.warn(\"Liblinear failed to converge, increase \"\n",
      "\n",
      "/Users/michal.bronis/Desktop/nlp/poleval19/venv/lib/python3.8/site-packages/sklearn/svm/_base.py:985: ConvergenceWarning: Liblinear failed to converge, increase the number of iterations.\n",
      "  warnings.warn(\"Liblinear failed to converge, increase \"\n",
      "\n",
      "/Users/michal.bronis/Desktop/nlp/poleval19/venv/lib/python3.8/site-packages/sklearn/svm/_base.py:985: ConvergenceWarning: Liblinear failed to converge, increase the number of iterations.\n",
      "  warnings.warn(\"Liblinear failed to converge, increase \"\n",
      "\n",
      "/Users/michal.bronis/Desktop/nlp/poleval19/venv/lib/python3.8/site-packages/sklearn/svm/_base.py:985: ConvergenceWarning: Liblinear failed to converge, increase the number of iterations.\n",
      "  warnings.warn(\"Liblinear failed to converge, increase \"\n",
      "\n"
     ]
    },
    {
     "name": "stdout",
     "output_type": "stream",
     "text": [
      "\r",
      " 12%|█▏        | 60/500 [06:27<35:24,  4.83s/trial, best loss: -0.921]"
     ]
    },
    {
     "name": "stderr",
     "output_type": "stream",
     "text": [
      "/Users/michal.bronis/Desktop/nlp/poleval19/venv/lib/python3.8/site-packages/sklearn/svm/_base.py:985: ConvergenceWarning: Liblinear failed to converge, increase the number of iterations.\n",
      "  warnings.warn(\"Liblinear failed to converge, increase \"\n",
      "\n",
      "INFO:hyperopt.tpe:build_posterior_wrapper took 0.004601 seconds\n",
      "INFO:hyperopt.tpe:TPE using 60/60 trials with best loss -0.921000\n",
      "INFO:hyperopt.tpe:build_posterior_wrapper took 0.003883 seconds\n",
      "INFO:hyperopt.tpe:TPE using 61/61 trials with best loss -0.921000\n",
      "INFO:hyperopt.tpe:build_posterior_wrapper took 0.004171 seconds\n",
      "INFO:hyperopt.tpe:TPE using 62/62 trials with best loss -0.921000\n",
      "/Users/michal.bronis/Desktop/nlp/poleval19/venv/lib/python3.8/site-packages/sklearn/svm/_base.py:985: ConvergenceWarning: Liblinear failed to converge, increase the number of iterations.\n",
      "  warnings.warn(\"Liblinear failed to converge, increase \"\n",
      "\n",
      "/Users/michal.bronis/Desktop/nlp/poleval19/venv/lib/python3.8/site-packages/sklearn/svm/_base.py:985: ConvergenceWarning: Liblinear failed to converge, increase the number of iterations.\n",
      "  warnings.warn(\"Liblinear failed to converge, increase \"\n",
      "\n",
      "/Users/michal.bronis/Desktop/nlp/poleval19/venv/lib/python3.8/site-packages/sklearn/svm/_base.py:985: ConvergenceWarning: Liblinear failed to converge, increase the number of iterations.\n",
      "  warnings.warn(\"Liblinear failed to converge, increase \"\n",
      "\n",
      "/Users/michal.bronis/Desktop/nlp/poleval19/venv/lib/python3.8/site-packages/sklearn/svm/_base.py:985: ConvergenceWarning: Liblinear failed to converge, increase the number of iterations.\n",
      "  warnings.warn(\"Liblinear failed to converge, increase \"\n",
      "\n",
      "/Users/michal.bronis/Desktop/nlp/poleval19/venv/lib/python3.8/site-packages/sklearn/svm/_base.py:985: ConvergenceWarning: Liblinear failed to converge, increase the number of iterations.\n",
      "  warnings.warn(\"Liblinear failed to converge, increase \"\n",
      "\n",
      "/Users/michal.bronis/Desktop/nlp/poleval19/venv/lib/python3.8/site-packages/sklearn/svm/_base.py:985: ConvergenceWarning: Liblinear failed to converge, increase the number of iterations.\n",
      "  warnings.warn(\"Liblinear failed to converge, increase \"\n",
      "\n",
      "/Users/michal.bronis/Desktop/nlp/poleval19/venv/lib/python3.8/site-packages/sklearn/svm/_base.py:985: ConvergenceWarning: Liblinear failed to converge, increase the number of iterations.\n",
      "  warnings.warn(\"Liblinear failed to converge, increase \"\n",
      "\n",
      "/Users/michal.bronis/Desktop/nlp/poleval19/venv/lib/python3.8/site-packages/sklearn/svm/_base.py:985: ConvergenceWarning: Liblinear failed to converge, increase the number of iterations.\n",
      "  warnings.warn(\"Liblinear failed to converge, increase \"\n",
      "\n",
      "/Users/michal.bronis/Desktop/nlp/poleval19/venv/lib/python3.8/site-packages/sklearn/svm/_base.py:985: ConvergenceWarning: Liblinear failed to converge, increase the number of iterations.\n",
      "  warnings.warn(\"Liblinear failed to converge, increase \"\n",
      "\n",
      "/Users/michal.bronis/Desktop/nlp/poleval19/venv/lib/python3.8/site-packages/sklearn/svm/_base.py:985: ConvergenceWarning: Liblinear failed to converge, increase the number of iterations.\n",
      "  warnings.warn(\"Liblinear failed to converge, increase \"\n",
      "\n",
      "/Users/michal.bronis/Desktop/nlp/poleval19/venv/lib/python3.8/site-packages/sklearn/svm/_base.py:985: ConvergenceWarning: Liblinear failed to converge, increase the number of iterations.\n",
      "  warnings.warn(\"Liblinear failed to converge, increase \"\n",
      "\n",
      "/Users/michal.bronis/Desktop/nlp/poleval19/venv/lib/python3.8/site-packages/sklearn/svm/_base.py:985: ConvergenceWarning: Liblinear failed to converge, increase the number of iterations.\n",
      "  warnings.warn(\"Liblinear failed to converge, increase \"\n",
      "\n"
     ]
    },
    {
     "name": "stdout",
     "output_type": "stream",
     "text": [
      "\r",
      " 14%|█▍        | 70/500 [07:11<33:25,  4.66s/trial, best loss: -0.921]"
     ]
    },
    {
     "name": "stderr",
     "output_type": "stream",
     "text": [
      "INFO:hyperopt.tpe:build_posterior_wrapper took 0.003201 seconds\n",
      "INFO:hyperopt.tpe:TPE using 70/70 trials with best loss -0.921000\n",
      "/Users/michal.bronis/Desktop/nlp/poleval19/venv/lib/python3.8/site-packages/sklearn/svm/_base.py:985: ConvergenceWarning: Liblinear failed to converge, increase the number of iterations.\n",
      "  warnings.warn(\"Liblinear failed to converge, increase \"\n",
      "\n",
      "/Users/michal.bronis/Desktop/nlp/poleval19/venv/lib/python3.8/site-packages/sklearn/svm/_base.py:985: ConvergenceWarning: Liblinear failed to converge, increase the number of iterations.\n",
      "  warnings.warn(\"Liblinear failed to converge, increase \"\n",
      "\n",
      "/Users/michal.bronis/Desktop/nlp/poleval19/venv/lib/python3.8/site-packages/sklearn/svm/_base.py:985: ConvergenceWarning: Liblinear failed to converge, increase the number of iterations.\n",
      "  warnings.warn(\"Liblinear failed to converge, increase \"\n",
      "\n",
      "/Users/michal.bronis/Desktop/nlp/poleval19/venv/lib/python3.8/site-packages/sklearn/svm/_base.py:985: ConvergenceWarning: Liblinear failed to converge, increase the number of iterations.\n",
      "  warnings.warn(\"Liblinear failed to converge, increase \"\n",
      "\n",
      "/Users/michal.bronis/Desktop/nlp/poleval19/venv/lib/python3.8/site-packages/sklearn/svm/_base.py:985: ConvergenceWarning: Liblinear failed to converge, increase the number of iterations.\n",
      "  warnings.warn(\"Liblinear failed to converge, increase \"\n",
      "\n",
      "/Users/michal.bronis/Desktop/nlp/poleval19/venv/lib/python3.8/site-packages/sklearn/svm/_base.py:985: ConvergenceWarning: Liblinear failed to converge, increase the number of iterations.\n",
      "  warnings.warn(\"Liblinear failed to converge, increase \"\n",
      "\n",
      "/Users/michal.bronis/Desktop/nlp/poleval19/venv/lib/python3.8/site-packages/sklearn/svm/_base.py:985: ConvergenceWarning: Liblinear failed to converge, increase the number of iterations.\n",
      "  warnings.warn(\"Liblinear failed to converge, increase \"\n",
      "\n",
      "/Users/michal.bronis/Desktop/nlp/poleval19/venv/lib/python3.8/site-packages/sklearn/svm/_base.py:985: ConvergenceWarning: Liblinear failed to converge, increase the number of iterations.\n",
      "  warnings.warn(\"Liblinear failed to converge, increase \"\n",
      "\n",
      "/Users/michal.bronis/Desktop/nlp/poleval19/venv/lib/python3.8/site-packages/sklearn/svm/_base.py:985: ConvergenceWarning: Liblinear failed to converge, increase the number of iterations.\n",
      "  warnings.warn(\"Liblinear failed to converge, increase \"\n",
      "\n",
      "/Users/michal.bronis/Desktop/nlp/poleval19/venv/lib/python3.8/site-packages/sklearn/svm/_base.py:985: ConvergenceWarning: Liblinear failed to converge, increase the number of iterations.\n",
      "  warnings.warn(\"Liblinear failed to converge, increase \"\n",
      "\n",
      "/Users/michal.bronis/Desktop/nlp/poleval19/venv/lib/python3.8/site-packages/sklearn/svm/_base.py:985: ConvergenceWarning: Liblinear failed to converge, increase the number of iterations.\n",
      "  warnings.warn(\"Liblinear failed to converge, increase \"\n",
      "\n",
      "/Users/michal.bronis/Desktop/nlp/poleval19/venv/lib/python3.8/site-packages/sklearn/svm/_base.py:985: ConvergenceWarning: Liblinear failed to converge, increase the number of iterations.\n",
      "  warnings.warn(\"Liblinear failed to converge, increase \"\n",
      "\n",
      "/Users/michal.bronis/Desktop/nlp/poleval19/venv/lib/python3.8/site-packages/sklearn/svm/_base.py:985: ConvergenceWarning: Liblinear failed to converge, increase the number of iterations.\n",
      "  warnings.warn(\"Liblinear failed to converge, increase \"\n",
      "\n",
      "/Users/michal.bronis/Desktop/nlp/poleval19/venv/lib/python3.8/site-packages/sklearn/svm/_base.py:985: ConvergenceWarning: Liblinear failed to converge, increase the number of iterations.\n",
      "  warnings.warn(\"Liblinear failed to converge, increase \"\n",
      "\n",
      "/Users/michal.bronis/Desktop/nlp/poleval19/venv/lib/python3.8/site-packages/sklearn/svm/_base.py:985: ConvergenceWarning: Liblinear failed to converge, increase the number of iterations.\n",
      "  warnings.warn(\"Liblinear failed to converge, increase \"\n",
      "\n",
      "/Users/michal.bronis/Desktop/nlp/poleval19/venv/lib/python3.8/site-packages/sklearn/svm/_base.py:985: ConvergenceWarning: Liblinear failed to converge, increase the number of iterations.\n",
      "  warnings.warn(\"Liblinear failed to converge, increase \"\n",
      "\n",
      "/Users/michal.bronis/Desktop/nlp/poleval19/venv/lib/python3.8/site-packages/sklearn/svm/_base.py:985: ConvergenceWarning: Liblinear failed to converge, increase the number of iterations.\n",
      "  warnings.warn(\"Liblinear failed to converge, increase \"\n",
      "\n",
      "/Users/michal.bronis/Desktop/nlp/poleval19/venv/lib/python3.8/site-packages/sklearn/svm/_base.py:985: ConvergenceWarning: Liblinear failed to converge, increase the number of iterations.\n",
      "  warnings.warn(\"Liblinear failed to converge, increase \"\n",
      "\n",
      "/Users/michal.bronis/Desktop/nlp/poleval19/venv/lib/python3.8/site-packages/sklearn/svm/_base.py:985: ConvergenceWarning: Liblinear failed to converge, increase the number of iterations.\n",
      "  warnings.warn(\"Liblinear failed to converge, increase \"\n",
      "\n",
      "/Users/michal.bronis/Desktop/nlp/poleval19/venv/lib/python3.8/site-packages/sklearn/svm/_base.py:985: ConvergenceWarning: Liblinear failed to converge, increase the number of iterations.\n",
      "  warnings.warn(\"Liblinear failed to converge, increase \"\n",
      "\n",
      "/Users/michal.bronis/Desktop/nlp/poleval19/venv/lib/python3.8/site-packages/sklearn/svm/_base.py:985: ConvergenceWarning: Liblinear failed to converge, increase the number of iterations.\n",
      "  warnings.warn(\"Liblinear failed to converge, increase \"\n",
      "\n",
      "/Users/michal.bronis/Desktop/nlp/poleval19/venv/lib/python3.8/site-packages/sklearn/svm/_base.py:985: ConvergenceWarning: Liblinear failed to converge, increase the number of iterations.\n",
      "  warnings.warn(\"Liblinear failed to converge, increase \"\n",
      "\n",
      "/Users/michal.bronis/Desktop/nlp/poleval19/venv/lib/python3.8/site-packages/sklearn/svm/_base.py:985: ConvergenceWarning: Liblinear failed to converge, increase the number of iterations.\n",
      "  warnings.warn(\"Liblinear failed to converge, increase \"\n",
      "\n"
     ]
    },
    {
     "name": "stdout",
     "output_type": "stream",
     "text": [
      "\r",
      " 16%|█▌        | 80/500 [08:58<46:17,  6.61s/trial, best loss: -0.921]"
     ]
    },
    {
     "name": "stderr",
     "output_type": "stream",
     "text": [
      "/Users/michal.bronis/Desktop/nlp/poleval19/venv/lib/python3.8/site-packages/sklearn/svm/_base.py:985: ConvergenceWarning: Liblinear failed to converge, increase the number of iterations.\n",
      "  warnings.warn(\"Liblinear failed to converge, increase \"\n",
      "\n",
      "INFO:hyperopt.tpe:build_posterior_wrapper took 0.002965 seconds\n",
      "INFO:hyperopt.tpe:TPE using 80/80 trials with best loss -0.921000\n",
      "/Users/michal.bronis/Desktop/nlp/poleval19/venv/lib/python3.8/site-packages/sklearn/svm/_base.py:985: ConvergenceWarning: Liblinear failed to converge, increase the number of iterations.\n",
      "  warnings.warn(\"Liblinear failed to converge, increase \"\n",
      "\n",
      "/Users/michal.bronis/Desktop/nlp/poleval19/venv/lib/python3.8/site-packages/sklearn/svm/_base.py:985: ConvergenceWarning: Liblinear failed to converge, increase the number of iterations.\n",
      "  warnings.warn(\"Liblinear failed to converge, increase \"\n",
      "\n",
      "/Users/michal.bronis/Desktop/nlp/poleval19/venv/lib/python3.8/site-packages/sklearn/svm/_base.py:985: ConvergenceWarning: Liblinear failed to converge, increase the number of iterations.\n",
      "  warnings.warn(\"Liblinear failed to converge, increase \"\n",
      "\n",
      "/Users/michal.bronis/Desktop/nlp/poleval19/venv/lib/python3.8/site-packages/sklearn/svm/_base.py:985: ConvergenceWarning: Liblinear failed to converge, increase the number of iterations.\n",
      "  warnings.warn(\"Liblinear failed to converge, increase \"\n",
      "\n",
      "/Users/michal.bronis/Desktop/nlp/poleval19/venv/lib/python3.8/site-packages/sklearn/svm/_base.py:985: ConvergenceWarning: Liblinear failed to converge, increase the number of iterations.\n",
      "  warnings.warn(\"Liblinear failed to converge, increase \"\n",
      "\n",
      "/Users/michal.bronis/Desktop/nlp/poleval19/venv/lib/python3.8/site-packages/sklearn/svm/_base.py:985: ConvergenceWarning: Liblinear failed to converge, increase the number of iterations.\n",
      "  warnings.warn(\"Liblinear failed to converge, increase \"\n",
      "\n",
      "/Users/michal.bronis/Desktop/nlp/poleval19/venv/lib/python3.8/site-packages/sklearn/svm/_base.py:985: ConvergenceWarning: Liblinear failed to converge, increase the number of iterations.\n",
      "  warnings.warn(\"Liblinear failed to converge, increase \"\n",
      "\n",
      "/Users/michal.bronis/Desktop/nlp/poleval19/venv/lib/python3.8/site-packages/sklearn/svm/_base.py:985: ConvergenceWarning: Liblinear failed to converge, increase the number of iterations.\n",
      "  warnings.warn(\"Liblinear failed to converge, increase \"\n",
      "\n",
      "/Users/michal.bronis/Desktop/nlp/poleval19/venv/lib/python3.8/site-packages/sklearn/svm/_base.py:985: ConvergenceWarning: Liblinear failed to converge, increase the number of iterations.\n",
      "  warnings.warn(\"Liblinear failed to converge, increase \"\n",
      "\n",
      "/Users/michal.bronis/Desktop/nlp/poleval19/venv/lib/python3.8/site-packages/sklearn/svm/_base.py:985: ConvergenceWarning: Liblinear failed to converge, increase the number of iterations.\n",
      "  warnings.warn(\"Liblinear failed to converge, increase \"\n",
      "\n",
      "/Users/michal.bronis/Desktop/nlp/poleval19/venv/lib/python3.8/site-packages/sklearn/svm/_base.py:985: ConvergenceWarning: Liblinear failed to converge, increase the number of iterations.\n",
      "  warnings.warn(\"Liblinear failed to converge, increase \"\n",
      "\n",
      "/Users/michal.bronis/Desktop/nlp/poleval19/venv/lib/python3.8/site-packages/sklearn/svm/_base.py:985: ConvergenceWarning: Liblinear failed to converge, increase the number of iterations.\n",
      "  warnings.warn(\"Liblinear failed to converge, increase \"\n",
      "\n",
      "/Users/michal.bronis/Desktop/nlp/poleval19/venv/lib/python3.8/site-packages/sklearn/svm/_base.py:985: ConvergenceWarning: Liblinear failed to converge, increase the number of iterations.\n",
      "  warnings.warn(\"Liblinear failed to converge, increase \"\n",
      "\n",
      "/Users/michal.bronis/Desktop/nlp/poleval19/venv/lib/python3.8/site-packages/sklearn/svm/_base.py:985: ConvergenceWarning: Liblinear failed to converge, increase the number of iterations.\n",
      "  warnings.warn(\"Liblinear failed to converge, increase \"\n",
      "\n",
      "/Users/michal.bronis/Desktop/nlp/poleval19/venv/lib/python3.8/site-packages/sklearn/svm/_base.py:985: ConvergenceWarning: Liblinear failed to converge, increase the number of iterations.\n",
      "  warnings.warn(\"Liblinear failed to converge, increase \"\n",
      "\n",
      "/Users/michal.bronis/Desktop/nlp/poleval19/venv/lib/python3.8/site-packages/sklearn/svm/_base.py:985: ConvergenceWarning: Liblinear failed to converge, increase the number of iterations.\n",
      "  warnings.warn(\"Liblinear failed to converge, increase \"\n",
      "\n",
      "/Users/michal.bronis/Desktop/nlp/poleval19/venv/lib/python3.8/site-packages/sklearn/svm/_base.py:985: ConvergenceWarning: Liblinear failed to converge, increase the number of iterations.\n",
      "  warnings.warn(\"Liblinear failed to converge, increase \"\n",
      "\n",
      "/Users/michal.bronis/Desktop/nlp/poleval19/venv/lib/python3.8/site-packages/sklearn/svm/_base.py:985: ConvergenceWarning: Liblinear failed to converge, increase the number of iterations.\n",
      "  warnings.warn(\"Liblinear failed to converge, increase \"\n",
      "\n"
     ]
    },
    {
     "name": "stdout",
     "output_type": "stream",
     "text": [
      "\r",
      " 18%|█▊        | 90/500 [09:44<40:48,  5.97s/trial, best loss: -0.9213600000000001]"
     ]
    },
    {
     "name": "stderr",
     "output_type": "stream",
     "text": [
      "INFO:hyperopt.tpe:build_posterior_wrapper took 0.003909 seconds\n",
      "INFO:hyperopt.tpe:TPE using 90/90 trials with best loss -0.921360\n",
      "INFO:hyperopt.tpe:build_posterior_wrapper took 0.005189 seconds\n",
      "INFO:hyperopt.tpe:TPE using 91/91 trials with best loss -0.921360\n",
      "INFO:hyperopt.tpe:build_posterior_wrapper took 0.003609 seconds\n",
      "INFO:hyperopt.tpe:TPE using 92/92 trials with best loss -0.921360\n",
      "INFO:hyperopt.tpe:build_posterior_wrapper took 0.003923 seconds\n",
      "INFO:hyperopt.tpe:TPE using 93/93 trials with best loss -0.921360\n",
      "INFO:hyperopt.tpe:build_posterior_wrapper took 0.003142 seconds\n",
      "INFO:hyperopt.tpe:TPE using 94/94 trials with best loss -0.921360\n",
      "INFO:hyperopt.tpe:build_posterior_wrapper took 0.002933 seconds\n",
      "INFO:hyperopt.tpe:TPE using 95/95 trials with best loss -0.921360\n",
      "/Users/michal.bronis/Desktop/nlp/poleval19/venv/lib/python3.8/site-packages/sklearn/svm/_base.py:985: ConvergenceWarning: Liblinear failed to converge, increase the number of iterations.\n",
      "  warnings.warn(\"Liblinear failed to converge, increase \"\n",
      "\n",
      "/Users/michal.bronis/Desktop/nlp/poleval19/venv/lib/python3.8/site-packages/sklearn/svm/_base.py:985: ConvergenceWarning: Liblinear failed to converge, increase the number of iterations.\n",
      "  warnings.warn(\"Liblinear failed to converge, increase \"\n",
      "\n",
      "/Users/michal.bronis/Desktop/nlp/poleval19/venv/lib/python3.8/site-packages/sklearn/svm/_base.py:985: ConvergenceWarning: Liblinear failed to converge, increase the number of iterations.\n",
      "  warnings.warn(\"Liblinear failed to converge, increase \"\n",
      "\n",
      "/Users/michal.bronis/Desktop/nlp/poleval19/venv/lib/python3.8/site-packages/sklearn/svm/_base.py:985: ConvergenceWarning: Liblinear failed to converge, increase the number of iterations.\n",
      "  warnings.warn(\"Liblinear failed to converge, increase \"\n",
      "\n",
      "/Users/michal.bronis/Desktop/nlp/poleval19/venv/lib/python3.8/site-packages/sklearn/svm/_base.py:985: ConvergenceWarning: Liblinear failed to converge, increase the number of iterations.\n",
      "  warnings.warn(\"Liblinear failed to converge, increase \"\n",
      "\n",
      "/Users/michal.bronis/Desktop/nlp/poleval19/venv/lib/python3.8/site-packages/sklearn/svm/_base.py:985: ConvergenceWarning: Liblinear failed to converge, increase the number of iterations.\n",
      "  warnings.warn(\"Liblinear failed to converge, increase \"\n",
      "\n",
      "/Users/michal.bronis/Desktop/nlp/poleval19/venv/lib/python3.8/site-packages/sklearn/svm/_base.py:985: ConvergenceWarning: Liblinear failed to converge, increase the number of iterations.\n",
      "  warnings.warn(\"Liblinear failed to converge, increase \"\n",
      "\n",
      "/Users/michal.bronis/Desktop/nlp/poleval19/venv/lib/python3.8/site-packages/sklearn/svm/_base.py:985: ConvergenceWarning: Liblinear failed to converge, increase the number of iterations.\n",
      "  warnings.warn(\"Liblinear failed to converge, increase \"\n",
      "\n",
      "/Users/michal.bronis/Desktop/nlp/poleval19/venv/lib/python3.8/site-packages/sklearn/svm/_base.py:985: ConvergenceWarning: Liblinear failed to converge, increase the number of iterations.\n",
      "  warnings.warn(\"Liblinear failed to converge, increase \"\n",
      "\n",
      "/Users/michal.bronis/Desktop/nlp/poleval19/venv/lib/python3.8/site-packages/sklearn/svm/_base.py:985: ConvergenceWarning: Liblinear failed to converge, increase the number of iterations.\n",
      "  warnings.warn(\"Liblinear failed to converge, increase \"\n",
      "\n",
      "/Users/michal.bronis/Desktop/nlp/poleval19/venv/lib/python3.8/site-packages/sklearn/svm/_base.py:985: ConvergenceWarning: Liblinear failed to converge, increase the number of iterations.\n",
      "  warnings.warn(\"Liblinear failed to converge, increase \"\n",
      "\n",
      "/Users/michal.bronis/Desktop/nlp/poleval19/venv/lib/python3.8/site-packages/sklearn/svm/_base.py:985: ConvergenceWarning: Liblinear failed to converge, increase the number of iterations.\n",
      "  warnings.warn(\"Liblinear failed to converge, increase \"\n",
      "\n",
      "/Users/michal.bronis/Desktop/nlp/poleval19/venv/lib/python3.8/site-packages/sklearn/svm/_base.py:985: ConvergenceWarning: Liblinear failed to converge, increase the number of iterations.\n",
      "  warnings.warn(\"Liblinear failed to converge, increase \"\n",
      "\n",
      "/Users/michal.bronis/Desktop/nlp/poleval19/venv/lib/python3.8/site-packages/sklearn/svm/_base.py:985: ConvergenceWarning: Liblinear failed to converge, increase the number of iterations.\n",
      "  warnings.warn(\"Liblinear failed to converge, increase \"\n",
      "\n",
      "/Users/michal.bronis/Desktop/nlp/poleval19/venv/lib/python3.8/site-packages/sklearn/svm/_base.py:985: ConvergenceWarning: Liblinear failed to converge, increase the number of iterations.\n",
      "  warnings.warn(\"Liblinear failed to converge, increase \"\n",
      "\n",
      "/Users/michal.bronis/Desktop/nlp/poleval19/venv/lib/python3.8/site-packages/sklearn/svm/_base.py:985: ConvergenceWarning: Liblinear failed to converge, increase the number of iterations.\n",
      "  warnings.warn(\"Liblinear failed to converge, increase \"\n",
      "\n",
      "/Users/michal.bronis/Desktop/nlp/poleval19/venv/lib/python3.8/site-packages/sklearn/svm/_base.py:985: ConvergenceWarning: Liblinear failed to converge, increase the number of iterations.\n",
      "  warnings.warn(\"Liblinear failed to converge, increase \"\n",
      "\n",
      "/Users/michal.bronis/Desktop/nlp/poleval19/venv/lib/python3.8/site-packages/sklearn/svm/_base.py:985: ConvergenceWarning: Liblinear failed to converge, increase the number of iterations.\n",
      "  warnings.warn(\"Liblinear failed to converge, increase \"\n",
      "\n"
     ]
    },
    {
     "name": "stdout",
     "output_type": "stream",
     "text": [
      "\r",
      " 20%|██        | 100/500 [10:45<40:00,  6.00s/trial, best loss: -0.92144]          "
     ]
    },
    {
     "name": "stderr",
     "output_type": "stream",
     "text": [
      "INFO:hyperopt.tpe:build_posterior_wrapper took 0.002871 seconds\n",
      "INFO:hyperopt.tpe:TPE using 100/100 trials with best loss -0.921440\n",
      "INFO:hyperopt.tpe:build_posterior_wrapper took 0.005674 seconds\n",
      "INFO:hyperopt.tpe:TPE using 101/101 trials with best loss -0.921440\n",
      "INFO:hyperopt.tpe:build_posterior_wrapper took 0.003104 seconds\n",
      "INFO:hyperopt.tpe:TPE using 102/102 trials with best loss -0.921440\n",
      "INFO:hyperopt.tpe:build_posterior_wrapper took 0.003020 seconds\n",
      "INFO:hyperopt.tpe:TPE using 103/103 trials with best loss -0.921440\n",
      "INFO:hyperopt.tpe:build_posterior_wrapper took 0.058162 seconds\n",
      "INFO:hyperopt.tpe:TPE using 104/104 trials with best loss -0.921440\n",
      "INFO:hyperopt.tpe:build_posterior_wrapper took 0.003117 seconds\n",
      "INFO:hyperopt.tpe:TPE using 105/105 trials with best loss -0.921440\n",
      "/Users/michal.bronis/Desktop/nlp/poleval19/venv/lib/python3.8/site-packages/sklearn/svm/_base.py:985: ConvergenceWarning: Liblinear failed to converge, increase the number of iterations.\n",
      "  warnings.warn(\"Liblinear failed to converge, increase \"\n",
      "\n",
      "/Users/michal.bronis/Desktop/nlp/poleval19/venv/lib/python3.8/site-packages/sklearn/svm/_base.py:985: ConvergenceWarning: Liblinear failed to converge, increase the number of iterations.\n",
      "  warnings.warn(\"Liblinear failed to converge, increase \"\n",
      "\n",
      "/Users/michal.bronis/Desktop/nlp/poleval19/venv/lib/python3.8/site-packages/sklearn/svm/_base.py:985: ConvergenceWarning: Liblinear failed to converge, increase the number of iterations.\n",
      "  warnings.warn(\"Liblinear failed to converge, increase \"\n",
      "\n",
      "/Users/michal.bronis/Desktop/nlp/poleval19/venv/lib/python3.8/site-packages/sklearn/svm/_base.py:985: ConvergenceWarning: Liblinear failed to converge, increase the number of iterations.\n",
      "  warnings.warn(\"Liblinear failed to converge, increase \"\n",
      "\n",
      "/Users/michal.bronis/Desktop/nlp/poleval19/venv/lib/python3.8/site-packages/sklearn/svm/_base.py:985: ConvergenceWarning: Liblinear failed to converge, increase the number of iterations.\n",
      "  warnings.warn(\"Liblinear failed to converge, increase \"\n",
      "\n",
      "/Users/michal.bronis/Desktop/nlp/poleval19/venv/lib/python3.8/site-packages/sklearn/svm/_base.py:985: ConvergenceWarning: Liblinear failed to converge, increase the number of iterations.\n",
      "  warnings.warn(\"Liblinear failed to converge, increase \"\n",
      "\n",
      "/Users/michal.bronis/Desktop/nlp/poleval19/venv/lib/python3.8/site-packages/sklearn/svm/_base.py:985: ConvergenceWarning: Liblinear failed to converge, increase the number of iterations.\n",
      "  warnings.warn(\"Liblinear failed to converge, increase \"\n",
      "\n",
      "/Users/michal.bronis/Desktop/nlp/poleval19/venv/lib/python3.8/site-packages/sklearn/svm/_base.py:985: ConvergenceWarning: Liblinear failed to converge, increase the number of iterations.\n",
      "  warnings.warn(\"Liblinear failed to converge, increase \"\n",
      "\n",
      "/Users/michal.bronis/Desktop/nlp/poleval19/venv/lib/python3.8/site-packages/sklearn/svm/_base.py:985: ConvergenceWarning: Liblinear failed to converge, increase the number of iterations.\n",
      "  warnings.warn(\"Liblinear failed to converge, increase \"\n",
      "\n",
      "/Users/michal.bronis/Desktop/nlp/poleval19/venv/lib/python3.8/site-packages/sklearn/svm/_base.py:985: ConvergenceWarning: Liblinear failed to converge, increase the number of iterations.\n",
      "  warnings.warn(\"Liblinear failed to converge, increase \"\n",
      "\n",
      "/Users/michal.bronis/Desktop/nlp/poleval19/venv/lib/python3.8/site-packages/sklearn/svm/_base.py:985: ConvergenceWarning: Liblinear failed to converge, increase the number of iterations.\n",
      "  warnings.warn(\"Liblinear failed to converge, increase \"\n",
      "\n",
      "/Users/michal.bronis/Desktop/nlp/poleval19/venv/lib/python3.8/site-packages/sklearn/svm/_base.py:985: ConvergenceWarning: Liblinear failed to converge, increase the number of iterations.\n",
      "  warnings.warn(\"Liblinear failed to converge, increase \"\n",
      "\n",
      "/Users/michal.bronis/Desktop/nlp/poleval19/venv/lib/python3.8/site-packages/sklearn/svm/_base.py:985: ConvergenceWarning: Liblinear failed to converge, increase the number of iterations.\n",
      "  warnings.warn(\"Liblinear failed to converge, increase \"\n",
      "\n",
      "/Users/michal.bronis/Desktop/nlp/poleval19/venv/lib/python3.8/site-packages/sklearn/svm/_base.py:985: ConvergenceWarning: Liblinear failed to converge, increase the number of iterations.\n",
      "  warnings.warn(\"Liblinear failed to converge, increase \"\n",
      "\n",
      "/Users/michal.bronis/Desktop/nlp/poleval19/venv/lib/python3.8/site-packages/sklearn/svm/_base.py:985: ConvergenceWarning: Liblinear failed to converge, increase the number of iterations.\n",
      "  warnings.warn(\"Liblinear failed to converge, increase \"\n",
      "\n",
      "/Users/michal.bronis/Desktop/nlp/poleval19/venv/lib/python3.8/site-packages/sklearn/svm/_base.py:985: ConvergenceWarning: Liblinear failed to converge, increase the number of iterations.\n",
      "  warnings.warn(\"Liblinear failed to converge, increase \"\n",
      "\n",
      "/Users/michal.bronis/Desktop/nlp/poleval19/venv/lib/python3.8/site-packages/sklearn/svm/_base.py:985: ConvergenceWarning: Liblinear failed to converge, increase the number of iterations.\n",
      "  warnings.warn(\"Liblinear failed to converge, increase \"\n",
      "\n"
     ]
    },
    {
     "name": "stdout",
     "output_type": "stream",
     "text": [
      "\r",
      " 22%|██▏       | 110/500 [11:33<36:41,  5.64s/trial, best loss: -0.92144]"
     ]
    },
    {
     "name": "stderr",
     "output_type": "stream",
     "text": [
      "/Users/michal.bronis/Desktop/nlp/poleval19/venv/lib/python3.8/site-packages/sklearn/svm/_base.py:985: ConvergenceWarning: Liblinear failed to converge, increase the number of iterations.\n",
      "  warnings.warn(\"Liblinear failed to converge, increase \"\n",
      "\n",
      "INFO:hyperopt.tpe:build_posterior_wrapper took 0.002917 seconds\n",
      "INFO:hyperopt.tpe:TPE using 110/110 trials with best loss -0.921440\n",
      "INFO:hyperopt.tpe:build_posterior_wrapper took 0.003050 seconds\n",
      "INFO:hyperopt.tpe:TPE using 111/111 trials with best loss -0.921440\n",
      "INFO:hyperopt.tpe:build_posterior_wrapper took 0.003000 seconds\n",
      "INFO:hyperopt.tpe:TPE using 112/112 trials with best loss -0.921440\n",
      "/Users/michal.bronis/Desktop/nlp/poleval19/venv/lib/python3.8/site-packages/sklearn/svm/_base.py:985: ConvergenceWarning: Liblinear failed to converge, increase the number of iterations.\n",
      "  warnings.warn(\"Liblinear failed to converge, increase \"\n",
      "\n",
      "/Users/michal.bronis/Desktop/nlp/poleval19/venv/lib/python3.8/site-packages/sklearn/svm/_base.py:985: ConvergenceWarning: Liblinear failed to converge, increase the number of iterations.\n",
      "  warnings.warn(\"Liblinear failed to converge, increase \"\n",
      "\n",
      "/Users/michal.bronis/Desktop/nlp/poleval19/venv/lib/python3.8/site-packages/sklearn/svm/_base.py:985: ConvergenceWarning: Liblinear failed to converge, increase the number of iterations.\n",
      "  warnings.warn(\"Liblinear failed to converge, increase \"\n",
      "\n",
      "/Users/michal.bronis/Desktop/nlp/poleval19/venv/lib/python3.8/site-packages/sklearn/svm/_base.py:985: ConvergenceWarning: Liblinear failed to converge, increase the number of iterations.\n",
      "  warnings.warn(\"Liblinear failed to converge, increase \"\n",
      "\n",
      "/Users/michal.bronis/Desktop/nlp/poleval19/venv/lib/python3.8/site-packages/sklearn/svm/_base.py:985: ConvergenceWarning: Liblinear failed to converge, increase the number of iterations.\n",
      "  warnings.warn(\"Liblinear failed to converge, increase \"\n",
      "\n",
      "/Users/michal.bronis/Desktop/nlp/poleval19/venv/lib/python3.8/site-packages/sklearn/svm/_base.py:985: ConvergenceWarning: Liblinear failed to converge, increase the number of iterations.\n",
      "  warnings.warn(\"Liblinear failed to converge, increase \"\n",
      "\n"
     ]
    },
    {
     "name": "stdout",
     "output_type": "stream",
     "text": [
      "\r",
      " 24%|██▍       | 120/500 [11:59<29:54,  4.72s/trial, best loss: -0.92144]"
     ]
    },
    {
     "name": "stderr",
     "output_type": "stream",
     "text": [
      "INFO:hyperopt.tpe:build_posterior_wrapper took 0.002976 seconds\n",
      "INFO:hyperopt.tpe:TPE using 120/120 trials with best loss -0.921440\n",
      "INFO:hyperopt.tpe:build_posterior_wrapper took 0.003896 seconds\n",
      "INFO:hyperopt.tpe:TPE using 121/121 trials with best loss -0.921440\n",
      "INFO:hyperopt.tpe:build_posterior_wrapper took 0.002824 seconds\n",
      "INFO:hyperopt.tpe:TPE using 122/122 trials with best loss -0.921440\n",
      "INFO:hyperopt.tpe:build_posterior_wrapper took 0.003766 seconds\n",
      "INFO:hyperopt.tpe:TPE using 123/123 trials with best loss -0.921440\n",
      "INFO:hyperopt.tpe:build_posterior_wrapper took 0.003033 seconds\n",
      "INFO:hyperopt.tpe:TPE using 124/124 trials with best loss -0.921440\n",
      "INFO:hyperopt.tpe:build_posterior_wrapper took 0.003444 seconds\n",
      "INFO:hyperopt.tpe:TPE using 125/125 trials with best loss -0.921440\n",
      "INFO:hyperopt.tpe:build_posterior_wrapper took 0.003293 seconds\n",
      "INFO:hyperopt.tpe:TPE using 126/126 trials with best loss -0.921440\n",
      "INFO:hyperopt.tpe:build_posterior_wrapper took 0.003008 seconds\n",
      "INFO:hyperopt.tpe:TPE using 127/127 trials with best loss -0.921440\n",
      "INFO:hyperopt.tpe:build_posterior_wrapper took 0.003461 seconds\n",
      "INFO:hyperopt.tpe:TPE using 128/128 trials with best loss -0.921440\n",
      "INFO:hyperopt.tpe:build_posterior_wrapper took 0.003980 seconds\n",
      "INFO:hyperopt.tpe:TPE using 129/129 trials with best loss -0.921440\n"
     ]
    },
    {
     "name": "stdout",
     "output_type": "stream",
     "text": [
      "\r",
      " 26%|██▌       | 130/500 [12:16<23:27,  3.80s/trial, best loss: -0.92144]"
     ]
    },
    {
     "name": "stderr",
     "output_type": "stream",
     "text": [
      "INFO:hyperopt.tpe:build_posterior_wrapper took 0.003552 seconds\n",
      "INFO:hyperopt.tpe:TPE using 130/130 trials with best loss -0.921440\n",
      "INFO:hyperopt.tpe:build_posterior_wrapper took 0.004600 seconds\n",
      "INFO:hyperopt.tpe:TPE using 131/131 trials with best loss -0.921440\n",
      "INFO:hyperopt.tpe:build_posterior_wrapper took 0.002918 seconds\n",
      "INFO:hyperopt.tpe:TPE using 132/132 trials with best loss -0.921440\n",
      "INFO:hyperopt.tpe:build_posterior_wrapper took 0.003424 seconds\n",
      "INFO:hyperopt.tpe:TPE using 133/133 trials with best loss -0.921440\n"
     ]
    },
    {
     "name": "stdout",
     "output_type": "stream",
     "text": [
      "\r",
      " 28%|██▊       | 140/500 [12:33<18:57,  3.16s/trial, best loss: -0.92144]"
     ]
    },
    {
     "name": "stderr",
     "output_type": "stream",
     "text": [
      "INFO:hyperopt.tpe:build_posterior_wrapper took 0.004301 seconds\n",
      "INFO:hyperopt.tpe:TPE using 140/140 trials with best loss -0.921440\n",
      "INFO:hyperopt.tpe:build_posterior_wrapper took 0.002872 seconds\n",
      "INFO:hyperopt.tpe:TPE using 141/141 trials with best loss -0.921440\n",
      "/Users/michal.bronis/Desktop/nlp/poleval19/venv/lib/python3.8/site-packages/sklearn/svm/_base.py:985: ConvergenceWarning: Liblinear failed to converge, increase the number of iterations.\n",
      "  warnings.warn(\"Liblinear failed to converge, increase \"\n",
      "\n",
      "/Users/michal.bronis/Desktop/nlp/poleval19/venv/lib/python3.8/site-packages/sklearn/svm/_base.py:985: ConvergenceWarning: Liblinear failed to converge, increase the number of iterations.\n",
      "  warnings.warn(\"Liblinear failed to converge, increase \"\n",
      "\n",
      "/Users/michal.bronis/Desktop/nlp/poleval19/venv/lib/python3.8/site-packages/sklearn/svm/_base.py:985: ConvergenceWarning: Liblinear failed to converge, increase the number of iterations.\n",
      "  warnings.warn(\"Liblinear failed to converge, increase \"\n",
      "\n",
      "/Users/michal.bronis/Desktop/nlp/poleval19/venv/lib/python3.8/site-packages/sklearn/svm/_base.py:985: ConvergenceWarning: Liblinear failed to converge, increase the number of iterations.\n",
      "  warnings.warn(\"Liblinear failed to converge, increase \"\n",
      "\n",
      "/Users/michal.bronis/Desktop/nlp/poleval19/venv/lib/python3.8/site-packages/sklearn/svm/_base.py:985: ConvergenceWarning: Liblinear failed to converge, increase the number of iterations.\n",
      "  warnings.warn(\"Liblinear failed to converge, increase \"\n",
      "\n",
      "/Users/michal.bronis/Desktop/nlp/poleval19/venv/lib/python3.8/site-packages/sklearn/svm/_base.py:985: ConvergenceWarning: Liblinear failed to converge, increase the number of iterations.\n",
      "  warnings.warn(\"Liblinear failed to converge, increase \"\n",
      "\n",
      "/Users/michal.bronis/Desktop/nlp/poleval19/venv/lib/python3.8/site-packages/sklearn/svm/_base.py:985: ConvergenceWarning: Liblinear failed to converge, increase the number of iterations.\n",
      "  warnings.warn(\"Liblinear failed to converge, increase \"\n",
      "\n",
      "/Users/michal.bronis/Desktop/nlp/poleval19/venv/lib/python3.8/site-packages/sklearn/svm/_base.py:985: ConvergenceWarning: Liblinear failed to converge, increase the number of iterations.\n",
      "  warnings.warn(\"Liblinear failed to converge, increase \"\n",
      "\n",
      "/Users/michal.bronis/Desktop/nlp/poleval19/venv/lib/python3.8/site-packages/sklearn/svm/_base.py:985: ConvergenceWarning: Liblinear failed to converge, increase the number of iterations.\n",
      "  warnings.warn(\"Liblinear failed to converge, increase \"\n",
      "\n",
      "/Users/michal.bronis/Desktop/nlp/poleval19/venv/lib/python3.8/site-packages/sklearn/svm/_base.py:985: ConvergenceWarning: Liblinear failed to converge, increase the number of iterations.\n",
      "  warnings.warn(\"Liblinear failed to converge, increase \"\n",
      "\n",
      "/Users/michal.bronis/Desktop/nlp/poleval19/venv/lib/python3.8/site-packages/sklearn/svm/_base.py:985: ConvergenceWarning: Liblinear failed to converge, increase the number of iterations.\n",
      "  warnings.warn(\"Liblinear failed to converge, increase \"\n",
      "\n"
     ]
    },
    {
     "name": "stdout",
     "output_type": "stream",
     "text": [
      "\r",
      " 30%|███       | 150/500 [13:26<22:10,  3.80s/trial, best loss: -0.92144]"
     ]
    },
    {
     "name": "stderr",
     "output_type": "stream",
     "text": [
      "/Users/michal.bronis/Desktop/nlp/poleval19/venv/lib/python3.8/site-packages/sklearn/svm/_base.py:985: ConvergenceWarning: Liblinear failed to converge, increase the number of iterations.\n",
      "  warnings.warn(\"Liblinear failed to converge, increase \"\n",
      "\n",
      "INFO:hyperopt.tpe:build_posterior_wrapper took 0.003125 seconds\n",
      "INFO:hyperopt.tpe:TPE using 150/150 trials with best loss -0.921440\n",
      "INFO:hyperopt.tpe:build_posterior_wrapper took 0.003493 seconds\n",
      "INFO:hyperopt.tpe:TPE using 151/151 trials with best loss -0.921440\n",
      "INFO:hyperopt.tpe:build_posterior_wrapper took 0.004617 seconds\n",
      "INFO:hyperopt.tpe:TPE using 152/152 trials with best loss -0.921440\n",
      "INFO:hyperopt.tpe:build_posterior_wrapper took 0.004445 seconds\n",
      "INFO:hyperopt.tpe:TPE using 153/153 trials with best loss -0.921440\n",
      "/Users/michal.bronis/Desktop/nlp/poleval19/venv/lib/python3.8/site-packages/sklearn/svm/_base.py:985: ConvergenceWarning: Liblinear failed to converge, increase the number of iterations.\n",
      "  warnings.warn(\"Liblinear failed to converge, increase \"\n",
      "\n",
      "/Users/michal.bronis/Desktop/nlp/poleval19/venv/lib/python3.8/site-packages/sklearn/svm/_base.py:985: ConvergenceWarning: Liblinear failed to converge, increase the number of iterations.\n",
      "  warnings.warn(\"Liblinear failed to converge, increase \"\n",
      "\n",
      "/Users/michal.bronis/Desktop/nlp/poleval19/venv/lib/python3.8/site-packages/sklearn/svm/_base.py:985: ConvergenceWarning: Liblinear failed to converge, increase the number of iterations.\n",
      "  warnings.warn(\"Liblinear failed to converge, increase \"\n",
      "\n",
      "/Users/michal.bronis/Desktop/nlp/poleval19/venv/lib/python3.8/site-packages/sklearn/svm/_base.py:985: ConvergenceWarning: Liblinear failed to converge, increase the number of iterations.\n",
      "  warnings.warn(\"Liblinear failed to converge, increase \"\n",
      "\n",
      "/Users/michal.bronis/Desktop/nlp/poleval19/venv/lib/python3.8/site-packages/sklearn/svm/_base.py:985: ConvergenceWarning: Liblinear failed to converge, increase the number of iterations.\n",
      "  warnings.warn(\"Liblinear failed to converge, increase \"\n",
      "\n",
      "/Users/michal.bronis/Desktop/nlp/poleval19/venv/lib/python3.8/site-packages/sklearn/svm/_base.py:985: ConvergenceWarning: Liblinear failed to converge, increase the number of iterations.\n",
      "  warnings.warn(\"Liblinear failed to converge, increase \"\n",
      "\n",
      "/Users/michal.bronis/Desktop/nlp/poleval19/venv/lib/python3.8/site-packages/sklearn/svm/_base.py:985: ConvergenceWarning: Liblinear failed to converge, increase the number of iterations.\n",
      "  warnings.warn(\"Liblinear failed to converge, increase \"\n",
      "\n",
      "/Users/michal.bronis/Desktop/nlp/poleval19/venv/lib/python3.8/site-packages/sklearn/svm/_base.py:985: ConvergenceWarning: Liblinear failed to converge, increase the number of iterations.\n",
      "  warnings.warn(\"Liblinear failed to converge, increase \"\n",
      "\n",
      "/Users/michal.bronis/Desktop/nlp/poleval19/venv/lib/python3.8/site-packages/sklearn/svm/_base.py:985: ConvergenceWarning: Liblinear failed to converge, increase the number of iterations.\n",
      "  warnings.warn(\"Liblinear failed to converge, increase \"\n",
      "\n",
      "/Users/michal.bronis/Desktop/nlp/poleval19/venv/lib/python3.8/site-packages/sklearn/svm/_base.py:985: ConvergenceWarning: Liblinear failed to converge, increase the number of iterations.\n",
      "  warnings.warn(\"Liblinear failed to converge, increase \"\n",
      "\n",
      "/Users/michal.bronis/Desktop/nlp/poleval19/venv/lib/python3.8/site-packages/sklearn/svm/_base.py:985: ConvergenceWarning: Liblinear failed to converge, increase the number of iterations.\n",
      "  warnings.warn(\"Liblinear failed to converge, increase \"\n",
      "\n"
     ]
    },
    {
     "name": "stdout",
     "output_type": "stream",
     "text": [
      "\r",
      " 32%|███▏      | 160/500 [14:37<27:14,  4.81s/trial, best loss: -0.92144]"
     ]
    },
    {
     "name": "stderr",
     "output_type": "stream",
     "text": [
      "/Users/michal.bronis/Desktop/nlp/poleval19/venv/lib/python3.8/site-packages/sklearn/svm/_base.py:985: ConvergenceWarning: Liblinear failed to converge, increase the number of iterations.\n",
      "  warnings.warn(\"Liblinear failed to converge, increase \"\n",
      "\n",
      "INFO:hyperopt.tpe:build_posterior_wrapper took 0.003112 seconds\n",
      "INFO:hyperopt.tpe:TPE using 160/160 trials with best loss -0.921440\n",
      "/Users/michal.bronis/Desktop/nlp/poleval19/venv/lib/python3.8/site-packages/sklearn/svm/_base.py:985: ConvergenceWarning: Liblinear failed to converge, increase the number of iterations.\n",
      "  warnings.warn(\"Liblinear failed to converge, increase \"\n",
      "\n",
      "/Users/michal.bronis/Desktop/nlp/poleval19/venv/lib/python3.8/site-packages/sklearn/svm/_base.py:985: ConvergenceWarning: Liblinear failed to converge, increase the number of iterations.\n",
      "  warnings.warn(\"Liblinear failed to converge, increase \"\n",
      "\n",
      "/Users/michal.bronis/Desktop/nlp/poleval19/venv/lib/python3.8/site-packages/sklearn/svm/_base.py:985: ConvergenceWarning: Liblinear failed to converge, increase the number of iterations.\n",
      "  warnings.warn(\"Liblinear failed to converge, increase \"\n",
      "\n",
      "/Users/michal.bronis/Desktop/nlp/poleval19/venv/lib/python3.8/site-packages/sklearn/svm/_base.py:985: ConvergenceWarning: Liblinear failed to converge, increase the number of iterations.\n",
      "  warnings.warn(\"Liblinear failed to converge, increase \"\n",
      "\n",
      "/Users/michal.bronis/Desktop/nlp/poleval19/venv/lib/python3.8/site-packages/sklearn/svm/_base.py:985: ConvergenceWarning: Liblinear failed to converge, increase the number of iterations.\n",
      "  warnings.warn(\"Liblinear failed to converge, increase \"\n",
      "\n",
      "/Users/michal.bronis/Desktop/nlp/poleval19/venv/lib/python3.8/site-packages/sklearn/svm/_base.py:985: ConvergenceWarning: Liblinear failed to converge, increase the number of iterations.\n",
      "  warnings.warn(\"Liblinear failed to converge, increase \"\n",
      "\n",
      "/Users/michal.bronis/Desktop/nlp/poleval19/venv/lib/python3.8/site-packages/sklearn/svm/_base.py:985: ConvergenceWarning: Liblinear failed to converge, increase the number of iterations.\n",
      "  warnings.warn(\"Liblinear failed to converge, increase \"\n",
      "\n",
      "/Users/michal.bronis/Desktop/nlp/poleval19/venv/lib/python3.8/site-packages/sklearn/svm/_base.py:985: ConvergenceWarning: Liblinear failed to converge, increase the number of iterations.\n",
      "  warnings.warn(\"Liblinear failed to converge, increase \"\n",
      "\n",
      "/Users/michal.bronis/Desktop/nlp/poleval19/venv/lib/python3.8/site-packages/sklearn/svm/_base.py:985: ConvergenceWarning: Liblinear failed to converge, increase the number of iterations.\n",
      "  warnings.warn(\"Liblinear failed to converge, increase \"\n",
      "\n",
      "/Users/michal.bronis/Desktop/nlp/poleval19/venv/lib/python3.8/site-packages/sklearn/svm/_base.py:985: ConvergenceWarning: Liblinear failed to converge, increase the number of iterations.\n",
      "  warnings.warn(\"Liblinear failed to converge, increase \"\n",
      "\n",
      "/Users/michal.bronis/Desktop/nlp/poleval19/venv/lib/python3.8/site-packages/sklearn/svm/_base.py:985: ConvergenceWarning: Liblinear failed to converge, increase the number of iterations.\n",
      "  warnings.warn(\"Liblinear failed to converge, increase \"\n",
      "\n",
      "/Users/michal.bronis/Desktop/nlp/poleval19/venv/lib/python3.8/site-packages/sklearn/svm/_base.py:985: ConvergenceWarning: Liblinear failed to converge, increase the number of iterations.\n",
      "  warnings.warn(\"Liblinear failed to converge, increase \"\n",
      "\n",
      "/Users/michal.bronis/Desktop/nlp/poleval19/venv/lib/python3.8/site-packages/sklearn/svm/_base.py:985: ConvergenceWarning: Liblinear failed to converge, increase the number of iterations.\n",
      "  warnings.warn(\"Liblinear failed to converge, increase \"\n",
      "\n",
      "/Users/michal.bronis/Desktop/nlp/poleval19/venv/lib/python3.8/site-packages/sklearn/svm/_base.py:985: ConvergenceWarning: Liblinear failed to converge, increase the number of iterations.\n",
      "  warnings.warn(\"Liblinear failed to converge, increase \"\n",
      "\n",
      "/Users/michal.bronis/Desktop/nlp/poleval19/venv/lib/python3.8/site-packages/sklearn/svm/_base.py:985: ConvergenceWarning: Liblinear failed to converge, increase the number of iterations.\n",
      "  warnings.warn(\"Liblinear failed to converge, increase \"\n",
      "\n",
      "/Users/michal.bronis/Desktop/nlp/poleval19/venv/lib/python3.8/site-packages/sklearn/svm/_base.py:985: ConvergenceWarning: Liblinear failed to converge, increase the number of iterations.\n",
      "  warnings.warn(\"Liblinear failed to converge, increase \"\n",
      "\n",
      "/Users/michal.bronis/Desktop/nlp/poleval19/venv/lib/python3.8/site-packages/sklearn/svm/_base.py:985: ConvergenceWarning: Liblinear failed to converge, increase the number of iterations.\n",
      "  warnings.warn(\"Liblinear failed to converge, increase \"\n",
      "\n",
      "/Users/michal.bronis/Desktop/nlp/poleval19/venv/lib/python3.8/site-packages/sklearn/svm/_base.py:985: ConvergenceWarning: Liblinear failed to converge, increase the number of iterations.\n",
      "  warnings.warn(\"Liblinear failed to converge, increase \"\n",
      "\n"
     ]
    },
    {
     "name": "stdout",
     "output_type": "stream",
     "text": [
      "\r",
      " 34%|███▍      | 170/500 [15:29<27:04,  4.92s/trial, best loss: -0.92144]"
     ]
    },
    {
     "name": "stderr",
     "output_type": "stream",
     "text": [
      "INFO:hyperopt.tpe:build_posterior_wrapper took 0.003355 seconds\n",
      "INFO:hyperopt.tpe:TPE using 170/170 trials with best loss -0.921440\n",
      "/Users/michal.bronis/Desktop/nlp/poleval19/venv/lib/python3.8/site-packages/sklearn/svm/_base.py:985: ConvergenceWarning: Liblinear failed to converge, increase the number of iterations.\n",
      "  warnings.warn(\"Liblinear failed to converge, increase \"\n",
      "\n",
      "/Users/michal.bronis/Desktop/nlp/poleval19/venv/lib/python3.8/site-packages/sklearn/svm/_base.py:985: ConvergenceWarning: Liblinear failed to converge, increase the number of iterations.\n",
      "  warnings.warn(\"Liblinear failed to converge, increase \"\n",
      "\n",
      "/Users/michal.bronis/Desktop/nlp/poleval19/venv/lib/python3.8/site-packages/sklearn/svm/_base.py:985: ConvergenceWarning: Liblinear failed to converge, increase the number of iterations.\n",
      "  warnings.warn(\"Liblinear failed to converge, increase \"\n",
      "\n",
      "/Users/michal.bronis/Desktop/nlp/poleval19/venv/lib/python3.8/site-packages/sklearn/svm/_base.py:985: ConvergenceWarning: Liblinear failed to converge, increase the number of iterations.\n",
      "  warnings.warn(\"Liblinear failed to converge, increase \"\n",
      "\n",
      "/Users/michal.bronis/Desktop/nlp/poleval19/venv/lib/python3.8/site-packages/sklearn/svm/_base.py:985: ConvergenceWarning: Liblinear failed to converge, increase the number of iterations.\n",
      "  warnings.warn(\"Liblinear failed to converge, increase \"\n",
      "\n",
      "/Users/michal.bronis/Desktop/nlp/poleval19/venv/lib/python3.8/site-packages/sklearn/svm/_base.py:985: ConvergenceWarning: Liblinear failed to converge, increase the number of iterations.\n",
      "  warnings.warn(\"Liblinear failed to converge, increase \"\n",
      "\n",
      "/Users/michal.bronis/Desktop/nlp/poleval19/venv/lib/python3.8/site-packages/sklearn/svm/_base.py:985: ConvergenceWarning: Liblinear failed to converge, increase the number of iterations.\n",
      "  warnings.warn(\"Liblinear failed to converge, increase \"\n",
      "\n",
      "/Users/michal.bronis/Desktop/nlp/poleval19/venv/lib/python3.8/site-packages/sklearn/svm/_base.py:985: ConvergenceWarning: Liblinear failed to converge, increase the number of iterations.\n",
      "  warnings.warn(\"Liblinear failed to converge, increase \"\n",
      "\n",
      "/Users/michal.bronis/Desktop/nlp/poleval19/venv/lib/python3.8/site-packages/sklearn/svm/_base.py:985: ConvergenceWarning: Liblinear failed to converge, increase the number of iterations.\n",
      "  warnings.warn(\"Liblinear failed to converge, increase \"\n",
      "\n",
      "/Users/michal.bronis/Desktop/nlp/poleval19/venv/lib/python3.8/site-packages/sklearn/svm/_base.py:985: ConvergenceWarning: Liblinear failed to converge, increase the number of iterations.\n",
      "  warnings.warn(\"Liblinear failed to converge, increase \"\n",
      "\n",
      "/Users/michal.bronis/Desktop/nlp/poleval19/venv/lib/python3.8/site-packages/sklearn/svm/_base.py:985: ConvergenceWarning: Liblinear failed to converge, increase the number of iterations.\n",
      "  warnings.warn(\"Liblinear failed to converge, increase \"\n",
      "\n",
      "/Users/michal.bronis/Desktop/nlp/poleval19/venv/lib/python3.8/site-packages/sklearn/svm/_base.py:985: ConvergenceWarning: Liblinear failed to converge, increase the number of iterations.\n",
      "  warnings.warn(\"Liblinear failed to converge, increase \"\n",
      "\n",
      "/Users/michal.bronis/Desktop/nlp/poleval19/venv/lib/python3.8/site-packages/sklearn/svm/_base.py:985: ConvergenceWarning: Liblinear failed to converge, increase the number of iterations.\n",
      "  warnings.warn(\"Liblinear failed to converge, increase \"\n",
      "\n",
      "/Users/michal.bronis/Desktop/nlp/poleval19/venv/lib/python3.8/site-packages/sklearn/svm/_base.py:985: ConvergenceWarning: Liblinear failed to converge, increase the number of iterations.\n",
      "  warnings.warn(\"Liblinear failed to converge, increase \"\n",
      "\n",
      "/Users/michal.bronis/Desktop/nlp/poleval19/venv/lib/python3.8/site-packages/sklearn/svm/_base.py:985: ConvergenceWarning: Liblinear failed to converge, increase the number of iterations.\n",
      "  warnings.warn(\"Liblinear failed to converge, increase \"\n",
      "\n",
      "/Users/michal.bronis/Desktop/nlp/poleval19/venv/lib/python3.8/site-packages/sklearn/svm/_base.py:985: ConvergenceWarning: Liblinear failed to converge, increase the number of iterations.\n",
      "  warnings.warn(\"Liblinear failed to converge, increase \"\n",
      "\n",
      "/Users/michal.bronis/Desktop/nlp/poleval19/venv/lib/python3.8/site-packages/sklearn/svm/_base.py:985: ConvergenceWarning: Liblinear failed to converge, increase the number of iterations.\n",
      "  warnings.warn(\"Liblinear failed to converge, increase \"\n",
      "\n",
      "/Users/michal.bronis/Desktop/nlp/poleval19/venv/lib/python3.8/site-packages/sklearn/svm/_base.py:985: ConvergenceWarning: Liblinear failed to converge, increase the number of iterations.\n",
      "  warnings.warn(\"Liblinear failed to converge, increase \"\n",
      "\n",
      "/Users/michal.bronis/Desktop/nlp/poleval19/venv/lib/python3.8/site-packages/sklearn/svm/_base.py:985: ConvergenceWarning: Liblinear failed to converge, increase the number of iterations.\n",
      "  warnings.warn(\"Liblinear failed to converge, increase \"\n",
      "\n",
      "/Users/michal.bronis/Desktop/nlp/poleval19/venv/lib/python3.8/site-packages/sklearn/svm/_base.py:985: ConvergenceWarning: Liblinear failed to converge, increase the number of iterations.\n",
      "  warnings.warn(\"Liblinear failed to converge, increase \"\n",
      "\n",
      "/Users/michal.bronis/Desktop/nlp/poleval19/venv/lib/python3.8/site-packages/sklearn/svm/_base.py:985: ConvergenceWarning: Liblinear failed to converge, increase the number of iterations.\n",
      "  warnings.warn(\"Liblinear failed to converge, increase \"\n",
      "\n",
      "/Users/michal.bronis/Desktop/nlp/poleval19/venv/lib/python3.8/site-packages/sklearn/svm/_base.py:985: ConvergenceWarning: Liblinear failed to converge, increase the number of iterations.\n",
      "  warnings.warn(\"Liblinear failed to converge, increase \"\n",
      "\n",
      "/Users/michal.bronis/Desktop/nlp/poleval19/venv/lib/python3.8/site-packages/sklearn/svm/_base.py:985: ConvergenceWarning: Liblinear failed to converge, increase the number of iterations.\n",
      "  warnings.warn(\"Liblinear failed to converge, increase \"\n",
      "\n",
      "/Users/michal.bronis/Desktop/nlp/poleval19/venv/lib/python3.8/site-packages/sklearn/svm/_base.py:985: ConvergenceWarning: Liblinear failed to converge, increase the number of iterations.\n",
      "  warnings.warn(\"Liblinear failed to converge, increase \"\n",
      "\n",
      "/Users/michal.bronis/Desktop/nlp/poleval19/venv/lib/python3.8/site-packages/sklearn/svm/_base.py:985: ConvergenceWarning: Liblinear failed to converge, increase the number of iterations.\n",
      "  warnings.warn(\"Liblinear failed to converge, increase \"\n",
      "\n",
      "/Users/michal.bronis/Desktop/nlp/poleval19/venv/lib/python3.8/site-packages/sklearn/svm/_base.py:985: ConvergenceWarning: Liblinear failed to converge, increase the number of iterations.\n",
      "  warnings.warn(\"Liblinear failed to converge, increase \"\n",
      "\n",
      "/Users/michal.bronis/Desktop/nlp/poleval19/venv/lib/python3.8/site-packages/sklearn/svm/_base.py:985: ConvergenceWarning: Liblinear failed to converge, increase the number of iterations.\n",
      "  warnings.warn(\"Liblinear failed to converge, increase \"\n",
      "\n",
      "/Users/michal.bronis/Desktop/nlp/poleval19/venv/lib/python3.8/site-packages/sklearn/svm/_base.py:985: ConvergenceWarning: Liblinear failed to converge, increase the number of iterations.\n",
      "  warnings.warn(\"Liblinear failed to converge, increase \"\n",
      "\n",
      "/Users/michal.bronis/Desktop/nlp/poleval19/venv/lib/python3.8/site-packages/sklearn/svm/_base.py:985: ConvergenceWarning: Liblinear failed to converge, increase the number of iterations.\n",
      "  warnings.warn(\"Liblinear failed to converge, increase \"\n",
      "\n"
     ]
    },
    {
     "name": "stdout",
     "output_type": "stream",
     "text": [
      "\r",
      " 36%|███▌      | 180/500 [17:11<34:42,  6.51s/trial, best loss: -0.92144]"
     ]
    },
    {
     "name": "stderr",
     "output_type": "stream",
     "text": [
      "/Users/michal.bronis/Desktop/nlp/poleval19/venv/lib/python3.8/site-packages/sklearn/svm/_base.py:985: ConvergenceWarning: Liblinear failed to converge, increase the number of iterations.\n",
      "  warnings.warn(\"Liblinear failed to converge, increase \"\n",
      "\n"
     ]
    },
    {
     "name": "stdout",
     "output_type": "stream",
     "text": [
      "\r",
      " 38%|███▊      | 190/500 [17:29<26:17,  5.09s/trial, best loss: -0.92144]"
     ]
    },
    {
     "name": "stderr",
     "output_type": "stream",
     "text": [
      "/Users/michal.bronis/Desktop/nlp/poleval19/venv/lib/python3.8/site-packages/sklearn/svm/_base.py:985: ConvergenceWarning: Liblinear failed to converge, increase the number of iterations.\n",
      "  warnings.warn(\"Liblinear failed to converge, increase \"\n",
      "\n",
      "/Users/michal.bronis/Desktop/nlp/poleval19/venv/lib/python3.8/site-packages/sklearn/svm/_base.py:985: ConvergenceWarning: Liblinear failed to converge, increase the number of iterations.\n",
      "  warnings.warn(\"Liblinear failed to converge, increase \"\n",
      "\n",
      "/Users/michal.bronis/Desktop/nlp/poleval19/venv/lib/python3.8/site-packages/sklearn/svm/_base.py:985: ConvergenceWarning: Liblinear failed to converge, increase the number of iterations.\n",
      "  warnings.warn(\"Liblinear failed to converge, increase \"\n",
      "\n",
      "/Users/michal.bronis/Desktop/nlp/poleval19/venv/lib/python3.8/site-packages/sklearn/svm/_base.py:985: ConvergenceWarning: Liblinear failed to converge, increase the number of iterations.\n",
      "  warnings.warn(\"Liblinear failed to converge, increase \"\n",
      "\n",
      "/Users/michal.bronis/Desktop/nlp/poleval19/venv/lib/python3.8/site-packages/sklearn/svm/_base.py:985: ConvergenceWarning: Liblinear failed to converge, increase the number of iterations.\n",
      "  warnings.warn(\"Liblinear failed to converge, increase \"\n",
      "\n",
      "/Users/michal.bronis/Desktop/nlp/poleval19/venv/lib/python3.8/site-packages/sklearn/svm/_base.py:985: ConvergenceWarning: Liblinear failed to converge, increase the number of iterations.\n",
      "  warnings.warn(\"Liblinear failed to converge, increase \"\n",
      "\n",
      "/Users/michal.bronis/Desktop/nlp/poleval19/venv/lib/python3.8/site-packages/sklearn/svm/_base.py:985: ConvergenceWarning: Liblinear failed to converge, increase the number of iterations.\n",
      "  warnings.warn(\"Liblinear failed to converge, increase \"\n",
      "\n",
      "/Users/michal.bronis/Desktop/nlp/poleval19/venv/lib/python3.8/site-packages/sklearn/svm/_base.py:985: ConvergenceWarning: Liblinear failed to converge, increase the number of iterations.\n",
      "  warnings.warn(\"Liblinear failed to converge, increase \"\n",
      "\n",
      "/Users/michal.bronis/Desktop/nlp/poleval19/venv/lib/python3.8/site-packages/sklearn/svm/_base.py:985: ConvergenceWarning: Liblinear failed to converge, increase the number of iterations.\n",
      "  warnings.warn(\"Liblinear failed to converge, increase \"\n",
      "\n",
      "/Users/michal.bronis/Desktop/nlp/poleval19/venv/lib/python3.8/site-packages/sklearn/svm/_base.py:985: ConvergenceWarning: Liblinear failed to converge, increase the number of iterations.\n",
      "  warnings.warn(\"Liblinear failed to converge, increase \"\n",
      "\n",
      "/Users/michal.bronis/Desktop/nlp/poleval19/venv/lib/python3.8/site-packages/sklearn/svm/_base.py:985: ConvergenceWarning: Liblinear failed to converge, increase the number of iterations.\n",
      "  warnings.warn(\"Liblinear failed to converge, increase \"\n",
      "\n",
      "/Users/michal.bronis/Desktop/nlp/poleval19/venv/lib/python3.8/site-packages/sklearn/svm/_base.py:985: ConvergenceWarning: Liblinear failed to converge, increase the number of iterations.\n",
      "  warnings.warn(\"Liblinear failed to converge, increase \"\n",
      "\n",
      "/Users/michal.bronis/Desktop/nlp/poleval19/venv/lib/python3.8/site-packages/sklearn/svm/_base.py:985: ConvergenceWarning: Liblinear failed to converge, increase the number of iterations.\n",
      "  warnings.warn(\"Liblinear failed to converge, increase \"\n",
      "\n",
      "/Users/michal.bronis/Desktop/nlp/poleval19/venv/lib/python3.8/site-packages/sklearn/svm/_base.py:985: ConvergenceWarning: Liblinear failed to converge, increase the number of iterations.\n",
      "  warnings.warn(\"Liblinear failed to converge, increase \"\n",
      "\n",
      "/Users/michal.bronis/Desktop/nlp/poleval19/venv/lib/python3.8/site-packages/sklearn/svm/_base.py:985: ConvergenceWarning: Liblinear failed to converge, increase the number of iterations.\n",
      "  warnings.warn(\"Liblinear failed to converge, increase \"\n",
      "\n",
      "/Users/michal.bronis/Desktop/nlp/poleval19/venv/lib/python3.8/site-packages/sklearn/svm/_base.py:985: ConvergenceWarning: Liblinear failed to converge, increase the number of iterations.\n",
      "  warnings.warn(\"Liblinear failed to converge, increase \"\n",
      "\n",
      "/Users/michal.bronis/Desktop/nlp/poleval19/venv/lib/python3.8/site-packages/sklearn/svm/_base.py:985: ConvergenceWarning: Liblinear failed to converge, increase the number of iterations.\n",
      "  warnings.warn(\"Liblinear failed to converge, increase \"\n",
      "\n",
      "/Users/michal.bronis/Desktop/nlp/poleval19/venv/lib/python3.8/site-packages/sklearn/svm/_base.py:985: ConvergenceWarning: Liblinear failed to converge, increase the number of iterations.\n",
      "  warnings.warn(\"Liblinear failed to converge, increase \"\n",
      "\n",
      "/Users/michal.bronis/Desktop/nlp/poleval19/venv/lib/python3.8/site-packages/sklearn/svm/_base.py:985: ConvergenceWarning: Liblinear failed to converge, increase the number of iterations.\n",
      "  warnings.warn(\"Liblinear failed to converge, increase \"\n",
      "\n",
      "/Users/michal.bronis/Desktop/nlp/poleval19/venv/lib/python3.8/site-packages/sklearn/svm/_base.py:985: ConvergenceWarning: Liblinear failed to converge, increase the number of iterations.\n",
      "  warnings.warn(\"Liblinear failed to converge, increase \"\n",
      "\n",
      "/Users/michal.bronis/Desktop/nlp/poleval19/venv/lib/python3.8/site-packages/sklearn/svm/_base.py:985: ConvergenceWarning: Liblinear failed to converge, increase the number of iterations.\n",
      "  warnings.warn(\"Liblinear failed to converge, increase \"\n",
      "\n",
      "/Users/michal.bronis/Desktop/nlp/poleval19/venv/lib/python3.8/site-packages/sklearn/svm/_base.py:985: ConvergenceWarning: Liblinear failed to converge, increase the number of iterations.\n",
      "  warnings.warn(\"Liblinear failed to converge, increase \"\n",
      "\n",
      "/Users/michal.bronis/Desktop/nlp/poleval19/venv/lib/python3.8/site-packages/sklearn/svm/_base.py:985: ConvergenceWarning: Liblinear failed to converge, increase the number of iterations.\n",
      "  warnings.warn(\"Liblinear failed to converge, increase \"\n",
      "\n",
      "/Users/michal.bronis/Desktop/nlp/poleval19/venv/lib/python3.8/site-packages/sklearn/svm/_base.py:985: ConvergenceWarning: Liblinear failed to converge, increase the number of iterations.\n",
      "  warnings.warn(\"Liblinear failed to converge, increase \"\n",
      "\n",
      "/Users/michal.bronis/Desktop/nlp/poleval19/venv/lib/python3.8/site-packages/sklearn/svm/_base.py:985: ConvergenceWarning: Liblinear failed to converge, increase the number of iterations.\n",
      "  warnings.warn(\"Liblinear failed to converge, increase \"\n",
      "\n",
      "/Users/michal.bronis/Desktop/nlp/poleval19/venv/lib/python3.8/site-packages/sklearn/svm/_base.py:985: ConvergenceWarning: Liblinear failed to converge, increase the number of iterations.\n",
      "  warnings.warn(\"Liblinear failed to converge, increase \"\n",
      "\n",
      "/Users/michal.bronis/Desktop/nlp/poleval19/venv/lib/python3.8/site-packages/sklearn/svm/_base.py:985: ConvergenceWarning: Liblinear failed to converge, increase the number of iterations.\n",
      "  warnings.warn(\"Liblinear failed to converge, increase \"\n",
      "\n",
      "/Users/michal.bronis/Desktop/nlp/poleval19/venv/lib/python3.8/site-packages/sklearn/svm/_base.py:985: ConvergenceWarning: Liblinear failed to converge, increase the number of iterations.\n",
      "  warnings.warn(\"Liblinear failed to converge, increase \"\n",
      "\n",
      "/Users/michal.bronis/Desktop/nlp/poleval19/venv/lib/python3.8/site-packages/sklearn/svm/_base.py:985: ConvergenceWarning: Liblinear failed to converge, increase the number of iterations.\n",
      "  warnings.warn(\"Liblinear failed to converge, increase \"\n",
      "\n",
      "/Users/michal.bronis/Desktop/nlp/poleval19/venv/lib/python3.8/site-packages/sklearn/svm/_base.py:985: ConvergenceWarning: Liblinear failed to converge, increase the number of iterations.\n",
      "  warnings.warn(\"Liblinear failed to converge, increase \"\n",
      "\n",
      "/Users/michal.bronis/Desktop/nlp/poleval19/venv/lib/python3.8/site-packages/sklearn/svm/_base.py:985: ConvergenceWarning: Liblinear failed to converge, increase the number of iterations.\n",
      "  warnings.warn(\"Liblinear failed to converge, increase \"\n",
      "\n",
      "/Users/michal.bronis/Desktop/nlp/poleval19/venv/lib/python3.8/site-packages/sklearn/svm/_base.py:985: ConvergenceWarning: Liblinear failed to converge, increase the number of iterations.\n",
      "  warnings.warn(\"Liblinear failed to converge, increase \"\n",
      "\n",
      "/Users/michal.bronis/Desktop/nlp/poleval19/venv/lib/python3.8/site-packages/sklearn/svm/_base.py:985: ConvergenceWarning: Liblinear failed to converge, increase the number of iterations.\n",
      "  warnings.warn(\"Liblinear failed to converge, increase \"\n",
      "\n",
      "/Users/michal.bronis/Desktop/nlp/poleval19/venv/lib/python3.8/site-packages/sklearn/svm/_base.py:985: ConvergenceWarning: Liblinear failed to converge, increase the number of iterations.\n",
      "  warnings.warn(\"Liblinear failed to converge, increase \"\n",
      "\n"
     ]
    },
    {
     "name": "stderr",
     "output_type": "stream",
     "text": [
      "/Users/michal.bronis/Desktop/nlp/poleval19/venv/lib/python3.8/site-packages/sklearn/svm/_base.py:985: ConvergenceWarning: Liblinear failed to converge, increase the number of iterations.\n",
      "  warnings.warn(\"Liblinear failed to converge, increase \"\n",
      "\n"
     ]
    },
    {
     "name": "stdout",
     "output_type": "stream",
     "text": [
      "\r",
      " 40%|████      | 200/500 [19:37<37:06,  7.42s/trial, best loss: -0.92144]"
     ]
    },
    {
     "name": "stderr",
     "output_type": "stream",
     "text": [
      "/Users/michal.bronis/Desktop/nlp/poleval19/venv/lib/python3.8/site-packages/sklearn/svm/_base.py:985: ConvergenceWarning: Liblinear failed to converge, increase the number of iterations.\n",
      "  warnings.warn(\"Liblinear failed to converge, increase \"\n",
      "\n",
      "INFO:hyperopt.tpe:build_posterior_wrapper took 0.002976 seconds\n",
      "INFO:hyperopt.tpe:TPE using 200/200 trials with best loss -0.921440\n",
      "/Users/michal.bronis/Desktop/nlp/poleval19/venv/lib/python3.8/site-packages/sklearn/svm/_base.py:985: ConvergenceWarning: Liblinear failed to converge, increase the number of iterations.\n",
      "  warnings.warn(\"Liblinear failed to converge, increase \"\n",
      "\n",
      "/Users/michal.bronis/Desktop/nlp/poleval19/venv/lib/python3.8/site-packages/sklearn/svm/_base.py:985: ConvergenceWarning: Liblinear failed to converge, increase the number of iterations.\n",
      "  warnings.warn(\"Liblinear failed to converge, increase \"\n",
      "\n",
      "/Users/michal.bronis/Desktop/nlp/poleval19/venv/lib/python3.8/site-packages/sklearn/svm/_base.py:985: ConvergenceWarning: Liblinear failed to converge, increase the number of iterations.\n",
      "  warnings.warn(\"Liblinear failed to converge, increase \"\n",
      "\n",
      "/Users/michal.bronis/Desktop/nlp/poleval19/venv/lib/python3.8/site-packages/sklearn/svm/_base.py:985: ConvergenceWarning: Liblinear failed to converge, increase the number of iterations.\n",
      "  warnings.warn(\"Liblinear failed to converge, increase \"\n",
      "\n",
      "/Users/michal.bronis/Desktop/nlp/poleval19/venv/lib/python3.8/site-packages/sklearn/svm/_base.py:985: ConvergenceWarning: Liblinear failed to converge, increase the number of iterations.\n",
      "  warnings.warn(\"Liblinear failed to converge, increase \"\n",
      "\n",
      "/Users/michal.bronis/Desktop/nlp/poleval19/venv/lib/python3.8/site-packages/sklearn/svm/_base.py:985: ConvergenceWarning: Liblinear failed to converge, increase the number of iterations.\n",
      "  warnings.warn(\"Liblinear failed to converge, increase \"\n",
      "\n",
      "/Users/michal.bronis/Desktop/nlp/poleval19/venv/lib/python3.8/site-packages/sklearn/svm/_base.py:985: ConvergenceWarning: Liblinear failed to converge, increase the number of iterations.\n",
      "  warnings.warn(\"Liblinear failed to converge, increase \"\n",
      "\n",
      "/Users/michal.bronis/Desktop/nlp/poleval19/venv/lib/python3.8/site-packages/sklearn/svm/_base.py:985: ConvergenceWarning: Liblinear failed to converge, increase the number of iterations.\n",
      "  warnings.warn(\"Liblinear failed to converge, increase \"\n",
      "\n",
      "/Users/michal.bronis/Desktop/nlp/poleval19/venv/lib/python3.8/site-packages/sklearn/svm/_base.py:985: ConvergenceWarning: Liblinear failed to converge, increase the number of iterations.\n",
      "  warnings.warn(\"Liblinear failed to converge, increase \"\n",
      "\n",
      "/Users/michal.bronis/Desktop/nlp/poleval19/venv/lib/python3.8/site-packages/sklearn/svm/_base.py:985: ConvergenceWarning: Liblinear failed to converge, increase the number of iterations.\n",
      "  warnings.warn(\"Liblinear failed to converge, increase \"\n",
      "\n",
      "/Users/michal.bronis/Desktop/nlp/poleval19/venv/lib/python3.8/site-packages/sklearn/svm/_base.py:985: ConvergenceWarning: Liblinear failed to converge, increase the number of iterations.\n",
      "  warnings.warn(\"Liblinear failed to converge, increase \"\n",
      "\n",
      "/Users/michal.bronis/Desktop/nlp/poleval19/venv/lib/python3.8/site-packages/sklearn/svm/_base.py:985: ConvergenceWarning: Liblinear failed to converge, increase the number of iterations.\n",
      "  warnings.warn(\"Liblinear failed to converge, increase \"\n",
      "\n",
      "/Users/michal.bronis/Desktop/nlp/poleval19/venv/lib/python3.8/site-packages/sklearn/svm/_base.py:985: ConvergenceWarning: Liblinear failed to converge, increase the number of iterations.\n",
      "  warnings.warn(\"Liblinear failed to converge, increase \"\n",
      "\n",
      "/Users/michal.bronis/Desktop/nlp/poleval19/venv/lib/python3.8/site-packages/sklearn/svm/_base.py:985: ConvergenceWarning: Liblinear failed to converge, increase the number of iterations.\n",
      "  warnings.warn(\"Liblinear failed to converge, increase \"\n",
      "\n",
      "/Users/michal.bronis/Desktop/nlp/poleval19/venv/lib/python3.8/site-packages/sklearn/svm/_base.py:985: ConvergenceWarning: Liblinear failed to converge, increase the number of iterations.\n",
      "  warnings.warn(\"Liblinear failed to converge, increase \"\n",
      "\n",
      "/Users/michal.bronis/Desktop/nlp/poleval19/venv/lib/python3.8/site-packages/sklearn/svm/_base.py:985: ConvergenceWarning: Liblinear failed to converge, increase the number of iterations.\n",
      "  warnings.warn(\"Liblinear failed to converge, increase \"\n",
      "\n",
      "/Users/michal.bronis/Desktop/nlp/poleval19/venv/lib/python3.8/site-packages/sklearn/svm/_base.py:985: ConvergenceWarning: Liblinear failed to converge, increase the number of iterations.\n",
      "  warnings.warn(\"Liblinear failed to converge, increase \"\n",
      "\n",
      "/Users/michal.bronis/Desktop/nlp/poleval19/venv/lib/python3.8/site-packages/sklearn/svm/_base.py:985: ConvergenceWarning: Liblinear failed to converge, increase the number of iterations.\n",
      "  warnings.warn(\"Liblinear failed to converge, increase \"\n",
      "\n",
      "/Users/michal.bronis/Desktop/nlp/poleval19/venv/lib/python3.8/site-packages/sklearn/svm/_base.py:985: ConvergenceWarning: Liblinear failed to converge, increase the number of iterations.\n",
      "  warnings.warn(\"Liblinear failed to converge, increase \"\n",
      "\n",
      "/Users/michal.bronis/Desktop/nlp/poleval19/venv/lib/python3.8/site-packages/sklearn/svm/_base.py:985: ConvergenceWarning: Liblinear failed to converge, increase the number of iterations.\n",
      "  warnings.warn(\"Liblinear failed to converge, increase \"\n",
      "\n",
      "/Users/michal.bronis/Desktop/nlp/poleval19/venv/lib/python3.8/site-packages/sklearn/svm/_base.py:985: ConvergenceWarning: Liblinear failed to converge, increase the number of iterations.\n",
      "  warnings.warn(\"Liblinear failed to converge, increase \"\n",
      "\n",
      "/Users/michal.bronis/Desktop/nlp/poleval19/venv/lib/python3.8/site-packages/sklearn/svm/_base.py:985: ConvergenceWarning: Liblinear failed to converge, increase the number of iterations.\n",
      "  warnings.warn(\"Liblinear failed to converge, increase \"\n",
      "\n",
      "/Users/michal.bronis/Desktop/nlp/poleval19/venv/lib/python3.8/site-packages/sklearn/svm/_base.py:985: ConvergenceWarning: Liblinear failed to converge, increase the number of iterations.\n",
      "  warnings.warn(\"Liblinear failed to converge, increase \"\n",
      "\n",
      "/Users/michal.bronis/Desktop/nlp/poleval19/venv/lib/python3.8/site-packages/sklearn/svm/_base.py:985: ConvergenceWarning: Liblinear failed to converge, increase the number of iterations.\n",
      "  warnings.warn(\"Liblinear failed to converge, increase \"\n",
      "\n"
     ]
    },
    {
     "name": "stdout",
     "output_type": "stream",
     "text": [
      "\r",
      " 42%|████▏     | 210/500 [21:17<39:36,  8.19s/trial, best loss: -0.92144]"
     ]
    },
    {
     "name": "stderr",
     "output_type": "stream",
     "text": [
      "INFO:hyperopt.tpe:build_posterior_wrapper took 0.003591 seconds\n",
      "INFO:hyperopt.tpe:TPE using 210/210 trials with best loss -0.921440\n",
      "INFO:hyperopt.tpe:build_posterior_wrapper took 0.004860 seconds\n",
      "INFO:hyperopt.tpe:TPE using 211/211 trials with best loss -0.921440\n",
      "INFO:hyperopt.tpe:build_posterior_wrapper took 0.002843 seconds\n",
      "INFO:hyperopt.tpe:TPE using 212/212 trials with best loss -0.921440\n",
      "INFO:hyperopt.tpe:build_posterior_wrapper took 0.004797 seconds\n",
      "INFO:hyperopt.tpe:TPE using 213/213 trials with best loss -0.921440\n",
      "INFO:hyperopt.tpe:build_posterior_wrapper took 0.003566 seconds\n",
      "INFO:hyperopt.tpe:TPE using 214/214 trials with best loss -0.921440\n",
      "INFO:hyperopt.tpe:build_posterior_wrapper took 0.004394 seconds\n",
      "INFO:hyperopt.tpe:TPE using 215/215 trials with best loss -0.921440\n",
      "INFO:hyperopt.tpe:build_posterior_wrapper took 0.003687 seconds\n",
      "INFO:hyperopt.tpe:TPE using 216/216 trials with best loss -0.921440\n",
      "/Users/michal.bronis/Desktop/nlp/poleval19/venv/lib/python3.8/site-packages/sklearn/svm/_base.py:985: ConvergenceWarning: Liblinear failed to converge, increase the number of iterations.\n",
      "  warnings.warn(\"Liblinear failed to converge, increase \"\n",
      "\n",
      "/Users/michal.bronis/Desktop/nlp/poleval19/venv/lib/python3.8/site-packages/sklearn/svm/_base.py:985: ConvergenceWarning: Liblinear failed to converge, increase the number of iterations.\n",
      "  warnings.warn(\"Liblinear failed to converge, increase \"\n",
      "\n",
      "/Users/michal.bronis/Desktop/nlp/poleval19/venv/lib/python3.8/site-packages/sklearn/svm/_base.py:985: ConvergenceWarning: Liblinear failed to converge, increase the number of iterations.\n",
      "  warnings.warn(\"Liblinear failed to converge, increase \"\n",
      "\n",
      "/Users/michal.bronis/Desktop/nlp/poleval19/venv/lib/python3.8/site-packages/sklearn/svm/_base.py:985: ConvergenceWarning: Liblinear failed to converge, increase the number of iterations.\n",
      "  warnings.warn(\"Liblinear failed to converge, increase \"\n",
      "\n",
      "/Users/michal.bronis/Desktop/nlp/poleval19/venv/lib/python3.8/site-packages/sklearn/svm/_base.py:985: ConvergenceWarning: Liblinear failed to converge, increase the number of iterations.\n",
      "  warnings.warn(\"Liblinear failed to converge, increase \"\n",
      "\n",
      "/Users/michal.bronis/Desktop/nlp/poleval19/venv/lib/python3.8/site-packages/sklearn/svm/_base.py:985: ConvergenceWarning: Liblinear failed to converge, increase the number of iterations.\n",
      "  warnings.warn(\"Liblinear failed to converge, increase \"\n",
      "\n",
      "/Users/michal.bronis/Desktop/nlp/poleval19/venv/lib/python3.8/site-packages/sklearn/svm/_base.py:985: ConvergenceWarning: Liblinear failed to converge, increase the number of iterations.\n",
      "  warnings.warn(\"Liblinear failed to converge, increase \"\n",
      "\n",
      "/Users/michal.bronis/Desktop/nlp/poleval19/venv/lib/python3.8/site-packages/sklearn/svm/_base.py:985: ConvergenceWarning: Liblinear failed to converge, increase the number of iterations.\n",
      "  warnings.warn(\"Liblinear failed to converge, increase \"\n",
      "\n",
      "/Users/michal.bronis/Desktop/nlp/poleval19/venv/lib/python3.8/site-packages/sklearn/svm/_base.py:985: ConvergenceWarning: Liblinear failed to converge, increase the number of iterations.\n",
      "  warnings.warn(\"Liblinear failed to converge, increase \"\n",
      "\n",
      "/Users/michal.bronis/Desktop/nlp/poleval19/venv/lib/python3.8/site-packages/sklearn/svm/_base.py:985: ConvergenceWarning: Liblinear failed to converge, increase the number of iterations.\n",
      "  warnings.warn(\"Liblinear failed to converge, increase \"\n",
      "\n",
      "/Users/michal.bronis/Desktop/nlp/poleval19/venv/lib/python3.8/site-packages/sklearn/svm/_base.py:985: ConvergenceWarning: Liblinear failed to converge, increase the number of iterations.\n",
      "  warnings.warn(\"Liblinear failed to converge, increase \"\n",
      "\n"
     ]
    },
    {
     "name": "stdout",
     "output_type": "stream",
     "text": [
      "\r",
      " 44%|████▍     | 220/500 [21:55<32:05,  6.88s/trial, best loss: -0.92149]"
     ]
    },
    {
     "name": "stderr",
     "output_type": "stream",
     "text": [
      "/Users/michal.bronis/Desktop/nlp/poleval19/venv/lib/python3.8/site-packages/sklearn/svm/_base.py:985: ConvergenceWarning: Liblinear failed to converge, increase the number of iterations.\n",
      "  warnings.warn(\"Liblinear failed to converge, increase \"\n",
      "\n",
      "/Users/michal.bronis/Desktop/nlp/poleval19/venv/lib/python3.8/site-packages/sklearn/svm/_base.py:985: ConvergenceWarning: Liblinear failed to converge, increase the number of iterations.\n",
      "  warnings.warn(\"Liblinear failed to converge, increase \"\n",
      "\n",
      "/Users/michal.bronis/Desktop/nlp/poleval19/venv/lib/python3.8/site-packages/sklearn/svm/_base.py:985: ConvergenceWarning: Liblinear failed to converge, increase the number of iterations.\n",
      "  warnings.warn(\"Liblinear failed to converge, increase \"\n",
      "\n",
      "/Users/michal.bronis/Desktop/nlp/poleval19/venv/lib/python3.8/site-packages/sklearn/svm/_base.py:985: ConvergenceWarning: Liblinear failed to converge, increase the number of iterations.\n",
      "  warnings.warn(\"Liblinear failed to converge, increase \"\n",
      "\n",
      "/Users/michal.bronis/Desktop/nlp/poleval19/venv/lib/python3.8/site-packages/sklearn/svm/_base.py:985: ConvergenceWarning: Liblinear failed to converge, increase the number of iterations.\n",
      "  warnings.warn(\"Liblinear failed to converge, increase \"\n",
      "\n",
      "/Users/michal.bronis/Desktop/nlp/poleval19/venv/lib/python3.8/site-packages/sklearn/svm/_base.py:985: ConvergenceWarning: Liblinear failed to converge, increase the number of iterations.\n",
      "  warnings.warn(\"Liblinear failed to converge, increase \"\n",
      "\n",
      "/Users/michal.bronis/Desktop/nlp/poleval19/venv/lib/python3.8/site-packages/sklearn/svm/_base.py:985: ConvergenceWarning: Liblinear failed to converge, increase the number of iterations.\n",
      "  warnings.warn(\"Liblinear failed to converge, increase \"\n",
      "\n",
      "/Users/michal.bronis/Desktop/nlp/poleval19/venv/lib/python3.8/site-packages/sklearn/svm/_base.py:985: ConvergenceWarning: Liblinear failed to converge, increase the number of iterations.\n",
      "  warnings.warn(\"Liblinear failed to converge, increase \"\n",
      "\n",
      "/Users/michal.bronis/Desktop/nlp/poleval19/venv/lib/python3.8/site-packages/sklearn/svm/_base.py:985: ConvergenceWarning: Liblinear failed to converge, increase the number of iterations.\n",
      "  warnings.warn(\"Liblinear failed to converge, increase \"\n",
      "\n",
      "/Users/michal.bronis/Desktop/nlp/poleval19/venv/lib/python3.8/site-packages/sklearn/svm/_base.py:985: ConvergenceWarning: Liblinear failed to converge, increase the number of iterations.\n",
      "  warnings.warn(\"Liblinear failed to converge, increase \"\n",
      "\n",
      "/Users/michal.bronis/Desktop/nlp/poleval19/venv/lib/python3.8/site-packages/sklearn/svm/_base.py:985: ConvergenceWarning: Liblinear failed to converge, increase the number of iterations.\n",
      "  warnings.warn(\"Liblinear failed to converge, increase \"\n",
      "\n",
      "/Users/michal.bronis/Desktop/nlp/poleval19/venv/lib/python3.8/site-packages/sklearn/svm/_base.py:985: ConvergenceWarning: Liblinear failed to converge, increase the number of iterations.\n",
      "  warnings.warn(\"Liblinear failed to converge, increase \"\n",
      "\n",
      "/Users/michal.bronis/Desktop/nlp/poleval19/venv/lib/python3.8/site-packages/sklearn/svm/_base.py:985: ConvergenceWarning: Liblinear failed to converge, increase the number of iterations.\n",
      "  warnings.warn(\"Liblinear failed to converge, increase \"\n",
      "\n",
      "/Users/michal.bronis/Desktop/nlp/poleval19/venv/lib/python3.8/site-packages/sklearn/svm/_base.py:985: ConvergenceWarning: Liblinear failed to converge, increase the number of iterations.\n",
      "  warnings.warn(\"Liblinear failed to converge, increase \"\n",
      "\n",
      "/Users/michal.bronis/Desktop/nlp/poleval19/venv/lib/python3.8/site-packages/sklearn/svm/_base.py:985: ConvergenceWarning: Liblinear failed to converge, increase the number of iterations.\n",
      "  warnings.warn(\"Liblinear failed to converge, increase \"\n",
      "\n",
      "/Users/michal.bronis/Desktop/nlp/poleval19/venv/lib/python3.8/site-packages/sklearn/svm/_base.py:985: ConvergenceWarning: Liblinear failed to converge, increase the number of iterations.\n",
      "  warnings.warn(\"Liblinear failed to converge, increase \"\n",
      "\n",
      "/Users/michal.bronis/Desktop/nlp/poleval19/venv/lib/python3.8/site-packages/sklearn/svm/_base.py:985: ConvergenceWarning: Liblinear failed to converge, increase the number of iterations.\n",
      "  warnings.warn(\"Liblinear failed to converge, increase \"\n",
      "\n",
      "/Users/michal.bronis/Desktop/nlp/poleval19/venv/lib/python3.8/site-packages/sklearn/svm/_base.py:985: ConvergenceWarning: Liblinear failed to converge, increase the number of iterations.\n",
      "  warnings.warn(\"Liblinear failed to converge, increase \"\n",
      "\n",
      "/Users/michal.bronis/Desktop/nlp/poleval19/venv/lib/python3.8/site-packages/sklearn/svm/_base.py:985: ConvergenceWarning: Liblinear failed to converge, increase the number of iterations.\n",
      "  warnings.warn(\"Liblinear failed to converge, increase \"\n",
      "\n",
      "/Users/michal.bronis/Desktop/nlp/poleval19/venv/lib/python3.8/site-packages/sklearn/svm/_base.py:985: ConvergenceWarning: Liblinear failed to converge, increase the number of iterations.\n",
      "  warnings.warn(\"Liblinear failed to converge, increase \"\n",
      "\n",
      "/Users/michal.bronis/Desktop/nlp/poleval19/venv/lib/python3.8/site-packages/sklearn/svm/_base.py:985: ConvergenceWarning: Liblinear failed to converge, increase the number of iterations.\n",
      "  warnings.warn(\"Liblinear failed to converge, increase \"\n",
      "\n",
      "/Users/michal.bronis/Desktop/nlp/poleval19/venv/lib/python3.8/site-packages/sklearn/svm/_base.py:985: ConvergenceWarning: Liblinear failed to converge, increase the number of iterations.\n",
      "  warnings.warn(\"Liblinear failed to converge, increase \"\n",
      "\n",
      "/Users/michal.bronis/Desktop/nlp/poleval19/venv/lib/python3.8/site-packages/sklearn/svm/_base.py:985: ConvergenceWarning: Liblinear failed to converge, increase the number of iterations.\n",
      "  warnings.warn(\"Liblinear failed to converge, increase \"\n",
      "\n",
      "/Users/michal.bronis/Desktop/nlp/poleval19/venv/lib/python3.8/site-packages/sklearn/svm/_base.py:985: ConvergenceWarning: Liblinear failed to converge, increase the number of iterations.\n",
      "  warnings.warn(\"Liblinear failed to converge, increase \"\n",
      "\n",
      "/Users/michal.bronis/Desktop/nlp/poleval19/venv/lib/python3.8/site-packages/sklearn/svm/_base.py:985: ConvergenceWarning: Liblinear failed to converge, increase the number of iterations.\n",
      "  warnings.warn(\"Liblinear failed to converge, increase \"\n",
      "\n",
      "/Users/michal.bronis/Desktop/nlp/poleval19/venv/lib/python3.8/site-packages/sklearn/svm/_base.py:985: ConvergenceWarning: Liblinear failed to converge, increase the number of iterations.\n",
      "  warnings.warn(\"Liblinear failed to converge, increase \"\n",
      "\n",
      "/Users/michal.bronis/Desktop/nlp/poleval19/venv/lib/python3.8/site-packages/sklearn/svm/_base.py:985: ConvergenceWarning: Liblinear failed to converge, increase the number of iterations.\n",
      "  warnings.warn(\"Liblinear failed to converge, increase \"\n",
      "\n",
      "/Users/michal.bronis/Desktop/nlp/poleval19/venv/lib/python3.8/site-packages/sklearn/svm/_base.py:985: ConvergenceWarning: Liblinear failed to converge, increase the number of iterations.\n",
      "  warnings.warn(\"Liblinear failed to converge, increase \"\n",
      "\n",
      "/Users/michal.bronis/Desktop/nlp/poleval19/venv/lib/python3.8/site-packages/sklearn/svm/_base.py:985: ConvergenceWarning: Liblinear failed to converge, increase the number of iterations.\n",
      "  warnings.warn(\"Liblinear failed to converge, increase \"\n",
      "\n",
      "/Users/michal.bronis/Desktop/nlp/poleval19/venv/lib/python3.8/site-packages/sklearn/svm/_base.py:985: ConvergenceWarning: Liblinear failed to converge, increase the number of iterations.\n",
      "  warnings.warn(\"Liblinear failed to converge, increase \"\n",
      "\n",
      "/Users/michal.bronis/Desktop/nlp/poleval19/venv/lib/python3.8/site-packages/sklearn/svm/_base.py:985: ConvergenceWarning: Liblinear failed to converge, increase the number of iterations.\n",
      "  warnings.warn(\"Liblinear failed to converge, increase \"\n",
      "\n",
      "/Users/michal.bronis/Desktop/nlp/poleval19/venv/lib/python3.8/site-packages/sklearn/svm/_base.py:985: ConvergenceWarning: Liblinear failed to converge, increase the number of iterations.\n",
      "  warnings.warn(\"Liblinear failed to converge, increase \"\n",
      "\n",
      "/Users/michal.bronis/Desktop/nlp/poleval19/venv/lib/python3.8/site-packages/sklearn/svm/_base.py:985: ConvergenceWarning: Liblinear failed to converge, increase the number of iterations.\n",
      "  warnings.warn(\"Liblinear failed to converge, increase \"\n",
      "\n"
     ]
    },
    {
     "name": "stdout",
     "output_type": "stream",
     "text": [
      "\r",
      " 46%|████▌     | 230/500 [23:20<33:02,  7.34s/trial, best loss: -0.92149]"
     ]
    },
    {
     "name": "stderr",
     "output_type": "stream",
     "text": [
      "/Users/michal.bronis/Desktop/nlp/poleval19/venv/lib/python3.8/site-packages/sklearn/svm/_base.py:985: ConvergenceWarning: Liblinear failed to converge, increase the number of iterations.\n",
      "  warnings.warn(\"Liblinear failed to converge, increase \"\n",
      "\n",
      "INFO:hyperopt.tpe:build_posterior_wrapper took 0.003132 seconds\n",
      "INFO:hyperopt.tpe:TPE using 230/230 trials with best loss -0.921490\n",
      "/Users/michal.bronis/Desktop/nlp/poleval19/venv/lib/python3.8/site-packages/sklearn/svm/_base.py:985: ConvergenceWarning: Liblinear failed to converge, increase the number of iterations.\n",
      "  warnings.warn(\"Liblinear failed to converge, increase \"\n",
      "\n",
      "/Users/michal.bronis/Desktop/nlp/poleval19/venv/lib/python3.8/site-packages/sklearn/svm/_base.py:985: ConvergenceWarning: Liblinear failed to converge, increase the number of iterations.\n",
      "  warnings.warn(\"Liblinear failed to converge, increase \"\n",
      "\n",
      "/Users/michal.bronis/Desktop/nlp/poleval19/venv/lib/python3.8/site-packages/sklearn/svm/_base.py:985: ConvergenceWarning: Liblinear failed to converge, increase the number of iterations.\n",
      "  warnings.warn(\"Liblinear failed to converge, increase \"\n",
      "\n",
      "/Users/michal.bronis/Desktop/nlp/poleval19/venv/lib/python3.8/site-packages/sklearn/svm/_base.py:985: ConvergenceWarning: Liblinear failed to converge, increase the number of iterations.\n",
      "  warnings.warn(\"Liblinear failed to converge, increase \"\n",
      "\n",
      "/Users/michal.bronis/Desktop/nlp/poleval19/venv/lib/python3.8/site-packages/sklearn/svm/_base.py:985: ConvergenceWarning: Liblinear failed to converge, increase the number of iterations.\n",
      "  warnings.warn(\"Liblinear failed to converge, increase \"\n",
      "\n",
      "/Users/michal.bronis/Desktop/nlp/poleval19/venv/lib/python3.8/site-packages/sklearn/svm/_base.py:985: ConvergenceWarning: Liblinear failed to converge, increase the number of iterations.\n",
      "  warnings.warn(\"Liblinear failed to converge, increase \"\n",
      "\n",
      "/Users/michal.bronis/Desktop/nlp/poleval19/venv/lib/python3.8/site-packages/sklearn/svm/_base.py:985: ConvergenceWarning: Liblinear failed to converge, increase the number of iterations.\n",
      "  warnings.warn(\"Liblinear failed to converge, increase \"\n",
      "\n",
      "/Users/michal.bronis/Desktop/nlp/poleval19/venv/lib/python3.8/site-packages/sklearn/svm/_base.py:985: ConvergenceWarning: Liblinear failed to converge, increase the number of iterations.\n",
      "  warnings.warn(\"Liblinear failed to converge, increase \"\n",
      "\n",
      "/Users/michal.bronis/Desktop/nlp/poleval19/venv/lib/python3.8/site-packages/sklearn/svm/_base.py:985: ConvergenceWarning: Liblinear failed to converge, increase the number of iterations.\n",
      "  warnings.warn(\"Liblinear failed to converge, increase \"\n",
      "\n",
      "/Users/michal.bronis/Desktop/nlp/poleval19/venv/lib/python3.8/site-packages/sklearn/svm/_base.py:985: ConvergenceWarning: Liblinear failed to converge, increase the number of iterations.\n",
      "  warnings.warn(\"Liblinear failed to converge, increase \"\n",
      "\n",
      "/Users/michal.bronis/Desktop/nlp/poleval19/venv/lib/python3.8/site-packages/sklearn/svm/_base.py:985: ConvergenceWarning: Liblinear failed to converge, increase the number of iterations.\n",
      "  warnings.warn(\"Liblinear failed to converge, increase \"\n",
      "\n",
      "/Users/michal.bronis/Desktop/nlp/poleval19/venv/lib/python3.8/site-packages/sklearn/svm/_base.py:985: ConvergenceWarning: Liblinear failed to converge, increase the number of iterations.\n",
      "  warnings.warn(\"Liblinear failed to converge, increase \"\n",
      "\n",
      "/Users/michal.bronis/Desktop/nlp/poleval19/venv/lib/python3.8/site-packages/sklearn/svm/_base.py:985: ConvergenceWarning: Liblinear failed to converge, increase the number of iterations.\n",
      "  warnings.warn(\"Liblinear failed to converge, increase \"\n",
      "\n",
      "/Users/michal.bronis/Desktop/nlp/poleval19/venv/lib/python3.8/site-packages/sklearn/svm/_base.py:985: ConvergenceWarning: Liblinear failed to converge, increase the number of iterations.\n",
      "  warnings.warn(\"Liblinear failed to converge, increase \"\n",
      "\n",
      "/Users/michal.bronis/Desktop/nlp/poleval19/venv/lib/python3.8/site-packages/sklearn/svm/_base.py:985: ConvergenceWarning: Liblinear failed to converge, increase the number of iterations.\n",
      "  warnings.warn(\"Liblinear failed to converge, increase \"\n",
      "\n",
      "/Users/michal.bronis/Desktop/nlp/poleval19/venv/lib/python3.8/site-packages/sklearn/svm/_base.py:985: ConvergenceWarning: Liblinear failed to converge, increase the number of iterations.\n",
      "  warnings.warn(\"Liblinear failed to converge, increase \"\n",
      "\n",
      "/Users/michal.bronis/Desktop/nlp/poleval19/venv/lib/python3.8/site-packages/sklearn/svm/_base.py:985: ConvergenceWarning: Liblinear failed to converge, increase the number of iterations.\n",
      "  warnings.warn(\"Liblinear failed to converge, increase \"\n",
      "\n"
     ]
    },
    {
     "name": "stdout",
     "output_type": "stream",
     "text": [
      "\r",
      " 48%|████▊     | 240/500 [24:07<28:23,  6.55s/trial, best loss: -0.92149]"
     ]
    },
    {
     "name": "stderr",
     "output_type": "stream",
     "text": [
      "/Users/michal.bronis/Desktop/nlp/poleval19/venv/lib/python3.8/site-packages/sklearn/svm/_base.py:985: ConvergenceWarning: Liblinear failed to converge, increase the number of iterations.\n",
      "  warnings.warn(\"Liblinear failed to converge, increase \"\n",
      "\n",
      "INFO:hyperopt.tpe:build_posterior_wrapper took 0.003467 seconds\n",
      "INFO:hyperopt.tpe:TPE using 240/240 trials with best loss -0.921490\n",
      "INFO:hyperopt.tpe:build_posterior_wrapper took 0.003909 seconds\n",
      "INFO:hyperopt.tpe:TPE using 241/241 trials with best loss -0.921490\n",
      "INFO:hyperopt.tpe:build_posterior_wrapper took 0.003625 seconds\n",
      "INFO:hyperopt.tpe:TPE using 242/242 trials with best loss -0.921490\n",
      "INFO:hyperopt.tpe:build_posterior_wrapper took 0.005587 seconds\n",
      "INFO:hyperopt.tpe:TPE using 243/243 trials with best loss -0.921490\n",
      "INFO:hyperopt.tpe:build_posterior_wrapper took 0.003207 seconds\n",
      "INFO:hyperopt.tpe:TPE using 244/244 trials with best loss -0.921490\n",
      "INFO:hyperopt.tpe:build_posterior_wrapper took 0.002881 seconds\n",
      "INFO:hyperopt.tpe:TPE using 245/245 trials with best loss -0.921490\n",
      "INFO:hyperopt.tpe:build_posterior_wrapper took 0.002984 seconds\n",
      "INFO:hyperopt.tpe:TPE using 246/246 trials with best loss -0.921490\n",
      "INFO:hyperopt.tpe:build_posterior_wrapper took 0.003014 seconds\n",
      "INFO:hyperopt.tpe:TPE using 247/247 trials with best loss -0.921490\n",
      "INFO:hyperopt.tpe:build_posterior_wrapper took 0.003410 seconds\n",
      "INFO:hyperopt.tpe:TPE using 248/248 trials with best loss -0.921490\n",
      "INFO:hyperopt.tpe:build_posterior_wrapper took 0.003040 seconds\n",
      "INFO:hyperopt.tpe:TPE using 249/249 trials with best loss -0.921490\n"
     ]
    },
    {
     "name": "stdout",
     "output_type": "stream",
     "text": [
      "\r",
      " 50%|█████     | 250/500 [24:26<21:28,  5.15s/trial, best loss: -0.92149]"
     ]
    },
    {
     "name": "stderr",
     "output_type": "stream",
     "text": [
      "/Users/michal.bronis/Desktop/nlp/poleval19/venv/lib/python3.8/site-packages/sklearn/svm/_base.py:985: ConvergenceWarning: Liblinear failed to converge, increase the number of iterations.\n",
      "  warnings.warn(\"Liblinear failed to converge, increase \"\n",
      "\n",
      "/Users/michal.bronis/Desktop/nlp/poleval19/venv/lib/python3.8/site-packages/sklearn/svm/_base.py:985: ConvergenceWarning: Liblinear failed to converge, increase the number of iterations.\n",
      "  warnings.warn(\"Liblinear failed to converge, increase \"\n",
      "\n",
      "/Users/michal.bronis/Desktop/nlp/poleval19/venv/lib/python3.8/site-packages/sklearn/svm/_base.py:985: ConvergenceWarning: Liblinear failed to converge, increase the number of iterations.\n",
      "  warnings.warn(\"Liblinear failed to converge, increase \"\n",
      "\n",
      "/Users/michal.bronis/Desktop/nlp/poleval19/venv/lib/python3.8/site-packages/sklearn/svm/_base.py:985: ConvergenceWarning: Liblinear failed to converge, increase the number of iterations.\n",
      "  warnings.warn(\"Liblinear failed to converge, increase \"\n",
      "\n",
      "/Users/michal.bronis/Desktop/nlp/poleval19/venv/lib/python3.8/site-packages/sklearn/svm/_base.py:985: ConvergenceWarning: Liblinear failed to converge, increase the number of iterations.\n",
      "  warnings.warn(\"Liblinear failed to converge, increase \"\n",
      "\n",
      "/Users/michal.bronis/Desktop/nlp/poleval19/venv/lib/python3.8/site-packages/sklearn/svm/_base.py:985: ConvergenceWarning: Liblinear failed to converge, increase the number of iterations.\n",
      "  warnings.warn(\"Liblinear failed to converge, increase \"\n",
      "\n",
      "/Users/michal.bronis/Desktop/nlp/poleval19/venv/lib/python3.8/site-packages/sklearn/svm/_base.py:985: ConvergenceWarning: Liblinear failed to converge, increase the number of iterations.\n",
      "  warnings.warn(\"Liblinear failed to converge, increase \"\n",
      "\n",
      "/Users/michal.bronis/Desktop/nlp/poleval19/venv/lib/python3.8/site-packages/sklearn/svm/_base.py:985: ConvergenceWarning: Liblinear failed to converge, increase the number of iterations.\n",
      "  warnings.warn(\"Liblinear failed to converge, increase \"\n",
      "\n",
      "/Users/michal.bronis/Desktop/nlp/poleval19/venv/lib/python3.8/site-packages/sklearn/svm/_base.py:985: ConvergenceWarning: Liblinear failed to converge, increase the number of iterations.\n",
      "  warnings.warn(\"Liblinear failed to converge, increase \"\n",
      "\n",
      "/Users/michal.bronis/Desktop/nlp/poleval19/venv/lib/python3.8/site-packages/sklearn/svm/_base.py:985: ConvergenceWarning: Liblinear failed to converge, increase the number of iterations.\n",
      "  warnings.warn(\"Liblinear failed to converge, increase \"\n",
      "\n",
      "/Users/michal.bronis/Desktop/nlp/poleval19/venv/lib/python3.8/site-packages/sklearn/svm/_base.py:985: ConvergenceWarning: Liblinear failed to converge, increase the number of iterations.\n",
      "  warnings.warn(\"Liblinear failed to converge, increase \"\n",
      "\n",
      "/Users/michal.bronis/Desktop/nlp/poleval19/venv/lib/python3.8/site-packages/sklearn/svm/_base.py:985: ConvergenceWarning: Liblinear failed to converge, increase the number of iterations.\n",
      "  warnings.warn(\"Liblinear failed to converge, increase \"\n",
      "\n",
      "/Users/michal.bronis/Desktop/nlp/poleval19/venv/lib/python3.8/site-packages/sklearn/svm/_base.py:985: ConvergenceWarning: Liblinear failed to converge, increase the number of iterations.\n",
      "  warnings.warn(\"Liblinear failed to converge, increase \"\n",
      "\n",
      "/Users/michal.bronis/Desktop/nlp/poleval19/venv/lib/python3.8/site-packages/sklearn/svm/_base.py:985: ConvergenceWarning: Liblinear failed to converge, increase the number of iterations.\n",
      "  warnings.warn(\"Liblinear failed to converge, increase \"\n",
      "\n",
      "/Users/michal.bronis/Desktop/nlp/poleval19/venv/lib/python3.8/site-packages/sklearn/svm/_base.py:985: ConvergenceWarning: Liblinear failed to converge, increase the number of iterations.\n",
      "  warnings.warn(\"Liblinear failed to converge, increase \"\n",
      "\n",
      "/Users/michal.bronis/Desktop/nlp/poleval19/venv/lib/python3.8/site-packages/sklearn/svm/_base.py:985: ConvergenceWarning: Liblinear failed to converge, increase the number of iterations.\n",
      "  warnings.warn(\"Liblinear failed to converge, increase \"\n",
      "\n",
      "/Users/michal.bronis/Desktop/nlp/poleval19/venv/lib/python3.8/site-packages/sklearn/svm/_base.py:985: ConvergenceWarning: Liblinear failed to converge, increase the number of iterations.\n",
      "  warnings.warn(\"Liblinear failed to converge, increase \"\n",
      "\n",
      "/Users/michal.bronis/Desktop/nlp/poleval19/venv/lib/python3.8/site-packages/sklearn/svm/_base.py:985: ConvergenceWarning: Liblinear failed to converge, increase the number of iterations.\n",
      "  warnings.warn(\"Liblinear failed to converge, increase \"\n",
      "\n",
      "/Users/michal.bronis/Desktop/nlp/poleval19/venv/lib/python3.8/site-packages/sklearn/svm/_base.py:985: ConvergenceWarning: Liblinear failed to converge, increase the number of iterations.\n",
      "  warnings.warn(\"Liblinear failed to converge, increase \"\n",
      "\n",
      "/Users/michal.bronis/Desktop/nlp/poleval19/venv/lib/python3.8/site-packages/sklearn/svm/_base.py:985: ConvergenceWarning: Liblinear failed to converge, increase the number of iterations.\n",
      "  warnings.warn(\"Liblinear failed to converge, increase \"\n",
      "\n",
      "/Users/michal.bronis/Desktop/nlp/poleval19/venv/lib/python3.8/site-packages/sklearn/svm/_base.py:985: ConvergenceWarning: Liblinear failed to converge, increase the number of iterations.\n",
      "  warnings.warn(\"Liblinear failed to converge, increase \"\n",
      "\n",
      "/Users/michal.bronis/Desktop/nlp/poleval19/venv/lib/python3.8/site-packages/sklearn/svm/_base.py:985: ConvergenceWarning: Liblinear failed to converge, increase the number of iterations.\n",
      "  warnings.warn(\"Liblinear failed to converge, increase \"\n",
      "\n",
      "/Users/michal.bronis/Desktop/nlp/poleval19/venv/lib/python3.8/site-packages/sklearn/svm/_base.py:985: ConvergenceWarning: Liblinear failed to converge, increase the number of iterations.\n",
      "  warnings.warn(\"Liblinear failed to converge, increase \"\n",
      "\n",
      "/Users/michal.bronis/Desktop/nlp/poleval19/venv/lib/python3.8/site-packages/sklearn/svm/_base.py:985: ConvergenceWarning: Liblinear failed to converge, increase the number of iterations.\n",
      "  warnings.warn(\"Liblinear failed to converge, increase \"\n",
      "\n",
      "/Users/michal.bronis/Desktop/nlp/poleval19/venv/lib/python3.8/site-packages/sklearn/svm/_base.py:985: ConvergenceWarning: Liblinear failed to converge, increase the number of iterations.\n",
      "  warnings.warn(\"Liblinear failed to converge, increase \"\n",
      "\n",
      "/Users/michal.bronis/Desktop/nlp/poleval19/venv/lib/python3.8/site-packages/sklearn/svm/_base.py:985: ConvergenceWarning: Liblinear failed to converge, increase the number of iterations.\n",
      "  warnings.warn(\"Liblinear failed to converge, increase \"\n",
      "\n",
      "/Users/michal.bronis/Desktop/nlp/poleval19/venv/lib/python3.8/site-packages/sklearn/svm/_base.py:985: ConvergenceWarning: Liblinear failed to converge, increase the number of iterations.\n",
      "  warnings.warn(\"Liblinear failed to converge, increase \"\n",
      "\n",
      "/Users/michal.bronis/Desktop/nlp/poleval19/venv/lib/python3.8/site-packages/sklearn/svm/_base.py:985: ConvergenceWarning: Liblinear failed to converge, increase the number of iterations.\n",
      "  warnings.warn(\"Liblinear failed to converge, increase \"\n",
      "\n",
      "/Users/michal.bronis/Desktop/nlp/poleval19/venv/lib/python3.8/site-packages/sklearn/svm/_base.py:985: ConvergenceWarning: Liblinear failed to converge, increase the number of iterations.\n",
      "  warnings.warn(\"Liblinear failed to converge, increase \"\n",
      "\n",
      "/Users/michal.bronis/Desktop/nlp/poleval19/venv/lib/python3.8/site-packages/sklearn/svm/_base.py:985: ConvergenceWarning: Liblinear failed to converge, increase the number of iterations.\n",
      "  warnings.warn(\"Liblinear failed to converge, increase \"\n",
      "\n",
      "/Users/michal.bronis/Desktop/nlp/poleval19/venv/lib/python3.8/site-packages/sklearn/svm/_base.py:985: ConvergenceWarning: Liblinear failed to converge, increase the number of iterations.\n",
      "  warnings.warn(\"Liblinear failed to converge, increase \"\n",
      "\n",
      "/Users/michal.bronis/Desktop/nlp/poleval19/venv/lib/python3.8/site-packages/sklearn/svm/_base.py:985: ConvergenceWarning: Liblinear failed to converge, increase the number of iterations.\n",
      "  warnings.warn(\"Liblinear failed to converge, increase \"\n",
      "\n",
      "/Users/michal.bronis/Desktop/nlp/poleval19/venv/lib/python3.8/site-packages/sklearn/svm/_base.py:985: ConvergenceWarning: Liblinear failed to converge, increase the number of iterations.\n",
      "  warnings.warn(\"Liblinear failed to converge, increase \"\n",
      "\n",
      "/Users/michal.bronis/Desktop/nlp/poleval19/venv/lib/python3.8/site-packages/sklearn/svm/_base.py:985: ConvergenceWarning: Liblinear failed to converge, increase the number of iterations.\n",
      "  warnings.warn(\"Liblinear failed to converge, increase \"\n",
      "\n"
     ]
    },
    {
     "name": "stderr",
     "output_type": "stream",
     "text": [
      "/Users/michal.bronis/Desktop/nlp/poleval19/venv/lib/python3.8/site-packages/sklearn/svm/_base.py:985: ConvergenceWarning: Liblinear failed to converge, increase the number of iterations.\n",
      "  warnings.warn(\"Liblinear failed to converge, increase \"\n",
      "\n",
      "/Users/michal.bronis/Desktop/nlp/poleval19/venv/lib/python3.8/site-packages/sklearn/svm/_base.py:985: ConvergenceWarning: Liblinear failed to converge, increase the number of iterations.\n",
      "  warnings.warn(\"Liblinear failed to converge, increase \"\n",
      "\n",
      "/Users/michal.bronis/Desktop/nlp/poleval19/venv/lib/python3.8/site-packages/sklearn/svm/_base.py:985: ConvergenceWarning: Liblinear failed to converge, increase the number of iterations.\n",
      "  warnings.warn(\"Liblinear failed to converge, increase \"\n",
      "\n",
      "/Users/michal.bronis/Desktop/nlp/poleval19/venv/lib/python3.8/site-packages/sklearn/svm/_base.py:985: ConvergenceWarning: Liblinear failed to converge, increase the number of iterations.\n",
      "  warnings.warn(\"Liblinear failed to converge, increase \"\n",
      "\n",
      "/Users/michal.bronis/Desktop/nlp/poleval19/venv/lib/python3.8/site-packages/sklearn/svm/_base.py:985: ConvergenceWarning: Liblinear failed to converge, increase the number of iterations.\n",
      "  warnings.warn(\"Liblinear failed to converge, increase \"\n",
      "\n",
      "/Users/michal.bronis/Desktop/nlp/poleval19/venv/lib/python3.8/site-packages/sklearn/svm/_base.py:985: ConvergenceWarning: Liblinear failed to converge, increase the number of iterations.\n",
      "  warnings.warn(\"Liblinear failed to converge, increase \"\n",
      "\n",
      "/Users/michal.bronis/Desktop/nlp/poleval19/venv/lib/python3.8/site-packages/sklearn/svm/_base.py:985: ConvergenceWarning: Liblinear failed to converge, increase the number of iterations.\n",
      "  warnings.warn(\"Liblinear failed to converge, increase \"\n",
      "\n",
      "/Users/michal.bronis/Desktop/nlp/poleval19/venv/lib/python3.8/site-packages/sklearn/svm/_base.py:985: ConvergenceWarning: Liblinear failed to converge, increase the number of iterations.\n",
      "  warnings.warn(\"Liblinear failed to converge, increase \"\n",
      "\n",
      "/Users/michal.bronis/Desktop/nlp/poleval19/venv/lib/python3.8/site-packages/sklearn/svm/_base.py:985: ConvergenceWarning: Liblinear failed to converge, increase the number of iterations.\n",
      "  warnings.warn(\"Liblinear failed to converge, increase \"\n",
      "\n",
      "/Users/michal.bronis/Desktop/nlp/poleval19/venv/lib/python3.8/site-packages/sklearn/svm/_base.py:985: ConvergenceWarning: Liblinear failed to converge, increase the number of iterations.\n",
      "  warnings.warn(\"Liblinear failed to converge, increase \"\n",
      "\n",
      "/Users/michal.bronis/Desktop/nlp/poleval19/venv/lib/python3.8/site-packages/sklearn/svm/_base.py:985: ConvergenceWarning: Liblinear failed to converge, increase the number of iterations.\n",
      "  warnings.warn(\"Liblinear failed to converge, increase \"\n",
      "\n",
      "/Users/michal.bronis/Desktop/nlp/poleval19/venv/lib/python3.8/site-packages/sklearn/svm/_base.py:985: ConvergenceWarning: Liblinear failed to converge, increase the number of iterations.\n",
      "  warnings.warn(\"Liblinear failed to converge, increase \"\n",
      "\n",
      "/Users/michal.bronis/Desktop/nlp/poleval19/venv/lib/python3.8/site-packages/sklearn/svm/_base.py:985: ConvergenceWarning: Liblinear failed to converge, increase the number of iterations.\n",
      "  warnings.warn(\"Liblinear failed to converge, increase \"\n",
      "\n"
     ]
    },
    {
     "name": "stdout",
     "output_type": "stream",
     "text": [
      "\r",
      " 52%|█████▏    | 260/500 [26:32<29:34,  7.39s/trial, best loss: -0.92149]"
     ]
    },
    {
     "name": "stderr",
     "output_type": "stream",
     "text": [
      "/Users/michal.bronis/Desktop/nlp/poleval19/venv/lib/python3.8/site-packages/sklearn/svm/_base.py:985: ConvergenceWarning: Liblinear failed to converge, increase the number of iterations.\n",
      "  warnings.warn(\"Liblinear failed to converge, increase \"\n",
      "\n",
      "INFO:hyperopt.tpe:build_posterior_wrapper took 0.003720 seconds\n",
      "INFO:hyperopt.tpe:TPE using 260/260 trials with best loss -0.921490\n",
      "INFO:hyperopt.tpe:build_posterior_wrapper took 0.005535 seconds\n",
      "INFO:hyperopt.tpe:TPE using 261/261 trials with best loss -0.921490\n",
      "INFO:hyperopt.tpe:build_posterior_wrapper took 0.003419 seconds\n",
      "INFO:hyperopt.tpe:TPE using 262/262 trials with best loss -0.921490\n",
      "INFO:hyperopt.tpe:build_posterior_wrapper took 0.002962 seconds\n",
      "INFO:hyperopt.tpe:TPE using 263/263 trials with best loss -0.921490\n",
      "INFO:hyperopt.tpe:build_posterior_wrapper took 0.004348 seconds\n",
      "INFO:hyperopt.tpe:TPE using 264/264 trials with best loss -0.921490\n",
      "INFO:hyperopt.tpe:build_posterior_wrapper took 0.004181 seconds\n",
      "INFO:hyperopt.tpe:TPE using 265/265 trials with best loss -0.921490\n",
      "/Users/michal.bronis/Desktop/nlp/poleval19/venv/lib/python3.8/site-packages/sklearn/svm/_base.py:985: ConvergenceWarning: Liblinear failed to converge, increase the number of iterations.\n",
      "  warnings.warn(\"Liblinear failed to converge, increase \"\n",
      "\n",
      "/Users/michal.bronis/Desktop/nlp/poleval19/venv/lib/python3.8/site-packages/sklearn/svm/_base.py:985: ConvergenceWarning: Liblinear failed to converge, increase the number of iterations.\n",
      "  warnings.warn(\"Liblinear failed to converge, increase \"\n",
      "\n",
      "/Users/michal.bronis/Desktop/nlp/poleval19/venv/lib/python3.8/site-packages/sklearn/svm/_base.py:985: ConvergenceWarning: Liblinear failed to converge, increase the number of iterations.\n",
      "  warnings.warn(\"Liblinear failed to converge, increase \"\n",
      "\n",
      "/Users/michal.bronis/Desktop/nlp/poleval19/venv/lib/python3.8/site-packages/sklearn/svm/_base.py:985: ConvergenceWarning: Liblinear failed to converge, increase the number of iterations.\n",
      "  warnings.warn(\"Liblinear failed to converge, increase \"\n",
      "\n",
      "/Users/michal.bronis/Desktop/nlp/poleval19/venv/lib/python3.8/site-packages/sklearn/svm/_base.py:985: ConvergenceWarning: Liblinear failed to converge, increase the number of iterations.\n",
      "  warnings.warn(\"Liblinear failed to converge, increase \"\n",
      "\n",
      "/Users/michal.bronis/Desktop/nlp/poleval19/venv/lib/python3.8/site-packages/sklearn/svm/_base.py:985: ConvergenceWarning: Liblinear failed to converge, increase the number of iterations.\n",
      "  warnings.warn(\"Liblinear failed to converge, increase \"\n",
      "\n",
      "/Users/michal.bronis/Desktop/nlp/poleval19/venv/lib/python3.8/site-packages/sklearn/svm/_base.py:985: ConvergenceWarning: Liblinear failed to converge, increase the number of iterations.\n",
      "  warnings.warn(\"Liblinear failed to converge, increase \"\n",
      "\n",
      "/Users/michal.bronis/Desktop/nlp/poleval19/venv/lib/python3.8/site-packages/sklearn/svm/_base.py:985: ConvergenceWarning: Liblinear failed to converge, increase the number of iterations.\n",
      "  warnings.warn(\"Liblinear failed to converge, increase \"\n",
      "\n",
      "/Users/michal.bronis/Desktop/nlp/poleval19/venv/lib/python3.8/site-packages/sklearn/svm/_base.py:985: ConvergenceWarning: Liblinear failed to converge, increase the number of iterations.\n",
      "  warnings.warn(\"Liblinear failed to converge, increase \"\n",
      "\n",
      "/Users/michal.bronis/Desktop/nlp/poleval19/venv/lib/python3.8/site-packages/sklearn/svm/_base.py:985: ConvergenceWarning: Liblinear failed to converge, increase the number of iterations.\n",
      "  warnings.warn(\"Liblinear failed to converge, increase \"\n",
      "\n",
      "/Users/michal.bronis/Desktop/nlp/poleval19/venv/lib/python3.8/site-packages/sklearn/svm/_base.py:985: ConvergenceWarning: Liblinear failed to converge, increase the number of iterations.\n",
      "  warnings.warn(\"Liblinear failed to converge, increase \"\n",
      "\n",
      "/Users/michal.bronis/Desktop/nlp/poleval19/venv/lib/python3.8/site-packages/sklearn/svm/_base.py:985: ConvergenceWarning: Liblinear failed to converge, increase the number of iterations.\n",
      "  warnings.warn(\"Liblinear failed to converge, increase \"\n",
      "\n"
     ]
    },
    {
     "name": "stdout",
     "output_type": "stream",
     "text": [
      "\r",
      " 54%|█████▍    | 270/500 [27:08<23:56,  6.24s/trial, best loss: -0.92149]"
     ]
    },
    {
     "name": "stderr",
     "output_type": "stream",
     "text": [
      "INFO:hyperopt.tpe:build_posterior_wrapper took 0.002854 seconds\n",
      "INFO:hyperopt.tpe:TPE using 270/270 trials with best loss -0.921490\n",
      "INFO:hyperopt.tpe:build_posterior_wrapper took 0.003186 seconds\n",
      "INFO:hyperopt.tpe:TPE using 271/271 trials with best loss -0.921490\n",
      "INFO:hyperopt.tpe:build_posterior_wrapper took 0.003695 seconds\n",
      "INFO:hyperopt.tpe:TPE using 272/272 trials with best loss -0.921490\n",
      "/Users/michal.bronis/Desktop/nlp/poleval19/venv/lib/python3.8/site-packages/sklearn/svm/_base.py:985: ConvergenceWarning: Liblinear failed to converge, increase the number of iterations.\n",
      "  warnings.warn(\"Liblinear failed to converge, increase \"\n",
      "\n",
      "/Users/michal.bronis/Desktop/nlp/poleval19/venv/lib/python3.8/site-packages/sklearn/svm/_base.py:985: ConvergenceWarning: Liblinear failed to converge, increase the number of iterations.\n",
      "  warnings.warn(\"Liblinear failed to converge, increase \"\n",
      "\n",
      "/Users/michal.bronis/Desktop/nlp/poleval19/venv/lib/python3.8/site-packages/sklearn/svm/_base.py:985: ConvergenceWarning: Liblinear failed to converge, increase the number of iterations.\n",
      "  warnings.warn(\"Liblinear failed to converge, increase \"\n",
      "\n",
      "/Users/michal.bronis/Desktop/nlp/poleval19/venv/lib/python3.8/site-packages/sklearn/svm/_base.py:985: ConvergenceWarning: Liblinear failed to converge, increase the number of iterations.\n",
      "  warnings.warn(\"Liblinear failed to converge, increase \"\n",
      "\n",
      "/Users/michal.bronis/Desktop/nlp/poleval19/venv/lib/python3.8/site-packages/sklearn/svm/_base.py:985: ConvergenceWarning: Liblinear failed to converge, increase the number of iterations.\n",
      "  warnings.warn(\"Liblinear failed to converge, increase \"\n",
      "\n",
      "/Users/michal.bronis/Desktop/nlp/poleval19/venv/lib/python3.8/site-packages/sklearn/svm/_base.py:985: ConvergenceWarning: Liblinear failed to converge, increase the number of iterations.\n",
      "  warnings.warn(\"Liblinear failed to converge, increase \"\n",
      "\n",
      "/Users/michal.bronis/Desktop/nlp/poleval19/venv/lib/python3.8/site-packages/sklearn/svm/_base.py:985: ConvergenceWarning: Liblinear failed to converge, increase the number of iterations.\n",
      "  warnings.warn(\"Liblinear failed to converge, increase \"\n",
      "\n",
      "/Users/michal.bronis/Desktop/nlp/poleval19/venv/lib/python3.8/site-packages/sklearn/svm/_base.py:985: ConvergenceWarning: Liblinear failed to converge, increase the number of iterations.\n",
      "  warnings.warn(\"Liblinear failed to converge, increase \"\n",
      "\n",
      "/Users/michal.bronis/Desktop/nlp/poleval19/venv/lib/python3.8/site-packages/sklearn/svm/_base.py:985: ConvergenceWarning: Liblinear failed to converge, increase the number of iterations.\n",
      "  warnings.warn(\"Liblinear failed to converge, increase \"\n",
      "\n",
      "/Users/michal.bronis/Desktop/nlp/poleval19/venv/lib/python3.8/site-packages/sklearn/svm/_base.py:985: ConvergenceWarning: Liblinear failed to converge, increase the number of iterations.\n",
      "  warnings.warn(\"Liblinear failed to converge, increase \"\n",
      "\n",
      "/Users/michal.bronis/Desktop/nlp/poleval19/venv/lib/python3.8/site-packages/sklearn/svm/_base.py:985: ConvergenceWarning: Liblinear failed to converge, increase the number of iterations.\n",
      "  warnings.warn(\"Liblinear failed to converge, increase \"\n",
      "\n",
      "/Users/michal.bronis/Desktop/nlp/poleval19/venv/lib/python3.8/site-packages/sklearn/svm/_base.py:985: ConvergenceWarning: Liblinear failed to converge, increase the number of iterations.\n",
      "  warnings.warn(\"Liblinear failed to converge, increase \"\n",
      "\n",
      "/Users/michal.bronis/Desktop/nlp/poleval19/venv/lib/python3.8/site-packages/sklearn/svm/_base.py:985: ConvergenceWarning: Liblinear failed to converge, increase the number of iterations.\n",
      "  warnings.warn(\"Liblinear failed to converge, increase \"\n",
      "\n",
      "/Users/michal.bronis/Desktop/nlp/poleval19/venv/lib/python3.8/site-packages/sklearn/svm/_base.py:985: ConvergenceWarning: Liblinear failed to converge, increase the number of iterations.\n",
      "  warnings.warn(\"Liblinear failed to converge, increase \"\n",
      "\n",
      "/Users/michal.bronis/Desktop/nlp/poleval19/venv/lib/python3.8/site-packages/sklearn/svm/_base.py:985: ConvergenceWarning: Liblinear failed to converge, increase the number of iterations.\n",
      "  warnings.warn(\"Liblinear failed to converge, increase \"\n",
      "\n",
      "/Users/michal.bronis/Desktop/nlp/poleval19/venv/lib/python3.8/site-packages/sklearn/svm/_base.py:985: ConvergenceWarning: Liblinear failed to converge, increase the number of iterations.\n",
      "  warnings.warn(\"Liblinear failed to converge, increase \"\n",
      "\n",
      "/Users/michal.bronis/Desktop/nlp/poleval19/venv/lib/python3.8/site-packages/sklearn/svm/_base.py:985: ConvergenceWarning: Liblinear failed to converge, increase the number of iterations.\n",
      "  warnings.warn(\"Liblinear failed to converge, increase \"\n",
      "\n",
      "/Users/michal.bronis/Desktop/nlp/poleval19/venv/lib/python3.8/site-packages/sklearn/svm/_base.py:985: ConvergenceWarning: Liblinear failed to converge, increase the number of iterations.\n",
      "  warnings.warn(\"Liblinear failed to converge, increase \"\n",
      "\n"
     ]
    },
    {
     "name": "stdout",
     "output_type": "stream",
     "text": [
      "\r",
      " 56%|█████▌    | 280/500 [28:20<23:59,  6.54s/trial, best loss: -0.92149]"
     ]
    },
    {
     "name": "stderr",
     "output_type": "stream",
     "text": [
      "INFO:hyperopt.tpe:build_posterior_wrapper took 0.003954 seconds\n",
      "INFO:hyperopt.tpe:TPE using 280/280 trials with best loss -0.921490\n",
      "INFO:hyperopt.tpe:build_posterior_wrapper took 0.002965 seconds\n",
      "INFO:hyperopt.tpe:TPE using 281/281 trials with best loss -0.921490\n",
      "INFO:hyperopt.tpe:build_posterior_wrapper took 0.003936 seconds\n",
      "INFO:hyperopt.tpe:TPE using 282/282 trials with best loss -0.921490\n",
      "INFO:hyperopt.tpe:build_posterior_wrapper took 0.002963 seconds\n",
      "INFO:hyperopt.tpe:TPE using 283/283 trials with best loss -0.921490\n",
      "/Users/michal.bronis/Desktop/nlp/poleval19/venv/lib/python3.8/site-packages/sklearn/svm/_base.py:985: ConvergenceWarning: Liblinear failed to converge, increase the number of iterations.\n",
      "  warnings.warn(\"Liblinear failed to converge, increase \"\n",
      "\n",
      "/Users/michal.bronis/Desktop/nlp/poleval19/venv/lib/python3.8/site-packages/sklearn/svm/_base.py:985: ConvergenceWarning: Liblinear failed to converge, increase the number of iterations.\n",
      "  warnings.warn(\"Liblinear failed to converge, increase \"\n",
      "\n",
      "/Users/michal.bronis/Desktop/nlp/poleval19/venv/lib/python3.8/site-packages/sklearn/svm/_base.py:985: ConvergenceWarning: Liblinear failed to converge, increase the number of iterations.\n",
      "  warnings.warn(\"Liblinear failed to converge, increase \"\n",
      "\n",
      "/Users/michal.bronis/Desktop/nlp/poleval19/venv/lib/python3.8/site-packages/sklearn/svm/_base.py:985: ConvergenceWarning: Liblinear failed to converge, increase the number of iterations.\n",
      "  warnings.warn(\"Liblinear failed to converge, increase \"\n",
      "\n",
      "/Users/michal.bronis/Desktop/nlp/poleval19/venv/lib/python3.8/site-packages/sklearn/svm/_base.py:985: ConvergenceWarning: Liblinear failed to converge, increase the number of iterations.\n",
      "  warnings.warn(\"Liblinear failed to converge, increase \"\n",
      "\n",
      "/Users/michal.bronis/Desktop/nlp/poleval19/venv/lib/python3.8/site-packages/sklearn/svm/_base.py:985: ConvergenceWarning: Liblinear failed to converge, increase the number of iterations.\n",
      "  warnings.warn(\"Liblinear failed to converge, increase \"\n",
      "\n",
      "/Users/michal.bronis/Desktop/nlp/poleval19/venv/lib/python3.8/site-packages/sklearn/svm/_base.py:985: ConvergenceWarning: Liblinear failed to converge, increase the number of iterations.\n",
      "  warnings.warn(\"Liblinear failed to converge, increase \"\n",
      "\n",
      "/Users/michal.bronis/Desktop/nlp/poleval19/venv/lib/python3.8/site-packages/sklearn/svm/_base.py:985: ConvergenceWarning: Liblinear failed to converge, increase the number of iterations.\n",
      "  warnings.warn(\"Liblinear failed to converge, increase \"\n",
      "\n",
      "/Users/michal.bronis/Desktop/nlp/poleval19/venv/lib/python3.8/site-packages/sklearn/svm/_base.py:985: ConvergenceWarning: Liblinear failed to converge, increase the number of iterations.\n",
      "  warnings.warn(\"Liblinear failed to converge, increase \"\n",
      "\n",
      "/Users/michal.bronis/Desktop/nlp/poleval19/venv/lib/python3.8/site-packages/sklearn/svm/_base.py:985: ConvergenceWarning: Liblinear failed to converge, increase the number of iterations.\n",
      "  warnings.warn(\"Liblinear failed to converge, increase \"\n",
      "\n",
      "/Users/michal.bronis/Desktop/nlp/poleval19/venv/lib/python3.8/site-packages/sklearn/svm/_base.py:985: ConvergenceWarning: Liblinear failed to converge, increase the number of iterations.\n",
      "  warnings.warn(\"Liblinear failed to converge, increase \"\n",
      "\n",
      "/Users/michal.bronis/Desktop/nlp/poleval19/venv/lib/python3.8/site-packages/sklearn/svm/_base.py:985: ConvergenceWarning: Liblinear failed to converge, increase the number of iterations.\n",
      "  warnings.warn(\"Liblinear failed to converge, increase \"\n",
      "\n"
     ]
    },
    {
     "name": "stdout",
     "output_type": "stream",
     "text": [
      "\r",
      " 58%|█████▊    | 290/500 [28:43<18:25,  5.27s/trial, best loss: -0.92149]"
     ]
    },
    {
     "name": "stderr",
     "output_type": "stream",
     "text": [
      "/Users/michal.bronis/Desktop/nlp/poleval19/venv/lib/python3.8/site-packages/sklearn/svm/_base.py:985: ConvergenceWarning: Liblinear failed to converge, increase the number of iterations.\n",
      "  warnings.warn(\"Liblinear failed to converge, increase \"\n",
      "\n",
      "/Users/michal.bronis/Desktop/nlp/poleval19/venv/lib/python3.8/site-packages/sklearn/svm/_base.py:985: ConvergenceWarning: Liblinear failed to converge, increase the number of iterations.\n",
      "  warnings.warn(\"Liblinear failed to converge, increase \"\n",
      "\n",
      "/Users/michal.bronis/Desktop/nlp/poleval19/venv/lib/python3.8/site-packages/sklearn/svm/_base.py:985: ConvergenceWarning: Liblinear failed to converge, increase the number of iterations.\n",
      "  warnings.warn(\"Liblinear failed to converge, increase \"\n",
      "\n",
      "/Users/michal.bronis/Desktop/nlp/poleval19/venv/lib/python3.8/site-packages/sklearn/svm/_base.py:985: ConvergenceWarning: Liblinear failed to converge, increase the number of iterations.\n",
      "  warnings.warn(\"Liblinear failed to converge, increase \"\n",
      "\n",
      "/Users/michal.bronis/Desktop/nlp/poleval19/venv/lib/python3.8/site-packages/sklearn/svm/_base.py:985: ConvergenceWarning: Liblinear failed to converge, increase the number of iterations.\n",
      "  warnings.warn(\"Liblinear failed to converge, increase \"\n",
      "\n",
      "/Users/michal.bronis/Desktop/nlp/poleval19/venv/lib/python3.8/site-packages/sklearn/svm/_base.py:985: ConvergenceWarning: Liblinear failed to converge, increase the number of iterations.\n",
      "  warnings.warn(\"Liblinear failed to converge, increase \"\n",
      "\n",
      "/Users/michal.bronis/Desktop/nlp/poleval19/venv/lib/python3.8/site-packages/sklearn/svm/_base.py:985: ConvergenceWarning: Liblinear failed to converge, increase the number of iterations.\n",
      "  warnings.warn(\"Liblinear failed to converge, increase \"\n",
      "\n",
      "/Users/michal.bronis/Desktop/nlp/poleval19/venv/lib/python3.8/site-packages/sklearn/svm/_base.py:985: ConvergenceWarning: Liblinear failed to converge, increase the number of iterations.\n",
      "  warnings.warn(\"Liblinear failed to converge, increase \"\n",
      "\n",
      "/Users/michal.bronis/Desktop/nlp/poleval19/venv/lib/python3.8/site-packages/sklearn/svm/_base.py:985: ConvergenceWarning: Liblinear failed to converge, increase the number of iterations.\n",
      "  warnings.warn(\"Liblinear failed to converge, increase \"\n",
      "\n",
      "/Users/michal.bronis/Desktop/nlp/poleval19/venv/lib/python3.8/site-packages/sklearn/svm/_base.py:985: ConvergenceWarning: Liblinear failed to converge, increase the number of iterations.\n",
      "  warnings.warn(\"Liblinear failed to converge, increase \"\n",
      "\n",
      "/Users/michal.bronis/Desktop/nlp/poleval19/venv/lib/python3.8/site-packages/sklearn/svm/_base.py:985: ConvergenceWarning: Liblinear failed to converge, increase the number of iterations.\n",
      "  warnings.warn(\"Liblinear failed to converge, increase \"\n",
      "\n",
      "/Users/michal.bronis/Desktop/nlp/poleval19/venv/lib/python3.8/site-packages/sklearn/svm/_base.py:985: ConvergenceWarning: Liblinear failed to converge, increase the number of iterations.\n",
      "  warnings.warn(\"Liblinear failed to converge, increase \"\n",
      "\n"
     ]
    },
    {
     "name": "stdout",
     "output_type": "stream",
     "text": [
      "\r",
      " 60%|██████    | 300/500 [29:25<16:32,  4.96s/trial, best loss: -0.92149]"
     ]
    },
    {
     "name": "stderr",
     "output_type": "stream",
     "text": [
      "INFO:hyperopt.tpe:build_posterior_wrapper took 0.004692 seconds\n",
      "INFO:hyperopt.tpe:TPE using 300/300 trials with best loss -0.921490\n",
      "INFO:hyperopt.tpe:build_posterior_wrapper took 0.003566 seconds\n",
      "INFO:hyperopt.tpe:TPE using 301/301 trials with best loss -0.921490\n",
      "/Users/michal.bronis/Desktop/nlp/poleval19/venv/lib/python3.8/site-packages/sklearn/svm/_base.py:985: ConvergenceWarning: Liblinear failed to converge, increase the number of iterations.\n",
      "  warnings.warn(\"Liblinear failed to converge, increase \"\n",
      "\n",
      "/Users/michal.bronis/Desktop/nlp/poleval19/venv/lib/python3.8/site-packages/sklearn/svm/_base.py:985: ConvergenceWarning: Liblinear failed to converge, increase the number of iterations.\n",
      "  warnings.warn(\"Liblinear failed to converge, increase \"\n",
      "\n",
      "/Users/michal.bronis/Desktop/nlp/poleval19/venv/lib/python3.8/site-packages/sklearn/svm/_base.py:985: ConvergenceWarning: Liblinear failed to converge, increase the number of iterations.\n",
      "  warnings.warn(\"Liblinear failed to converge, increase \"\n",
      "\n",
      "/Users/michal.bronis/Desktop/nlp/poleval19/venv/lib/python3.8/site-packages/sklearn/svm/_base.py:985: ConvergenceWarning: Liblinear failed to converge, increase the number of iterations.\n",
      "  warnings.warn(\"Liblinear failed to converge, increase \"\n",
      "\n",
      "/Users/michal.bronis/Desktop/nlp/poleval19/venv/lib/python3.8/site-packages/sklearn/svm/_base.py:985: ConvergenceWarning: Liblinear failed to converge, increase the number of iterations.\n",
      "  warnings.warn(\"Liblinear failed to converge, increase \"\n",
      "\n",
      "/Users/michal.bronis/Desktop/nlp/poleval19/venv/lib/python3.8/site-packages/sklearn/svm/_base.py:985: ConvergenceWarning: Liblinear failed to converge, increase the number of iterations.\n",
      "  warnings.warn(\"Liblinear failed to converge, increase \"\n",
      "\n",
      "/Users/michal.bronis/Desktop/nlp/poleval19/venv/lib/python3.8/site-packages/sklearn/svm/_base.py:985: ConvergenceWarning: Liblinear failed to converge, increase the number of iterations.\n",
      "  warnings.warn(\"Liblinear failed to converge, increase \"\n",
      "\n",
      "/Users/michal.bronis/Desktop/nlp/poleval19/venv/lib/python3.8/site-packages/sklearn/svm/_base.py:985: ConvergenceWarning: Liblinear failed to converge, increase the number of iterations.\n",
      "  warnings.warn(\"Liblinear failed to converge, increase \"\n",
      "\n",
      "/Users/michal.bronis/Desktop/nlp/poleval19/venv/lib/python3.8/site-packages/sklearn/svm/_base.py:985: ConvergenceWarning: Liblinear failed to converge, increase the number of iterations.\n",
      "  warnings.warn(\"Liblinear failed to converge, increase \"\n",
      "\n",
      "/Users/michal.bronis/Desktop/nlp/poleval19/venv/lib/python3.8/site-packages/sklearn/svm/_base.py:985: ConvergenceWarning: Liblinear failed to converge, increase the number of iterations.\n",
      "  warnings.warn(\"Liblinear failed to converge, increase \"\n",
      "\n",
      "/Users/michal.bronis/Desktop/nlp/poleval19/venv/lib/python3.8/site-packages/sklearn/svm/_base.py:985: ConvergenceWarning: Liblinear failed to converge, increase the number of iterations.\n",
      "  warnings.warn(\"Liblinear failed to converge, increase \"\n",
      "\n",
      "/Users/michal.bronis/Desktop/nlp/poleval19/venv/lib/python3.8/site-packages/sklearn/svm/_base.py:985: ConvergenceWarning: Liblinear failed to converge, increase the number of iterations.\n",
      "  warnings.warn(\"Liblinear failed to converge, increase \"\n",
      "\n"
     ]
    },
    {
     "name": "stdout",
     "output_type": "stream",
     "text": [
      "\r",
      " 62%|██████▏   | 310/500 [30:16<15:50,  5.00s/trial, best loss: -0.92161]"
     ]
    },
    {
     "name": "stderr",
     "output_type": "stream",
     "text": [
      "INFO:hyperopt.tpe:build_posterior_wrapper took 0.005506 seconds\n",
      "INFO:hyperopt.tpe:TPE using 310/310 trials with best loss -0.921610\n",
      "INFO:hyperopt.tpe:build_posterior_wrapper took 0.003970 seconds\n",
      "INFO:hyperopt.tpe:TPE using 311/311 trials with best loss -0.921610\n",
      "INFO:hyperopt.tpe:build_posterior_wrapper took 0.003083 seconds\n",
      "INFO:hyperopt.tpe:TPE using 312/312 trials with best loss -0.921610\n",
      "INFO:hyperopt.tpe:build_posterior_wrapper took 0.003962 seconds\n",
      "INFO:hyperopt.tpe:TPE using 313/313 trials with best loss -0.921610\n",
      "/Users/michal.bronis/Desktop/nlp/poleval19/venv/lib/python3.8/site-packages/sklearn/svm/_base.py:985: ConvergenceWarning: Liblinear failed to converge, increase the number of iterations.\n",
      "  warnings.warn(\"Liblinear failed to converge, increase \"\n",
      "\n",
      "/Users/michal.bronis/Desktop/nlp/poleval19/venv/lib/python3.8/site-packages/sklearn/svm/_base.py:985: ConvergenceWarning: Liblinear failed to converge, increase the number of iterations.\n",
      "  warnings.warn(\"Liblinear failed to converge, increase \"\n",
      "\n",
      "/Users/michal.bronis/Desktop/nlp/poleval19/venv/lib/python3.8/site-packages/sklearn/svm/_base.py:985: ConvergenceWarning: Liblinear failed to converge, increase the number of iterations.\n",
      "  warnings.warn(\"Liblinear failed to converge, increase \"\n",
      "\n",
      "/Users/michal.bronis/Desktop/nlp/poleval19/venv/lib/python3.8/site-packages/sklearn/svm/_base.py:985: ConvergenceWarning: Liblinear failed to converge, increase the number of iterations.\n",
      "  warnings.warn(\"Liblinear failed to converge, increase \"\n",
      "\n",
      "/Users/michal.bronis/Desktop/nlp/poleval19/venv/lib/python3.8/site-packages/sklearn/svm/_base.py:985: ConvergenceWarning: Liblinear failed to converge, increase the number of iterations.\n",
      "  warnings.warn(\"Liblinear failed to converge, increase \"\n",
      "\n",
      "/Users/michal.bronis/Desktop/nlp/poleval19/venv/lib/python3.8/site-packages/sklearn/svm/_base.py:985: ConvergenceWarning: Liblinear failed to converge, increase the number of iterations.\n",
      "  warnings.warn(\"Liblinear failed to converge, increase \"\n",
      "\n",
      "/Users/michal.bronis/Desktop/nlp/poleval19/venv/lib/python3.8/site-packages/sklearn/svm/_base.py:985: ConvergenceWarning: Liblinear failed to converge, increase the number of iterations.\n",
      "  warnings.warn(\"Liblinear failed to converge, increase \"\n",
      "\n",
      "/Users/michal.bronis/Desktop/nlp/poleval19/venv/lib/python3.8/site-packages/sklearn/svm/_base.py:985: ConvergenceWarning: Liblinear failed to converge, increase the number of iterations.\n",
      "  warnings.warn(\"Liblinear failed to converge, increase \"\n",
      "\n",
      "/Users/michal.bronis/Desktop/nlp/poleval19/venv/lib/python3.8/site-packages/sklearn/svm/_base.py:985: ConvergenceWarning: Liblinear failed to converge, increase the number of iterations.\n",
      "  warnings.warn(\"Liblinear failed to converge, increase \"\n",
      "\n",
      "/Users/michal.bronis/Desktop/nlp/poleval19/venv/lib/python3.8/site-packages/sklearn/svm/_base.py:985: ConvergenceWarning: Liblinear failed to converge, increase the number of iterations.\n",
      "  warnings.warn(\"Liblinear failed to converge, increase \"\n",
      "\n",
      "/Users/michal.bronis/Desktop/nlp/poleval19/venv/lib/python3.8/site-packages/sklearn/svm/_base.py:985: ConvergenceWarning: Liblinear failed to converge, increase the number of iterations.\n",
      "  warnings.warn(\"Liblinear failed to converge, increase \"\n",
      "\n",
      "/Users/michal.bronis/Desktop/nlp/poleval19/venv/lib/python3.8/site-packages/sklearn/svm/_base.py:985: ConvergenceWarning: Liblinear failed to converge, increase the number of iterations.\n",
      "  warnings.warn(\"Liblinear failed to converge, increase \"\n",
      "\n"
     ]
    },
    {
     "name": "stdout",
     "output_type": "stream",
     "text": [
      "\r",
      " 64%|██████▍   | 320/500 [30:53<13:46,  4.59s/trial, best loss: -0.92161]"
     ]
    },
    {
     "name": "stderr",
     "output_type": "stream",
     "text": [
      "INFO:hyperopt.tpe:build_posterior_wrapper took 0.003041 seconds\n",
      "INFO:hyperopt.tpe:TPE using 320/320 trials with best loss -0.921610\n",
      "INFO:hyperopt.tpe:build_posterior_wrapper took 0.002999 seconds\n",
      "INFO:hyperopt.tpe:TPE using 321/321 trials with best loss -0.921610\n",
      "INFO:hyperopt.tpe:build_posterior_wrapper took 0.005019 seconds\n",
      "INFO:hyperopt.tpe:TPE using 322/322 trials with best loss -0.921610\n",
      "INFO:hyperopt.tpe:build_posterior_wrapper took 0.002964 seconds\n",
      "INFO:hyperopt.tpe:TPE using 323/323 trials with best loss -0.921610\n",
      "INFO:hyperopt.tpe:build_posterior_wrapper took 0.003199 seconds\n",
      "INFO:hyperopt.tpe:TPE using 324/324 trials with best loss -0.921610\n",
      "INFO:hyperopt.tpe:build_posterior_wrapper took 0.003091 seconds\n",
      "INFO:hyperopt.tpe:TPE using 325/325 trials with best loss -0.921610\n",
      "INFO:hyperopt.tpe:build_posterior_wrapper took 0.003175 seconds\n",
      "INFO:hyperopt.tpe:TPE using 326/326 trials with best loss -0.921610\n",
      "/Users/michal.bronis/Desktop/nlp/poleval19/venv/lib/python3.8/site-packages/sklearn/svm/_base.py:985: ConvergenceWarning: Liblinear failed to converge, increase the number of iterations.\n",
      "  warnings.warn(\"Liblinear failed to converge, increase \"\n",
      "\n",
      "/Users/michal.bronis/Desktop/nlp/poleval19/venv/lib/python3.8/site-packages/sklearn/svm/_base.py:985: ConvergenceWarning: Liblinear failed to converge, increase the number of iterations.\n",
      "  warnings.warn(\"Liblinear failed to converge, increase \"\n",
      "\n",
      "/Users/michal.bronis/Desktop/nlp/poleval19/venv/lib/python3.8/site-packages/sklearn/svm/_base.py:985: ConvergenceWarning: Liblinear failed to converge, increase the number of iterations.\n",
      "  warnings.warn(\"Liblinear failed to converge, increase \"\n",
      "\n",
      "/Users/michal.bronis/Desktop/nlp/poleval19/venv/lib/python3.8/site-packages/sklearn/svm/_base.py:985: ConvergenceWarning: Liblinear failed to converge, increase the number of iterations.\n",
      "  warnings.warn(\"Liblinear failed to converge, increase \"\n",
      "\n",
      "/Users/michal.bronis/Desktop/nlp/poleval19/venv/lib/python3.8/site-packages/sklearn/svm/_base.py:985: ConvergenceWarning: Liblinear failed to converge, increase the number of iterations.\n",
      "  warnings.warn(\"Liblinear failed to converge, increase \"\n",
      "\n",
      "/Users/michal.bronis/Desktop/nlp/poleval19/venv/lib/python3.8/site-packages/sklearn/svm/_base.py:985: ConvergenceWarning: Liblinear failed to converge, increase the number of iterations.\n",
      "  warnings.warn(\"Liblinear failed to converge, increase \"\n",
      "\n",
      "/Users/michal.bronis/Desktop/nlp/poleval19/venv/lib/python3.8/site-packages/sklearn/svm/_base.py:985: ConvergenceWarning: Liblinear failed to converge, increase the number of iterations.\n",
      "  warnings.warn(\"Liblinear failed to converge, increase \"\n",
      "\n",
      "/Users/michal.bronis/Desktop/nlp/poleval19/venv/lib/python3.8/site-packages/sklearn/svm/_base.py:985: ConvergenceWarning: Liblinear failed to converge, increase the number of iterations.\n",
      "  warnings.warn(\"Liblinear failed to converge, increase \"\n",
      "\n",
      "/Users/michal.bronis/Desktop/nlp/poleval19/venv/lib/python3.8/site-packages/sklearn/svm/_base.py:985: ConvergenceWarning: Liblinear failed to converge, increase the number of iterations.\n",
      "  warnings.warn(\"Liblinear failed to converge, increase \"\n",
      "\n",
      "/Users/michal.bronis/Desktop/nlp/poleval19/venv/lib/python3.8/site-packages/sklearn/svm/_base.py:985: ConvergenceWarning: Liblinear failed to converge, increase the number of iterations.\n",
      "  warnings.warn(\"Liblinear failed to converge, increase \"\n",
      "\n",
      "/Users/michal.bronis/Desktop/nlp/poleval19/venv/lib/python3.8/site-packages/sklearn/svm/_base.py:985: ConvergenceWarning: Liblinear failed to converge, increase the number of iterations.\n",
      "  warnings.warn(\"Liblinear failed to converge, increase \"\n",
      "\n",
      "/Users/michal.bronis/Desktop/nlp/poleval19/venv/lib/python3.8/site-packages/sklearn/svm/_base.py:985: ConvergenceWarning: Liblinear failed to converge, increase the number of iterations.\n",
      "  warnings.warn(\"Liblinear failed to converge, increase \"\n",
      "\n",
      "/Users/michal.bronis/Desktop/nlp/poleval19/venv/lib/python3.8/site-packages/sklearn/svm/_base.py:985: ConvergenceWarning: Liblinear failed to converge, increase the number of iterations.\n",
      "  warnings.warn(\"Liblinear failed to converge, increase \"\n",
      "\n",
      "/Users/michal.bronis/Desktop/nlp/poleval19/venv/lib/python3.8/site-packages/sklearn/svm/_base.py:985: ConvergenceWarning: Liblinear failed to converge, increase the number of iterations.\n",
      "  warnings.warn(\"Liblinear failed to converge, increase \"\n",
      "\n",
      "/Users/michal.bronis/Desktop/nlp/poleval19/venv/lib/python3.8/site-packages/sklearn/svm/_base.py:985: ConvergenceWarning: Liblinear failed to converge, increase the number of iterations.\n",
      "  warnings.warn(\"Liblinear failed to converge, increase \"\n",
      "\n",
      "/Users/michal.bronis/Desktop/nlp/poleval19/venv/lib/python3.8/site-packages/sklearn/svm/_base.py:985: ConvergenceWarning: Liblinear failed to converge, increase the number of iterations.\n",
      "  warnings.warn(\"Liblinear failed to converge, increase \"\n",
      "\n",
      "/Users/michal.bronis/Desktop/nlp/poleval19/venv/lib/python3.8/site-packages/sklearn/svm/_base.py:985: ConvergenceWarning: Liblinear failed to converge, increase the number of iterations.\n",
      "  warnings.warn(\"Liblinear failed to converge, increase \"\n",
      "\n"
     ]
    },
    {
     "name": "stdout",
     "output_type": "stream",
     "text": [
      "\r",
      " 66%|██████▌   | 330/500 [31:52<14:08,  4.99s/trial, best loss: -0.92161]"
     ]
    },
    {
     "name": "stderr",
     "output_type": "stream",
     "text": [
      "/Users/michal.bronis/Desktop/nlp/poleval19/venv/lib/python3.8/site-packages/sklearn/svm/_base.py:985: ConvergenceWarning: Liblinear failed to converge, increase the number of iterations.\n",
      "  warnings.warn(\"Liblinear failed to converge, increase \"\n",
      "\n",
      "INFO:hyperopt.tpe:build_posterior_wrapper took 0.002908 seconds\n",
      "INFO:hyperopt.tpe:TPE using 330/330 trials with best loss -0.921610\n",
      "INFO:hyperopt.tpe:build_posterior_wrapper took 0.003754 seconds\n",
      "INFO:hyperopt.tpe:TPE using 331/331 trials with best loss -0.921610\n",
      "INFO:hyperopt.tpe:build_posterior_wrapper took 0.002879 seconds\n",
      "INFO:hyperopt.tpe:TPE using 332/332 trials with best loss -0.921610\n",
      "INFO:hyperopt.tpe:build_posterior_wrapper took 0.003023 seconds\n",
      "INFO:hyperopt.tpe:TPE using 333/333 trials with best loss -0.921610\n",
      "INFO:hyperopt.tpe:build_posterior_wrapper took 0.003901 seconds\n",
      "INFO:hyperopt.tpe:TPE using 334/334 trials with best loss -0.921610\n",
      "INFO:hyperopt.tpe:build_posterior_wrapper took 0.002868 seconds\n",
      "INFO:hyperopt.tpe:TPE using 335/335 trials with best loss -0.921610\n",
      "INFO:hyperopt.tpe:build_posterior_wrapper took 0.003361 seconds\n",
      "INFO:hyperopt.tpe:TPE using 336/336 trials with best loss -0.921610\n",
      "INFO:hyperopt.tpe:build_posterior_wrapper took 0.003326 seconds\n",
      "INFO:hyperopt.tpe:TPE using 337/337 trials with best loss -0.921610\n",
      "INFO:hyperopt.tpe:build_posterior_wrapper took 0.003994 seconds\n",
      "INFO:hyperopt.tpe:TPE using 338/338 trials with best loss -0.921610\n",
      "INFO:hyperopt.tpe:build_posterior_wrapper took 0.003152 seconds\n",
      "INFO:hyperopt.tpe:TPE using 339/339 trials with best loss -0.921610\n"
     ]
    },
    {
     "name": "stdout",
     "output_type": "stream",
     "text": [
      "\r",
      " 68%|██████▊   | 340/500 [32:08<10:35,  3.97s/trial, best loss: -0.92161]"
     ]
    },
    {
     "name": "stderr",
     "output_type": "stream",
     "text": [
      "/Users/michal.bronis/Desktop/nlp/poleval19/venv/lib/python3.8/site-packages/sklearn/svm/_base.py:985: ConvergenceWarning: Liblinear failed to converge, increase the number of iterations.\n",
      "  warnings.warn(\"Liblinear failed to converge, increase \"\n",
      "\n",
      "/Users/michal.bronis/Desktop/nlp/poleval19/venv/lib/python3.8/site-packages/sklearn/svm/_base.py:985: ConvergenceWarning: Liblinear failed to converge, increase the number of iterations.\n",
      "  warnings.warn(\"Liblinear failed to converge, increase \"\n",
      "\n",
      "/Users/michal.bronis/Desktop/nlp/poleval19/venv/lib/python3.8/site-packages/sklearn/svm/_base.py:985: ConvergenceWarning: Liblinear failed to converge, increase the number of iterations.\n",
      "  warnings.warn(\"Liblinear failed to converge, increase \"\n",
      "\n",
      "/Users/michal.bronis/Desktop/nlp/poleval19/venv/lib/python3.8/site-packages/sklearn/svm/_base.py:985: ConvergenceWarning: Liblinear failed to converge, increase the number of iterations.\n",
      "  warnings.warn(\"Liblinear failed to converge, increase \"\n",
      "\n",
      "/Users/michal.bronis/Desktop/nlp/poleval19/venv/lib/python3.8/site-packages/sklearn/svm/_base.py:985: ConvergenceWarning: Liblinear failed to converge, increase the number of iterations.\n",
      "  warnings.warn(\"Liblinear failed to converge, increase \"\n",
      "\n",
      "/Users/michal.bronis/Desktop/nlp/poleval19/venv/lib/python3.8/site-packages/sklearn/svm/_base.py:985: ConvergenceWarning: Liblinear failed to converge, increase the number of iterations.\n",
      "  warnings.warn(\"Liblinear failed to converge, increase \"\n",
      "\n"
     ]
    },
    {
     "name": "stdout",
     "output_type": "stream",
     "text": [
      "\r",
      " 70%|███████   | 350/500 [32:45<09:42,  3.88s/trial, best loss: -0.92161]"
     ]
    },
    {
     "name": "stderr",
     "output_type": "stream",
     "text": [
      "INFO:hyperopt.tpe:build_posterior_wrapper took 0.004886 seconds\n",
      "INFO:hyperopt.tpe:TPE using 350/350 trials with best loss -0.921610\n",
      "INFO:hyperopt.tpe:build_posterior_wrapper took 0.003007 seconds\n",
      "INFO:hyperopt.tpe:TPE using 351/351 trials with best loss -0.921610\n",
      "INFO:hyperopt.tpe:build_posterior_wrapper took 0.004305 seconds\n",
      "INFO:hyperopt.tpe:TPE using 352/352 trials with best loss -0.921610\n",
      "INFO:hyperopt.tpe:build_posterior_wrapper took 0.003302 seconds\n",
      "INFO:hyperopt.tpe:TPE using 353/353 trials with best loss -0.921610\n",
      "INFO:hyperopt.tpe:build_posterior_wrapper took 0.004311 seconds\n",
      "INFO:hyperopt.tpe:TPE using 354/354 trials with best loss -0.921610\n"
     ]
    },
    {
     "name": "stdout",
     "output_type": "stream",
     "text": [
      "\r",
      " 72%|███████▏  | 360/500 [33:00<07:23,  3.17s/trial, best loss: -0.92161]"
     ]
    },
    {
     "name": "stderr",
     "output_type": "stream",
     "text": [
      "INFO:hyperopt.tpe:build_posterior_wrapper took 0.003137 seconds\n",
      "INFO:hyperopt.tpe:TPE using 360/360 trials with best loss -0.921610\n",
      "INFO:hyperopt.tpe:build_posterior_wrapper took 0.003182 seconds\n",
      "INFO:hyperopt.tpe:TPE using 361/361 trials with best loss -0.921610\n",
      "INFO:hyperopt.tpe:build_posterior_wrapper took 0.003152 seconds\n",
      "INFO:hyperopt.tpe:TPE using 362/362 trials with best loss -0.921610\n",
      "/Users/michal.bronis/Desktop/nlp/poleval19/venv/lib/python3.8/site-packages/sklearn/svm/_base.py:985: ConvergenceWarning: Liblinear failed to converge, increase the number of iterations.\n",
      "  warnings.warn(\"Liblinear failed to converge, increase \"\n",
      "\n",
      "/Users/michal.bronis/Desktop/nlp/poleval19/venv/lib/python3.8/site-packages/sklearn/svm/_base.py:985: ConvergenceWarning: Liblinear failed to converge, increase the number of iterations.\n",
      "  warnings.warn(\"Liblinear failed to converge, increase \"\n",
      "\n",
      "/Users/michal.bronis/Desktop/nlp/poleval19/venv/lib/python3.8/site-packages/sklearn/svm/_base.py:985: ConvergenceWarning: Liblinear failed to converge, increase the number of iterations.\n",
      "  warnings.warn(\"Liblinear failed to converge, increase \"\n",
      "\n",
      "/Users/michal.bronis/Desktop/nlp/poleval19/venv/lib/python3.8/site-packages/sklearn/svm/_base.py:985: ConvergenceWarning: Liblinear failed to converge, increase the number of iterations.\n",
      "  warnings.warn(\"Liblinear failed to converge, increase \"\n",
      "\n",
      "/Users/michal.bronis/Desktop/nlp/poleval19/venv/lib/python3.8/site-packages/sklearn/svm/_base.py:985: ConvergenceWarning: Liblinear failed to converge, increase the number of iterations.\n",
      "  warnings.warn(\"Liblinear failed to converge, increase \"\n",
      "\n",
      "/Users/michal.bronis/Desktop/nlp/poleval19/venv/lib/python3.8/site-packages/sklearn/svm/_base.py:985: ConvergenceWarning: Liblinear failed to converge, increase the number of iterations.\n",
      "  warnings.warn(\"Liblinear failed to converge, increase \"\n",
      "\n"
     ]
    },
    {
     "name": "stdout",
     "output_type": "stream",
     "text": [
      "\r",
      " 74%|███████▍  | 370/500 [34:08<09:14,  4.27s/trial, best loss: -0.92161]"
     ]
    },
    {
     "name": "stderr",
     "output_type": "stream",
     "text": [
      "INFO:hyperopt.tpe:build_posterior_wrapper took 0.003065 seconds\n",
      "INFO:hyperopt.tpe:TPE using 370/370 trials with best loss -0.921610\n",
      "INFO:hyperopt.tpe:build_posterior_wrapper took 0.003171 seconds\n",
      "INFO:hyperopt.tpe:TPE using 371/371 trials with best loss -0.921610\n",
      "/Users/michal.bronis/Desktop/nlp/poleval19/venv/lib/python3.8/site-packages/sklearn/svm/_base.py:985: ConvergenceWarning: Liblinear failed to converge, increase the number of iterations.\n",
      "  warnings.warn(\"Liblinear failed to converge, increase \"\n",
      "\n",
      "/Users/michal.bronis/Desktop/nlp/poleval19/venv/lib/python3.8/site-packages/sklearn/svm/_base.py:985: ConvergenceWarning: Liblinear failed to converge, increase the number of iterations.\n",
      "  warnings.warn(\"Liblinear failed to converge, increase \"\n",
      "\n",
      "/Users/michal.bronis/Desktop/nlp/poleval19/venv/lib/python3.8/site-packages/sklearn/svm/_base.py:985: ConvergenceWarning: Liblinear failed to converge, increase the number of iterations.\n",
      "  warnings.warn(\"Liblinear failed to converge, increase \"\n",
      "\n",
      "/Users/michal.bronis/Desktop/nlp/poleval19/venv/lib/python3.8/site-packages/sklearn/svm/_base.py:985: ConvergenceWarning: Liblinear failed to converge, increase the number of iterations.\n",
      "  warnings.warn(\"Liblinear failed to converge, increase \"\n",
      "\n",
      "/Users/michal.bronis/Desktop/nlp/poleval19/venv/lib/python3.8/site-packages/sklearn/svm/_base.py:985: ConvergenceWarning: Liblinear failed to converge, increase the number of iterations.\n",
      "  warnings.warn(\"Liblinear failed to converge, increase \"\n",
      "\n",
      "/Users/michal.bronis/Desktop/nlp/poleval19/venv/lib/python3.8/site-packages/sklearn/svm/_base.py:985: ConvergenceWarning: Liblinear failed to converge, increase the number of iterations.\n",
      "  warnings.warn(\"Liblinear failed to converge, increase \"\n",
      "\n",
      "/Users/michal.bronis/Desktop/nlp/poleval19/venv/lib/python3.8/site-packages/sklearn/svm/_base.py:985: ConvergenceWarning: Liblinear failed to converge, increase the number of iterations.\n",
      "  warnings.warn(\"Liblinear failed to converge, increase \"\n",
      "\n",
      "/Users/michal.bronis/Desktop/nlp/poleval19/venv/lib/python3.8/site-packages/sklearn/svm/_base.py:985: ConvergenceWarning: Liblinear failed to converge, increase the number of iterations.\n",
      "  warnings.warn(\"Liblinear failed to converge, increase \"\n",
      "\n",
      "/Users/michal.bronis/Desktop/nlp/poleval19/venv/lib/python3.8/site-packages/sklearn/svm/_base.py:985: ConvergenceWarning: Liblinear failed to converge, increase the number of iterations.\n",
      "  warnings.warn(\"Liblinear failed to converge, increase \"\n",
      "\n",
      "/Users/michal.bronis/Desktop/nlp/poleval19/venv/lib/python3.8/site-packages/sklearn/svm/_base.py:985: ConvergenceWarning: Liblinear failed to converge, increase the number of iterations.\n",
      "  warnings.warn(\"Liblinear failed to converge, increase \"\n",
      "\n",
      "/Users/michal.bronis/Desktop/nlp/poleval19/venv/lib/python3.8/site-packages/sklearn/svm/_base.py:985: ConvergenceWarning: Liblinear failed to converge, increase the number of iterations.\n",
      "  warnings.warn(\"Liblinear failed to converge, increase \"\n",
      "\n",
      "/Users/michal.bronis/Desktop/nlp/poleval19/venv/lib/python3.8/site-packages/sklearn/svm/_base.py:985: ConvergenceWarning: Liblinear failed to converge, increase the number of iterations.\n",
      "  warnings.warn(\"Liblinear failed to converge, increase \"\n",
      "\n"
     ]
    },
    {
     "name": "stdout",
     "output_type": "stream",
     "text": [
      "\r",
      " 76%|███████▌  | 380/500 [34:44<08:07,  4.07s/trial, best loss: -0.92161]"
     ]
    },
    {
     "name": "stderr",
     "output_type": "stream",
     "text": [
      "INFO:hyperopt.tpe:build_posterior_wrapper took 0.003624 seconds\n",
      "INFO:hyperopt.tpe:TPE using 380/380 trials with best loss -0.921610\n",
      "/Users/michal.bronis/Desktop/nlp/poleval19/venv/lib/python3.8/site-packages/sklearn/svm/_base.py:985: ConvergenceWarning: Liblinear failed to converge, increase the number of iterations.\n",
      "  warnings.warn(\"Liblinear failed to converge, increase \"\n",
      "\n",
      "/Users/michal.bronis/Desktop/nlp/poleval19/venv/lib/python3.8/site-packages/sklearn/svm/_base.py:985: ConvergenceWarning: Liblinear failed to converge, increase the number of iterations.\n",
      "  warnings.warn(\"Liblinear failed to converge, increase \"\n",
      "\n",
      "/Users/michal.bronis/Desktop/nlp/poleval19/venv/lib/python3.8/site-packages/sklearn/svm/_base.py:985: ConvergenceWarning: Liblinear failed to converge, increase the number of iterations.\n",
      "  warnings.warn(\"Liblinear failed to converge, increase \"\n",
      "\n",
      "/Users/michal.bronis/Desktop/nlp/poleval19/venv/lib/python3.8/site-packages/sklearn/svm/_base.py:985: ConvergenceWarning: Liblinear failed to converge, increase the number of iterations.\n",
      "  warnings.warn(\"Liblinear failed to converge, increase \"\n",
      "\n",
      "/Users/michal.bronis/Desktop/nlp/poleval19/venv/lib/python3.8/site-packages/sklearn/svm/_base.py:985: ConvergenceWarning: Liblinear failed to converge, increase the number of iterations.\n",
      "  warnings.warn(\"Liblinear failed to converge, increase \"\n",
      "\n",
      "/Users/michal.bronis/Desktop/nlp/poleval19/venv/lib/python3.8/site-packages/sklearn/svm/_base.py:985: ConvergenceWarning: Liblinear failed to converge, increase the number of iterations.\n",
      "  warnings.warn(\"Liblinear failed to converge, increase \"\n",
      "\n",
      "/Users/michal.bronis/Desktop/nlp/poleval19/venv/lib/python3.8/site-packages/sklearn/svm/_base.py:985: ConvergenceWarning: Liblinear failed to converge, increase the number of iterations.\n",
      "  warnings.warn(\"Liblinear failed to converge, increase \"\n",
      "\n",
      "/Users/michal.bronis/Desktop/nlp/poleval19/venv/lib/python3.8/site-packages/sklearn/svm/_base.py:985: ConvergenceWarning: Liblinear failed to converge, increase the number of iterations.\n",
      "  warnings.warn(\"Liblinear failed to converge, increase \"\n",
      "\n",
      "/Users/michal.bronis/Desktop/nlp/poleval19/venv/lib/python3.8/site-packages/sklearn/svm/_base.py:985: ConvergenceWarning: Liblinear failed to converge, increase the number of iterations.\n",
      "  warnings.warn(\"Liblinear failed to converge, increase \"\n",
      "\n",
      "/Users/michal.bronis/Desktop/nlp/poleval19/venv/lib/python3.8/site-packages/sklearn/svm/_base.py:985: ConvergenceWarning: Liblinear failed to converge, increase the number of iterations.\n",
      "  warnings.warn(\"Liblinear failed to converge, increase \"\n",
      "\n",
      "/Users/michal.bronis/Desktop/nlp/poleval19/venv/lib/python3.8/site-packages/sklearn/svm/_base.py:985: ConvergenceWarning: Liblinear failed to converge, increase the number of iterations.\n",
      "  warnings.warn(\"Liblinear failed to converge, increase \"\n",
      "\n"
     ]
    },
    {
     "name": "stdout",
     "output_type": "stream",
     "text": [
      "\r",
      " 78%|███████▊  | 390/500 [35:54<09:03,  4.94s/trial, best loss: -0.92161]"
     ]
    },
    {
     "name": "stderr",
     "output_type": "stream",
     "text": [
      "INFO:hyperopt.tpe:build_posterior_wrapper took 0.006423 seconds\n",
      "INFO:hyperopt.tpe:TPE using 390/390 trials with best loss -0.921610\n",
      "INFO:hyperopt.tpe:build_posterior_wrapper took 0.003050 seconds\n",
      "INFO:hyperopt.tpe:TPE using 391/391 trials with best loss -0.921610\n",
      "INFO:hyperopt.tpe:build_posterior_wrapper took 0.006810 seconds\n",
      "INFO:hyperopt.tpe:TPE using 392/392 trials with best loss -0.921610\n",
      "/Users/michal.bronis/Desktop/nlp/poleval19/venv/lib/python3.8/site-packages/sklearn/svm/_base.py:985: ConvergenceWarning: Liblinear failed to converge, increase the number of iterations.\n",
      "  warnings.warn(\"Liblinear failed to converge, increase \"\n",
      "\n",
      "/Users/michal.bronis/Desktop/nlp/poleval19/venv/lib/python3.8/site-packages/sklearn/svm/_base.py:985: ConvergenceWarning: Liblinear failed to converge, increase the number of iterations.\n",
      "  warnings.warn(\"Liblinear failed to converge, increase \"\n",
      "\n",
      "/Users/michal.bronis/Desktop/nlp/poleval19/venv/lib/python3.8/site-packages/sklearn/svm/_base.py:985: ConvergenceWarning: Liblinear failed to converge, increase the number of iterations.\n",
      "  warnings.warn(\"Liblinear failed to converge, increase \"\n",
      "\n",
      "/Users/michal.bronis/Desktop/nlp/poleval19/venv/lib/python3.8/site-packages/sklearn/svm/_base.py:985: ConvergenceWarning: Liblinear failed to converge, increase the number of iterations.\n",
      "  warnings.warn(\"Liblinear failed to converge, increase \"\n",
      "\n",
      "/Users/michal.bronis/Desktop/nlp/poleval19/venv/lib/python3.8/site-packages/sklearn/svm/_base.py:985: ConvergenceWarning: Liblinear failed to converge, increase the number of iterations.\n",
      "  warnings.warn(\"Liblinear failed to converge, increase \"\n",
      "\n",
      "/Users/michal.bronis/Desktop/nlp/poleval19/venv/lib/python3.8/site-packages/sklearn/svm/_base.py:985: ConvergenceWarning: Liblinear failed to converge, increase the number of iterations.\n",
      "  warnings.warn(\"Liblinear failed to converge, increase \"\n",
      "\n",
      "/Users/michal.bronis/Desktop/nlp/poleval19/venv/lib/python3.8/site-packages/sklearn/svm/_base.py:985: ConvergenceWarning: Liblinear failed to converge, increase the number of iterations.\n",
      "  warnings.warn(\"Liblinear failed to converge, increase \"\n",
      "\n",
      "/Users/michal.bronis/Desktop/nlp/poleval19/venv/lib/python3.8/site-packages/sklearn/svm/_base.py:985: ConvergenceWarning: Liblinear failed to converge, increase the number of iterations.\n",
      "  warnings.warn(\"Liblinear failed to converge, increase \"\n",
      "\n",
      "/Users/michal.bronis/Desktop/nlp/poleval19/venv/lib/python3.8/site-packages/sklearn/svm/_base.py:985: ConvergenceWarning: Liblinear failed to converge, increase the number of iterations.\n",
      "  warnings.warn(\"Liblinear failed to converge, increase \"\n",
      "\n",
      "/Users/michal.bronis/Desktop/nlp/poleval19/venv/lib/python3.8/site-packages/sklearn/svm/_base.py:985: ConvergenceWarning: Liblinear failed to converge, increase the number of iterations.\n",
      "  warnings.warn(\"Liblinear failed to converge, increase \"\n",
      "\n",
      "/Users/michal.bronis/Desktop/nlp/poleval19/venv/lib/python3.8/site-packages/sklearn/svm/_base.py:985: ConvergenceWarning: Liblinear failed to converge, increase the number of iterations.\n",
      "  warnings.warn(\"Liblinear failed to converge, increase \"\n",
      "\n",
      "/Users/michal.bronis/Desktop/nlp/poleval19/venv/lib/python3.8/site-packages/sklearn/svm/_base.py:985: ConvergenceWarning: Liblinear failed to converge, increase the number of iterations.\n",
      "  warnings.warn(\"Liblinear failed to converge, increase \"\n",
      "\n",
      "/Users/michal.bronis/Desktop/nlp/poleval19/venv/lib/python3.8/site-packages/sklearn/svm/_base.py:985: ConvergenceWarning: Liblinear failed to converge, increase the number of iterations.\n",
      "  warnings.warn(\"Liblinear failed to converge, increase \"\n",
      "\n",
      "/Users/michal.bronis/Desktop/nlp/poleval19/venv/lib/python3.8/site-packages/sklearn/svm/_base.py:985: ConvergenceWarning: Liblinear failed to converge, increase the number of iterations.\n",
      "  warnings.warn(\"Liblinear failed to converge, increase \"\n",
      "\n",
      "/Users/michal.bronis/Desktop/nlp/poleval19/venv/lib/python3.8/site-packages/sklearn/svm/_base.py:985: ConvergenceWarning: Liblinear failed to converge, increase the number of iterations.\n",
      "  warnings.warn(\"Liblinear failed to converge, increase \"\n",
      "\n",
      "/Users/michal.bronis/Desktop/nlp/poleval19/venv/lib/python3.8/site-packages/sklearn/svm/_base.py:985: ConvergenceWarning: Liblinear failed to converge, increase the number of iterations.\n",
      "  warnings.warn(\"Liblinear failed to converge, increase \"\n",
      "\n",
      "/Users/michal.bronis/Desktop/nlp/poleval19/venv/lib/python3.8/site-packages/sklearn/svm/_base.py:985: ConvergenceWarning: Liblinear failed to converge, increase the number of iterations.\n",
      "  warnings.warn(\"Liblinear failed to converge, increase \"\n",
      "\n"
     ]
    },
    {
     "name": "stdout",
     "output_type": "stream",
     "text": [
      "\r",
      " 80%|████████  | 400/500 [36:32<07:41,  4.61s/trial, best loss: -0.92161]"
     ]
    },
    {
     "name": "stderr",
     "output_type": "stream",
     "text": [
      "/Users/michal.bronis/Desktop/nlp/poleval19/venv/lib/python3.8/site-packages/sklearn/svm/_base.py:985: ConvergenceWarning: Liblinear failed to converge, increase the number of iterations.\n",
      "  warnings.warn(\"Liblinear failed to converge, increase \"\n",
      "\n",
      "INFO:hyperopt.tpe:build_posterior_wrapper took 0.005894 seconds\n",
      "INFO:hyperopt.tpe:TPE using 400/400 trials with best loss -0.921610\n",
      "INFO:hyperopt.tpe:build_posterior_wrapper took 0.004177 seconds\n",
      "INFO:hyperopt.tpe:TPE using 401/401 trials with best loss -0.921610\n",
      "INFO:hyperopt.tpe:build_posterior_wrapper took 0.003664 seconds\n",
      "INFO:hyperopt.tpe:TPE using 402/402 trials with best loss -0.921610\n",
      "INFO:hyperopt.tpe:build_posterior_wrapper took 0.004054 seconds\n",
      "INFO:hyperopt.tpe:TPE using 403/403 trials with best loss -0.921610\n",
      "INFO:hyperopt.tpe:build_posterior_wrapper took 0.003392 seconds\n",
      "INFO:hyperopt.tpe:TPE using 404/404 trials with best loss -0.921610\n",
      "INFO:hyperopt.tpe:build_posterior_wrapper took 0.003040 seconds\n",
      "INFO:hyperopt.tpe:TPE using 405/405 trials with best loss -0.921610\n",
      "INFO:hyperopt.tpe:build_posterior_wrapper took 0.003102 seconds\n",
      "INFO:hyperopt.tpe:TPE using 406/406 trials with best loss -0.921610\n",
      "/Users/michal.bronis/Desktop/nlp/poleval19/venv/lib/python3.8/site-packages/sklearn/svm/_base.py:985: ConvergenceWarning: Liblinear failed to converge, increase the number of iterations.\n",
      "  warnings.warn(\"Liblinear failed to converge, increase \"\n",
      "\n",
      "/Users/michal.bronis/Desktop/nlp/poleval19/venv/lib/python3.8/site-packages/sklearn/svm/_base.py:985: ConvergenceWarning: Liblinear failed to converge, increase the number of iterations.\n",
      "  warnings.warn(\"Liblinear failed to converge, increase \"\n",
      "\n",
      "/Users/michal.bronis/Desktop/nlp/poleval19/venv/lib/python3.8/site-packages/sklearn/svm/_base.py:985: ConvergenceWarning: Liblinear failed to converge, increase the number of iterations.\n",
      "  warnings.warn(\"Liblinear failed to converge, increase \"\n",
      "\n",
      "/Users/michal.bronis/Desktop/nlp/poleval19/venv/lib/python3.8/site-packages/sklearn/svm/_base.py:985: ConvergenceWarning: Liblinear failed to converge, increase the number of iterations.\n",
      "  warnings.warn(\"Liblinear failed to converge, increase \"\n",
      "\n",
      "/Users/michal.bronis/Desktop/nlp/poleval19/venv/lib/python3.8/site-packages/sklearn/svm/_base.py:985: ConvergenceWarning: Liblinear failed to converge, increase the number of iterations.\n",
      "  warnings.warn(\"Liblinear failed to converge, increase \"\n",
      "\n",
      "/Users/michal.bronis/Desktop/nlp/poleval19/venv/lib/python3.8/site-packages/sklearn/svm/_base.py:985: ConvergenceWarning: Liblinear failed to converge, increase the number of iterations.\n",
      "  warnings.warn(\"Liblinear failed to converge, increase \"\n",
      "\n"
     ]
    },
    {
     "name": "stdout",
     "output_type": "stream",
     "text": [
      "\r",
      " 82%|████████▏ | 410/500 [37:17<06:50,  4.56s/trial, best loss: -0.92161]"
     ]
    },
    {
     "name": "stderr",
     "output_type": "stream",
     "text": [
      "/Users/michal.bronis/Desktop/nlp/poleval19/venv/lib/python3.8/site-packages/sklearn/svm/_base.py:985: ConvergenceWarning: Liblinear failed to converge, increase the number of iterations.\n",
      "  warnings.warn(\"Liblinear failed to converge, increase \"\n",
      "\n",
      "/Users/michal.bronis/Desktop/nlp/poleval19/venv/lib/python3.8/site-packages/sklearn/svm/_base.py:985: ConvergenceWarning: Liblinear failed to converge, increase the number of iterations.\n",
      "  warnings.warn(\"Liblinear failed to converge, increase \"\n",
      "\n",
      "/Users/michal.bronis/Desktop/nlp/poleval19/venv/lib/python3.8/site-packages/sklearn/svm/_base.py:985: ConvergenceWarning: Liblinear failed to converge, increase the number of iterations.\n",
      "  warnings.warn(\"Liblinear failed to converge, increase \"\n",
      "\n",
      "/Users/michal.bronis/Desktop/nlp/poleval19/venv/lib/python3.8/site-packages/sklearn/svm/_base.py:985: ConvergenceWarning: Liblinear failed to converge, increase the number of iterations.\n",
      "  warnings.warn(\"Liblinear failed to converge, increase \"\n",
      "\n",
      "/Users/michal.bronis/Desktop/nlp/poleval19/venv/lib/python3.8/site-packages/sklearn/svm/_base.py:985: ConvergenceWarning: Liblinear failed to converge, increase the number of iterations.\n",
      "  warnings.warn(\"Liblinear failed to converge, increase \"\n",
      "\n",
      "/Users/michal.bronis/Desktop/nlp/poleval19/venv/lib/python3.8/site-packages/sklearn/svm/_base.py:985: ConvergenceWarning: Liblinear failed to converge, increase the number of iterations.\n",
      "  warnings.warn(\"Liblinear failed to converge, increase \"\n",
      "\n",
      "/Users/michal.bronis/Desktop/nlp/poleval19/venv/lib/python3.8/site-packages/sklearn/svm/_base.py:985: ConvergenceWarning: Liblinear failed to converge, increase the number of iterations.\n",
      "  warnings.warn(\"Liblinear failed to converge, increase \"\n",
      "\n",
      "/Users/michal.bronis/Desktop/nlp/poleval19/venv/lib/python3.8/site-packages/sklearn/svm/_base.py:985: ConvergenceWarning: Liblinear failed to converge, increase the number of iterations.\n",
      "  warnings.warn(\"Liblinear failed to converge, increase \"\n",
      "\n",
      "/Users/michal.bronis/Desktop/nlp/poleval19/venv/lib/python3.8/site-packages/sklearn/svm/_base.py:985: ConvergenceWarning: Liblinear failed to converge, increase the number of iterations.\n",
      "  warnings.warn(\"Liblinear failed to converge, increase \"\n",
      "\n",
      "/Users/michal.bronis/Desktop/nlp/poleval19/venv/lib/python3.8/site-packages/sklearn/svm/_base.py:985: ConvergenceWarning: Liblinear failed to converge, increase the number of iterations.\n",
      "  warnings.warn(\"Liblinear failed to converge, increase \"\n",
      "\n",
      "/Users/michal.bronis/Desktop/nlp/poleval19/venv/lib/python3.8/site-packages/sklearn/svm/_base.py:985: ConvergenceWarning: Liblinear failed to converge, increase the number of iterations.\n",
      "  warnings.warn(\"Liblinear failed to converge, increase \"\n",
      "\n",
      "/Users/michal.bronis/Desktop/nlp/poleval19/venv/lib/python3.8/site-packages/sklearn/svm/_base.py:985: ConvergenceWarning: Liblinear failed to converge, increase the number of iterations.\n",
      "  warnings.warn(\"Liblinear failed to converge, increase \"\n",
      "\n",
      "/Users/michal.bronis/Desktop/nlp/poleval19/venv/lib/python3.8/site-packages/sklearn/svm/_base.py:985: ConvergenceWarning: Liblinear failed to converge, increase the number of iterations.\n",
      "  warnings.warn(\"Liblinear failed to converge, increase \"\n",
      "\n",
      "/Users/michal.bronis/Desktop/nlp/poleval19/venv/lib/python3.8/site-packages/sklearn/svm/_base.py:985: ConvergenceWarning: Liblinear failed to converge, increase the number of iterations.\n",
      "  warnings.warn(\"Liblinear failed to converge, increase \"\n",
      "\n",
      "/Users/michal.bronis/Desktop/nlp/poleval19/venv/lib/python3.8/site-packages/sklearn/svm/_base.py:985: ConvergenceWarning: Liblinear failed to converge, increase the number of iterations.\n",
      "  warnings.warn(\"Liblinear failed to converge, increase \"\n",
      "\n",
      "/Users/michal.bronis/Desktop/nlp/poleval19/venv/lib/python3.8/site-packages/sklearn/svm/_base.py:985: ConvergenceWarning: Liblinear failed to converge, increase the number of iterations.\n",
      "  warnings.warn(\"Liblinear failed to converge, increase \"\n",
      "\n",
      "/Users/michal.bronis/Desktop/nlp/poleval19/venv/lib/python3.8/site-packages/sklearn/svm/_base.py:985: ConvergenceWarning: Liblinear failed to converge, increase the number of iterations.\n",
      "  warnings.warn(\"Liblinear failed to converge, increase \"\n",
      "\n",
      "/Users/michal.bronis/Desktop/nlp/poleval19/venv/lib/python3.8/site-packages/sklearn/svm/_base.py:985: ConvergenceWarning: Liblinear failed to converge, increase the number of iterations.\n",
      "  warnings.warn(\"Liblinear failed to converge, increase \"\n",
      "\n",
      "/Users/michal.bronis/Desktop/nlp/poleval19/venv/lib/python3.8/site-packages/sklearn/svm/_base.py:985: ConvergenceWarning: Liblinear failed to converge, increase the number of iterations.\n",
      "  warnings.warn(\"Liblinear failed to converge, increase \"\n",
      "\n",
      "/Users/michal.bronis/Desktop/nlp/poleval19/venv/lib/python3.8/site-packages/sklearn/svm/_base.py:985: ConvergenceWarning: Liblinear failed to converge, increase the number of iterations.\n",
      "  warnings.warn(\"Liblinear failed to converge, increase \"\n",
      "\n",
      "/Users/michal.bronis/Desktop/nlp/poleval19/venv/lib/python3.8/site-packages/sklearn/svm/_base.py:985: ConvergenceWarning: Liblinear failed to converge, increase the number of iterations.\n",
      "  warnings.warn(\"Liblinear failed to converge, increase \"\n",
      "\n",
      "/Users/michal.bronis/Desktop/nlp/poleval19/venv/lib/python3.8/site-packages/sklearn/svm/_base.py:985: ConvergenceWarning: Liblinear failed to converge, increase the number of iterations.\n",
      "  warnings.warn(\"Liblinear failed to converge, increase \"\n",
      "\n",
      "/Users/michal.bronis/Desktop/nlp/poleval19/venv/lib/python3.8/site-packages/sklearn/svm/_base.py:985: ConvergenceWarning: Liblinear failed to converge, increase the number of iterations.\n",
      "  warnings.warn(\"Liblinear failed to converge, increase \"\n",
      "\n",
      "/Users/michal.bronis/Desktop/nlp/poleval19/venv/lib/python3.8/site-packages/sklearn/svm/_base.py:985: ConvergenceWarning: Liblinear failed to converge, increase the number of iterations.\n",
      "  warnings.warn(\"Liblinear failed to converge, increase \"\n",
      "\n"
     ]
    },
    {
     "name": "stdout",
     "output_type": "stream",
     "text": [
      "\r",
      " 84%|████████▍ | 420/500 [38:29<07:08,  5.35s/trial, best loss: -0.92161]"
     ]
    },
    {
     "name": "stderr",
     "output_type": "stream",
     "text": [
      "INFO:hyperopt.tpe:build_posterior_wrapper took 0.003406 seconds\n",
      "INFO:hyperopt.tpe:TPE using 420/420 trials with best loss -0.921610\n",
      "INFO:hyperopt.tpe:build_posterior_wrapper took 0.002988 seconds\n",
      "INFO:hyperopt.tpe:TPE using 421/421 trials with best loss -0.921610\n",
      "INFO:hyperopt.tpe:build_posterior_wrapper took 0.003224 seconds\n",
      "INFO:hyperopt.tpe:TPE using 422/422 trials with best loss -0.921610\n",
      "/Users/michal.bronis/Desktop/nlp/poleval19/venv/lib/python3.8/site-packages/sklearn/svm/_base.py:985: ConvergenceWarning: Liblinear failed to converge, increase the number of iterations.\n",
      "  warnings.warn(\"Liblinear failed to converge, increase \"\n",
      "\n",
      "/Users/michal.bronis/Desktop/nlp/poleval19/venv/lib/python3.8/site-packages/sklearn/svm/_base.py:985: ConvergenceWarning: Liblinear failed to converge, increase the number of iterations.\n",
      "  warnings.warn(\"Liblinear failed to converge, increase \"\n",
      "\n",
      "/Users/michal.bronis/Desktop/nlp/poleval19/venv/lib/python3.8/site-packages/sklearn/svm/_base.py:985: ConvergenceWarning: Liblinear failed to converge, increase the number of iterations.\n",
      "  warnings.warn(\"Liblinear failed to converge, increase \"\n",
      "\n",
      "/Users/michal.bronis/Desktop/nlp/poleval19/venv/lib/python3.8/site-packages/sklearn/svm/_base.py:985: ConvergenceWarning: Liblinear failed to converge, increase the number of iterations.\n",
      "  warnings.warn(\"Liblinear failed to converge, increase \"\n",
      "\n",
      "/Users/michal.bronis/Desktop/nlp/poleval19/venv/lib/python3.8/site-packages/sklearn/svm/_base.py:985: ConvergenceWarning: Liblinear failed to converge, increase the number of iterations.\n",
      "  warnings.warn(\"Liblinear failed to converge, increase \"\n",
      "\n",
      "/Users/michal.bronis/Desktop/nlp/poleval19/venv/lib/python3.8/site-packages/sklearn/svm/_base.py:985: ConvergenceWarning: Liblinear failed to converge, increase the number of iterations.\n",
      "  warnings.warn(\"Liblinear failed to converge, increase \"\n",
      "\n",
      "/Users/michal.bronis/Desktop/nlp/poleval19/venv/lib/python3.8/site-packages/sklearn/svm/_base.py:985: ConvergenceWarning: Liblinear failed to converge, increase the number of iterations.\n",
      "  warnings.warn(\"Liblinear failed to converge, increase \"\n",
      "\n",
      "/Users/michal.bronis/Desktop/nlp/poleval19/venv/lib/python3.8/site-packages/sklearn/svm/_base.py:985: ConvergenceWarning: Liblinear failed to converge, increase the number of iterations.\n",
      "  warnings.warn(\"Liblinear failed to converge, increase \"\n",
      "\n",
      "/Users/michal.bronis/Desktop/nlp/poleval19/venv/lib/python3.8/site-packages/sklearn/svm/_base.py:985: ConvergenceWarning: Liblinear failed to converge, increase the number of iterations.\n",
      "  warnings.warn(\"Liblinear failed to converge, increase \"\n",
      "\n",
      "/Users/michal.bronis/Desktop/nlp/poleval19/venv/lib/python3.8/site-packages/sklearn/svm/_base.py:985: ConvergenceWarning: Liblinear failed to converge, increase the number of iterations.\n",
      "  warnings.warn(\"Liblinear failed to converge, increase \"\n",
      "\n",
      "/Users/michal.bronis/Desktop/nlp/poleval19/venv/lib/python3.8/site-packages/sklearn/svm/_base.py:985: ConvergenceWarning: Liblinear failed to converge, increase the number of iterations.\n",
      "  warnings.warn(\"Liblinear failed to converge, increase \"\n",
      "\n",
      "/Users/michal.bronis/Desktop/nlp/poleval19/venv/lib/python3.8/site-packages/sklearn/svm/_base.py:985: ConvergenceWarning: Liblinear failed to converge, increase the number of iterations.\n",
      "  warnings.warn(\"Liblinear failed to converge, increase \"\n",
      "\n",
      "/Users/michal.bronis/Desktop/nlp/poleval19/venv/lib/python3.8/site-packages/sklearn/svm/_base.py:985: ConvergenceWarning: Liblinear failed to converge, increase the number of iterations.\n",
      "  warnings.warn(\"Liblinear failed to converge, increase \"\n",
      "\n",
      "/Users/michal.bronis/Desktop/nlp/poleval19/venv/lib/python3.8/site-packages/sklearn/svm/_base.py:985: ConvergenceWarning: Liblinear failed to converge, increase the number of iterations.\n",
      "  warnings.warn(\"Liblinear failed to converge, increase \"\n",
      "\n",
      "/Users/michal.bronis/Desktop/nlp/poleval19/venv/lib/python3.8/site-packages/sklearn/svm/_base.py:985: ConvergenceWarning: Liblinear failed to converge, increase the number of iterations.\n",
      "  warnings.warn(\"Liblinear failed to converge, increase \"\n",
      "\n",
      "/Users/michal.bronis/Desktop/nlp/poleval19/venv/lib/python3.8/site-packages/sklearn/svm/_base.py:985: ConvergenceWarning: Liblinear failed to converge, increase the number of iterations.\n",
      "  warnings.warn(\"Liblinear failed to converge, increase \"\n",
      "\n",
      "/Users/michal.bronis/Desktop/nlp/poleval19/venv/lib/python3.8/site-packages/sklearn/svm/_base.py:985: ConvergenceWarning: Liblinear failed to converge, increase the number of iterations.\n",
      "  warnings.warn(\"Liblinear failed to converge, increase \"\n",
      "\n",
      "/Users/michal.bronis/Desktop/nlp/poleval19/venv/lib/python3.8/site-packages/sklearn/svm/_base.py:985: ConvergenceWarning: Liblinear failed to converge, increase the number of iterations.\n",
      "  warnings.warn(\"Liblinear failed to converge, increase \"\n",
      "\n",
      "/Users/michal.bronis/Desktop/nlp/poleval19/venv/lib/python3.8/site-packages/sklearn/svm/_base.py:985: ConvergenceWarning: Liblinear failed to converge, increase the number of iterations.\n",
      "  warnings.warn(\"Liblinear failed to converge, increase \"\n",
      "\n",
      "/Users/michal.bronis/Desktop/nlp/poleval19/venv/lib/python3.8/site-packages/sklearn/svm/_base.py:985: ConvergenceWarning: Liblinear failed to converge, increase the number of iterations.\n",
      "  warnings.warn(\"Liblinear failed to converge, increase \"\n",
      "\n",
      "/Users/michal.bronis/Desktop/nlp/poleval19/venv/lib/python3.8/site-packages/sklearn/svm/_base.py:985: ConvergenceWarning: Liblinear failed to converge, increase the number of iterations.\n",
      "  warnings.warn(\"Liblinear failed to converge, increase \"\n",
      "\n",
      "/Users/michal.bronis/Desktop/nlp/poleval19/venv/lib/python3.8/site-packages/sklearn/svm/_base.py:985: ConvergenceWarning: Liblinear failed to converge, increase the number of iterations.\n",
      "  warnings.warn(\"Liblinear failed to converge, increase \"\n",
      "\n",
      "/Users/michal.bronis/Desktop/nlp/poleval19/venv/lib/python3.8/site-packages/sklearn/svm/_base.py:985: ConvergenceWarning: Liblinear failed to converge, increase the number of iterations.\n",
      "  warnings.warn(\"Liblinear failed to converge, increase \"\n",
      "\n",
      "/Users/michal.bronis/Desktop/nlp/poleval19/venv/lib/python3.8/site-packages/sklearn/svm/_base.py:985: ConvergenceWarning: Liblinear failed to converge, increase the number of iterations.\n",
      "  warnings.warn(\"Liblinear failed to converge, increase \"\n",
      "\n",
      "/Users/michal.bronis/Desktop/nlp/poleval19/venv/lib/python3.8/site-packages/sklearn/svm/_base.py:985: ConvergenceWarning: Liblinear failed to converge, increase the number of iterations.\n",
      "  warnings.warn(\"Liblinear failed to converge, increase \"\n",
      "\n",
      "/Users/michal.bronis/Desktop/nlp/poleval19/venv/lib/python3.8/site-packages/sklearn/svm/_base.py:985: ConvergenceWarning: Liblinear failed to converge, increase the number of iterations.\n",
      "  warnings.warn(\"Liblinear failed to converge, increase \"\n",
      "\n",
      "/Users/michal.bronis/Desktop/nlp/poleval19/venv/lib/python3.8/site-packages/sklearn/svm/_base.py:985: ConvergenceWarning: Liblinear failed to converge, increase the number of iterations.\n",
      "  warnings.warn(\"Liblinear failed to converge, increase \"\n",
      "\n",
      "/Users/michal.bronis/Desktop/nlp/poleval19/venv/lib/python3.8/site-packages/sklearn/svm/_base.py:985: ConvergenceWarning: Liblinear failed to converge, increase the number of iterations.\n",
      "  warnings.warn(\"Liblinear failed to converge, increase \"\n",
      "\n",
      "/Users/michal.bronis/Desktop/nlp/poleval19/venv/lib/python3.8/site-packages/sklearn/svm/_base.py:985: ConvergenceWarning: Liblinear failed to converge, increase the number of iterations.\n",
      "  warnings.warn(\"Liblinear failed to converge, increase \"\n",
      "\n"
     ]
    },
    {
     "name": "stdout",
     "output_type": "stream",
     "text": [
      "\r",
      " 86%|████████▌ | 430/500 [39:51<07:16,  6.23s/trial, best loss: -0.92161]"
     ]
    },
    {
     "name": "stderr",
     "output_type": "stream",
     "text": [
      "/Users/michal.bronis/Desktop/nlp/poleval19/venv/lib/python3.8/site-packages/sklearn/svm/_base.py:985: ConvergenceWarning: Liblinear failed to converge, increase the number of iterations.\n",
      "  warnings.warn(\"Liblinear failed to converge, increase \"\n",
      "\n",
      "INFO:hyperopt.tpe:build_posterior_wrapper took 0.003621 seconds\n",
      "INFO:hyperopt.tpe:TPE using 430/430 trials with best loss -0.921610\n",
      "INFO:hyperopt.tpe:build_posterior_wrapper took 0.003141 seconds\n",
      "INFO:hyperopt.tpe:TPE using 431/431 trials with best loss -0.921610\n",
      "/Users/michal.bronis/Desktop/nlp/poleval19/venv/lib/python3.8/site-packages/sklearn/svm/_base.py:985: ConvergenceWarning: Liblinear failed to converge, increase the number of iterations.\n",
      "  warnings.warn(\"Liblinear failed to converge, increase \"\n",
      "\n",
      "/Users/michal.bronis/Desktop/nlp/poleval19/venv/lib/python3.8/site-packages/sklearn/svm/_base.py:985: ConvergenceWarning: Liblinear failed to converge, increase the number of iterations.\n",
      "  warnings.warn(\"Liblinear failed to converge, increase \"\n",
      "\n",
      "/Users/michal.bronis/Desktop/nlp/poleval19/venv/lib/python3.8/site-packages/sklearn/svm/_base.py:985: ConvergenceWarning: Liblinear failed to converge, increase the number of iterations.\n",
      "  warnings.warn(\"Liblinear failed to converge, increase \"\n",
      "\n",
      "/Users/michal.bronis/Desktop/nlp/poleval19/venv/lib/python3.8/site-packages/sklearn/svm/_base.py:985: ConvergenceWarning: Liblinear failed to converge, increase the number of iterations.\n",
      "  warnings.warn(\"Liblinear failed to converge, increase \"\n",
      "\n",
      "/Users/michal.bronis/Desktop/nlp/poleval19/venv/lib/python3.8/site-packages/sklearn/svm/_base.py:985: ConvergenceWarning: Liblinear failed to converge, increase the number of iterations.\n",
      "  warnings.warn(\"Liblinear failed to converge, increase \"\n",
      "\n",
      "/Users/michal.bronis/Desktop/nlp/poleval19/venv/lib/python3.8/site-packages/sklearn/svm/_base.py:985: ConvergenceWarning: Liblinear failed to converge, increase the number of iterations.\n",
      "  warnings.warn(\"Liblinear failed to converge, increase \"\n",
      "\n",
      "/Users/michal.bronis/Desktop/nlp/poleval19/venv/lib/python3.8/site-packages/sklearn/svm/_base.py:985: ConvergenceWarning: Liblinear failed to converge, increase the number of iterations.\n",
      "  warnings.warn(\"Liblinear failed to converge, increase \"\n",
      "\n",
      "/Users/michal.bronis/Desktop/nlp/poleval19/venv/lib/python3.8/site-packages/sklearn/svm/_base.py:985: ConvergenceWarning: Liblinear failed to converge, increase the number of iterations.\n",
      "  warnings.warn(\"Liblinear failed to converge, increase \"\n",
      "\n",
      "/Users/michal.bronis/Desktop/nlp/poleval19/venv/lib/python3.8/site-packages/sklearn/svm/_base.py:985: ConvergenceWarning: Liblinear failed to converge, increase the number of iterations.\n",
      "  warnings.warn(\"Liblinear failed to converge, increase \"\n",
      "\n",
      "/Users/michal.bronis/Desktop/nlp/poleval19/venv/lib/python3.8/site-packages/sklearn/svm/_base.py:985: ConvergenceWarning: Liblinear failed to converge, increase the number of iterations.\n",
      "  warnings.warn(\"Liblinear failed to converge, increase \"\n",
      "\n",
      "/Users/michal.bronis/Desktop/nlp/poleval19/venv/lib/python3.8/site-packages/sklearn/svm/_base.py:985: ConvergenceWarning: Liblinear failed to converge, increase the number of iterations.\n",
      "  warnings.warn(\"Liblinear failed to converge, increase \"\n",
      "\n",
      "/Users/michal.bronis/Desktop/nlp/poleval19/venv/lib/python3.8/site-packages/sklearn/svm/_base.py:985: ConvergenceWarning: Liblinear failed to converge, increase the number of iterations.\n",
      "  warnings.warn(\"Liblinear failed to converge, increase \"\n",
      "\n",
      "/Users/michal.bronis/Desktop/nlp/poleval19/venv/lib/python3.8/site-packages/sklearn/svm/_base.py:985: ConvergenceWarning: Liblinear failed to converge, increase the number of iterations.\n",
      "  warnings.warn(\"Liblinear failed to converge, increase \"\n",
      "\n",
      "/Users/michal.bronis/Desktop/nlp/poleval19/venv/lib/python3.8/site-packages/sklearn/svm/_base.py:985: ConvergenceWarning: Liblinear failed to converge, increase the number of iterations.\n",
      "  warnings.warn(\"Liblinear failed to converge, increase \"\n",
      "\n",
      "/Users/michal.bronis/Desktop/nlp/poleval19/venv/lib/python3.8/site-packages/sklearn/svm/_base.py:985: ConvergenceWarning: Liblinear failed to converge, increase the number of iterations.\n",
      "  warnings.warn(\"Liblinear failed to converge, increase \"\n",
      "\n",
      "/Users/michal.bronis/Desktop/nlp/poleval19/venv/lib/python3.8/site-packages/sklearn/svm/_base.py:985: ConvergenceWarning: Liblinear failed to converge, increase the number of iterations.\n",
      "  warnings.warn(\"Liblinear failed to converge, increase \"\n",
      "\n"
     ]
    },
    {
     "name": "stdout",
     "output_type": "stream",
     "text": [
      "\r",
      " 88%|████████▊ | 440/500 [40:49<06:05,  6.10s/trial, best loss: -0.92161]"
     ]
    },
    {
     "name": "stderr",
     "output_type": "stream",
     "text": [
      "INFO:hyperopt.tpe:build_posterior_wrapper took 0.002997 seconds\n",
      "INFO:hyperopt.tpe:TPE using 440/440 trials with best loss -0.921610\n",
      "INFO:hyperopt.tpe:build_posterior_wrapper took 0.003558 seconds\n",
      "INFO:hyperopt.tpe:TPE using 441/441 trials with best loss -0.921610\n",
      "INFO:hyperopt.tpe:build_posterior_wrapper took 0.003263 seconds\n",
      "INFO:hyperopt.tpe:TPE using 442/442 trials with best loss -0.921610\n",
      "INFO:hyperopt.tpe:build_posterior_wrapper took 0.003475 seconds\n",
      "INFO:hyperopt.tpe:TPE using 443/443 trials with best loss -0.921610\n",
      "INFO:hyperopt.tpe:build_posterior_wrapper took 0.002872 seconds\n",
      "INFO:hyperopt.tpe:TPE using 444/444 trials with best loss -0.921610\n",
      "INFO:hyperopt.tpe:build_posterior_wrapper took 0.003175 seconds\n",
      "INFO:hyperopt.tpe:TPE using 445/445 trials with best loss -0.921610\n",
      "INFO:hyperopt.tpe:build_posterior_wrapper took 0.002896 seconds\n",
      "INFO:hyperopt.tpe:TPE using 446/446 trials with best loss -0.921610\n",
      "INFO:hyperopt.tpe:build_posterior_wrapper took 0.003029 seconds\n",
      "INFO:hyperopt.tpe:TPE using 447/447 trials with best loss -0.921610\n",
      "INFO:hyperopt.tpe:build_posterior_wrapper took 0.002902 seconds\n",
      "INFO:hyperopt.tpe:TPE using 448/448 trials with best loss -0.921610\n",
      "INFO:hyperopt.tpe:build_posterior_wrapper took 0.003130 seconds\n",
      "INFO:hyperopt.tpe:TPE using 449/449 trials with best loss -0.921610\n"
     ]
    },
    {
     "name": "stdout",
     "output_type": "stream",
     "text": [
      "\r",
      " 90%|█████████ | 450/500 [41:06<03:58,  4.78s/trial, best loss: -0.92161]"
     ]
    },
    {
     "name": "stderr",
     "output_type": "stream",
     "text": [
      "INFO:hyperopt.tpe:build_posterior_wrapper took 0.004756 seconds\n",
      "INFO:hyperopt.tpe:TPE using 450/450 trials with best loss -0.921610\n",
      "INFO:hyperopt.tpe:build_posterior_wrapper took 0.008603 seconds\n",
      "INFO:hyperopt.tpe:TPE using 451/451 trials with best loss -0.921610\n",
      "INFO:hyperopt.tpe:build_posterior_wrapper took 0.003394 seconds\n",
      "INFO:hyperopt.tpe:TPE using 452/452 trials with best loss -0.921610\n",
      "INFO:hyperopt.tpe:build_posterior_wrapper took 0.003163 seconds\n",
      "INFO:hyperopt.tpe:TPE using 453/453 trials with best loss -0.921610\n",
      "INFO:hyperopt.tpe:build_posterior_wrapper took 0.004146 seconds\n",
      "INFO:hyperopt.tpe:TPE using 454/454 trials with best loss -0.921610\n",
      "INFO:hyperopt.tpe:build_posterior_wrapper took 0.003724 seconds\n",
      "INFO:hyperopt.tpe:TPE using 455/455 trials with best loss -0.921610\n",
      "/Users/michal.bronis/Desktop/nlp/poleval19/venv/lib/python3.8/site-packages/sklearn/svm/_base.py:985: ConvergenceWarning: Liblinear failed to converge, increase the number of iterations.\n",
      "  warnings.warn(\"Liblinear failed to converge, increase \"\n",
      "\n",
      "/Users/michal.bronis/Desktop/nlp/poleval19/venv/lib/python3.8/site-packages/sklearn/svm/_base.py:985: ConvergenceWarning: Liblinear failed to converge, increase the number of iterations.\n",
      "  warnings.warn(\"Liblinear failed to converge, increase \"\n",
      "\n",
      "/Users/michal.bronis/Desktop/nlp/poleval19/venv/lib/python3.8/site-packages/sklearn/svm/_base.py:985: ConvergenceWarning: Liblinear failed to converge, increase the number of iterations.\n",
      "  warnings.warn(\"Liblinear failed to converge, increase \"\n",
      "\n",
      "/Users/michal.bronis/Desktop/nlp/poleval19/venv/lib/python3.8/site-packages/sklearn/svm/_base.py:985: ConvergenceWarning: Liblinear failed to converge, increase the number of iterations.\n",
      "  warnings.warn(\"Liblinear failed to converge, increase \"\n",
      "\n",
      "/Users/michal.bronis/Desktop/nlp/poleval19/venv/lib/python3.8/site-packages/sklearn/svm/_base.py:985: ConvergenceWarning: Liblinear failed to converge, increase the number of iterations.\n",
      "  warnings.warn(\"Liblinear failed to converge, increase \"\n",
      "\n",
      "/Users/michal.bronis/Desktop/nlp/poleval19/venv/lib/python3.8/site-packages/sklearn/svm/_base.py:985: ConvergenceWarning: Liblinear failed to converge, increase the number of iterations.\n",
      "  warnings.warn(\"Liblinear failed to converge, increase \"\n",
      "\n",
      "/Users/michal.bronis/Desktop/nlp/poleval19/venv/lib/python3.8/site-packages/sklearn/svm/_base.py:985: ConvergenceWarning: Liblinear failed to converge, increase the number of iterations.\n",
      "  warnings.warn(\"Liblinear failed to converge, increase \"\n",
      "\n",
      "/Users/michal.bronis/Desktop/nlp/poleval19/venv/lib/python3.8/site-packages/sklearn/svm/_base.py:985: ConvergenceWarning: Liblinear failed to converge, increase the number of iterations.\n",
      "  warnings.warn(\"Liblinear failed to converge, increase \"\n",
      "\n",
      "/Users/michal.bronis/Desktop/nlp/poleval19/venv/lib/python3.8/site-packages/sklearn/svm/_base.py:985: ConvergenceWarning: Liblinear failed to converge, increase the number of iterations.\n",
      "  warnings.warn(\"Liblinear failed to converge, increase \"\n",
      "\n",
      "/Users/michal.bronis/Desktop/nlp/poleval19/venv/lib/python3.8/site-packages/sklearn/svm/_base.py:985: ConvergenceWarning: Liblinear failed to converge, increase the number of iterations.\n",
      "  warnings.warn(\"Liblinear failed to converge, increase \"\n",
      "\n",
      "/Users/michal.bronis/Desktop/nlp/poleval19/venv/lib/python3.8/site-packages/sklearn/svm/_base.py:985: ConvergenceWarning: Liblinear failed to converge, increase the number of iterations.\n",
      "  warnings.warn(\"Liblinear failed to converge, increase \"\n",
      "\n",
      "/Users/michal.bronis/Desktop/nlp/poleval19/venv/lib/python3.8/site-packages/sklearn/svm/_base.py:985: ConvergenceWarning: Liblinear failed to converge, increase the number of iterations.\n",
      "  warnings.warn(\"Liblinear failed to converge, increase \"\n",
      "\n",
      "/Users/michal.bronis/Desktop/nlp/poleval19/venv/lib/python3.8/site-packages/sklearn/svm/_base.py:985: ConvergenceWarning: Liblinear failed to converge, increase the number of iterations.\n",
      "  warnings.warn(\"Liblinear failed to converge, increase \"\n",
      "\n",
      "/Users/michal.bronis/Desktop/nlp/poleval19/venv/lib/python3.8/site-packages/sklearn/svm/_base.py:985: ConvergenceWarning: Liblinear failed to converge, increase the number of iterations.\n",
      "  warnings.warn(\"Liblinear failed to converge, increase \"\n",
      "\n",
      "/Users/michal.bronis/Desktop/nlp/poleval19/venv/lib/python3.8/site-packages/sklearn/svm/_base.py:985: ConvergenceWarning: Liblinear failed to converge, increase the number of iterations.\n",
      "  warnings.warn(\"Liblinear failed to converge, increase \"\n",
      "\n",
      "/Users/michal.bronis/Desktop/nlp/poleval19/venv/lib/python3.8/site-packages/sklearn/svm/_base.py:985: ConvergenceWarning: Liblinear failed to converge, increase the number of iterations.\n",
      "  warnings.warn(\"Liblinear failed to converge, increase \"\n",
      "\n",
      "/Users/michal.bronis/Desktop/nlp/poleval19/venv/lib/python3.8/site-packages/sklearn/svm/_base.py:985: ConvergenceWarning: Liblinear failed to converge, increase the number of iterations.\n",
      "  warnings.warn(\"Liblinear failed to converge, increase \"\n",
      "\n",
      "/Users/michal.bronis/Desktop/nlp/poleval19/venv/lib/python3.8/site-packages/sklearn/svm/_base.py:985: ConvergenceWarning: Liblinear failed to converge, increase the number of iterations.\n",
      "  warnings.warn(\"Liblinear failed to converge, increase \"\n",
      "\n"
     ]
    },
    {
     "name": "stdout",
     "output_type": "stream",
     "text": [
      "\r",
      " 92%|█████████▏| 460/500 [41:48<03:03,  4.59s/trial, best loss: -0.92161]"
     ]
    },
    {
     "name": "stderr",
     "output_type": "stream",
     "text": [
      "INFO:hyperopt.tpe:build_posterior_wrapper took 0.003836 seconds\n",
      "INFO:hyperopt.tpe:TPE using 460/460 trials with best loss -0.921610\n",
      "INFO:hyperopt.tpe:build_posterior_wrapper took 0.004707 seconds\n",
      "INFO:hyperopt.tpe:TPE using 461/461 trials with best loss -0.921610\n",
      "INFO:hyperopt.tpe:build_posterior_wrapper took 0.003894 seconds\n",
      "INFO:hyperopt.tpe:TPE using 462/462 trials with best loss -0.921610\n",
      "INFO:hyperopt.tpe:build_posterior_wrapper took 0.004204 seconds\n",
      "INFO:hyperopt.tpe:TPE using 463/463 trials with best loss -0.921610\n",
      "INFO:hyperopt.tpe:build_posterior_wrapper took 0.003654 seconds\n",
      "INFO:hyperopt.tpe:TPE using 464/464 trials with best loss -0.921610\n",
      "INFO:hyperopt.tpe:build_posterior_wrapper took 0.004071 seconds\n",
      "INFO:hyperopt.tpe:TPE using 465/465 trials with best loss -0.921610\n",
      "INFO:hyperopt.tpe:build_posterior_wrapper took 0.003661 seconds\n",
      "INFO:hyperopt.tpe:TPE using 466/466 trials with best loss -0.921610\n",
      "INFO:hyperopt.tpe:build_posterior_wrapper took 0.063924 seconds\n",
      "INFO:hyperopt.tpe:TPE using 467/467 trials with best loss -0.921610\n",
      "/Users/michal.bronis/Desktop/nlp/poleval19/venv/lib/python3.8/site-packages/sklearn/svm/_base.py:985: ConvergenceWarning: Liblinear failed to converge, increase the number of iterations.\n",
      "  warnings.warn(\"Liblinear failed to converge, increase \"\n",
      "\n",
      "/Users/michal.bronis/Desktop/nlp/poleval19/venv/lib/python3.8/site-packages/sklearn/svm/_base.py:985: ConvergenceWarning: Liblinear failed to converge, increase the number of iterations.\n",
      "  warnings.warn(\"Liblinear failed to converge, increase \"\n",
      "\n",
      "/Users/michal.bronis/Desktop/nlp/poleval19/venv/lib/python3.8/site-packages/sklearn/svm/_base.py:985: ConvergenceWarning: Liblinear failed to converge, increase the number of iterations.\n",
      "  warnings.warn(\"Liblinear failed to converge, increase \"\n",
      "\n",
      "/Users/michal.bronis/Desktop/nlp/poleval19/venv/lib/python3.8/site-packages/sklearn/svm/_base.py:985: ConvergenceWarning: Liblinear failed to converge, increase the number of iterations.\n",
      "  warnings.warn(\"Liblinear failed to converge, increase \"\n",
      "\n",
      "/Users/michal.bronis/Desktop/nlp/poleval19/venv/lib/python3.8/site-packages/sklearn/svm/_base.py:985: ConvergenceWarning: Liblinear failed to converge, increase the number of iterations.\n",
      "  warnings.warn(\"Liblinear failed to converge, increase \"\n",
      "\n",
      "/Users/michal.bronis/Desktop/nlp/poleval19/venv/lib/python3.8/site-packages/sklearn/svm/_base.py:985: ConvergenceWarning: Liblinear failed to converge, increase the number of iterations.\n",
      "  warnings.warn(\"Liblinear failed to converge, increase \"\n",
      "\n"
     ]
    },
    {
     "name": "stdout",
     "output_type": "stream",
     "text": [
      "\r",
      " 94%|█████████▍| 470/500 [42:30<02:14,  4.48s/trial, best loss: -0.92161]"
     ]
    },
    {
     "name": "stderr",
     "output_type": "stream",
     "text": [
      "INFO:hyperopt.tpe:build_posterior_wrapper took 0.003589 seconds\n",
      "INFO:hyperopt.tpe:TPE using 470/470 trials with best loss -0.921610\n",
      "INFO:hyperopt.tpe:build_posterior_wrapper took 0.006843 seconds\n",
      "INFO:hyperopt.tpe:TPE using 471/471 trials with best loss -0.921610\n",
      "/Users/michal.bronis/Desktop/nlp/poleval19/venv/lib/python3.8/site-packages/sklearn/svm/_base.py:985: ConvergenceWarning: Liblinear failed to converge, increase the number of iterations.\n",
      "  warnings.warn(\"Liblinear failed to converge, increase \"\n",
      "\n",
      "/Users/michal.bronis/Desktop/nlp/poleval19/venv/lib/python3.8/site-packages/sklearn/svm/_base.py:985: ConvergenceWarning: Liblinear failed to converge, increase the number of iterations.\n",
      "  warnings.warn(\"Liblinear failed to converge, increase \"\n",
      "\n",
      "/Users/michal.bronis/Desktop/nlp/poleval19/venv/lib/python3.8/site-packages/sklearn/svm/_base.py:985: ConvergenceWarning: Liblinear failed to converge, increase the number of iterations.\n",
      "  warnings.warn(\"Liblinear failed to converge, increase \"\n",
      "\n",
      "/Users/michal.bronis/Desktop/nlp/poleval19/venv/lib/python3.8/site-packages/sklearn/svm/_base.py:985: ConvergenceWarning: Liblinear failed to converge, increase the number of iterations.\n",
      "  warnings.warn(\"Liblinear failed to converge, increase \"\n",
      "\n",
      "/Users/michal.bronis/Desktop/nlp/poleval19/venv/lib/python3.8/site-packages/sklearn/svm/_base.py:985: ConvergenceWarning: Liblinear failed to converge, increase the number of iterations.\n",
      "  warnings.warn(\"Liblinear failed to converge, increase \"\n",
      "\n",
      "/Users/michal.bronis/Desktop/nlp/poleval19/venv/lib/python3.8/site-packages/sklearn/svm/_base.py:985: ConvergenceWarning: Liblinear failed to converge, increase the number of iterations.\n",
      "  warnings.warn(\"Liblinear failed to converge, increase \"\n",
      "\n",
      "/Users/michal.bronis/Desktop/nlp/poleval19/venv/lib/python3.8/site-packages/sklearn/svm/_base.py:985: ConvergenceWarning: Liblinear failed to converge, increase the number of iterations.\n",
      "  warnings.warn(\"Liblinear failed to converge, increase \"\n",
      "\n",
      "/Users/michal.bronis/Desktop/nlp/poleval19/venv/lib/python3.8/site-packages/sklearn/svm/_base.py:985: ConvergenceWarning: Liblinear failed to converge, increase the number of iterations.\n",
      "  warnings.warn(\"Liblinear failed to converge, increase \"\n",
      "\n",
      "/Users/michal.bronis/Desktop/nlp/poleval19/venv/lib/python3.8/site-packages/sklearn/svm/_base.py:985: ConvergenceWarning: Liblinear failed to converge, increase the number of iterations.\n",
      "  warnings.warn(\"Liblinear failed to converge, increase \"\n",
      "\n",
      "/Users/michal.bronis/Desktop/nlp/poleval19/venv/lib/python3.8/site-packages/sklearn/svm/_base.py:985: ConvergenceWarning: Liblinear failed to converge, increase the number of iterations.\n",
      "  warnings.warn(\"Liblinear failed to converge, increase \"\n",
      "\n",
      "/Users/michal.bronis/Desktop/nlp/poleval19/venv/lib/python3.8/site-packages/sklearn/svm/_base.py:985: ConvergenceWarning: Liblinear failed to converge, increase the number of iterations.\n",
      "  warnings.warn(\"Liblinear failed to converge, increase \"\n",
      "\n",
      "/Users/michal.bronis/Desktop/nlp/poleval19/venv/lib/python3.8/site-packages/sklearn/svm/_base.py:985: ConvergenceWarning: Liblinear failed to converge, increase the number of iterations.\n",
      "  warnings.warn(\"Liblinear failed to converge, increase \"\n",
      "\n",
      "/Users/michal.bronis/Desktop/nlp/poleval19/venv/lib/python3.8/site-packages/sklearn/svm/_base.py:985: ConvergenceWarning: Liblinear failed to converge, increase the number of iterations.\n",
      "  warnings.warn(\"Liblinear failed to converge, increase \"\n",
      "\n",
      "/Users/michal.bronis/Desktop/nlp/poleval19/venv/lib/python3.8/site-packages/sklearn/svm/_base.py:985: ConvergenceWarning: Liblinear failed to converge, increase the number of iterations.\n",
      "  warnings.warn(\"Liblinear failed to converge, increase \"\n",
      "\n",
      "/Users/michal.bronis/Desktop/nlp/poleval19/venv/lib/python3.8/site-packages/sklearn/svm/_base.py:985: ConvergenceWarning: Liblinear failed to converge, increase the number of iterations.\n",
      "  warnings.warn(\"Liblinear failed to converge, increase \"\n",
      "\n",
      "/Users/michal.bronis/Desktop/nlp/poleval19/venv/lib/python3.8/site-packages/sklearn/svm/_base.py:985: ConvergenceWarning: Liblinear failed to converge, increase the number of iterations.\n",
      "  warnings.warn(\"Liblinear failed to converge, increase \"\n",
      "\n",
      "/Users/michal.bronis/Desktop/nlp/poleval19/venv/lib/python3.8/site-packages/sklearn/svm/_base.py:985: ConvergenceWarning: Liblinear failed to converge, increase the number of iterations.\n",
      "  warnings.warn(\"Liblinear failed to converge, increase \"\n",
      "\n"
     ]
    },
    {
     "name": "stdout",
     "output_type": "stream",
     "text": [
      "\r",
      " 96%|█████████▌| 480/500 [43:45<01:47,  5.39s/trial, best loss: -0.92161]"
     ]
    },
    {
     "name": "stderr",
     "output_type": "stream",
     "text": [
      "/Users/michal.bronis/Desktop/nlp/poleval19/venv/lib/python3.8/site-packages/sklearn/svm/_base.py:985: ConvergenceWarning: Liblinear failed to converge, increase the number of iterations.\n",
      "  warnings.warn(\"Liblinear failed to converge, increase \"\n",
      "\n",
      "INFO:hyperopt.tpe:build_posterior_wrapper took 0.003028 seconds\n",
      "INFO:hyperopt.tpe:TPE using 480/480 trials with best loss -0.921610\n",
      "INFO:hyperopt.tpe:build_posterior_wrapper took 0.003555 seconds\n",
      "INFO:hyperopt.tpe:TPE using 481/481 trials with best loss -0.921610\n",
      "/Users/michal.bronis/Desktop/nlp/poleval19/venv/lib/python3.8/site-packages/sklearn/svm/_base.py:985: ConvergenceWarning: Liblinear failed to converge, increase the number of iterations.\n",
      "  warnings.warn(\"Liblinear failed to converge, increase \"\n",
      "\n",
      "/Users/michal.bronis/Desktop/nlp/poleval19/venv/lib/python3.8/site-packages/sklearn/svm/_base.py:985: ConvergenceWarning: Liblinear failed to converge, increase the number of iterations.\n",
      "  warnings.warn(\"Liblinear failed to converge, increase \"\n",
      "\n",
      "/Users/michal.bronis/Desktop/nlp/poleval19/venv/lib/python3.8/site-packages/sklearn/svm/_base.py:985: ConvergenceWarning: Liblinear failed to converge, increase the number of iterations.\n",
      "  warnings.warn(\"Liblinear failed to converge, increase \"\n",
      "\n",
      "/Users/michal.bronis/Desktop/nlp/poleval19/venv/lib/python3.8/site-packages/sklearn/svm/_base.py:985: ConvergenceWarning: Liblinear failed to converge, increase the number of iterations.\n",
      "  warnings.warn(\"Liblinear failed to converge, increase \"\n",
      "\n",
      "/Users/michal.bronis/Desktop/nlp/poleval19/venv/lib/python3.8/site-packages/sklearn/svm/_base.py:985: ConvergenceWarning: Liblinear failed to converge, increase the number of iterations.\n",
      "  warnings.warn(\"Liblinear failed to converge, increase \"\n",
      "\n",
      "/Users/michal.bronis/Desktop/nlp/poleval19/venv/lib/python3.8/site-packages/sklearn/svm/_base.py:985: ConvergenceWarning: Liblinear failed to converge, increase the number of iterations.\n",
      "  warnings.warn(\"Liblinear failed to converge, increase \"\n",
      "\n",
      "/Users/michal.bronis/Desktop/nlp/poleval19/venv/lib/python3.8/site-packages/sklearn/svm/_base.py:985: ConvergenceWarning: Liblinear failed to converge, increase the number of iterations.\n",
      "  warnings.warn(\"Liblinear failed to converge, increase \"\n",
      "\n",
      "/Users/michal.bronis/Desktop/nlp/poleval19/venv/lib/python3.8/site-packages/sklearn/svm/_base.py:985: ConvergenceWarning: Liblinear failed to converge, increase the number of iterations.\n",
      "  warnings.warn(\"Liblinear failed to converge, increase \"\n",
      "\n",
      "/Users/michal.bronis/Desktop/nlp/poleval19/venv/lib/python3.8/site-packages/sklearn/svm/_base.py:985: ConvergenceWarning: Liblinear failed to converge, increase the number of iterations.\n",
      "  warnings.warn(\"Liblinear failed to converge, increase \"\n",
      "\n",
      "/Users/michal.bronis/Desktop/nlp/poleval19/venv/lib/python3.8/site-packages/sklearn/svm/_base.py:985: ConvergenceWarning: Liblinear failed to converge, increase the number of iterations.\n",
      "  warnings.warn(\"Liblinear failed to converge, increase \"\n",
      "\n",
      "/Users/michal.bronis/Desktop/nlp/poleval19/venv/lib/python3.8/site-packages/sklearn/svm/_base.py:985: ConvergenceWarning: Liblinear failed to converge, increase the number of iterations.\n",
      "  warnings.warn(\"Liblinear failed to converge, increase \"\n",
      "\n",
      "/Users/michal.bronis/Desktop/nlp/poleval19/venv/lib/python3.8/site-packages/sklearn/svm/_base.py:985: ConvergenceWarning: Liblinear failed to converge, increase the number of iterations.\n",
      "  warnings.warn(\"Liblinear failed to converge, increase \"\n",
      "\n",
      "/Users/michal.bronis/Desktop/nlp/poleval19/venv/lib/python3.8/site-packages/sklearn/svm/_base.py:985: ConvergenceWarning: Liblinear failed to converge, increase the number of iterations.\n",
      "  warnings.warn(\"Liblinear failed to converge, increase \"\n",
      "\n",
      "/Users/michal.bronis/Desktop/nlp/poleval19/venv/lib/python3.8/site-packages/sklearn/svm/_base.py:985: ConvergenceWarning: Liblinear failed to converge, increase the number of iterations.\n",
      "  warnings.warn(\"Liblinear failed to converge, increase \"\n",
      "\n",
      "/Users/michal.bronis/Desktop/nlp/poleval19/venv/lib/python3.8/site-packages/sklearn/svm/_base.py:985: ConvergenceWarning: Liblinear failed to converge, increase the number of iterations.\n",
      "  warnings.warn(\"Liblinear failed to converge, increase \"\n",
      "\n",
      "/Users/michal.bronis/Desktop/nlp/poleval19/venv/lib/python3.8/site-packages/sklearn/svm/_base.py:985: ConvergenceWarning: Liblinear failed to converge, increase the number of iterations.\n",
      "  warnings.warn(\"Liblinear failed to converge, increase \"\n",
      "\n",
      "/Users/michal.bronis/Desktop/nlp/poleval19/venv/lib/python3.8/site-packages/sklearn/svm/_base.py:985: ConvergenceWarning: Liblinear failed to converge, increase the number of iterations.\n",
      "  warnings.warn(\"Liblinear failed to converge, increase \"\n",
      "\n"
     ]
    },
    {
     "name": "stdout",
     "output_type": "stream",
     "text": [
      "\r",
      " 98%|█████████▊| 490/500 [44:16<00:46,  4.69s/trial, best loss: -0.92161]"
     ]
    },
    {
     "name": "stderr",
     "output_type": "stream",
     "text": [
      "/Users/michal.bronis/Desktop/nlp/poleval19/venv/lib/python3.8/site-packages/sklearn/svm/_base.py:985: ConvergenceWarning: Liblinear failed to converge, increase the number of iterations.\n",
      "  warnings.warn(\"Liblinear failed to converge, increase \"\n",
      "\n",
      "INFO:hyperopt.tpe:build_posterior_wrapper took 0.002959 seconds\n",
      "INFO:hyperopt.tpe:TPE using 490/490 trials with best loss -0.921610\n",
      "INFO:hyperopt.tpe:build_posterior_wrapper took 0.003337 seconds\n",
      "INFO:hyperopt.tpe:TPE using 491/491 trials with best loss -0.921610\n",
      "INFO:hyperopt.tpe:build_posterior_wrapper took 0.003259 seconds\n",
      "INFO:hyperopt.tpe:TPE using 492/492 trials with best loss -0.921610\n",
      "INFO:hyperopt.tpe:build_posterior_wrapper took 0.002867 seconds\n",
      "INFO:hyperopt.tpe:TPE using 493/493 trials with best loss -0.921610\n",
      "INFO:hyperopt.tpe:build_posterior_wrapper took 0.003179 seconds\n",
      "INFO:hyperopt.tpe:TPE using 494/494 trials with best loss -0.921610\n",
      "INFO:hyperopt.tpe:build_posterior_wrapper took 0.003371 seconds\n",
      "INFO:hyperopt.tpe:TPE using 495/495 trials with best loss -0.921610\n",
      "INFO:hyperopt.tpe:build_posterior_wrapper took 0.003227 seconds\n",
      "INFO:hyperopt.tpe:TPE using 496/496 trials with best loss -0.921610\n",
      "INFO:hyperopt.tpe:build_posterior_wrapper took 0.003128 seconds\n",
      "INFO:hyperopt.tpe:TPE using 497/497 trials with best loss -0.921610\n",
      "INFO:hyperopt.tpe:build_posterior_wrapper took 0.003160 seconds\n",
      "INFO:hyperopt.tpe:TPE using 498/498 trials with best loss -0.921610\n"
     ]
    },
    {
     "name": "stdout",
     "output_type": "stream",
     "text": [
      "100%|██████████| 500/500 [44:38<00:00,  5.36s/trial, best loss: -0.92161]\n"
     ]
    }
   ],
   "source": [
    "opt = Optimizer()\n",
    "opt.optimize(SVM, X, y, param_space = hyper_space, n_rounds = 500)\n",
    "\n",
    "opt_results_svm = opt.results"
   ]
  },
  {
   "cell_type": "markdown",
   "id": "deb6decd",
   "metadata": {
    "ExecuteTime": {
     "end_time": "2021-05-28T17:17:49.351335Z",
     "start_time": "2021-05-28T17:17:49.303381Z"
    }
   },
   "source": [
    "## rf"
   ]
  },
  {
   "cell_type": "code",
   "execution_count": 83,
   "id": "a270db81",
   "metadata": {
    "ExecuteTime": {
     "end_time": "2021-05-28T17:49:47.341328Z",
     "start_time": "2021-05-28T17:49:47.292442Z"
    }
   },
   "outputs": [],
   "source": [
    "hyper_space_clf = {\n",
    "    'clf__n_estimators': hp.uniform('n_estimators', 10, 200),\n",
    "    'clf__max_depth': hp.uniform('max_depth', 2, 100),\n",
    "    'clf__min_samples_leaf': hp.uniform('min_samples_leaf', 1, 20),\n",
    "    'clf__criterion': hp.choice('criterion', ['gini', 'entropy']),\n",
    "    'clf__max_features': hp.choice('max_features', ['sqrt', 'log2', None]),\n",
    "    'clf__max_leaf_nodes': hp.uniform('max_leaf_nodes', 4, 50),\n",
    "    'clf__bootstrap': hp.choice('bootstrap', [True, False]),\n",
    "    'clf__n_jobs': hp.choice('n_jobs', [-1]),\n",
    "    'clf__class_weight': hp.choice('class_weight', ['balanced', 'balanced_subsample', None]),\n",
    "    'clf__max_samples': hp.uniform('max_samples', 0.2, 1),\n",
    "}\n",
    "\n",
    "hyper_space = {**hyper_space_transformers, **hyper_space_clf}"
   ]
  },
  {
   "cell_type": "code",
   "execution_count": 84,
   "id": "5da6ae13",
   "metadata": {
    "ExecuteTime": {
     "end_time": "2021-05-28T19:27:40.641299Z",
     "start_time": "2021-05-28T17:50:03.105138Z"
    },
    "scrolled": true
   },
   "outputs": [
    {
     "name": "stdout",
     "output_type": "stream",
     "text": [
      "\r",
      "  0%|          | 0/1000 [00:00<?, ?trial/s, best loss=?]"
     ]
    },
    {
     "name": "stderr",
     "output_type": "stream",
     "text": [
      "INFO:hyperopt.tpe:build_posterior_wrapper took 0.006809 seconds\n",
      "INFO:hyperopt.tpe:TPE using 0 trials\n"
     ]
    },
    {
     "name": "stdout",
     "output_type": "stream",
     "text": [
      "\r",
      "  1%|          | 10/1000 [01:17<2:07:25,  7.72s/trial, best loss: -0.91535]"
     ]
    },
    {
     "name": "stderr",
     "output_type": "stream",
     "text": [
      "INFO:hyperopt.tpe:build_posterior_wrapper took 0.004026 seconds\n",
      "INFO:hyperopt.tpe:TPE using 10/10 trials with best loss -0.915350\n"
     ]
    },
    {
     "name": "stdout",
     "output_type": "stream",
     "text": [
      "  3%|▎         | 30/1000 [02:48<1:28:03,  5.45s/trial, best loss: -0.91541]"
     ]
    },
    {
     "name": "stderr",
     "output_type": "stream",
     "text": [
      "INFO:hyperopt.tpe:build_posterior_wrapper took 0.003974 seconds\n",
      "INFO:hyperopt.tpe:TPE using 30/30 trials with best loss -0.915410\n",
      "INFO:hyperopt.tpe:build_posterior_wrapper took 0.005467 seconds\n",
      "INFO:hyperopt.tpe:TPE using 31/31 trials with best loss -0.915410\n"
     ]
    },
    {
     "name": "stdout",
     "output_type": "stream",
     "text": [
      "\r",
      "  4%|▍         | 40/1000 [03:45<1:28:24,  5.53s/trial, best loss: -0.9155099999999999]"
     ]
    },
    {
     "name": "stderr",
     "output_type": "stream",
     "text": [
      "INFO:hyperopt.tpe:build_posterior_wrapper took 0.004127 seconds\n",
      "INFO:hyperopt.tpe:TPE using 40/40 trials with best loss -0.915510\n",
      "INFO:hyperopt.tpe:build_posterior_wrapper took 0.005547 seconds\n",
      "INFO:hyperopt.tpe:TPE using 41/41 trials with best loss -0.915510\n"
     ]
    },
    {
     "name": "stdout",
     "output_type": "stream",
     "text": [
      "  6%|▌         | 60/1000 [04:47<1:06:03,  4.22s/trial, best loss: -0.9156799999999999]"
     ]
    },
    {
     "name": "stderr",
     "output_type": "stream",
     "text": [
      "INFO:hyperopt.tpe:build_posterior_wrapper took 0.004398 seconds\n",
      "INFO:hyperopt.tpe:TPE using 60/60 trials with best loss -0.915680\n",
      "INFO:hyperopt.tpe:build_posterior_wrapper took 0.006587 seconds\n",
      "INFO:hyperopt.tpe:TPE using 61/61 trials with best loss -0.915680\n",
      "INFO:hyperopt.tpe:build_posterior_wrapper took 0.004400 seconds\n",
      "INFO:hyperopt.tpe:TPE using 62/62 trials with best loss -0.915680\n"
     ]
    },
    {
     "name": "stdout",
     "output_type": "stream",
     "text": [
      "\r",
      "  7%|▋         | 70/1000 [05:47<1:14:22,  4.80s/trial, best loss: -0.9156799999999999]"
     ]
    },
    {
     "name": "stderr",
     "output_type": "stream",
     "text": [
      "INFO:hyperopt.tpe:build_posterior_wrapper took 0.003946 seconds\n",
      "INFO:hyperopt.tpe:TPE using 70/70 trials with best loss -0.915680\n",
      "INFO:hyperopt.tpe:build_posterior_wrapper took 0.003831 seconds\n",
      "INFO:hyperopt.tpe:TPE using 71/71 trials with best loss -0.915680\n",
      "INFO:hyperopt.tpe:build_posterior_wrapper took 0.004816 seconds\n",
      "INFO:hyperopt.tpe:TPE using 72/72 trials with best loss -0.915680\n",
      "INFO:hyperopt.tpe:build_posterior_wrapper took 0.003791 seconds\n",
      "INFO:hyperopt.tpe:TPE using 73/73 trials with best loss -0.915680\n",
      "INFO:hyperopt.tpe:build_posterior_wrapper took 0.003929 seconds\n",
      "INFO:hyperopt.tpe:TPE using 74/74 trials with best loss -0.915680\n",
      "INFO:hyperopt.tpe:build_posterior_wrapper took 0.003937 seconds\n",
      "INFO:hyperopt.tpe:TPE using 75/75 trials with best loss -0.915680\n",
      "INFO:hyperopt.tpe:build_posterior_wrapper took 0.003868 seconds\n",
      "INFO:hyperopt.tpe:TPE using 76/76 trials with best loss -0.915680\n",
      "INFO:hyperopt.tpe:build_posterior_wrapper took 0.003820 seconds\n",
      "INFO:hyperopt.tpe:TPE using 77/77 trials with best loss -0.915680\n",
      "INFO:hyperopt.tpe:build_posterior_wrapper took 0.003828 seconds\n",
      "INFO:hyperopt.tpe:TPE using 78/78 trials with best loss -0.915680\n",
      "INFO:hyperopt.tpe:build_posterior_wrapper took 0.003893 seconds\n",
      "INFO:hyperopt.tpe:TPE using 79/79 trials with best loss -0.915680\n"
     ]
    },
    {
     "name": "stdout",
     "output_type": "stream",
     "text": [
      "\r",
      "  8%|▊         | 80/1000 [07:01<1:26:12,  5.62s/trial, best loss: -0.9156799999999999]"
     ]
    },
    {
     "name": "stderr",
     "output_type": "stream",
     "text": [
      "INFO:hyperopt.tpe:build_posterior_wrapper took 0.004432 seconds\n",
      "INFO:hyperopt.tpe:TPE using 80/80 trials with best loss -0.915680\n"
     ]
    },
    {
     "name": "stdout",
     "output_type": "stream",
     "text": [
      "\r",
      "  9%|▉         | 90/1000 [08:25<1:38:37,  6.50s/trial, best loss: -0.9156799999999999]"
     ]
    },
    {
     "name": "stderr",
     "output_type": "stream",
     "text": [
      "INFO:hyperopt.tpe:build_posterior_wrapper took 0.003882 seconds\n",
      "INFO:hyperopt.tpe:TPE using 90/90 trials with best loss -0.915680\n"
     ]
    },
    {
     "name": "stdout",
     "output_type": "stream",
     "text": [
      "\r",
      " 10%|█         | 100/1000 [10:31<2:05:29,  8.37s/trial, best loss: -0.9156799999999999]"
     ]
    },
    {
     "name": "stderr",
     "output_type": "stream",
     "text": [
      "INFO:hyperopt.tpe:build_posterior_wrapper took 0.004148 seconds\n",
      "INFO:hyperopt.tpe:TPE using 100/100 trials with best loss -0.915680\n",
      "INFO:hyperopt.tpe:build_posterior_wrapper took 0.003786 seconds\n",
      "INFO:hyperopt.tpe:TPE using 101/101 trials with best loss -0.915680\n"
     ]
    },
    {
     "name": "stdout",
     "output_type": "stream",
     "text": [
      "\r",
      " 11%|█         | 110/1000 [11:03<1:40:46,  6.79s/trial, best loss: -0.9156799999999999]"
     ]
    },
    {
     "name": "stderr",
     "output_type": "stream",
     "text": [
      "INFO:hyperopt.tpe:build_posterior_wrapper took 0.003957 seconds\n",
      "INFO:hyperopt.tpe:TPE using 110/110 trials with best loss -0.915680\n",
      "INFO:hyperopt.tpe:build_posterior_wrapper took 0.003979 seconds\n",
      "INFO:hyperopt.tpe:TPE using 111/111 trials with best loss -0.915680\n",
      "INFO:hyperopt.tpe:build_posterior_wrapper took 0.003726 seconds\n",
      "INFO:hyperopt.tpe:TPE using 112/112 trials with best loss -0.915680\n",
      "INFO:hyperopt.tpe:build_posterior_wrapper took 0.003815 seconds\n",
      "INFO:hyperopt.tpe:TPE using 113/113 trials with best loss -0.915680\n",
      "INFO:hyperopt.tpe:build_posterior_wrapper took 0.003858 seconds\n",
      "INFO:hyperopt.tpe:TPE using 114/114 trials with best loss -0.915680\n",
      "INFO:hyperopt.tpe:build_posterior_wrapper took 0.003928 seconds\n",
      "INFO:hyperopt.tpe:TPE using 115/115 trials with best loss -0.915680\n"
     ]
    },
    {
     "name": "stdout",
     "output_type": "stream",
     "text": [
      " 13%|█▎        | 130/1000 [12:22<1:15:40,  5.22s/trial, best loss: -0.9156799999999999]"
     ]
    },
    {
     "name": "stderr",
     "output_type": "stream",
     "text": [
      "INFO:hyperopt.tpe:build_posterior_wrapper took 0.003911 seconds\n",
      "INFO:hyperopt.tpe:TPE using 130/130 trials with best loss -0.915680\n",
      "INFO:hyperopt.tpe:build_posterior_wrapper took 0.003860 seconds\n",
      "INFO:hyperopt.tpe:TPE using 131/131 trials with best loss -0.915680\n"
     ]
    },
    {
     "name": "stdout",
     "output_type": "stream",
     "text": [
      "\r",
      " 14%|█▍        | 140/1000 [13:09<1:12:34,  5.06s/trial, best loss: -0.9156799999999999]"
     ]
    },
    {
     "name": "stderr",
     "output_type": "stream",
     "text": [
      "INFO:hyperopt.tpe:build_posterior_wrapper took 0.003888 seconds\n",
      "INFO:hyperopt.tpe:TPE using 140/140 trials with best loss -0.915680\n",
      "INFO:hyperopt.tpe:build_posterior_wrapper took 0.003976 seconds\n",
      "INFO:hyperopt.tpe:TPE using 141/141 trials with best loss -0.915680\n",
      "INFO:hyperopt.tpe:build_posterior_wrapper took 0.003860 seconds\n",
      "INFO:hyperopt.tpe:TPE using 142/142 trials with best loss -0.915680\n"
     ]
    },
    {
     "name": "stdout",
     "output_type": "stream",
     "text": [
      "\r",
      " 15%|█▌        | 150/1000 [13:55<1:09:48,  4.93s/trial, best loss: -0.9157]            "
     ]
    },
    {
     "name": "stderr",
     "output_type": "stream",
     "text": [
      "INFO:hyperopt.tpe:build_posterior_wrapper took 0.004344 seconds\n",
      "INFO:hyperopt.tpe:TPE using 150/150 trials with best loss -0.915700\n",
      "INFO:hyperopt.tpe:build_posterior_wrapper took 0.003879 seconds\n",
      "INFO:hyperopt.tpe:TPE using 151/151 trials with best loss -0.915700\n",
      "INFO:hyperopt.tpe:build_posterior_wrapper took 0.004436 seconds\n",
      "INFO:hyperopt.tpe:TPE using 152/152 trials with best loss -0.915700\n",
      "INFO:hyperopt.tpe:build_posterior_wrapper took 0.003828 seconds\n",
      "INFO:hyperopt.tpe:TPE using 153/153 trials with best loss -0.915700\n",
      "INFO:hyperopt.tpe:build_posterior_wrapper took 0.004530 seconds\n",
      "INFO:hyperopt.tpe:TPE using 154/154 trials with best loss -0.915700\n",
      "INFO:hyperopt.tpe:build_posterior_wrapper took 0.003802 seconds\n",
      "INFO:hyperopt.tpe:TPE using 155/155 trials with best loss -0.915700\n"
     ]
    },
    {
     "name": "stdout",
     "output_type": "stream",
     "text": [
      "\r",
      " 16%|█▌        | 160/1000 [14:39<1:06:24,  4.74s/trial, best loss: -0.9157]"
     ]
    },
    {
     "name": "stderr",
     "output_type": "stream",
     "text": [
      "INFO:hyperopt.tpe:build_posterior_wrapper took 0.004023 seconds\n",
      "INFO:hyperopt.tpe:TPE using 160/160 trials with best loss -0.915700\n",
      "INFO:hyperopt.tpe:build_posterior_wrapper took 0.003782 seconds\n",
      "INFO:hyperopt.tpe:TPE using 161/161 trials with best loss -0.915700\n",
      "INFO:hyperopt.tpe:build_posterior_wrapper took 0.004128 seconds\n",
      "INFO:hyperopt.tpe:TPE using 162/162 trials with best loss -0.915700\n",
      "INFO:hyperopt.tpe:build_posterior_wrapper took 0.003810 seconds\n",
      "INFO:hyperopt.tpe:TPE using 163/163 trials with best loss -0.915700\n",
      "INFO:hyperopt.tpe:build_posterior_wrapper took 0.003826 seconds\n",
      "INFO:hyperopt.tpe:TPE using 164/164 trials with best loss -0.915700\n",
      "INFO:hyperopt.tpe:build_posterior_wrapper took 0.003922 seconds\n",
      "INFO:hyperopt.tpe:TPE using 165/165 trials with best loss -0.915700\n"
     ]
    },
    {
     "name": "stdout",
     "output_type": "stream",
     "text": [
      "\r",
      " 17%|█▋        | 170/1000 [15:45<1:13:20,  5.30s/trial, best loss: -0.9157]"
     ]
    },
    {
     "name": "stderr",
     "output_type": "stream",
     "text": [
      "INFO:hyperopt.tpe:build_posterior_wrapper took 0.004582 seconds\n",
      "INFO:hyperopt.tpe:TPE using 170/170 trials with best loss -0.915700\n",
      "INFO:hyperopt.tpe:build_posterior_wrapper took 0.004318 seconds\n",
      "INFO:hyperopt.tpe:TPE using 171/171 trials with best loss -0.915700\n",
      "INFO:hyperopt.tpe:build_posterior_wrapper took 0.004287 seconds\n",
      "INFO:hyperopt.tpe:TPE using 172/172 trials with best loss -0.915700\n",
      "INFO:hyperopt.tpe:build_posterior_wrapper took 0.004304 seconds\n",
      "INFO:hyperopt.tpe:TPE using 173/173 trials with best loss -0.915700\n",
      "INFO:hyperopt.tpe:build_posterior_wrapper took 0.004756 seconds\n",
      "INFO:hyperopt.tpe:TPE using 174/174 trials with best loss -0.915700\n"
     ]
    },
    {
     "name": "stdout",
     "output_type": "stream",
     "text": [
      "\r",
      " 18%|█▊        | 180/1000 [16:31<1:09:41,  5.10s/trial, best loss: -0.9157]"
     ]
    },
    {
     "name": "stderr",
     "output_type": "stream",
     "text": [
      "INFO:hyperopt.tpe:build_posterior_wrapper took 0.004062 seconds\n",
      "INFO:hyperopt.tpe:TPE using 180/180 trials with best loss -0.915700\n"
     ]
    },
    {
     "name": "stdout",
     "output_type": "stream",
     "text": [
      "\r",
      " 19%|█▉        | 190/1000 [17:32<1:12:49,  5.39s/trial, best loss: -0.9157]"
     ]
    },
    {
     "name": "stderr",
     "output_type": "stream",
     "text": [
      "INFO:hyperopt.tpe:build_posterior_wrapper took 0.004124 seconds\n",
      "INFO:hyperopt.tpe:TPE using 190/190 trials with best loss -0.915700\n",
      "INFO:hyperopt.tpe:build_posterior_wrapper took 0.004050 seconds\n",
      "INFO:hyperopt.tpe:TPE using 191/191 trials with best loss -0.915700\n",
      "INFO:hyperopt.tpe:build_posterior_wrapper took 0.004322 seconds\n",
      "INFO:hyperopt.tpe:TPE using 192/192 trials with best loss -0.915700\n"
     ]
    },
    {
     "name": "stdout",
     "output_type": "stream",
     "text": [
      "\r",
      " 20%|██        | 200/1000 [18:06<1:04:10,  4.81s/trial, best loss: -0.91575]"
     ]
    },
    {
     "name": "stderr",
     "output_type": "stream",
     "text": [
      "INFO:hyperopt.tpe:build_posterior_wrapper took 0.004051 seconds\n",
      "INFO:hyperopt.tpe:TPE using 200/200 trials with best loss -0.915750\n",
      "INFO:hyperopt.tpe:build_posterior_wrapper took 0.003869 seconds\n",
      "INFO:hyperopt.tpe:TPE using 201/201 trials with best loss -0.915750\n"
     ]
    },
    {
     "name": "stdout",
     "output_type": "stream",
     "text": [
      "\r",
      " 21%|██        | 210/1000 [19:31<1:18:01,  5.93s/trial, best loss: -0.91575]"
     ]
    },
    {
     "name": "stderr",
     "output_type": "stream",
     "text": [
      "INFO:hyperopt.tpe:build_posterior_wrapper took 0.004857 seconds\n",
      "INFO:hyperopt.tpe:TPE using 210/210 trials with best loss -0.915750\n",
      "INFO:hyperopt.tpe:build_posterior_wrapper took 0.004157 seconds\n",
      "INFO:hyperopt.tpe:TPE using 211/211 trials with best loss -0.915750\n",
      "INFO:hyperopt.tpe:build_posterior_wrapper took 0.004579 seconds\n",
      "INFO:hyperopt.tpe:TPE using 212/212 trials with best loss -0.915750\n",
      "INFO:hyperopt.tpe:build_posterior_wrapper took 0.004209 seconds\n",
      "INFO:hyperopt.tpe:TPE using 213/213 trials with best loss -0.915750\n",
      "INFO:hyperopt.tpe:build_posterior_wrapper took 0.004249 seconds\n",
      "INFO:hyperopt.tpe:TPE using 214/214 trials with best loss -0.915750\n",
      "INFO:hyperopt.tpe:build_posterior_wrapper took 0.004196 seconds\n",
      "INFO:hyperopt.tpe:TPE using 215/215 trials with best loss -0.915750\n",
      "INFO:hyperopt.tpe:build_posterior_wrapper took 0.004357 seconds\n",
      "INFO:hyperopt.tpe:TPE using 216/216 trials with best loss -0.915750\n",
      "INFO:hyperopt.tpe:build_posterior_wrapper took 0.004167 seconds\n",
      "INFO:hyperopt.tpe:TPE using 217/217 trials with best loss -0.915750\n",
      "INFO:hyperopt.tpe:build_posterior_wrapper took 0.004445 seconds\n",
      "INFO:hyperopt.tpe:TPE using 218/218 trials with best loss -0.915750\n",
      "INFO:hyperopt.tpe:build_posterior_wrapper took 0.004700 seconds\n",
      "INFO:hyperopt.tpe:TPE using 219/219 trials with best loss -0.915750\n"
     ]
    },
    {
     "name": "stdout",
     "output_type": "stream",
     "text": [
      "\r",
      " 22%|██▏       | 220/1000 [20:18<1:12:06,  5.55s/trial, best loss: -0.91575]"
     ]
    },
    {
     "name": "stderr",
     "output_type": "stream",
     "text": [
      "INFO:hyperopt.tpe:build_posterior_wrapper took 0.004114 seconds\n",
      "INFO:hyperopt.tpe:TPE using 220/220 trials with best loss -0.915750\n",
      "INFO:hyperopt.tpe:build_posterior_wrapper took 0.004135 seconds\n",
      "INFO:hyperopt.tpe:TPE using 221/221 trials with best loss -0.915750\n",
      "INFO:hyperopt.tpe:build_posterior_wrapper took 0.004011 seconds\n",
      "INFO:hyperopt.tpe:TPE using 222/222 trials with best loss -0.915750\n",
      "INFO:hyperopt.tpe:build_posterior_wrapper took 0.004072 seconds\n",
      "INFO:hyperopt.tpe:TPE using 223/223 trials with best loss -0.915750\n",
      "INFO:hyperopt.tpe:build_posterior_wrapper took 0.004108 seconds\n",
      "INFO:hyperopt.tpe:TPE using 224/224 trials with best loss -0.915750\n",
      "INFO:hyperopt.tpe:build_posterior_wrapper took 0.004077 seconds\n",
      "INFO:hyperopt.tpe:TPE using 225/225 trials with best loss -0.915750\n",
      "INFO:hyperopt.tpe:build_posterior_wrapper took 0.004118 seconds\n",
      "INFO:hyperopt.tpe:TPE using 226/226 trials with best loss -0.915750\n",
      "INFO:hyperopt.tpe:build_posterior_wrapper took 0.003950 seconds\n",
      "INFO:hyperopt.tpe:TPE using 227/227 trials with best loss -0.915750\n",
      "INFO:hyperopt.tpe:build_posterior_wrapper took 0.003941 seconds\n",
      "INFO:hyperopt.tpe:TPE using 228/228 trials with best loss -0.915750\n",
      "INFO:hyperopt.tpe:build_posterior_wrapper took 0.004355 seconds\n",
      "INFO:hyperopt.tpe:TPE using 229/229 trials with best loss -0.915750\n"
     ]
    },
    {
     "name": "stdout",
     "output_type": "stream",
     "text": [
      "\r",
      " 23%|██▎       | 230/1000 [21:07<1:08:51,  5.37s/trial, best loss: -0.91575]"
     ]
    },
    {
     "name": "stderr",
     "output_type": "stream",
     "text": [
      "INFO:hyperopt.tpe:build_posterior_wrapper took 0.004114 seconds\n",
      "INFO:hyperopt.tpe:TPE using 230/230 trials with best loss -0.915750\n"
     ]
    },
    {
     "name": "stdout",
     "output_type": "stream",
     "text": [
      " 25%|██▌       | 250/1000 [22:11<52:38,  4.21s/trial, best loss: -0.91575]  "
     ]
    },
    {
     "name": "stderr",
     "output_type": "stream",
     "text": [
      "INFO:hyperopt.tpe:build_posterior_wrapper took 0.004052 seconds\n",
      "INFO:hyperopt.tpe:TPE using 250/250 trials with best loss -0.915750\n",
      "INFO:hyperopt.tpe:build_posterior_wrapper took 0.004022 seconds\n",
      "INFO:hyperopt.tpe:TPE using 251/251 trials with best loss -0.915750\n",
      "INFO:hyperopt.tpe:build_posterior_wrapper took 0.003814 seconds\n",
      "INFO:hyperopt.tpe:TPE using 252/252 trials with best loss -0.915750\n"
     ]
    },
    {
     "name": "stdout",
     "output_type": "stream",
     "text": [
      "\r",
      " 26%|██▌       | 260/1000 [22:54<52:11,  4.23s/trial, best loss: -0.91575]"
     ]
    },
    {
     "name": "stderr",
     "output_type": "stream",
     "text": [
      "INFO:hyperopt.tpe:build_posterior_wrapper took 0.003896 seconds\n",
      "INFO:hyperopt.tpe:TPE using 260/260 trials with best loss -0.915750\n",
      "INFO:hyperopt.tpe:build_posterior_wrapper took 0.003745 seconds\n",
      "INFO:hyperopt.tpe:TPE using 261/261 trials with best loss -0.915750\n",
      "INFO:hyperopt.tpe:build_posterior_wrapper took 0.003815 seconds\n",
      "INFO:hyperopt.tpe:TPE using 262/262 trials with best loss -0.915750\n",
      "INFO:hyperopt.tpe:build_posterior_wrapper took 0.003984 seconds\n",
      "INFO:hyperopt.tpe:TPE using 263/263 trials with best loss -0.915750\n",
      "INFO:hyperopt.tpe:build_posterior_wrapper took 0.003831 seconds\n",
      "INFO:hyperopt.tpe:TPE using 264/264 trials with best loss -0.915750\n",
      "INFO:hyperopt.tpe:build_posterior_wrapper took 0.003941 seconds\n",
      "INFO:hyperopt.tpe:TPE using 265/265 trials with best loss -0.915750\n",
      "INFO:hyperopt.tpe:build_posterior_wrapper took 0.003802 seconds\n",
      "INFO:hyperopt.tpe:TPE using 266/266 trials with best loss -0.915750\n",
      "INFO:hyperopt.tpe:build_posterior_wrapper took 0.003891 seconds\n",
      "INFO:hyperopt.tpe:TPE using 267/267 trials with best loss -0.915750\n",
      "INFO:hyperopt.tpe:build_posterior_wrapper took 0.003869 seconds\n",
      "INFO:hyperopt.tpe:TPE using 268/268 trials with best loss -0.915750\n",
      "INFO:hyperopt.tpe:build_posterior_wrapper took 0.003808 seconds\n",
      "INFO:hyperopt.tpe:TPE using 269/269 trials with best loss -0.915750\n"
     ]
    },
    {
     "name": "stdout",
     "output_type": "stream",
     "text": [
      " 28%|██▊       | 280/1000 [23:56<45:10,  3.76s/trial, best loss: -0.91575]"
     ]
    },
    {
     "name": "stderr",
     "output_type": "stream",
     "text": [
      "INFO:hyperopt.tpe:build_posterior_wrapper took 0.004091 seconds\n",
      "INFO:hyperopt.tpe:TPE using 280/280 trials with best loss -0.915750\n",
      "INFO:hyperopt.tpe:build_posterior_wrapper took 0.004398 seconds\n",
      "INFO:hyperopt.tpe:TPE using 281/281 trials with best loss -0.915750\n",
      "INFO:hyperopt.tpe:build_posterior_wrapper took 0.003950 seconds\n",
      "INFO:hyperopt.tpe:TPE using 282/282 trials with best loss -0.915750\n",
      "INFO:hyperopt.tpe:build_posterior_wrapper took 0.005261 seconds\n",
      "INFO:hyperopt.tpe:TPE using 283/283 trials with best loss -0.915750\n",
      "INFO:hyperopt.tpe:build_posterior_wrapper took 0.003948 seconds\n",
      "INFO:hyperopt.tpe:TPE using 284/284 trials with best loss -0.915750\n",
      "INFO:hyperopt.tpe:build_posterior_wrapper took 0.003742 seconds\n",
      "INFO:hyperopt.tpe:TPE using 285/285 trials with best loss -0.915750\n",
      "INFO:hyperopt.tpe:build_posterior_wrapper took 0.003813 seconds\n",
      "INFO:hyperopt.tpe:TPE using 286/286 trials with best loss -0.915750\n",
      "INFO:hyperopt.tpe:build_posterior_wrapper took 0.003866 seconds\n",
      "INFO:hyperopt.tpe:TPE using 287/287 trials with best loss -0.915750\n",
      "INFO:hyperopt.tpe:build_posterior_wrapper took 0.004666 seconds\n",
      "INFO:hyperopt.tpe:TPE using 288/288 trials with best loss -0.915750\n"
     ]
    },
    {
     "name": "stdout",
     "output_type": "stream",
     "text": [
      "\r",
      " 29%|██▉       | 290/1000 [24:37<45:35,  3.85s/trial, best loss: -0.91575]"
     ]
    },
    {
     "name": "stderr",
     "output_type": "stream",
     "text": [
      "INFO:hyperopt.tpe:build_posterior_wrapper took 0.003912 seconds\n",
      "INFO:hyperopt.tpe:TPE using 290/290 trials with best loss -0.915750\n",
      "INFO:hyperopt.tpe:build_posterior_wrapper took 0.004029 seconds\n",
      "INFO:hyperopt.tpe:TPE using 291/291 trials with best loss -0.915750\n",
      "INFO:hyperopt.tpe:build_posterior_wrapper took 0.003805 seconds\n",
      "INFO:hyperopt.tpe:TPE using 292/292 trials with best loss -0.915750\n",
      "INFO:hyperopt.tpe:build_posterior_wrapper took 0.004054 seconds\n",
      "INFO:hyperopt.tpe:TPE using 293/293 trials with best loss -0.915750\n"
     ]
    },
    {
     "name": "stdout",
     "output_type": "stream",
     "text": [
      "\r",
      " 30%|███       | 300/1000 [25:17<45:30,  3.90s/trial, best loss: -0.91575]"
     ]
    },
    {
     "name": "stderr",
     "output_type": "stream",
     "text": [
      "INFO:hyperopt.tpe:build_posterior_wrapper took 0.004490 seconds\n",
      "INFO:hyperopt.tpe:TPE using 300/300 trials with best loss -0.915750\n",
      "INFO:hyperopt.tpe:build_posterior_wrapper took 0.003976 seconds\n",
      "INFO:hyperopt.tpe:TPE using 301/301 trials with best loss -0.915750\n",
      "INFO:hyperopt.tpe:build_posterior_wrapper took 0.003946 seconds\n",
      "INFO:hyperopt.tpe:TPE using 302/302 trials with best loss -0.915750\n",
      "INFO:hyperopt.tpe:build_posterior_wrapper took 0.003828 seconds\n",
      "INFO:hyperopt.tpe:TPE using 303/303 trials with best loss -0.915750\n",
      "INFO:hyperopt.tpe:build_posterior_wrapper took 0.003894 seconds\n",
      "INFO:hyperopt.tpe:TPE using 304/304 trials with best loss -0.915750\n",
      "INFO:hyperopt.tpe:build_posterior_wrapper took 0.055311 seconds\n",
      "INFO:hyperopt.tpe:TPE using 305/305 trials with best loss -0.915750\n",
      "INFO:hyperopt.tpe:build_posterior_wrapper took 0.003839 seconds\n",
      "INFO:hyperopt.tpe:TPE using 306/306 trials with best loss -0.915750\n",
      "INFO:hyperopt.tpe:build_posterior_wrapper took 0.004189 seconds\n",
      "INFO:hyperopt.tpe:TPE using 307/307 trials with best loss -0.915750\n",
      "INFO:hyperopt.tpe:build_posterior_wrapper took 0.003836 seconds\n",
      "INFO:hyperopt.tpe:TPE using 308/308 trials with best loss -0.915750\n",
      "INFO:hyperopt.tpe:build_posterior_wrapper took 0.003861 seconds\n",
      "INFO:hyperopt.tpe:TPE using 309/309 trials with best loss -0.915750\n"
     ]
    },
    {
     "name": "stdout",
     "output_type": "stream",
     "text": [
      "\r",
      " 31%|███       | 310/1000 [26:07<48:33,  4.22s/trial, best loss: -0.91575]"
     ]
    },
    {
     "name": "stderr",
     "output_type": "stream",
     "text": [
      "INFO:hyperopt.tpe:build_posterior_wrapper took 0.004180 seconds\n",
      "INFO:hyperopt.tpe:TPE using 310/310 trials with best loss -0.915750\n",
      "INFO:hyperopt.tpe:build_posterior_wrapper took 0.005022 seconds\n",
      "INFO:hyperopt.tpe:TPE using 311/311 trials with best loss -0.915750\n",
      "INFO:hyperopt.tpe:build_posterior_wrapper took 0.003791 seconds\n",
      "INFO:hyperopt.tpe:TPE using 312/312 trials with best loss -0.915750\n",
      "INFO:hyperopt.tpe:build_posterior_wrapper took 0.004083 seconds\n",
      "INFO:hyperopt.tpe:TPE using 313/313 trials with best loss -0.915750\n",
      "INFO:hyperopt.tpe:build_posterior_wrapper took 0.003802 seconds\n",
      "INFO:hyperopt.tpe:TPE using 314/314 trials with best loss -0.915750\n",
      "INFO:hyperopt.tpe:build_posterior_wrapper took 0.003914 seconds\n",
      "INFO:hyperopt.tpe:TPE using 315/315 trials with best loss -0.915750\n",
      "INFO:hyperopt.tpe:build_posterior_wrapper took 0.003964 seconds\n",
      "INFO:hyperopt.tpe:TPE using 316/316 trials with best loss -0.915750\n",
      "INFO:hyperopt.tpe:build_posterior_wrapper took 0.003836 seconds\n",
      "INFO:hyperopt.tpe:TPE using 317/317 trials with best loss -0.915750\n",
      "INFO:hyperopt.tpe:build_posterior_wrapper took 0.003939 seconds\n",
      "INFO:hyperopt.tpe:TPE using 318/318 trials with best loss -0.915750\n"
     ]
    },
    {
     "name": "stdout",
     "output_type": "stream",
     "text": [
      " 33%|███▎      | 330/1000 [27:43<50:40,  4.54s/trial, best loss: -0.91575]"
     ]
    },
    {
     "name": "stderr",
     "output_type": "stream",
     "text": [
      "INFO:hyperopt.tpe:build_posterior_wrapper took 0.003995 seconds\n",
      "INFO:hyperopt.tpe:TPE using 330/330 trials with best loss -0.915750\n"
     ]
    },
    {
     "name": "stdout",
     "output_type": "stream",
     "text": [
      "\r",
      " 34%|███▍      | 340/1000 [28:12<44:44,  4.07s/trial, best loss: -0.91575]"
     ]
    },
    {
     "name": "stderr",
     "output_type": "stream",
     "text": [
      "INFO:hyperopt.tpe:build_posterior_wrapper took 0.004030 seconds\n",
      "INFO:hyperopt.tpe:TPE using 340/340 trials with best loss -0.915750\n"
     ]
    },
    {
     "name": "stdout",
     "output_type": "stream",
     "text": [
      "\r",
      " 35%|███▌      | 350/1000 [29:00<46:20,  4.28s/trial, best loss: -0.91575]"
     ]
    },
    {
     "name": "stderr",
     "output_type": "stream",
     "text": [
      "INFO:hyperopt.tpe:build_posterior_wrapper took 0.004001 seconds\n",
      "INFO:hyperopt.tpe:TPE using 350/350 trials with best loss -0.915750\n",
      "INFO:hyperopt.tpe:build_posterior_wrapper took 0.003792 seconds\n",
      "INFO:hyperopt.tpe:TPE using 351/351 trials with best loss -0.915750\n"
     ]
    },
    {
     "name": "stdout",
     "output_type": "stream",
     "text": [
      "\r",
      " 36%|███▌      | 360/1000 [29:37<43:51,  4.11s/trial, best loss: -0.9157899999999999]"
     ]
    },
    {
     "name": "stderr",
     "output_type": "stream",
     "text": [
      "INFO:hyperopt.tpe:build_posterior_wrapper took 0.003903 seconds\n",
      "INFO:hyperopt.tpe:TPE using 360/360 trials with best loss -0.915790\n",
      "INFO:hyperopt.tpe:build_posterior_wrapper took 0.003949 seconds\n",
      "INFO:hyperopt.tpe:TPE using 361/361 trials with best loss -0.915790\n",
      "INFO:hyperopt.tpe:build_posterior_wrapper took 0.004694 seconds\n",
      "INFO:hyperopt.tpe:TPE using 362/362 trials with best loss -0.915790\n",
      "INFO:hyperopt.tpe:build_posterior_wrapper took 0.004074 seconds\n",
      "INFO:hyperopt.tpe:TPE using 363/363 trials with best loss -0.915790\n",
      "INFO:hyperopt.tpe:build_posterior_wrapper took 0.056695 seconds\n",
      "INFO:hyperopt.tpe:TPE using 364/364 trials with best loss -0.915790\n",
      "INFO:hyperopt.tpe:build_posterior_wrapper took 0.003799 seconds\n",
      "INFO:hyperopt.tpe:TPE using 365/365 trials with best loss -0.915790\n",
      "INFO:hyperopt.tpe:build_posterior_wrapper took 0.003861 seconds\n",
      "INFO:hyperopt.tpe:TPE using 366/366 trials with best loss -0.915790\n",
      "INFO:hyperopt.tpe:build_posterior_wrapper took 0.004157 seconds\n",
      "INFO:hyperopt.tpe:TPE using 367/367 trials with best loss -0.915790\n",
      "INFO:hyperopt.tpe:build_posterior_wrapper took 0.003892 seconds\n",
      "INFO:hyperopt.tpe:TPE using 368/368 trials with best loss -0.915790\n"
     ]
    },
    {
     "name": "stdout",
     "output_type": "stream",
     "text": [
      "\r",
      " 37%|███▋      | 370/1000 [30:13<41:36,  3.96s/trial, best loss: -0.9159700000000001]"
     ]
    },
    {
     "name": "stderr",
     "output_type": "stream",
     "text": [
      "INFO:hyperopt.tpe:build_posterior_wrapper took 0.004206 seconds\n",
      "INFO:hyperopt.tpe:TPE using 370/370 trials with best loss -0.915970\n",
      "INFO:hyperopt.tpe:build_posterior_wrapper took 0.004442 seconds\n",
      "INFO:hyperopt.tpe:TPE using 371/371 trials with best loss -0.915970\n",
      "INFO:hyperopt.tpe:build_posterior_wrapper took 0.003412 seconds\n",
      "INFO:hyperopt.tpe:TPE using 372/372 trials with best loss -0.915970\n"
     ]
    },
    {
     "name": "stdout",
     "output_type": "stream",
     "text": [
      "\r",
      " 38%|███▊      | 380/1000 [32:04<1:02:51,  6.08s/trial, best loss: -0.91605]         "
     ]
    },
    {
     "name": "stderr",
     "output_type": "stream",
     "text": [
      "INFO:hyperopt.tpe:build_posterior_wrapper took 0.004847 seconds\n",
      "INFO:hyperopt.tpe:TPE using 380/380 trials with best loss -0.916050\n",
      "INFO:hyperopt.tpe:build_posterior_wrapper took 0.004137 seconds\n",
      "INFO:hyperopt.tpe:TPE using 381/381 trials with best loss -0.916050\n",
      "INFO:hyperopt.tpe:build_posterior_wrapper took 0.004144 seconds\n",
      "INFO:hyperopt.tpe:TPE using 382/382 trials with best loss -0.916050\n"
     ]
    },
    {
     "name": "stdout",
     "output_type": "stream",
     "text": [
      "\r",
      " 39%|███▉      | 390/1000 [33:11<1:03:46,  6.27s/trial, best loss: -0.91605]"
     ]
    },
    {
     "name": "stderr",
     "output_type": "stream",
     "text": [
      "INFO:hyperopt.tpe:build_posterior_wrapper took 0.003893 seconds\n",
      "INFO:hyperopt.tpe:TPE using 390/390 trials with best loss -0.916050\n",
      "INFO:hyperopt.tpe:build_posterior_wrapper took 0.004192 seconds\n",
      "INFO:hyperopt.tpe:TPE using 391/391 trials with best loss -0.916050\n",
      "INFO:hyperopt.tpe:build_posterior_wrapper took 0.003834 seconds\n",
      "INFO:hyperopt.tpe:TPE using 392/392 trials with best loss -0.916050\n",
      "INFO:hyperopt.tpe:build_posterior_wrapper took 0.003968 seconds\n",
      "INFO:hyperopt.tpe:TPE using 393/393 trials with best loss -0.916050\n"
     ]
    },
    {
     "name": "stdout",
     "output_type": "stream",
     "text": [
      "\r",
      " 40%|████      | 400/1000 [34:00<58:48,  5.88s/trial, best loss: -0.91605]  "
     ]
    },
    {
     "name": "stderr",
     "output_type": "stream",
     "text": [
      "INFO:hyperopt.tpe:build_posterior_wrapper took 0.004020 seconds\n",
      "INFO:hyperopt.tpe:TPE using 400/400 trials with best loss -0.916050\n",
      "INFO:hyperopt.tpe:build_posterior_wrapper took 0.003827 seconds\n",
      "INFO:hyperopt.tpe:TPE using 401/401 trials with best loss -0.916050\n"
     ]
    },
    {
     "name": "stdout",
     "output_type": "stream",
     "text": [
      "\r",
      " 41%|████      | 410/1000 [34:39<51:42,  5.26s/trial, best loss: -0.91605]"
     ]
    },
    {
     "name": "stderr",
     "output_type": "stream",
     "text": [
      "INFO:hyperopt.tpe:build_posterior_wrapper took 0.004503 seconds\n",
      "INFO:hyperopt.tpe:TPE using 410/410 trials with best loss -0.916050\n",
      "INFO:hyperopt.tpe:build_posterior_wrapper took 0.003934 seconds\n",
      "INFO:hyperopt.tpe:TPE using 411/411 trials with best loss -0.916050\n",
      "INFO:hyperopt.tpe:build_posterior_wrapper took 0.003959 seconds\n",
      "INFO:hyperopt.tpe:TPE using 412/412 trials with best loss -0.916050\n"
     ]
    },
    {
     "name": "stdout",
     "output_type": "stream",
     "text": [
      "\r",
      " 42%|████▏     | 420/1000 [35:21<47:47,  4.94s/trial, best loss: -0.91605]"
     ]
    },
    {
     "name": "stderr",
     "output_type": "stream",
     "text": [
      "INFO:hyperopt.tpe:build_posterior_wrapper took 0.004266 seconds\n",
      "INFO:hyperopt.tpe:TPE using 420/420 trials with best loss -0.916050\n",
      "INFO:hyperopt.tpe:build_posterior_wrapper took 0.004233 seconds\n",
      "INFO:hyperopt.tpe:TPE using 421/421 trials with best loss -0.916050\n",
      "INFO:hyperopt.tpe:build_posterior_wrapper took 0.004264 seconds\n",
      "INFO:hyperopt.tpe:TPE using 422/422 trials with best loss -0.916050\n",
      "INFO:hyperopt.tpe:build_posterior_wrapper took 0.004264 seconds\n",
      "INFO:hyperopt.tpe:TPE using 423/423 trials with best loss -0.916050\n",
      "INFO:hyperopt.tpe:build_posterior_wrapper took 0.004152 seconds\n",
      "INFO:hyperopt.tpe:TPE using 424/424 trials with best loss -0.916050\n"
     ]
    },
    {
     "name": "stdout",
     "output_type": "stream",
     "text": [
      " 44%|████▍     | 440/1000 [36:33<41:03,  4.40s/trial, best loss: -0.91605]"
     ]
    },
    {
     "name": "stderr",
     "output_type": "stream",
     "text": [
      "INFO:hyperopt.tpe:build_posterior_wrapper took 0.003905 seconds\n",
      "INFO:hyperopt.tpe:TPE using 440/440 trials with best loss -0.916050\n",
      "INFO:hyperopt.tpe:build_posterior_wrapper took 0.003827 seconds\n",
      "INFO:hyperopt.tpe:TPE using 441/441 trials with best loss -0.916050\n",
      "INFO:hyperopt.tpe:build_posterior_wrapper took 0.003857 seconds\n",
      "INFO:hyperopt.tpe:TPE using 442/442 trials with best loss -0.916050\n",
      "INFO:hyperopt.tpe:build_posterior_wrapper took 0.003810 seconds\n",
      "INFO:hyperopt.tpe:TPE using 443/443 trials with best loss -0.916050\n"
     ]
    },
    {
     "name": "stdout",
     "output_type": "stream",
     "text": [
      "\r",
      " 45%|████▌     | 450/1000 [37:24<42:19,  4.62s/trial, best loss: -0.91605]"
     ]
    },
    {
     "name": "stderr",
     "output_type": "stream",
     "text": [
      "INFO:hyperopt.tpe:build_posterior_wrapper took 0.004229 seconds\n",
      "INFO:hyperopt.tpe:TPE using 450/450 trials with best loss -0.916050\n",
      "INFO:hyperopt.tpe:build_posterior_wrapper took 0.057497 seconds\n",
      "INFO:hyperopt.tpe:TPE using 451/451 trials with best loss -0.916050\n"
     ]
    },
    {
     "name": "stdout",
     "output_type": "stream",
     "text": [
      " 47%|████▋     | 470/1000 [40:29<1:05:12,  7.38s/trial, best loss: -0.91605]"
     ]
    },
    {
     "name": "stderr",
     "output_type": "stream",
     "text": [
      "INFO:hyperopt.tpe:build_posterior_wrapper took 0.003890 seconds\n",
      "INFO:hyperopt.tpe:TPE using 470/470 trials with best loss -0.916050\n",
      "INFO:hyperopt.tpe:build_posterior_wrapper took 0.003839 seconds\n",
      "INFO:hyperopt.tpe:TPE using 471/471 trials with best loss -0.916050\n",
      "INFO:hyperopt.tpe:build_posterior_wrapper took 0.003838 seconds\n",
      "INFO:hyperopt.tpe:TPE using 472/472 trials with best loss -0.916050\n",
      "INFO:hyperopt.tpe:build_posterior_wrapper took 0.004095 seconds\n",
      "INFO:hyperopt.tpe:TPE using 473/473 trials with best loss -0.916050\n",
      "INFO:hyperopt.tpe:build_posterior_wrapper took 0.004001 seconds\n",
      "INFO:hyperopt.tpe:TPE using 474/474 trials with best loss -0.916050\n",
      "INFO:hyperopt.tpe:build_posterior_wrapper took 0.003825 seconds\n",
      "INFO:hyperopt.tpe:TPE using 475/475 trials with best loss -0.916050\n",
      "INFO:hyperopt.tpe:build_posterior_wrapper took 0.003821 seconds\n",
      "INFO:hyperopt.tpe:TPE using 476/476 trials with best loss -0.916050\n",
      "INFO:hyperopt.tpe:build_posterior_wrapper took 0.003808 seconds\n",
      "INFO:hyperopt.tpe:TPE using 477/477 trials with best loss -0.916050\n",
      "INFO:hyperopt.tpe:build_posterior_wrapper took 0.003918 seconds\n",
      "INFO:hyperopt.tpe:TPE using 478/478 trials with best loss -0.916050\n",
      "INFO:hyperopt.tpe:build_posterior_wrapper took 0.003932 seconds\n",
      "INFO:hyperopt.tpe:TPE using 479/479 trials with best loss -0.916050\n"
     ]
    },
    {
     "name": "stdout",
     "output_type": "stream",
     "text": [
      "\r",
      " 48%|████▊     | 480/1000 [41:12<55:59,  6.46s/trial, best loss: -0.91605]  "
     ]
    },
    {
     "name": "stderr",
     "output_type": "stream",
     "text": [
      "INFO:hyperopt.tpe:build_posterior_wrapper took 0.004024 seconds\n",
      "INFO:hyperopt.tpe:TPE using 480/480 trials with best loss -0.916050\n",
      "INFO:hyperopt.tpe:build_posterior_wrapper took 0.003953 seconds\n",
      "INFO:hyperopt.tpe:TPE using 481/481 trials with best loss -0.916050\n",
      "INFO:hyperopt.tpe:build_posterior_wrapper took 0.003834 seconds\n",
      "INFO:hyperopt.tpe:TPE using 482/482 trials with best loss -0.916050\n",
      "INFO:hyperopt.tpe:build_posterior_wrapper took 0.004003 seconds\n",
      "INFO:hyperopt.tpe:TPE using 483/483 trials with best loss -0.916050\n",
      "INFO:hyperopt.tpe:build_posterior_wrapper took 0.003912 seconds\n",
      "INFO:hyperopt.tpe:TPE using 484/484 trials with best loss -0.916050\n",
      "INFO:hyperopt.tpe:build_posterior_wrapper took 0.003812 seconds\n",
      "INFO:hyperopt.tpe:TPE using 485/485 trials with best loss -0.916050\n",
      "INFO:hyperopt.tpe:build_posterior_wrapper took 0.004177 seconds\n",
      "INFO:hyperopt.tpe:TPE using 486/486 trials with best loss -0.916050\n",
      "INFO:hyperopt.tpe:build_posterior_wrapper took 0.003846 seconds\n",
      "INFO:hyperopt.tpe:TPE using 487/487 trials with best loss -0.916050\n"
     ]
    },
    {
     "name": "stdout",
     "output_type": "stream",
     "text": [
      "\r",
      " 49%|████▉     | 490/1000 [42:03<51:25,  6.05s/trial, best loss: -0.91605]"
     ]
    },
    {
     "name": "stderr",
     "output_type": "stream",
     "text": [
      "INFO:hyperopt.tpe:build_posterior_wrapper took 0.003916 seconds\n",
      "INFO:hyperopt.tpe:TPE using 490/490 trials with best loss -0.916050\n",
      "INFO:hyperopt.tpe:build_posterior_wrapper took 0.003799 seconds\n",
      "INFO:hyperopt.tpe:TPE using 491/491 trials with best loss -0.916050\n",
      "INFO:hyperopt.tpe:build_posterior_wrapper took 0.003933 seconds\n",
      "INFO:hyperopt.tpe:TPE using 492/492 trials with best loss -0.916050\n"
     ]
    },
    {
     "name": "stdout",
     "output_type": "stream",
     "text": [
      "\r",
      " 50%|█████     | 500/1000 [43:34<58:02,  6.96s/trial, best loss: -0.9161] "
     ]
    },
    {
     "name": "stderr",
     "output_type": "stream",
     "text": [
      "INFO:hyperopt.tpe:build_posterior_wrapper took 0.003908 seconds\n",
      "INFO:hyperopt.tpe:TPE using 500/500 trials with best loss -0.916100\n",
      "INFO:hyperopt.tpe:build_posterior_wrapper took 0.003816 seconds\n",
      "INFO:hyperopt.tpe:TPE using 501/501 trials with best loss -0.916100\n",
      "INFO:hyperopt.tpe:build_posterior_wrapper took 0.056852 seconds\n",
      "INFO:hyperopt.tpe:TPE using 502/502 trials with best loss -0.916100\n",
      "INFO:hyperopt.tpe:build_posterior_wrapper took 0.003896 seconds\n",
      "INFO:hyperopt.tpe:TPE using 503/503 trials with best loss -0.916100\n"
     ]
    },
    {
     "name": "stdout",
     "output_type": "stream",
     "text": [
      "\r",
      " 51%|█████     | 510/1000 [44:24<52:04,  6.38s/trial, best loss: -0.91617]"
     ]
    },
    {
     "name": "stderr",
     "output_type": "stream",
     "text": [
      "INFO:hyperopt.tpe:build_posterior_wrapper took 0.003896 seconds\n",
      "INFO:hyperopt.tpe:TPE using 510/510 trials with best loss -0.916170\n",
      "INFO:hyperopt.tpe:build_posterior_wrapper took 0.003768 seconds\n",
      "INFO:hyperopt.tpe:TPE using 511/511 trials with best loss -0.916170\n",
      "INFO:hyperopt.tpe:build_posterior_wrapper took 0.003802 seconds\n",
      "INFO:hyperopt.tpe:TPE using 512/512 trials with best loss -0.916170\n",
      "INFO:hyperopt.tpe:build_posterior_wrapper took 0.003841 seconds\n",
      "INFO:hyperopt.tpe:TPE using 513/513 trials with best loss -0.916170\n"
     ]
    },
    {
     "name": "stdout",
     "output_type": "stream",
     "text": [
      "\r",
      " 52%|█████▏    | 520/1000 [45:11<47:00,  5.88s/trial, best loss: -0.91617]"
     ]
    },
    {
     "name": "stderr",
     "output_type": "stream",
     "text": [
      "INFO:hyperopt.tpe:build_posterior_wrapper took 0.003895 seconds\n",
      "INFO:hyperopt.tpe:TPE using 520/520 trials with best loss -0.916170\n",
      "INFO:hyperopt.tpe:build_posterior_wrapper took 0.003780 seconds\n",
      "INFO:hyperopt.tpe:TPE using 521/521 trials with best loss -0.916170\n",
      "INFO:hyperopt.tpe:build_posterior_wrapper took 0.003782 seconds\n",
      "INFO:hyperopt.tpe:TPE using 522/522 trials with best loss -0.916170\n",
      "INFO:hyperopt.tpe:build_posterior_wrapper took 0.003875 seconds\n",
      "INFO:hyperopt.tpe:TPE using 523/523 trials with best loss -0.916170\n"
     ]
    },
    {
     "name": "stdout",
     "output_type": "stream",
     "text": [
      "\r",
      " 53%|█████▎    | 530/1000 [45:59<43:27,  5.55s/trial, best loss: -0.91617]"
     ]
    },
    {
     "name": "stderr",
     "output_type": "stream",
     "text": [
      "INFO:hyperopt.tpe:build_posterior_wrapper took 0.003974 seconds\n",
      "INFO:hyperopt.tpe:TPE using 530/530 trials with best loss -0.916170\n",
      "INFO:hyperopt.tpe:build_posterior_wrapper took 0.003896 seconds\n",
      "INFO:hyperopt.tpe:TPE using 531/531 trials with best loss -0.916170\n",
      "INFO:hyperopt.tpe:build_posterior_wrapper took 0.004018 seconds\n",
      "INFO:hyperopt.tpe:TPE using 532/532 trials with best loss -0.916170\n",
      "INFO:hyperopt.tpe:build_posterior_wrapper took 0.003842 seconds\n",
      "INFO:hyperopt.tpe:TPE using 533/533 trials with best loss -0.916170\n",
      "INFO:hyperopt.tpe:build_posterior_wrapper took 0.003794 seconds\n",
      "INFO:hyperopt.tpe:TPE using 534/534 trials with best loss -0.916170\n",
      "INFO:hyperopt.tpe:build_posterior_wrapper took 0.056416 seconds\n",
      "INFO:hyperopt.tpe:TPE using 535/535 trials with best loss -0.916170\n"
     ]
    },
    {
     "name": "stdout",
     "output_type": "stream",
     "text": [
      " 55%|█████▌    | 550/1000 [47:18<35:06,  4.68s/trial, best loss: -0.91617]"
     ]
    },
    {
     "name": "stderr",
     "output_type": "stream",
     "text": [
      "INFO:hyperopt.tpe:build_posterior_wrapper took 0.003911 seconds\n",
      "INFO:hyperopt.tpe:TPE using 550/550 trials with best loss -0.916170\n",
      "INFO:hyperopt.tpe:build_posterior_wrapper took 0.003977 seconds\n",
      "INFO:hyperopt.tpe:TPE using 551/551 trials with best loss -0.916170\n",
      "INFO:hyperopt.tpe:build_posterior_wrapper took 0.003919 seconds\n",
      "INFO:hyperopt.tpe:TPE using 552/552 trials with best loss -0.916170\n"
     ]
    },
    {
     "name": "stdout",
     "output_type": "stream",
     "text": [
      "\r",
      " 56%|█████▌    | 560/1000 [48:02<33:40,  4.59s/trial, best loss: -0.91617]"
     ]
    },
    {
     "name": "stderr",
     "output_type": "stream",
     "text": [
      "INFO:hyperopt.tpe:build_posterior_wrapper took 0.003898 seconds\n",
      "INFO:hyperopt.tpe:TPE using 560/560 trials with best loss -0.916170\n",
      "INFO:hyperopt.tpe:build_posterior_wrapper took 0.003940 seconds\n",
      "INFO:hyperopt.tpe:TPE using 561/561 trials with best loss -0.916170\n",
      "INFO:hyperopt.tpe:build_posterior_wrapper took 0.003788 seconds\n",
      "INFO:hyperopt.tpe:TPE using 562/562 trials with best loss -0.916170\n",
      "INFO:hyperopt.tpe:build_posterior_wrapper took 0.004390 seconds\n",
      "INFO:hyperopt.tpe:TPE using 563/563 trials with best loss -0.916170\n",
      "INFO:hyperopt.tpe:build_posterior_wrapper took 0.004091 seconds\n",
      "INFO:hyperopt.tpe:TPE using 564/564 trials with best loss -0.916170\n",
      "INFO:hyperopt.tpe:build_posterior_wrapper took 0.003821 seconds\n",
      "INFO:hyperopt.tpe:TPE using 565/565 trials with best loss -0.916170\n"
     ]
    },
    {
     "name": "stdout",
     "output_type": "stream",
     "text": [
      "\r",
      " 57%|█████▋    | 570/1000 [49:38<43:30,  6.07s/trial, best loss: -0.91617]"
     ]
    },
    {
     "name": "stderr",
     "output_type": "stream",
     "text": [
      "INFO:hyperopt.tpe:build_posterior_wrapper took 0.003964 seconds\n",
      "INFO:hyperopt.tpe:TPE using 570/570 trials with best loss -0.916170\n"
     ]
    },
    {
     "name": "stdout",
     "output_type": "stream",
     "text": [
      " 60%|██████    | 600/1000 [52:06<36:28,  5.47s/trial, best loss: -0.91617]"
     ]
    },
    {
     "name": "stderr",
     "output_type": "stream",
     "text": [
      "INFO:hyperopt.tpe:build_posterior_wrapper took 0.004013 seconds\n",
      "INFO:hyperopt.tpe:TPE using 600/600 trials with best loss -0.916170\n",
      "INFO:hyperopt.tpe:build_posterior_wrapper took 0.005296 seconds\n",
      "INFO:hyperopt.tpe:TPE using 601/601 trials with best loss -0.916170\n",
      "INFO:hyperopt.tpe:build_posterior_wrapper took 0.003693 seconds\n",
      "INFO:hyperopt.tpe:TPE using 602/602 trials with best loss -0.916170\n"
     ]
    },
    {
     "name": "stdout",
     "output_type": "stream",
     "text": [
      " 62%|██████▏   | 620/1000 [53:58<35:48,  5.65s/trial, best loss: -0.91617]"
     ]
    },
    {
     "name": "stderr",
     "output_type": "stream",
     "text": [
      "INFO:hyperopt.tpe:build_posterior_wrapper took 0.004291 seconds\n",
      "INFO:hyperopt.tpe:TPE using 620/620 trials with best loss -0.916170\n",
      "INFO:hyperopt.tpe:build_posterior_wrapper took 0.004168 seconds\n",
      "INFO:hyperopt.tpe:TPE using 621/621 trials with best loss -0.916170\n"
     ]
    },
    {
     "name": "stdout",
     "output_type": "stream",
     "text": [
      " 64%|██████▍   | 640/1000 [55:36<31:20,  5.22s/trial, best loss: -0.91617]"
     ]
    },
    {
     "name": "stderr",
     "output_type": "stream",
     "text": [
      "INFO:hyperopt.tpe:build_posterior_wrapper took 0.004266 seconds\n",
      "INFO:hyperopt.tpe:TPE using 640/640 trials with best loss -0.916170\n",
      "INFO:hyperopt.tpe:build_posterior_wrapper took 0.004161 seconds\n",
      "INFO:hyperopt.tpe:TPE using 641/641 trials with best loss -0.916170\n",
      "INFO:hyperopt.tpe:build_posterior_wrapper took 0.004286 seconds\n",
      "INFO:hyperopt.tpe:TPE using 642/642 trials with best loss -0.916170\n",
      "INFO:hyperopt.tpe:build_posterior_wrapper took 0.004213 seconds\n",
      "INFO:hyperopt.tpe:TPE using 643/643 trials with best loss -0.916170\n",
      "INFO:hyperopt.tpe:build_posterior_wrapper took 0.004331 seconds\n",
      "INFO:hyperopt.tpe:TPE using 644/644 trials with best loss -0.916170\n",
      "INFO:hyperopt.tpe:build_posterior_wrapper took 0.004265 seconds\n",
      "INFO:hyperopt.tpe:TPE using 645/645 trials with best loss -0.916170\n",
      "INFO:hyperopt.tpe:build_posterior_wrapper took 0.004141 seconds\n",
      "INFO:hyperopt.tpe:TPE using 646/646 trials with best loss -0.916170\n",
      "INFO:hyperopt.tpe:build_posterior_wrapper took 0.004098 seconds\n",
      "INFO:hyperopt.tpe:TPE using 647/647 trials with best loss -0.916170\n",
      "INFO:hyperopt.tpe:build_posterior_wrapper took 0.004092 seconds\n",
      "INFO:hyperopt.tpe:TPE using 648/648 trials with best loss -0.916170\n",
      "INFO:hyperopt.tpe:build_posterior_wrapper took 0.004173 seconds\n",
      "INFO:hyperopt.tpe:TPE using 649/649 trials with best loss -0.916170\n"
     ]
    },
    {
     "name": "stdout",
     "output_type": "stream",
     "text": [
      "\r",
      " 65%|██████▌   | 650/1000 [56:25<29:57,  5.13s/trial, best loss: -0.91617]"
     ]
    },
    {
     "name": "stderr",
     "output_type": "stream",
     "text": [
      "INFO:hyperopt.tpe:build_posterior_wrapper took 0.004210 seconds\n",
      "INFO:hyperopt.tpe:TPE using 650/650 trials with best loss -0.916170\n"
     ]
    },
    {
     "name": "stdout",
     "output_type": "stream",
     "text": [
      "\r",
      " 66%|██████▌   | 660/1000 [56:56<25:31,  4.50s/trial, best loss: -0.91617]"
     ]
    },
    {
     "name": "stderr",
     "output_type": "stream",
     "text": [
      "INFO:hyperopt.tpe:build_posterior_wrapper took 0.004017 seconds\n",
      "INFO:hyperopt.tpe:TPE using 660/660 trials with best loss -0.916170\n"
     ]
    },
    {
     "name": "stdout",
     "output_type": "stream",
     "text": [
      "\r",
      " 67%|██████▋   | 670/1000 [57:50<26:16,  4.78s/trial, best loss: -0.91617]"
     ]
    },
    {
     "name": "stderr",
     "output_type": "stream",
     "text": [
      "INFO:hyperopt.tpe:build_posterior_wrapper took 0.004009 seconds\n",
      "INFO:hyperopt.tpe:TPE using 670/670 trials with best loss -0.916170\n",
      "INFO:hyperopt.tpe:build_posterior_wrapper took 0.003823 seconds\n",
      "INFO:hyperopt.tpe:TPE using 671/671 trials with best loss -0.916170\n"
     ]
    },
    {
     "name": "stdout",
     "output_type": "stream",
     "text": [
      "\r",
      " 68%|██████▊   | 680/1000 [59:12<30:54,  5.80s/trial, best loss: -0.91617]"
     ]
    },
    {
     "name": "stderr",
     "output_type": "stream",
     "text": [
      "INFO:hyperopt.tpe:build_posterior_wrapper took 0.004493 seconds\n",
      "INFO:hyperopt.tpe:TPE using 680/680 trials with best loss -0.916170\n",
      "INFO:hyperopt.tpe:build_posterior_wrapper took 0.004936 seconds\n",
      "INFO:hyperopt.tpe:TPE using 681/681 trials with best loss -0.916170\n",
      "INFO:hyperopt.tpe:build_posterior_wrapper took 0.004121 seconds\n",
      "INFO:hyperopt.tpe:TPE using 682/682 trials with best loss -0.916170\n",
      "INFO:hyperopt.tpe:build_posterior_wrapper took 0.004272 seconds\n",
      "INFO:hyperopt.tpe:TPE using 683/683 trials with best loss -0.916170\n",
      "INFO:hyperopt.tpe:build_posterior_wrapper took 0.003951 seconds\n",
      "INFO:hyperopt.tpe:TPE using 684/684 trials with best loss -0.916170\n",
      "INFO:hyperopt.tpe:build_posterior_wrapper took 0.004203 seconds\n",
      "INFO:hyperopt.tpe:TPE using 685/685 trials with best loss -0.916170\n",
      "INFO:hyperopt.tpe:build_posterior_wrapper took 0.004080 seconds\n",
      "INFO:hyperopt.tpe:TPE using 686/686 trials with best loss -0.916170\n",
      "INFO:hyperopt.tpe:build_posterior_wrapper took 0.003855 seconds\n",
      "INFO:hyperopt.tpe:TPE using 687/687 trials with best loss -0.916170\n"
     ]
    },
    {
     "name": "stdout",
     "output_type": "stream",
     "text": [
      "\r",
      " 69%|██████▉   | 690/1000 [1:00:16<31:00,  6.00s/trial, best loss: -0.91617]"
     ]
    },
    {
     "name": "stderr",
     "output_type": "stream",
     "text": [
      "INFO:hyperopt.tpe:build_posterior_wrapper took 0.004065 seconds\n",
      "INFO:hyperopt.tpe:TPE using 690/690 trials with best loss -0.916170\n"
     ]
    },
    {
     "name": "stdout",
     "output_type": "stream",
     "text": [
      "\r",
      " 70%|███████   | 700/1000 [1:01:08<28:47,  5.76s/trial, best loss: -0.91617]"
     ]
    },
    {
     "name": "stderr",
     "output_type": "stream",
     "text": [
      "INFO:hyperopt.tpe:build_posterior_wrapper took 0.003993 seconds\n",
      "INFO:hyperopt.tpe:TPE using 700/700 trials with best loss -0.916170\n",
      "INFO:hyperopt.tpe:build_posterior_wrapper took 0.004000 seconds\n",
      "INFO:hyperopt.tpe:TPE using 701/701 trials with best loss -0.916170\n",
      "INFO:hyperopt.tpe:build_posterior_wrapper took 0.003940 seconds\n",
      "INFO:hyperopt.tpe:TPE using 702/702 trials with best loss -0.916170\n",
      "INFO:hyperopt.tpe:build_posterior_wrapper took 0.004024 seconds\n",
      "INFO:hyperopt.tpe:TPE using 703/703 trials with best loss -0.916170\n",
      "INFO:hyperopt.tpe:build_posterior_wrapper took 0.003982 seconds\n",
      "INFO:hyperopt.tpe:TPE using 704/704 trials with best loss -0.916170\n",
      "INFO:hyperopt.tpe:build_posterior_wrapper took 0.003879 seconds\n",
      "INFO:hyperopt.tpe:TPE using 705/705 trials with best loss -0.916170\n",
      "INFO:hyperopt.tpe:build_posterior_wrapper took 0.003940 seconds\n",
      "INFO:hyperopt.tpe:TPE using 706/706 trials with best loss -0.916170\n",
      "INFO:hyperopt.tpe:build_posterior_wrapper took 0.003908 seconds\n",
      "INFO:hyperopt.tpe:TPE using 707/707 trials with best loss -0.916170\n",
      "INFO:hyperopt.tpe:build_posterior_wrapper took 0.003933 seconds\n",
      "INFO:hyperopt.tpe:TPE using 708/708 trials with best loss -0.916170\n",
      "INFO:hyperopt.tpe:build_posterior_wrapper took 0.003842 seconds\n",
      "INFO:hyperopt.tpe:TPE using 709/709 trials with best loss -0.916170\n"
     ]
    },
    {
     "name": "stdout",
     "output_type": "stream",
     "text": [
      "\r",
      " 71%|███████   | 710/1000 [1:02:16<29:20,  6.07s/trial, best loss: -0.91617]"
     ]
    },
    {
     "name": "stderr",
     "output_type": "stream",
     "text": [
      "INFO:hyperopt.tpe:build_posterior_wrapper took 0.004425 seconds\n",
      "INFO:hyperopt.tpe:TPE using 710/710 trials with best loss -0.916170\n",
      "INFO:hyperopt.tpe:build_posterior_wrapper took 0.004336 seconds\n",
      "INFO:hyperopt.tpe:TPE using 711/711 trials with best loss -0.916170\n",
      "INFO:hyperopt.tpe:build_posterior_wrapper took 0.004138 seconds\n",
      "INFO:hyperopt.tpe:TPE using 712/712 trials with best loss -0.916170\n",
      "INFO:hyperopt.tpe:build_posterior_wrapper took 0.004119 seconds\n",
      "INFO:hyperopt.tpe:TPE using 713/713 trials with best loss -0.916170\n",
      "INFO:hyperopt.tpe:build_posterior_wrapper took 0.006576 seconds\n",
      "INFO:hyperopt.tpe:TPE using 714/714 trials with best loss -0.916170\n",
      "INFO:hyperopt.tpe:build_posterior_wrapper took 0.004269 seconds\n",
      "INFO:hyperopt.tpe:TPE using 715/715 trials with best loss -0.916170\n",
      "INFO:hyperopt.tpe:build_posterior_wrapper took 0.003923 seconds\n",
      "INFO:hyperopt.tpe:TPE using 716/716 trials with best loss -0.916170\n",
      "INFO:hyperopt.tpe:build_posterior_wrapper took 0.004032 seconds\n",
      "INFO:hyperopt.tpe:TPE using 717/717 trials with best loss -0.916170\n",
      "INFO:hyperopt.tpe:build_posterior_wrapper took 0.004316 seconds\n",
      "INFO:hyperopt.tpe:TPE using 718/718 trials with best loss -0.916170\n"
     ]
    },
    {
     "name": "stdout",
     "output_type": "stream",
     "text": [
      "\r",
      " 72%|███████▏  | 720/1000 [1:03:47<32:32,  6.97s/trial, best loss: -0.91617]"
     ]
    },
    {
     "name": "stderr",
     "output_type": "stream",
     "text": [
      "INFO:hyperopt.tpe:build_posterior_wrapper took 0.004073 seconds\n",
      "INFO:hyperopt.tpe:TPE using 720/720 trials with best loss -0.916170\n"
     ]
    },
    {
     "name": "stdout",
     "output_type": "stream",
     "text": [
      "\r",
      " 73%|███████▎  | 730/1000 [1:05:25<35:09,  7.81s/trial, best loss: -0.91617]"
     ]
    },
    {
     "name": "stderr",
     "output_type": "stream",
     "text": [
      "INFO:hyperopt.tpe:build_posterior_wrapper took 0.004135 seconds\n",
      "INFO:hyperopt.tpe:TPE using 730/730 trials with best loss -0.916170\n"
     ]
    },
    {
     "name": "stdout",
     "output_type": "stream",
     "text": [
      "\r",
      " 74%|███████▍  | 740/1000 [1:06:09<29:27,  6.80s/trial, best loss: -0.91617]"
     ]
    },
    {
     "name": "stderr",
     "output_type": "stream",
     "text": [
      "INFO:hyperopt.tpe:build_posterior_wrapper took 0.004050 seconds\n",
      "INFO:hyperopt.tpe:TPE using 740/740 trials with best loss -0.916170\n",
      "INFO:hyperopt.tpe:build_posterior_wrapper took 0.003817 seconds\n",
      "INFO:hyperopt.tpe:TPE using 741/741 trials with best loss -0.916170\n",
      "INFO:hyperopt.tpe:build_posterior_wrapper took 0.003849 seconds\n",
      "INFO:hyperopt.tpe:TPE using 742/742 trials with best loss -0.916170\n",
      "INFO:hyperopt.tpe:build_posterior_wrapper took 0.003815 seconds\n",
      "INFO:hyperopt.tpe:TPE using 743/743 trials with best loss -0.916170\n"
     ]
    },
    {
     "name": "stdout",
     "output_type": "stream",
     "text": [
      "\r",
      " 75%|███████▌  | 750/1000 [1:07:24<29:15,  7.02s/trial, best loss: -0.91617]"
     ]
    },
    {
     "name": "stderr",
     "output_type": "stream",
     "text": [
      "INFO:hyperopt.tpe:build_posterior_wrapper took 0.004252 seconds\n",
      "INFO:hyperopt.tpe:TPE using 750/750 trials with best loss -0.916170\n",
      "INFO:hyperopt.tpe:build_posterior_wrapper took 0.004311 seconds\n",
      "INFO:hyperopt.tpe:TPE using 751/751 trials with best loss -0.916170\n",
      "INFO:hyperopt.tpe:build_posterior_wrapper took 0.004277 seconds\n",
      "INFO:hyperopt.tpe:TPE using 752/752 trials with best loss -0.916170\n",
      "INFO:hyperopt.tpe:build_posterior_wrapper took 0.004446 seconds\n",
      "INFO:hyperopt.tpe:TPE using 753/753 trials with best loss -0.916170\n"
     ]
    },
    {
     "name": "stdout",
     "output_type": "stream",
     "text": [
      " 77%|███████▋  | 770/1000 [1:09:12<23:28,  6.12s/trial, best loss: -0.91617]"
     ]
    },
    {
     "name": "stderr",
     "output_type": "stream",
     "text": [
      "INFO:hyperopt.tpe:build_posterior_wrapper took 0.004290 seconds\n",
      "INFO:hyperopt.tpe:TPE using 770/770 trials with best loss -0.916170\n",
      "INFO:hyperopt.tpe:build_posterior_wrapper took 0.003903 seconds\n",
      "INFO:hyperopt.tpe:TPE using 771/771 trials with best loss -0.916170\n"
     ]
    },
    {
     "name": "stdout",
     "output_type": "stream",
     "text": [
      "\r",
      " 78%|███████▊  | 780/1000 [1:10:16<22:46,  6.21s/trial, best loss: -0.91617]"
     ]
    },
    {
     "name": "stderr",
     "output_type": "stream",
     "text": [
      "INFO:hyperopt.tpe:build_posterior_wrapper took 0.004050 seconds\n",
      "INFO:hyperopt.tpe:TPE using 780/780 trials with best loss -0.916170\n",
      "INFO:hyperopt.tpe:build_posterior_wrapper took 0.003942 seconds\n",
      "INFO:hyperopt.tpe:TPE using 781/781 trials with best loss -0.916170\n",
      "INFO:hyperopt.tpe:build_posterior_wrapper took 0.003845 seconds\n",
      "INFO:hyperopt.tpe:TPE using 782/782 trials with best loss -0.916170\n",
      "INFO:hyperopt.tpe:build_posterior_wrapper took 0.003871 seconds\n",
      "INFO:hyperopt.tpe:TPE using 783/783 trials with best loss -0.916170\n",
      "INFO:hyperopt.tpe:build_posterior_wrapper took 0.004360 seconds\n",
      "INFO:hyperopt.tpe:TPE using 784/784 trials with best loss -0.916170\n",
      "INFO:hyperopt.tpe:build_posterior_wrapper took 0.003857 seconds\n",
      "INFO:hyperopt.tpe:TPE using 785/785 trials with best loss -0.916170\n",
      "INFO:hyperopt.tpe:build_posterior_wrapper took 0.003902 seconds\n",
      "INFO:hyperopt.tpe:TPE using 786/786 trials with best loss -0.916170\n",
      "INFO:hyperopt.tpe:build_posterior_wrapper took 0.004216 seconds\n",
      "INFO:hyperopt.tpe:TPE using 787/787 trials with best loss -0.916170\n",
      "INFO:hyperopt.tpe:build_posterior_wrapper took 0.003848 seconds\n",
      "INFO:hyperopt.tpe:TPE using 788/788 trials with best loss -0.916170\n",
      "INFO:hyperopt.tpe:build_posterior_wrapper took 0.003830 seconds\n",
      "INFO:hyperopt.tpe:TPE using 789/789 trials with best loss -0.916170\n"
     ]
    },
    {
     "name": "stdout",
     "output_type": "stream",
     "text": [
      "\r",
      " 79%|███████▉  | 790/1000 [1:11:58<25:52,  7.39s/trial, best loss: -0.91617]"
     ]
    },
    {
     "name": "stderr",
     "output_type": "stream",
     "text": [
      "INFO:hyperopt.tpe:build_posterior_wrapper took 0.004157 seconds\n",
      "INFO:hyperopt.tpe:TPE using 790/790 trials with best loss -0.916170\n",
      "INFO:hyperopt.tpe:build_posterior_wrapper took 0.004179 seconds\n",
      "INFO:hyperopt.tpe:TPE using 791/791 trials with best loss -0.916170\n"
     ]
    },
    {
     "name": "stdout",
     "output_type": "stream",
     "text": [
      "\r",
      " 80%|████████  | 800/1000 [1:13:37<27:09,  8.15s/trial, best loss: -0.91617]"
     ]
    },
    {
     "name": "stderr",
     "output_type": "stream",
     "text": [
      "INFO:hyperopt.tpe:build_posterior_wrapper took 0.003916 seconds\n",
      "INFO:hyperopt.tpe:TPE using 800/800 trials with best loss -0.916170\n",
      "INFO:hyperopt.tpe:build_posterior_wrapper took 0.003989 seconds\n",
      "INFO:hyperopt.tpe:TPE using 801/801 trials with best loss -0.916170\n",
      "INFO:hyperopt.tpe:build_posterior_wrapper took 0.004017 seconds\n",
      "INFO:hyperopt.tpe:TPE using 802/802 trials with best loss -0.916170\n"
     ]
    },
    {
     "name": "stdout",
     "output_type": "stream",
     "text": [
      "\r",
      " 81%|████████  | 810/1000 [1:15:37<29:28,  9.31s/trial, best loss: -0.91617]"
     ]
    },
    {
     "name": "stderr",
     "output_type": "stream",
     "text": [
      "INFO:hyperopt.tpe:build_posterior_wrapper took 0.004158 seconds\n",
      "INFO:hyperopt.tpe:TPE using 810/810 trials with best loss -0.916170\n",
      "INFO:hyperopt.tpe:build_posterior_wrapper took 0.003916 seconds\n",
      "INFO:hyperopt.tpe:TPE using 811/811 trials with best loss -0.916170\n",
      "INFO:hyperopt.tpe:build_posterior_wrapper took 0.003859 seconds\n",
      "INFO:hyperopt.tpe:TPE using 812/812 trials with best loss -0.916170\n",
      "INFO:hyperopt.tpe:build_posterior_wrapper took 0.003847 seconds\n",
      "INFO:hyperopt.tpe:TPE using 813/813 trials with best loss -0.916170\n",
      "INFO:hyperopt.tpe:build_posterior_wrapper took 0.003877 seconds\n",
      "INFO:hyperopt.tpe:TPE using 814/814 trials with best loss -0.916170\n",
      "INFO:hyperopt.tpe:build_posterior_wrapper took 0.003826 seconds\n",
      "INFO:hyperopt.tpe:TPE using 815/815 trials with best loss -0.916170\n",
      "INFO:hyperopt.tpe:build_posterior_wrapper took 0.004178 seconds\n",
      "INFO:hyperopt.tpe:TPE using 816/816 trials with best loss -0.916170\n",
      "INFO:hyperopt.tpe:build_posterior_wrapper took 0.003908 seconds\n",
      "INFO:hyperopt.tpe:TPE using 817/817 trials with best loss -0.916170\n",
      "INFO:hyperopt.tpe:build_posterior_wrapper took 0.003981 seconds\n",
      "INFO:hyperopt.tpe:TPE using 818/818 trials with best loss -0.916170\n",
      "INFO:hyperopt.tpe:build_posterior_wrapper took 0.003834 seconds\n",
      "INFO:hyperopt.tpe:TPE using 819/819 trials with best loss -0.916170\n"
     ]
    },
    {
     "name": "stdout",
     "output_type": "stream",
     "text": [
      " 83%|████████▎ | 830/1000 [1:18:28<25:38,  9.05s/trial, best loss: -0.91622]"
     ]
    },
    {
     "name": "stderr",
     "output_type": "stream",
     "text": [
      "INFO:hyperopt.tpe:build_posterior_wrapper took 0.004047 seconds\n",
      "INFO:hyperopt.tpe:TPE using 830/830 trials with best loss -0.916220\n",
      "INFO:hyperopt.tpe:build_posterior_wrapper took 0.003843 seconds\n",
      "INFO:hyperopt.tpe:TPE using 831/831 trials with best loss -0.916220\n",
      "INFO:hyperopt.tpe:build_posterior_wrapper took 0.003915 seconds\n",
      "INFO:hyperopt.tpe:TPE using 832/832 trials with best loss -0.916220\n",
      "INFO:hyperopt.tpe:build_posterior_wrapper took 0.003921 seconds\n",
      "INFO:hyperopt.tpe:TPE using 833/833 trials with best loss -0.916220\n",
      "INFO:hyperopt.tpe:build_posterior_wrapper took 0.004060 seconds\n",
      "INFO:hyperopt.tpe:TPE using 834/834 trials with best loss -0.916220\n",
      "INFO:hyperopt.tpe:build_posterior_wrapper took 0.004294 seconds\n",
      "INFO:hyperopt.tpe:TPE using 835/835 trials with best loss -0.916220\n",
      "INFO:hyperopt.tpe:build_posterior_wrapper took 0.003859 seconds\n",
      "INFO:hyperopt.tpe:TPE using 836/836 trials with best loss -0.916220\n"
     ]
    },
    {
     "name": "stdout",
     "output_type": "stream",
     "text": [
      "\r",
      " 84%|████████▍ | 840/1000 [1:19:28<21:43,  8.14s/trial, best loss: -0.91622]"
     ]
    },
    {
     "name": "stderr",
     "output_type": "stream",
     "text": [
      "INFO:hyperopt.tpe:build_posterior_wrapper took 0.004155 seconds\n",
      "INFO:hyperopt.tpe:TPE using 840/840 trials with best loss -0.916220\n",
      "INFO:hyperopt.tpe:build_posterior_wrapper took 0.003811 seconds\n",
      "INFO:hyperopt.tpe:TPE using 841/841 trials with best loss -0.916220\n"
     ]
    },
    {
     "name": "stdout",
     "output_type": "stream",
     "text": [
      "\r",
      " 85%|████████▌ | 850/1000 [1:20:51<20:26,  8.18s/trial, best loss: -0.91622]"
     ]
    },
    {
     "name": "stderr",
     "output_type": "stream",
     "text": [
      "INFO:hyperopt.tpe:build_posterior_wrapper took 0.007827 seconds\n",
      "INFO:hyperopt.tpe:TPE using 850/850 trials with best loss -0.916220\n",
      "INFO:hyperopt.tpe:build_posterior_wrapper took 0.003851 seconds\n",
      "INFO:hyperopt.tpe:TPE using 851/851 trials with best loss -0.916220\n",
      "INFO:hyperopt.tpe:build_posterior_wrapper took 0.003912 seconds\n",
      "INFO:hyperopt.tpe:TPE using 852/852 trials with best loss -0.916220\n"
     ]
    },
    {
     "name": "stdout",
     "output_type": "stream",
     "text": [
      "\r",
      " 86%|████████▌ | 860/1000 [1:21:25<15:42,  6.73s/trial, best loss: -0.91622]"
     ]
    },
    {
     "name": "stderr",
     "output_type": "stream",
     "text": [
      "INFO:hyperopt.tpe:build_posterior_wrapper took 0.003916 seconds\n",
      "INFO:hyperopt.tpe:TPE using 860/860 trials with best loss -0.916220\n",
      "INFO:hyperopt.tpe:build_posterior_wrapper took 0.003749 seconds\n",
      "INFO:hyperopt.tpe:TPE using 861/861 trials with best loss -0.916220\n",
      "INFO:hyperopt.tpe:build_posterior_wrapper took 0.003987 seconds\n",
      "INFO:hyperopt.tpe:TPE using 862/862 trials with best loss -0.916220\n",
      "INFO:hyperopt.tpe:build_posterior_wrapper took 0.003895 seconds\n",
      "INFO:hyperopt.tpe:TPE using 863/863 trials with best loss -0.916220\n",
      "INFO:hyperopt.tpe:build_posterior_wrapper took 0.003827 seconds\n",
      "INFO:hyperopt.tpe:TPE using 864/864 trials with best loss -0.916220\n",
      "INFO:hyperopt.tpe:build_posterior_wrapper took 0.003973 seconds\n",
      "INFO:hyperopt.tpe:TPE using 865/865 trials with best loss -0.916220\n",
      "INFO:hyperopt.tpe:build_posterior_wrapper took 0.003788 seconds\n",
      "INFO:hyperopt.tpe:TPE using 866/866 trials with best loss -0.916220\n",
      "INFO:hyperopt.tpe:build_posterior_wrapper took 0.003934 seconds\n",
      "INFO:hyperopt.tpe:TPE using 867/867 trials with best loss -0.916220\n",
      "INFO:hyperopt.tpe:build_posterior_wrapper took 0.003844 seconds\n",
      "INFO:hyperopt.tpe:TPE using 868/868 trials with best loss -0.916220\n",
      "INFO:hyperopt.tpe:build_posterior_wrapper took 0.003978 seconds\n",
      "INFO:hyperopt.tpe:TPE using 869/869 trials with best loss -0.916220\n"
     ]
    },
    {
     "name": "stdout",
     "output_type": "stream",
     "text": [
      "\r",
      " 87%|████████▋ | 870/1000 [1:22:39<15:02,  6.94s/trial, best loss: -0.91622]"
     ]
    },
    {
     "name": "stderr",
     "output_type": "stream",
     "text": [
      "INFO:hyperopt.tpe:build_posterior_wrapper took 0.004890 seconds\n",
      "INFO:hyperopt.tpe:TPE using 870/870 trials with best loss -0.916220\n",
      "INFO:hyperopt.tpe:build_posterior_wrapper took 0.004046 seconds\n",
      "INFO:hyperopt.tpe:TPE using 871/871 trials with best loss -0.916220\n"
     ]
    },
    {
     "name": "stdout",
     "output_type": "stream",
     "text": [
      "\r",
      " 88%|████████▊ | 880/1000 [1:23:50<13:59,  6.99s/trial, best loss: -0.91622]"
     ]
    },
    {
     "name": "stderr",
     "output_type": "stream",
     "text": [
      "INFO:hyperopt.tpe:build_posterior_wrapper took 0.003916 seconds\n",
      "INFO:hyperopt.tpe:TPE using 880/880 trials with best loss -0.916220\n",
      "INFO:hyperopt.tpe:build_posterior_wrapper took 0.003989 seconds\n",
      "INFO:hyperopt.tpe:TPE using 881/881 trials with best loss -0.916220\n",
      "INFO:hyperopt.tpe:build_posterior_wrapper took 0.003848 seconds\n",
      "INFO:hyperopt.tpe:TPE using 882/882 trials with best loss -0.916220\n",
      "INFO:hyperopt.tpe:build_posterior_wrapper took 0.005230 seconds\n",
      "INFO:hyperopt.tpe:TPE using 883/883 trials with best loss -0.916220\n",
      "INFO:hyperopt.tpe:build_posterior_wrapper took 0.003944 seconds\n",
      "INFO:hyperopt.tpe:TPE using 884/884 trials with best loss -0.916220\n",
      "INFO:hyperopt.tpe:build_posterior_wrapper took 0.059596 seconds\n",
      "INFO:hyperopt.tpe:TPE using 885/885 trials with best loss -0.916220\n",
      "INFO:hyperopt.tpe:build_posterior_wrapper took 0.003871 seconds\n",
      "INFO:hyperopt.tpe:TPE using 886/886 trials with best loss -0.916220\n"
     ]
    },
    {
     "name": "stdout",
     "output_type": "stream",
     "text": [
      "\r",
      " 89%|████████▉ | 890/1000 [1:25:18<13:48,  7.54s/trial, best loss: -0.91622]"
     ]
    },
    {
     "name": "stderr",
     "output_type": "stream",
     "text": [
      "INFO:hyperopt.tpe:build_posterior_wrapper took 0.004374 seconds\n",
      "INFO:hyperopt.tpe:TPE using 890/890 trials with best loss -0.916220\n",
      "INFO:hyperopt.tpe:build_posterior_wrapper took 0.004489 seconds\n",
      "INFO:hyperopt.tpe:TPE using 891/891 trials with best loss -0.916220\n",
      "INFO:hyperopt.tpe:build_posterior_wrapper took 0.004322 seconds\n",
      "INFO:hyperopt.tpe:TPE using 892/892 trials with best loss -0.916220\n",
      "INFO:hyperopt.tpe:build_posterior_wrapper took 0.004069 seconds\n",
      "INFO:hyperopt.tpe:TPE using 893/893 trials with best loss -0.916220\n",
      "INFO:hyperopt.tpe:build_posterior_wrapper took 0.004213 seconds\n",
      "INFO:hyperopt.tpe:TPE using 894/894 trials with best loss -0.916220\n",
      "INFO:hyperopt.tpe:build_posterior_wrapper took 0.004230 seconds\n",
      "INFO:hyperopt.tpe:TPE using 895/895 trials with best loss -0.916220\n",
      "INFO:hyperopt.tpe:build_posterior_wrapper took 0.004180 seconds\n",
      "INFO:hyperopt.tpe:TPE using 896/896 trials with best loss -0.916220\n",
      "INFO:hyperopt.tpe:build_posterior_wrapper took 0.003956 seconds\n",
      "INFO:hyperopt.tpe:TPE using 897/897 trials with best loss -0.916220\n",
      "INFO:hyperopt.tpe:build_posterior_wrapper took 0.003966 seconds\n",
      "INFO:hyperopt.tpe:TPE using 898/898 trials with best loss -0.916220\n",
      "INFO:hyperopt.tpe:build_posterior_wrapper took 0.003893 seconds\n",
      "INFO:hyperopt.tpe:TPE using 899/899 trials with best loss -0.916220\n"
     ]
    },
    {
     "name": "stdout",
     "output_type": "stream",
     "text": [
      "\r",
      " 90%|█████████ | 900/1000 [1:26:56<13:41,  8.21s/trial, best loss: -0.91622]"
     ]
    },
    {
     "name": "stderr",
     "output_type": "stream",
     "text": [
      "INFO:hyperopt.tpe:build_posterior_wrapper took 0.004264 seconds\n",
      "INFO:hyperopt.tpe:TPE using 900/900 trials with best loss -0.916220\n"
     ]
    },
    {
     "name": "stdout",
     "output_type": "stream",
     "text": [
      "\r",
      " 91%|█████████ | 910/1000 [1:27:39<10:32,  7.03s/trial, best loss: -0.91622]"
     ]
    },
    {
     "name": "stderr",
     "output_type": "stream",
     "text": [
      "INFO:hyperopt.tpe:build_posterior_wrapper took 0.004274 seconds\n",
      "INFO:hyperopt.tpe:TPE using 910/910 trials with best loss -0.916220\n",
      "INFO:hyperopt.tpe:build_posterior_wrapper took 0.004342 seconds\n",
      "INFO:hyperopt.tpe:TPE using 911/911 trials with best loss -0.916220\n"
     ]
    },
    {
     "name": "stdout",
     "output_type": "stream",
     "text": [
      " 93%|█████████▎| 930/1000 [1:30:06<08:43,  7.47s/trial, best loss: -0.91622]"
     ]
    },
    {
     "name": "stderr",
     "output_type": "stream",
     "text": [
      "INFO:hyperopt.tpe:build_posterior_wrapper took 0.004356 seconds\n",
      "INFO:hyperopt.tpe:TPE using 930/930 trials with best loss -0.916220\n"
     ]
    },
    {
     "name": "stdout",
     "output_type": "stream",
     "text": [
      "\r",
      " 94%|█████████▍| 940/1000 [1:31:09<07:07,  7.12s/trial, best loss: -0.91622]"
     ]
    },
    {
     "name": "stderr",
     "output_type": "stream",
     "text": [
      "INFO:hyperopt.tpe:build_posterior_wrapper took 0.004400 seconds\n",
      "INFO:hyperopt.tpe:TPE using 940/940 trials with best loss -0.916220\n",
      "INFO:hyperopt.tpe:build_posterior_wrapper took 0.003951 seconds\n",
      "INFO:hyperopt.tpe:TPE using 941/941 trials with best loss -0.916220\n",
      "INFO:hyperopt.tpe:build_posterior_wrapper took 0.004223 seconds\n",
      "INFO:hyperopt.tpe:TPE using 942/942 trials with best loss -0.916220\n",
      "INFO:hyperopt.tpe:build_posterior_wrapper took 0.003819 seconds\n",
      "INFO:hyperopt.tpe:TPE using 943/943 trials with best loss -0.916220\n",
      "INFO:hyperopt.tpe:build_posterior_wrapper took 0.003995 seconds\n",
      "INFO:hyperopt.tpe:TPE using 944/944 trials with best loss -0.916220\n",
      "INFO:hyperopt.tpe:build_posterior_wrapper took 0.003839 seconds\n",
      "INFO:hyperopt.tpe:TPE using 945/945 trials with best loss -0.916220\n"
     ]
    },
    {
     "name": "stdout",
     "output_type": "stream",
     "text": [
      "\r",
      " 95%|█████████▌| 950/1000 [1:32:03<05:30,  6.61s/trial, best loss: -0.91622]"
     ]
    },
    {
     "name": "stderr",
     "output_type": "stream",
     "text": [
      "INFO:hyperopt.tpe:build_posterior_wrapper took 0.003927 seconds\n",
      "INFO:hyperopt.tpe:TPE using 950/950 trials with best loss -0.916220\n",
      "INFO:hyperopt.tpe:build_posterior_wrapper took 0.004018 seconds\n",
      "INFO:hyperopt.tpe:TPE using 951/951 trials with best loss -0.916220\n"
     ]
    },
    {
     "name": "stdout",
     "output_type": "stream",
     "text": [
      " 97%|█████████▋| 970/1000 [1:34:15<03:20,  6.69s/trial, best loss: -0.91622]"
     ]
    },
    {
     "name": "stderr",
     "output_type": "stream",
     "text": [
      "INFO:hyperopt.tpe:build_posterior_wrapper took 0.004588 seconds\n",
      "INFO:hyperopt.tpe:TPE using 970/970 trials with best loss -0.916220\n",
      "INFO:hyperopt.tpe:build_posterior_wrapper took 0.004644 seconds\n",
      "INFO:hyperopt.tpe:TPE using 971/971 trials with best loss -0.916220\n",
      "INFO:hyperopt.tpe:build_posterior_wrapper took 0.004684 seconds\n",
      "INFO:hyperopt.tpe:TPE using 972/972 trials with best loss -0.916220\n",
      "INFO:hyperopt.tpe:build_posterior_wrapper took 0.004292 seconds\n",
      "INFO:hyperopt.tpe:TPE using 973/973 trials with best loss -0.916220\n",
      "INFO:hyperopt.tpe:build_posterior_wrapper took 0.004034 seconds\n",
      "INFO:hyperopt.tpe:TPE using 974/974 trials with best loss -0.916220\n",
      "INFO:hyperopt.tpe:build_posterior_wrapper took 0.004239 seconds\n",
      "INFO:hyperopt.tpe:TPE using 975/975 trials with best loss -0.916220\n",
      "INFO:hyperopt.tpe:build_posterior_wrapper took 0.003927 seconds\n",
      "INFO:hyperopt.tpe:TPE using 976/976 trials with best loss -0.916220\n",
      "INFO:hyperopt.tpe:build_posterior_wrapper took 0.004019 seconds\n",
      "INFO:hyperopt.tpe:TPE using 977/977 trials with best loss -0.916220\n",
      "INFO:hyperopt.tpe:build_posterior_wrapper took 0.003817 seconds\n",
      "INFO:hyperopt.tpe:TPE using 978/978 trials with best loss -0.916220\n"
     ]
    },
    {
     "name": "stdout",
     "output_type": "stream",
     "text": [
      "100%|██████████| 1000/1000 [1:37:37<00:00,  5.86s/trial, best loss: -0.91622]\n"
     ]
    }
   ],
   "source": [
    "opt = Optimizer()\n",
    "opt.optimize(RF, X, y, param_space = hyper_space, n_rounds = 500)\n",
    "\n",
    "opt_results_rf = opt.results"
   ]
  },
  {
   "cell_type": "markdown",
   "id": "91505e55",
   "metadata": {
    "ExecuteTime": {
     "end_time": "2021-05-28T17:17:49.351335Z",
     "start_time": "2021-05-28T17:17:49.303381Z"
    }
   },
   "source": [
    "## gbm"
   ]
  },
  {
   "cell_type": "code",
   "execution_count": 92,
   "id": "21703edf",
   "metadata": {
    "ExecuteTime": {
     "end_time": "2021-05-29T22:29:58.523291Z",
     "start_time": "2021-05-29T22:29:58.224610Z"
    }
   },
   "outputs": [],
   "source": [
    "hyper_space_clf = {\n",
    "    'clf__n_estimators': hp.quniform('n_estimators', 50, 1000, 1),\n",
    "    'clf__linear_tree': hp.choice('linear_tree', [True, False]),\n",
    "    'clf__objective': hp.choice('objective', ['softmax', 'ova']),\n",
    "    'clf__boosting': hp.choice('boosting', ['gbdt', 'rf', 'dart', 'goss']),\n",
    "    'clf__learning_rate': hp.uniform('learning_rate', 0.005, 0.2),\n",
    "    'clf__num_leaves': hp.quniform('num_leaves', 5, 50, 1),\n",
    "    'clf__max_depth': hp.quniform('max_depth', 2, 6, 1),\n",
    "    'clf__min_data_in_leaf': hp.uniform('min_data_in_leaf', 1, 20),\n",
    "    'clf__feature_fraction': hp.uniform('feature_fraction', 0.3, 1.0),\n",
    "    'clf__lambda_l1': hp.uniform('lambda_l1', 0.0, 10.0),\n",
    "    'clf__lambda_l2': hp.uniform('lambda_l2', 0.0, 10.0),\n",
    "    'clf__path_smooth': hp.uniform('path_smooth', 0.0, 10.0),\n",
    "}\n",
    "\n",
    "hyper_space = {**hyper_space_transformers, **hyper_space_clf}"
   ]
  },
  {
   "cell_type": "code",
   "execution_count": null,
   "id": "880c0bd3",
   "metadata": {
    "ExecuteTime": {
     "start_time": "2021-05-29T22:30:03.020Z"
    },
    "scrolled": true
   },
   "outputs": [
    {
     "name": "stdout",
     "output_type": "stream",
     "text": [
      "\r",
      "  0%|          | 0/1000 [00:00<?, ?trial/s, best loss=?]"
     ]
    },
    {
     "name": "stderr",
     "output_type": "stream",
     "text": [
      "INFO:hyperopt.tpe:build_posterior_wrapper took 0.007752 seconds\n",
      "INFO:hyperopt.tpe:TPE using 0 trials\n"
     ]
    },
    {
     "name": "stdout",
     "output_type": "stream",
     "text": [
      "[LightGBM] [Warning] lambda_l1 is set=4.364991663822489, reg_alpha=0.0 will be ignored. Current value: lambda_l1=4.364991663822489\n",
      "[LightGBM] [Warning] min_data_in_leaf is set=14, min_child_samples=20 will be ignored. Current value: min_data_in_leaf=14\n",
      "[LightGBM] [Warning] feature_fraction is set=0.761499459476483, colsample_bytree=1.0 will be ignored. Current value: feature_fraction=0.761499459476483\n",
      "[LightGBM] [Warning] lambda_l2 is set=8.144005099567996, reg_lambda=0.0 will be ignored. Current value: lambda_l2=8.144005099567996\n",
      "[LightGBM] [Warning] boosting is set=goss, boosting_type=gbdt will be ignored. Current value: boosting=goss\n",
      "[LightGBM] [Warning] lambda_l1 is set=4.364991663822489, reg_alpha=0.0 will be ignored. Current value: lambda_l1=4.364991663822489\n",
      "[LightGBM] [Warning] min_data_in_leaf is set=14, min_child_samples=20 will be ignored. Current value: min_data_in_leaf=14\n",
      "[LightGBM] [Warning] feature_fraction is set=0.761499459476483, colsample_bytree=1.0 will be ignored. Current value: feature_fraction=0.761499459476483\n",
      "[LightGBM] [Warning] lambda_l2 is set=8.144005099567996, reg_lambda=0.0 will be ignored. Current value: lambda_l2=8.144005099567996\n",
      "[LightGBM] [Warning] boosting is set=goss, boosting_type=gbdt will be ignored. Current value: boosting=goss\n",
      "[LightGBM] [Warning] lambda_l1 is set=4.364991663822489, reg_alpha=0.0 will be ignored. Current value: lambda_l1=4.364991663822489\n",
      "[LightGBM] [Warning] min_data_in_leaf is set=14, min_child_samples=20 will be ignored. Current value: min_data_in_leaf=14\n",
      "[LightGBM] [Warning] feature_fraction is set=0.761499459476483, colsample_bytree=1.0 will be ignored. Current value: feature_fraction=0.761499459476483\n",
      "[LightGBM] [Warning] lambda_l2 is set=8.144005099567996, reg_lambda=0.0 will be ignored. Current value: lambda_l2=8.144005099567996\n",
      "[LightGBM] [Warning] boosting is set=goss, boosting_type=gbdt will be ignored. Current value: boosting=goss\n",
      "[LightGBM] [Warning] lambda_l1 is set=4.364991663822489, reg_alpha=0.0 will be ignored. Current value: lambda_l1=4.364991663822489\n",
      "[LightGBM] [Warning] min_data_in_leaf is set=14, min_child_samples=20 will be ignored. Current value: min_data_in_leaf=14\n",
      "[LightGBM] [Warning] feature_fraction is set=0.761499459476483, colsample_bytree=1.0 will be ignored. Current value: feature_fraction=0.761499459476483\n",
      "[LightGBM] [Warning] lambda_l2 is set=8.144005099567996, reg_lambda=0.0 will be ignored. Current value: lambda_l2=8.144005099567996\n",
      "[LightGBM] [Warning] boosting is set=goss, boosting_type=gbdt will be ignored. Current value: boosting=goss\n",
      "[LightGBM] [Warning] lambda_l1 is set=4.364991663822489, reg_alpha=0.0 will be ignored. Current value: lambda_l1=4.364991663822489\n",
      "[LightGBM] [Warning] min_data_in_leaf is set=14, min_child_samples=20 will be ignored. Current value: min_data_in_leaf=14\n",
      "[LightGBM] [Warning] feature_fraction is set=0.761499459476483, colsample_bytree=1.0 will be ignored. Current value: feature_fraction=0.761499459476483\n",
      "[LightGBM] [Warning] lambda_l2 is set=8.144005099567996, reg_lambda=0.0 will be ignored. Current value: lambda_l2=8.144005099567996\n",
      "[LightGBM] [Warning] boosting is set=goss, boosting_type=gbdt will be ignored. Current value: boosting=goss\n",
      "[LightGBM] [Warning] lambda_l1 is set=4.364991663822489, reg_alpha=0.0 will be ignored. Current value: lambda_l1=4.364991663822489\n",
      "[LightGBM] [Warning] min_data_in_leaf is set=14, min_child_samples=20 will be ignored. Current value: min_data_in_leaf=14\n",
      "[LightGBM] [Warning] feature_fraction is set=0.761499459476483, colsample_bytree=1.0 will be ignored. Current value: feature_fraction=0.761499459476483\n",
      "[LightGBM] [Warning] lambda_l2 is set=8.144005099567996, reg_lambda=0.0 will be ignored. Current value: lambda_l2=8.144005099567996\n",
      "[LightGBM] [Warning] boosting is set=goss, boosting_type=gbdt will be ignored. Current value: boosting=goss\n",
      "[LightGBM] [Warning] lambda_l1 is set=9.047019702155051, reg_alpha=0.0 will be ignored. Current value: lambda_l1=9.047019702155051\n",
      "[LightGBM] [Warning] min_data_in_leaf is set=4, min_child_samples=20 will be ignored. Current value: min_data_in_leaf=4\n",
      "[LightGBM] [Warning] feature_fraction is set=0.943025454621123, colsample_bytree=1.0 will be ignored. Current value: feature_fraction=0.943025454621123\n",
      "[LightGBM] [Warning] lambda_l2 is set=8.384599810461848, reg_lambda=0.0 will be ignored. Current value: lambda_l2=8.384599810461848\n",
      "[LightGBM] [Warning] boosting is set=gbdt, boosting_type=gbdt will be ignored. Current value: boosting=gbdt\n",
      "[LightGBM] [Warning] lambda_l1 is set=9.047019702155051, reg_alpha=0.0 will be ignored. Current value: lambda_l1=9.047019702155051\n",
      "[LightGBM] [Warning] min_data_in_leaf is set=4, min_child_samples=20 will be ignored. Current value: min_data_in_leaf=4\n",
      "[LightGBM] [Warning] feature_fraction is set=0.943025454621123, colsample_bytree=1.0 will be ignored. Current value: feature_fraction=0.943025454621123\n",
      "[LightGBM] [Warning] lambda_l2 is set=8.384599810461848, reg_lambda=0.0 will be ignored. Current value: lambda_l2=8.384599810461848\n",
      "[LightGBM] [Warning] boosting is set=gbdt, boosting_type=gbdt will be ignored. Current value: boosting=gbdt\n",
      "[LightGBM] [Warning] lambda_l1 is set=9.047019702155051, reg_alpha=0.0 will be ignored. Current value: lambda_l1=9.047019702155051\n",
      "[LightGBM] [Warning] min_data_in_leaf is set=4, min_child_samples=20 will be ignored. Current value: min_data_in_leaf=4\n",
      "[LightGBM] [Warning] feature_fraction is set=0.943025454621123, colsample_bytree=1.0 will be ignored. Current value: feature_fraction=0.943025454621123\n",
      "[LightGBM] [Warning] lambda_l2 is set=8.384599810461848, reg_lambda=0.0 will be ignored. Current value: lambda_l2=8.384599810461848\n",
      "[LightGBM] [Warning] boosting is set=gbdt, boosting_type=gbdt will be ignored. Current value: boosting=gbdt\n",
      "[LightGBM] [Warning] lambda_l1 is set=9.047019702155051, reg_alpha=0.0 will be ignored. Current value: lambda_l1=9.047019702155051\n",
      "[LightGBM] [Warning] min_data_in_leaf is set=4, min_child_samples=20 will be ignored. Current value: min_data_in_leaf=4\n",
      "[LightGBM] [Warning] feature_fraction is set=0.943025454621123, colsample_bytree=1.0 will be ignored. Current value: feature_fraction=0.943025454621123\n",
      "[LightGBM] [Warning] lambda_l2 is set=8.384599810461848, reg_lambda=0.0 will be ignored. Current value: lambda_l2=8.384599810461848\n",
      "[LightGBM] [Warning] boosting is set=gbdt, boosting_type=gbdt will be ignored. Current value: boosting=gbdt\n",
      "[LightGBM] [Warning] lambda_l1 is set=9.047019702155051, reg_alpha=0.0 will be ignored. Current value: lambda_l1=9.047019702155051\n",
      "[LightGBM] [Warning] min_data_in_leaf is set=4, min_child_samples=20 will be ignored. Current value: min_data_in_leaf=4\n",
      "[LightGBM] [Warning] feature_fraction is set=0.943025454621123, colsample_bytree=1.0 will be ignored. Current value: feature_fraction=0.943025454621123\n",
      "[LightGBM] [Warning] lambda_l2 is set=8.384599810461848, reg_lambda=0.0 will be ignored. Current value: lambda_l2=8.384599810461848\n",
      "[LightGBM] [Warning] boosting is set=gbdt, boosting_type=gbdt will be ignored. Current value: boosting=gbdt\n",
      "[LightGBM] [Warning] lambda_l1 is set=9.047019702155051, reg_alpha=0.0 will be ignored. Current value: lambda_l1=9.047019702155051\n",
      "[LightGBM] [Warning] min_data_in_leaf is set=4, min_child_samples=20 will be ignored. Current value: min_data_in_leaf=4\n",
      "[LightGBM] [Warning] feature_fraction is set=0.943025454621123, colsample_bytree=1.0 will be ignored. Current value: feature_fraction=0.943025454621123\n",
      "[LightGBM] [Warning] lambda_l2 is set=8.384599810461848, reg_lambda=0.0 will be ignored. Current value: lambda_l2=8.384599810461848\n",
      "[LightGBM] [Warning] boosting is set=gbdt, boosting_type=gbdt will be ignored. Current value: boosting=gbdt\n",
      "[LightGBM] [Warning] lambda_l1 is set=3.42740983741146, reg_alpha=0.0 will be ignored. Current value: lambda_l1=3.42740983741146\n",
      "[LightGBM] [Warning] min_data_in_leaf is set=17, min_child_samples=20 will be ignored. Current value: min_data_in_leaf=17\n",
      "[LightGBM] [Warning] feature_fraction is set=0.30399762687040205, colsample_bytree=1.0 will be ignored. Current value: feature_fraction=0.30399762687040205\n",
      "[LightGBM] [Warning] lambda_l2 is set=7.667115111712377, reg_lambda=0.0 will be ignored. Current value: lambda_l2=7.667115111712377\n"
     ]
    },
    {
     "name": "stdout",
     "output_type": "stream",
     "text": [
      "[LightGBM] [Warning] boosting is set=gbdt, boosting_type=gbdt will be ignored. Current value: boosting=gbdt\n",
      "[LightGBM] [Warning] lambda_l1 is set=3.42740983741146, reg_alpha=0.0 will be ignored. Current value: lambda_l1=3.42740983741146\n",
      "[LightGBM] [Warning] min_data_in_leaf is set=17, min_child_samples=20 will be ignored. Current value: min_data_in_leaf=17\n",
      "[LightGBM] [Warning] feature_fraction is set=0.30399762687040205, colsample_bytree=1.0 will be ignored. Current value: feature_fraction=0.30399762687040205\n",
      "[LightGBM] [Warning] lambda_l2 is set=7.667115111712377, reg_lambda=0.0 will be ignored. Current value: lambda_l2=7.667115111712377\n",
      "[LightGBM] [Warning] boosting is set=gbdt, boosting_type=gbdt will be ignored. Current value: boosting=gbdt\n",
      "[LightGBM] [Warning] lambda_l1 is set=3.42740983741146, reg_alpha=0.0 will be ignored. Current value: lambda_l1=3.42740983741146\n",
      "[LightGBM] [Warning] min_data_in_leaf is set=17, min_child_samples=20 will be ignored. Current value: min_data_in_leaf=17\n",
      "[LightGBM] [Warning] feature_fraction is set=0.30399762687040205, colsample_bytree=1.0 will be ignored. Current value: feature_fraction=0.30399762687040205\n",
      "[LightGBM] [Warning] lambda_l2 is set=7.667115111712377, reg_lambda=0.0 will be ignored. Current value: lambda_l2=7.667115111712377\n",
      "[LightGBM] [Warning] boosting is set=gbdt, boosting_type=gbdt will be ignored. Current value: boosting=gbdt\n",
      "[LightGBM] [Warning] lambda_l1 is set=3.42740983741146, reg_alpha=0.0 will be ignored. Current value: lambda_l1=3.42740983741146\n",
      "[LightGBM] [Warning] min_data_in_leaf is set=17, min_child_samples=20 will be ignored. Current value: min_data_in_leaf=17\n",
      "[LightGBM] [Warning] feature_fraction is set=0.30399762687040205, colsample_bytree=1.0 will be ignored. Current value: feature_fraction=0.30399762687040205\n",
      "[LightGBM] [Warning] lambda_l2 is set=7.667115111712377, reg_lambda=0.0 will be ignored. Current value: lambda_l2=7.667115111712377\n",
      "[LightGBM] [Warning] boosting is set=gbdt, boosting_type=gbdt will be ignored. Current value: boosting=gbdt\n",
      "[LightGBM] [Warning] lambda_l1 is set=3.42740983741146, reg_alpha=0.0 will be ignored. Current value: lambda_l1=3.42740983741146\n",
      "[LightGBM] [Warning] min_data_in_leaf is set=17, min_child_samples=20 will be ignored. Current value: min_data_in_leaf=17\n",
      "[LightGBM] [Warning] feature_fraction is set=0.30399762687040205, colsample_bytree=1.0 will be ignored. Current value: feature_fraction=0.30399762687040205\n",
      "[LightGBM] [Warning] lambda_l2 is set=7.667115111712377, reg_lambda=0.0 will be ignored. Current value: lambda_l2=7.667115111712377\n",
      "[LightGBM] [Warning] boosting is set=gbdt, boosting_type=gbdt will be ignored. Current value: boosting=gbdt\n",
      "[LightGBM] [Warning] lambda_l1 is set=3.42740983741146, reg_alpha=0.0 will be ignored. Current value: lambda_l1=3.42740983741146\n",
      "[LightGBM] [Warning] min_data_in_leaf is set=17, min_child_samples=20 will be ignored. Current value: min_data_in_leaf=17\n",
      "[LightGBM] [Warning] feature_fraction is set=0.30399762687040205, colsample_bytree=1.0 will be ignored. Current value: feature_fraction=0.30399762687040205\n",
      "[LightGBM] [Warning] lambda_l2 is set=7.667115111712377, reg_lambda=0.0 will be ignored. Current value: lambda_l2=7.667115111712377\n",
      "[LightGBM] [Warning] boosting is set=gbdt, boosting_type=gbdt will be ignored. Current value: boosting=gbdt\n",
      "[LightGBM] [Warning] lambda_l1 is set=3.8963779412208597, reg_alpha=0.0 will be ignored. Current value: lambda_l1=3.8963779412208597\n",
      "[LightGBM] [Warning] min_data_in_leaf is set=9, min_child_samples=20 will be ignored. Current value: min_data_in_leaf=9\n",
      "[LightGBM] [Warning] feature_fraction is set=0.9309830366363758, colsample_bytree=1.0 will be ignored. Current value: feature_fraction=0.9309830366363758\n",
      "[LightGBM] [Warning] lambda_l2 is set=9.18387426693103, reg_lambda=0.0 will be ignored. Current value: lambda_l2=9.18387426693103\n",
      "[LightGBM] [Warning] boosting is set=gbdt, boosting_type=gbdt will be ignored. Current value: boosting=gbdt\n",
      "[LightGBM] [Warning] lambda_l1 is set=3.8963779412208597, reg_alpha=0.0 will be ignored. Current value: lambda_l1=3.8963779412208597\n",
      "[LightGBM] [Warning] min_data_in_leaf is set=9, min_child_samples=20 will be ignored. Current value: min_data_in_leaf=9\n",
      "[LightGBM] [Warning] feature_fraction is set=0.9309830366363758, colsample_bytree=1.0 will be ignored. Current value: feature_fraction=0.9309830366363758\n",
      "[LightGBM] [Warning] lambda_l2 is set=9.18387426693103, reg_lambda=0.0 will be ignored. Current value: lambda_l2=9.18387426693103\n",
      "[LightGBM] [Warning] boosting is set=gbdt, boosting_type=gbdt will be ignored. Current value: boosting=gbdt\n",
      "[LightGBM] [Warning] lambda_l1 is set=3.8963779412208597, reg_alpha=0.0 will be ignored. Current value: lambda_l1=3.8963779412208597\n",
      "[LightGBM] [Warning] min_data_in_leaf is set=9, min_child_samples=20 will be ignored. Current value: min_data_in_leaf=9\n",
      "[LightGBM] [Warning] feature_fraction is set=0.9309830366363758, colsample_bytree=1.0 will be ignored. Current value: feature_fraction=0.9309830366363758\n",
      "[LightGBM] [Warning] lambda_l2 is set=9.18387426693103, reg_lambda=0.0 will be ignored. Current value: lambda_l2=9.18387426693103\n",
      "[LightGBM] [Warning] boosting is set=gbdt, boosting_type=gbdt will be ignored. Current value: boosting=gbdt\n",
      "[LightGBM] [Warning] lambda_l1 is set=3.8963779412208597, reg_alpha=0.0 will be ignored. Current value: lambda_l1=3.8963779412208597\n",
      "[LightGBM] [Warning] min_data_in_leaf is set=9, min_child_samples=20 will be ignored. Current value: min_data_in_leaf=9\n",
      "[LightGBM] [Warning] feature_fraction is set=0.9309830366363758, colsample_bytree=1.0 will be ignored. Current value: feature_fraction=0.9309830366363758\n",
      "[LightGBM] [Warning] lambda_l2 is set=9.18387426693103, reg_lambda=0.0 will be ignored. Current value: lambda_l2=9.18387426693103\n",
      "[LightGBM] [Warning] boosting is set=gbdt, boosting_type=gbdt will be ignored. Current value: boosting=gbdt\n",
      "[LightGBM] [Warning] lambda_l1 is set=3.8963779412208597, reg_alpha=0.0 will be ignored. Current value: lambda_l1=3.8963779412208597\n",
      "[LightGBM] [Warning] min_data_in_leaf is set=9, min_child_samples=20 will be ignored. Current value: min_data_in_leaf=9\n",
      "[LightGBM] [Warning] feature_fraction is set=0.9309830366363758, colsample_bytree=1.0 will be ignored. Current value: feature_fraction=0.9309830366363758\n",
      "[LightGBM] [Warning] lambda_l2 is set=9.18387426693103, reg_lambda=0.0 will be ignored. Current value: lambda_l2=9.18387426693103\n",
      "[LightGBM] [Warning] boosting is set=gbdt, boosting_type=gbdt will be ignored. Current value: boosting=gbdt\n",
      "[LightGBM] [Warning] lambda_l1 is set=3.8963779412208597, reg_alpha=0.0 will be ignored. Current value: lambda_l1=3.8963779412208597\n",
      "[LightGBM] [Warning] min_data_in_leaf is set=9, min_child_samples=20 will be ignored. Current value: min_data_in_leaf=9\n",
      "[LightGBM] [Warning] feature_fraction is set=0.9309830366363758, colsample_bytree=1.0 will be ignored. Current value: feature_fraction=0.9309830366363758\n",
      "[LightGBM] [Warning] lambda_l2 is set=9.18387426693103, reg_lambda=0.0 will be ignored. Current value: lambda_l2=9.18387426693103\n",
      "[LightGBM] [Warning] boosting is set=gbdt, boosting_type=gbdt will be ignored. Current value: boosting=gbdt\n",
      "[LightGBM] [Warning] lambda_l1 is set=5.967365665448289, reg_alpha=0.0 will be ignored. Current value: lambda_l1=5.967365665448289\n",
      "[LightGBM] [Warning] min_data_in_leaf is set=12, min_child_samples=20 will be ignored. Current value: min_data_in_leaf=12\n",
      "[LightGBM] [Warning] feature_fraction is set=0.974313048189164, colsample_bytree=1.0 will be ignored. Current value: feature_fraction=0.974313048189164\n",
      "[LightGBM] [Warning] lambda_l2 is set=8.517294707452406, reg_lambda=0.0 will be ignored. Current value: lambda_l2=8.517294707452406\n",
      "[LightGBM] [Warning] boosting is set=dart, boosting_type=gbdt will be ignored. Current value: boosting=dart\n",
      "[LightGBM] [Warning] lambda_l1 is set=5.967365665448289, reg_alpha=0.0 will be ignored. Current value: lambda_l1=5.967365665448289\n",
      "[LightGBM] [Warning] min_data_in_leaf is set=12, min_child_samples=20 will be ignored. Current value: min_data_in_leaf=12\n",
      "[LightGBM] [Warning] feature_fraction is set=0.974313048189164, colsample_bytree=1.0 will be ignored. Current value: feature_fraction=0.974313048189164\n"
     ]
    },
    {
     "name": "stdout",
     "output_type": "stream",
     "text": [
      "[LightGBM] [Warning] lambda_l2 is set=8.517294707452406, reg_lambda=0.0 will be ignored. Current value: lambda_l2=8.517294707452406\n",
      "[LightGBM] [Warning] boosting is set=dart, boosting_type=gbdt will be ignored. Current value: boosting=dart\n",
      "[LightGBM] [Warning] lambda_l1 is set=5.967365665448289, reg_alpha=0.0 will be ignored. Current value: lambda_l1=5.967365665448289\n",
      "[LightGBM] [Warning] min_data_in_leaf is set=12, min_child_samples=20 will be ignored. Current value: min_data_in_leaf=12\n",
      "[LightGBM] [Warning] feature_fraction is set=0.974313048189164, colsample_bytree=1.0 will be ignored. Current value: feature_fraction=0.974313048189164\n",
      "[LightGBM] [Warning] lambda_l2 is set=8.517294707452406, reg_lambda=0.0 will be ignored. Current value: lambda_l2=8.517294707452406\n",
      "[LightGBM] [Warning] boosting is set=dart, boosting_type=gbdt will be ignored. Current value: boosting=dart\n",
      "[LightGBM] [Warning] lambda_l1 is set=5.967365665448289, reg_alpha=0.0 will be ignored. Current value: lambda_l1=5.967365665448289\n",
      "[LightGBM] [Warning] min_data_in_leaf is set=12, min_child_samples=20 will be ignored. Current value: min_data_in_leaf=12\n",
      "[LightGBM] [Warning] feature_fraction is set=0.974313048189164, colsample_bytree=1.0 will be ignored. Current value: feature_fraction=0.974313048189164\n",
      "[LightGBM] [Warning] lambda_l2 is set=8.517294707452406, reg_lambda=0.0 will be ignored. Current value: lambda_l2=8.517294707452406\n",
      "[LightGBM] [Warning] boosting is set=dart, boosting_type=gbdt will be ignored. Current value: boosting=dart\n",
      "[LightGBM] [Warning] lambda_l1 is set=5.967365665448289, reg_alpha=0.0 will be ignored. Current value: lambda_l1=5.967365665448289\n",
      "[LightGBM] [Warning] min_data_in_leaf is set=12, min_child_samples=20 will be ignored. Current value: min_data_in_leaf=12\n",
      "[LightGBM] [Warning] feature_fraction is set=0.974313048189164, colsample_bytree=1.0 will be ignored. Current value: feature_fraction=0.974313048189164\n",
      "[LightGBM] [Warning] lambda_l2 is set=8.517294707452406, reg_lambda=0.0 will be ignored. Current value: lambda_l2=8.517294707452406\n",
      "[LightGBM] [Warning] boosting is set=dart, boosting_type=gbdt will be ignored. Current value: boosting=dart\n",
      "[LightGBM] [Warning] lambda_l1 is set=5.967365665448289, reg_alpha=0.0 will be ignored. Current value: lambda_l1=5.967365665448289\n",
      "[LightGBM] [Warning] min_data_in_leaf is set=12, min_child_samples=20 will be ignored. Current value: min_data_in_leaf=12\n",
      "[LightGBM] [Warning] feature_fraction is set=0.974313048189164, colsample_bytree=1.0 will be ignored. Current value: feature_fraction=0.974313048189164\n",
      "[LightGBM] [Warning] lambda_l2 is set=8.517294707452406, reg_lambda=0.0 will be ignored. Current value: lambda_l2=8.517294707452406\n",
      "[LightGBM] [Warning] boosting is set=dart, boosting_type=gbdt will be ignored. Current value: boosting=dart\n",
      "[LightGBM] [Warning] lambda_l1 is set=2.949834341616955, reg_alpha=0.0 will be ignored. Current value: lambda_l1=2.949834341616955\n",
      "[LightGBM] [Warning] min_data_in_leaf is set=15, min_child_samples=20 will be ignored. Current value: min_data_in_leaf=15\n",
      "[LightGBM] [Warning] feature_fraction is set=0.6893337047910364, colsample_bytree=1.0 will be ignored. Current value: feature_fraction=0.6893337047910364\n",
      "[LightGBM] [Warning] lambda_l2 is set=5.962054121166391, reg_lambda=0.0 will be ignored. Current value: lambda_l2=5.962054121166391\n",
      "[LightGBM] [Warning] boosting is set=rf, boosting_type=gbdt will be ignored. Current value: boosting=rf\n",
      "[LightGBM] [Warning] lambda_l1 is set=1.9675863239365332, reg_alpha=0.0 will be ignored. Current value: lambda_l1=1.9675863239365332\n",
      "[LightGBM] [Warning] min_data_in_leaf is set=3, min_child_samples=20 will be ignored. Current value: min_data_in_leaf=3\n",
      "[LightGBM] [Warning] feature_fraction is set=0.6039924267020809, colsample_bytree=1.0 will be ignored. Current value: feature_fraction=0.6039924267020809\n",
      "[LightGBM] [Warning] lambda_l2 is set=0.5756197129956608, reg_lambda=0.0 will be ignored. Current value: lambda_l2=0.5756197129956608\n",
      "[LightGBM] [Warning] boosting is set=gbdt, boosting_type=gbdt will be ignored. Current value: boosting=gbdt\n",
      "[LightGBM] [Warning] lambda_l1 is set=1.9675863239365332, reg_alpha=0.0 will be ignored. Current value: lambda_l1=1.9675863239365332\n",
      "[LightGBM] [Warning] min_data_in_leaf is set=3, min_child_samples=20 will be ignored. Current value: min_data_in_leaf=3\n",
      "[LightGBM] [Warning] feature_fraction is set=0.6039924267020809, colsample_bytree=1.0 will be ignored. Current value: feature_fraction=0.6039924267020809\n",
      "[LightGBM] [Warning] lambda_l2 is set=0.5756197129956608, reg_lambda=0.0 will be ignored. Current value: lambda_l2=0.5756197129956608\n",
      "[LightGBM] [Warning] boosting is set=gbdt, boosting_type=gbdt will be ignored. Current value: boosting=gbdt\n",
      "[LightGBM] [Warning] lambda_l1 is set=1.9675863239365332, reg_alpha=0.0 will be ignored. Current value: lambda_l1=1.9675863239365332\n",
      "[LightGBM] [Warning] min_data_in_leaf is set=3, min_child_samples=20 will be ignored. Current value: min_data_in_leaf=3\n",
      "[LightGBM] [Warning] feature_fraction is set=0.6039924267020809, colsample_bytree=1.0 will be ignored. Current value: feature_fraction=0.6039924267020809\n",
      "[LightGBM] [Warning] lambda_l2 is set=0.5756197129956608, reg_lambda=0.0 will be ignored. Current value: lambda_l2=0.5756197129956608\n",
      "[LightGBM] [Warning] boosting is set=gbdt, boosting_type=gbdt will be ignored. Current value: boosting=gbdt\n",
      "[LightGBM] [Warning] lambda_l1 is set=1.9675863239365332, reg_alpha=0.0 will be ignored. Current value: lambda_l1=1.9675863239365332\n",
      "[LightGBM] [Warning] min_data_in_leaf is set=3, min_child_samples=20 will be ignored. Current value: min_data_in_leaf=3\n",
      "[LightGBM] [Warning] feature_fraction is set=0.6039924267020809, colsample_bytree=1.0 will be ignored. Current value: feature_fraction=0.6039924267020809\n",
      "[LightGBM] [Warning] lambda_l2 is set=0.5756197129956608, reg_lambda=0.0 will be ignored. Current value: lambda_l2=0.5756197129956608\n",
      "[LightGBM] [Warning] boosting is set=gbdt, boosting_type=gbdt will be ignored. Current value: boosting=gbdt\n",
      "[LightGBM] [Warning] lambda_l1 is set=1.9675863239365332, reg_alpha=0.0 will be ignored. Current value: lambda_l1=1.9675863239365332\n",
      "[LightGBM] [Warning] min_data_in_leaf is set=3, min_child_samples=20 will be ignored. Current value: min_data_in_leaf=3\n",
      "[LightGBM] [Warning] feature_fraction is set=0.6039924267020809, colsample_bytree=1.0 will be ignored. Current value: feature_fraction=0.6039924267020809\n",
      "[LightGBM] [Warning] lambda_l2 is set=0.5756197129956608, reg_lambda=0.0 will be ignored. Current value: lambda_l2=0.5756197129956608\n",
      "[LightGBM] [Warning] boosting is set=gbdt, boosting_type=gbdt will be ignored. Current value: boosting=gbdt\n",
      "[LightGBM] [Warning] lambda_l1 is set=8.287503807921022, reg_alpha=0.0 will be ignored. Current value: lambda_l1=8.287503807921022\n",
      "[LightGBM] [Warning] min_data_in_leaf is set=11, min_child_samples=20 will be ignored. Current value: min_data_in_leaf=11\n",
      "[LightGBM] [Warning] feature_fraction is set=0.6093052812510256, colsample_bytree=1.0 will be ignored. Current value: feature_fraction=0.6093052812510256\n",
      "[LightGBM] [Warning] lambda_l2 is set=1.6450259208186313, reg_lambda=0.0 will be ignored. Current value: lambda_l2=1.6450259208186313\n",
      "[LightGBM] [Warning] boosting is set=gbdt, boosting_type=gbdt will be ignored. Current value: boosting=gbdt\n",
      "[LightGBM] [Warning] lambda_l1 is set=8.287503807921022, reg_alpha=0.0 will be ignored. Current value: lambda_l1=8.287503807921022\n",
      "[LightGBM] [Warning] min_data_in_leaf is set=11, min_child_samples=20 will be ignored. Current value: min_data_in_leaf=11\n",
      "[LightGBM] [Warning] feature_fraction is set=0.6093052812510256, colsample_bytree=1.0 will be ignored. Current value: feature_fraction=0.6093052812510256\n",
      "[LightGBM] [Warning] lambda_l2 is set=1.6450259208186313, reg_lambda=0.0 will be ignored. Current value: lambda_l2=1.6450259208186313\n",
      "[LightGBM] [Warning] boosting is set=gbdt, boosting_type=gbdt will be ignored. Current value: boosting=gbdt\n",
      "[LightGBM] [Warning] lambda_l1 is set=8.287503807921022, reg_alpha=0.0 will be ignored. Current value: lambda_l1=8.287503807921022\n",
      "[LightGBM] [Warning] min_data_in_leaf is set=11, min_child_samples=20 will be ignored. Current value: min_data_in_leaf=11\n",
      "[LightGBM] [Warning] feature_fraction is set=0.6093052812510256, colsample_bytree=1.0 will be ignored. Current value: feature_fraction=0.6093052812510256\n",
      "[LightGBM] [Warning] lambda_l2 is set=1.6450259208186313, reg_lambda=0.0 will be ignored. Current value: lambda_l2=1.6450259208186313\n",
      "[LightGBM] [Warning] boosting is set=gbdt, boosting_type=gbdt will be ignored. Current value: boosting=gbdt\n",
      "[LightGBM] [Warning] lambda_l1 is set=8.287503807921022, reg_alpha=0.0 will be ignored. Current value: lambda_l1=8.287503807921022\n",
      "[LightGBM] [Warning] min_data_in_leaf is set=11, min_child_samples=20 will be ignored. Current value: min_data_in_leaf=11\n",
      "[LightGBM] [Warning] feature_fraction is set=0.6093052812510256, colsample_bytree=1.0 will be ignored. Current value: feature_fraction=0.6093052812510256\n",
      "[LightGBM] [Warning] lambda_l2 is set=1.6450259208186313, reg_lambda=0.0 will be ignored. Current value: lambda_l2=1.6450259208186313\n",
      "[LightGBM] [Warning] boosting is set=gbdt, boosting_type=gbdt will be ignored. Current value: boosting=gbdt\n",
      "[LightGBM] [Warning] lambda_l1 is set=8.287503807921022, reg_alpha=0.0 will be ignored. Current value: lambda_l1=8.287503807921022\n",
      "[LightGBM] [Warning] min_data_in_leaf is set=11, min_child_samples=20 will be ignored. Current value: min_data_in_leaf=11\n",
      "[LightGBM] [Warning] feature_fraction is set=0.6093052812510256, colsample_bytree=1.0 will be ignored. Current value: feature_fraction=0.6093052812510256\n",
      "[LightGBM] [Warning] lambda_l2 is set=1.6450259208186313, reg_lambda=0.0 will be ignored. Current value: lambda_l2=1.6450259208186313\n",
      "[LightGBM] [Warning] boosting is set=gbdt, boosting_type=gbdt will be ignored. Current value: boosting=gbdt\n",
      "[LightGBM] [Warning] lambda_l1 is set=8.287503807921022, reg_alpha=0.0 will be ignored. Current value: lambda_l1=8.287503807921022\n",
      "[LightGBM] [Warning] min_data_in_leaf is set=11, min_child_samples=20 will be ignored. Current value: min_data_in_leaf=11\n",
      "[LightGBM] [Warning] feature_fraction is set=0.6093052812510256, colsample_bytree=1.0 will be ignored. Current value: feature_fraction=0.6093052812510256\n",
      "[LightGBM] [Warning] lambda_l2 is set=1.6450259208186313, reg_lambda=0.0 will be ignored. Current value: lambda_l2=1.6450259208186313\n",
      "[LightGBM] [Warning] boosting is set=gbdt, boosting_type=gbdt will be ignored. Current value: boosting=gbdt\n",
      "[LightGBM] [Warning] lambda_l1 is set=9.488422984841083, reg_alpha=0.0 will be ignored. Current value: lambda_l1=9.488422984841083\n",
      "[LightGBM] [Warning] min_data_in_leaf is set=6, min_child_samples=20 will be ignored. Current value: min_data_in_leaf=6\n",
      "[LightGBM] [Warning] feature_fraction is set=0.6067931349474374, colsample_bytree=1.0 will be ignored. Current value: feature_fraction=0.6067931349474374\n",
      "[LightGBM] [Warning] lambda_l2 is set=8.146061401363692, reg_lambda=0.0 will be ignored. Current value: lambda_l2=8.146061401363692\n",
      "[LightGBM] [Warning] boosting is set=rf, boosting_type=gbdt will be ignored. Current value: boosting=rf\n",
      "[LightGBM] [Warning] lambda_l1 is set=2.751015101951022, reg_alpha=0.0 will be ignored. Current value: lambda_l1=2.751015101951022\n",
      "[LightGBM] [Warning] min_data_in_leaf is set=12, min_child_samples=20 will be ignored. Current value: min_data_in_leaf=12\n",
      "[LightGBM] [Warning] feature_fraction is set=0.8775375589255219, colsample_bytree=1.0 will be ignored. Current value: feature_fraction=0.8775375589255219\n",
      "[LightGBM] [Warning] lambda_l2 is set=5.258377017043664, reg_lambda=0.0 will be ignored. Current value: lambda_l2=5.258377017043664\n",
      "[LightGBM] [Warning] boosting is set=dart, boosting_type=gbdt will be ignored. Current value: boosting=dart\n",
      "[LightGBM] [Warning] lambda_l1 is set=2.751015101951022, reg_alpha=0.0 will be ignored. Current value: lambda_l1=2.751015101951022\n",
      "[LightGBM] [Warning] min_data_in_leaf is set=12, min_child_samples=20 will be ignored. Current value: min_data_in_leaf=12\n",
      "[LightGBM] [Warning] feature_fraction is set=0.8775375589255219, colsample_bytree=1.0 will be ignored. Current value: feature_fraction=0.8775375589255219\n",
      "[LightGBM] [Warning] lambda_l2 is set=5.258377017043664, reg_lambda=0.0 will be ignored. Current value: lambda_l2=5.258377017043664\n",
      "[LightGBM] [Warning] boosting is set=dart, boosting_type=gbdt will be ignored. Current value: boosting=dart\n",
      "[LightGBM] [Warning] lambda_l1 is set=2.751015101951022, reg_alpha=0.0 will be ignored. Current value: lambda_l1=2.751015101951022\n",
      "[LightGBM] [Warning] min_data_in_leaf is set=12, min_child_samples=20 will be ignored. Current value: min_data_in_leaf=12\n",
      "[LightGBM] [Warning] feature_fraction is set=0.8775375589255219, colsample_bytree=1.0 will be ignored. Current value: feature_fraction=0.8775375589255219\n",
      "[LightGBM] [Warning] lambda_l2 is set=5.258377017043664, reg_lambda=0.0 will be ignored. Current value: lambda_l2=5.258377017043664\n",
      "[LightGBM] [Warning] boosting is set=dart, boosting_type=gbdt will be ignored. Current value: boosting=dart\n",
      "[LightGBM] [Warning] lambda_l1 is set=2.751015101951022, reg_alpha=0.0 will be ignored. Current value: lambda_l1=2.751015101951022\n",
      "[LightGBM] [Warning] min_data_in_leaf is set=12, min_child_samples=20 will be ignored. Current value: min_data_in_leaf=12\n",
      "[LightGBM] [Warning] feature_fraction is set=0.8775375589255219, colsample_bytree=1.0 will be ignored. Current value: feature_fraction=0.8775375589255219\n",
      "[LightGBM] [Warning] lambda_l2 is set=5.258377017043664, reg_lambda=0.0 will be ignored. Current value: lambda_l2=5.258377017043664\n",
      "[LightGBM] [Warning] boosting is set=dart, boosting_type=gbdt will be ignored. Current value: boosting=dart\n",
      "[LightGBM] [Warning] lambda_l1 is set=2.751015101951022, reg_alpha=0.0 will be ignored. Current value: lambda_l1=2.751015101951022\n",
      "[LightGBM] [Warning] min_data_in_leaf is set=12, min_child_samples=20 will be ignored. Current value: min_data_in_leaf=12\n",
      "[LightGBM] [Warning] feature_fraction is set=0.8775375589255219, colsample_bytree=1.0 will be ignored. Current value: feature_fraction=0.8775375589255219\n",
      "[LightGBM] [Warning] lambda_l2 is set=5.258377017043664, reg_lambda=0.0 will be ignored. Current value: lambda_l2=5.258377017043664\n",
      "[LightGBM] [Warning] boosting is set=dart, boosting_type=gbdt will be ignored. Current value: boosting=dart\n",
      "[LightGBM] [Warning] lambda_l1 is set=6.20569418237581, reg_alpha=0.0 will be ignored. Current value: lambda_l1=6.20569418237581\n",
      "[LightGBM] [Warning] min_data_in_leaf is set=17, min_child_samples=20 will be ignored. Current value: min_data_in_leaf=17\n",
      "[LightGBM] [Warning] feature_fraction is set=0.3467390739116695, colsample_bytree=1.0 will be ignored. Current value: feature_fraction=0.3467390739116695\n",
      "[LightGBM] [Warning] lambda_l2 is set=6.979494195332968, reg_lambda=0.0 will be ignored. Current value: lambda_l2=6.979494195332968\n",
      "[LightGBM] [Warning] boosting is set=rf, boosting_type=gbdt will be ignored. Current value: boosting=rf\n",
      "[LightGBM] [Warning] lambda_l1 is set=1.3496913996804705, reg_alpha=0.0 will be ignored. Current value: lambda_l1=1.3496913996804705\n",
      "[LightGBM] [Warning] min_data_in_leaf is set=7, min_child_samples=20 will be ignored. Current value: min_data_in_leaf=7\n",
      "[LightGBM] [Warning] feature_fraction is set=0.7405844986542919, colsample_bytree=1.0 will be ignored. Current value: feature_fraction=0.7405844986542919\n",
      "[LightGBM] [Warning] lambda_l2 is set=0.7041795816305174, reg_lambda=0.0 will be ignored. Current value: lambda_l2=0.7041795816305174\n",
      "[LightGBM] [Warning] boosting is set=gbdt, boosting_type=gbdt will be ignored. Current value: boosting=gbdt\n",
      "[LightGBM] [Warning] lambda_l1 is set=1.3496913996804705, reg_alpha=0.0 will be ignored. Current value: lambda_l1=1.3496913996804705\n",
      "[LightGBM] [Warning] min_data_in_leaf is set=7, min_child_samples=20 will be ignored. Current value: min_data_in_leaf=7\n",
      "[LightGBM] [Warning] feature_fraction is set=0.7405844986542919, colsample_bytree=1.0 will be ignored. Current value: feature_fraction=0.7405844986542919\n",
      "[LightGBM] [Warning] lambda_l2 is set=0.7041795816305174, reg_lambda=0.0 will be ignored. Current value: lambda_l2=0.7041795816305174\n"
     ]
    },
    {
     "name": "stdout",
     "output_type": "stream",
     "text": [
      "[LightGBM] [Warning] boosting is set=gbdt, boosting_type=gbdt will be ignored. Current value: boosting=gbdt\n",
      "[LightGBM] [Warning] lambda_l1 is set=1.3496913996804705, reg_alpha=0.0 will be ignored. Current value: lambda_l1=1.3496913996804705\n",
      "[LightGBM] [Warning] min_data_in_leaf is set=7, min_child_samples=20 will be ignored. Current value: min_data_in_leaf=7\n",
      "[LightGBM] [Warning] feature_fraction is set=0.7405844986542919, colsample_bytree=1.0 will be ignored. Current value: feature_fraction=0.7405844986542919\n",
      "[LightGBM] [Warning] lambda_l2 is set=0.7041795816305174, reg_lambda=0.0 will be ignored. Current value: lambda_l2=0.7041795816305174\n",
      "[LightGBM] [Warning] boosting is set=gbdt, boosting_type=gbdt will be ignored. Current value: boosting=gbdt\n",
      "[LightGBM] [Warning] lambda_l1 is set=1.3496913996804705, reg_alpha=0.0 will be ignored. Current value: lambda_l1=1.3496913996804705\n",
      "[LightGBM] [Warning] min_data_in_leaf is set=7, min_child_samples=20 will be ignored. Current value: min_data_in_leaf=7\n",
      "[LightGBM] [Warning] feature_fraction is set=0.7405844986542919, colsample_bytree=1.0 will be ignored. Current value: feature_fraction=0.7405844986542919\n",
      "[LightGBM] [Warning] lambda_l2 is set=0.7041795816305174, reg_lambda=0.0 will be ignored. Current value: lambda_l2=0.7041795816305174\n",
      "[LightGBM] [Warning] boosting is set=gbdt, boosting_type=gbdt will be ignored. Current value: boosting=gbdt\n",
      "[LightGBM] [Warning] lambda_l1 is set=1.3496913996804705, reg_alpha=0.0 will be ignored. Current value: lambda_l1=1.3496913996804705\n",
      "[LightGBM] [Warning] min_data_in_leaf is set=7, min_child_samples=20 will be ignored. Current value: min_data_in_leaf=7\n",
      "[LightGBM] [Warning] feature_fraction is set=0.7405844986542919, colsample_bytree=1.0 will be ignored. Current value: feature_fraction=0.7405844986542919\n",
      "[LightGBM] [Warning] lambda_l2 is set=0.7041795816305174, reg_lambda=0.0 will be ignored. Current value: lambda_l2=0.7041795816305174\n",
      "[LightGBM] [Warning] boosting is set=gbdt, boosting_type=gbdt will be ignored. Current value: boosting=gbdt\n",
      "[LightGBM] [Warning] lambda_l1 is set=3.727139741444756, reg_alpha=0.0 will be ignored. Current value: lambda_l1=3.727139741444756\n",
      "[LightGBM] [Warning] min_data_in_leaf is set=1, min_child_samples=20 will be ignored. Current value: min_data_in_leaf=1\n",
      "[LightGBM] [Warning] feature_fraction is set=0.7978492758201025, colsample_bytree=1.0 will be ignored. Current value: feature_fraction=0.7978492758201025\n",
      "[LightGBM] [Warning] lambda_l2 is set=6.018667256459995, reg_lambda=0.0 will be ignored. Current value: lambda_l2=6.018667256459995\n",
      "[LightGBM] [Warning] boosting is set=dart, boosting_type=gbdt will be ignored. Current value: boosting=dart\n",
      "[LightGBM] [Warning] lambda_l1 is set=3.727139741444756, reg_alpha=0.0 will be ignored. Current value: lambda_l1=3.727139741444756\n",
      "[LightGBM] [Warning] min_data_in_leaf is set=1, min_child_samples=20 will be ignored. Current value: min_data_in_leaf=1\n",
      "[LightGBM] [Warning] feature_fraction is set=0.7978492758201025, colsample_bytree=1.0 will be ignored. Current value: feature_fraction=0.7978492758201025\n",
      "[LightGBM] [Warning] lambda_l2 is set=6.018667256459995, reg_lambda=0.0 will be ignored. Current value: lambda_l2=6.018667256459995\n",
      "[LightGBM] [Warning] boosting is set=dart, boosting_type=gbdt will be ignored. Current value: boosting=dart\n",
      "[LightGBM] [Warning] lambda_l1 is set=3.727139741444756, reg_alpha=0.0 will be ignored. Current value: lambda_l1=3.727139741444756\n",
      "[LightGBM] [Warning] min_data_in_leaf is set=1, min_child_samples=20 will be ignored. Current value: min_data_in_leaf=1\n",
      "[LightGBM] [Warning] feature_fraction is set=0.7978492758201025, colsample_bytree=1.0 will be ignored. Current value: feature_fraction=0.7978492758201025\n",
      "[LightGBM] [Warning] lambda_l2 is set=6.018667256459995, reg_lambda=0.0 will be ignored. Current value: lambda_l2=6.018667256459995\n",
      "[LightGBM] [Warning] boosting is set=dart, boosting_type=gbdt will be ignored. Current value: boosting=dart\n",
      "[LightGBM] [Warning] lambda_l1 is set=3.727139741444756, reg_alpha=0.0 will be ignored. Current value: lambda_l1=3.727139741444756\n",
      "[LightGBM] [Warning] min_data_in_leaf is set=1, min_child_samples=20 will be ignored. Current value: min_data_in_leaf=1\n",
      "[LightGBM] [Warning] feature_fraction is set=0.7978492758201025, colsample_bytree=1.0 will be ignored. Current value: feature_fraction=0.7978492758201025\n",
      "[LightGBM] [Warning] lambda_l2 is set=6.018667256459995, reg_lambda=0.0 will be ignored. Current value: lambda_l2=6.018667256459995\n",
      "[LightGBM] [Warning] boosting is set=dart, boosting_type=gbdt will be ignored. Current value: boosting=dart\n",
      "[LightGBM] [Warning] lambda_l1 is set=3.727139741444756, reg_alpha=0.0 will be ignored. Current value: lambda_l1=3.727139741444756\n",
      "[LightGBM] [Warning] min_data_in_leaf is set=1, min_child_samples=20 will be ignored. Current value: min_data_in_leaf=1\n",
      "[LightGBM] [Warning] feature_fraction is set=0.7978492758201025, colsample_bytree=1.0 will be ignored. Current value: feature_fraction=0.7978492758201025\n",
      "[LightGBM] [Warning] lambda_l2 is set=6.018667256459995, reg_lambda=0.0 will be ignored. Current value: lambda_l2=6.018667256459995\n",
      "[LightGBM] [Warning] boosting is set=dart, boosting_type=gbdt will be ignored. Current value: boosting=dart\n",
      "[LightGBM] [Warning] lambda_l1 is set=3.727139741444756, reg_alpha=0.0 will be ignored. Current value: lambda_l1=3.727139741444756\n",
      "[LightGBM] [Warning] min_data_in_leaf is set=1, min_child_samples=20 will be ignored. Current value: min_data_in_leaf=1\n",
      "[LightGBM] [Warning] feature_fraction is set=0.7978492758201025, colsample_bytree=1.0 will be ignored. Current value: feature_fraction=0.7978492758201025\n",
      "[LightGBM] [Warning] lambda_l2 is set=6.018667256459995, reg_lambda=0.0 will be ignored. Current value: lambda_l2=6.018667256459995\n",
      "[LightGBM] [Warning] boosting is set=dart, boosting_type=gbdt will be ignored. Current value: boosting=dart\n",
      "[LightGBM] [Warning] lambda_l1 is set=6.434021959796256, reg_alpha=0.0 will be ignored. Current value: lambda_l1=6.434021959796256\n",
      "[LightGBM] [Warning] min_data_in_leaf is set=11, min_child_samples=20 will be ignored. Current value: min_data_in_leaf=11\n",
      "[LightGBM] [Warning] feature_fraction is set=0.4071817343306039, colsample_bytree=1.0 will be ignored. Current value: feature_fraction=0.4071817343306039\n",
      "[LightGBM] [Warning] lambda_l2 is set=0.518074150987583, reg_lambda=0.0 will be ignored. Current value: lambda_l2=0.518074150987583\n",
      "[LightGBM] [Warning] boosting is set=goss, boosting_type=gbdt will be ignored. Current value: boosting=goss\n",
      "[LightGBM] [Warning] lambda_l1 is set=6.434021959796256, reg_alpha=0.0 will be ignored. Current value: lambda_l1=6.434021959796256\n",
      "[LightGBM] [Warning] min_data_in_leaf is set=11, min_child_samples=20 will be ignored. Current value: min_data_in_leaf=11\n",
      "[LightGBM] [Warning] feature_fraction is set=0.4071817343306039, colsample_bytree=1.0 will be ignored. Current value: feature_fraction=0.4071817343306039\n",
      "[LightGBM] [Warning] lambda_l2 is set=0.518074150987583, reg_lambda=0.0 will be ignored. Current value: lambda_l2=0.518074150987583\n",
      "[LightGBM] [Warning] boosting is set=goss, boosting_type=gbdt will be ignored. Current value: boosting=goss\n",
      "[LightGBM] [Warning] lambda_l1 is set=6.434021959796256, reg_alpha=0.0 will be ignored. Current value: lambda_l1=6.434021959796256\n",
      "[LightGBM] [Warning] min_data_in_leaf is set=11, min_child_samples=20 will be ignored. Current value: min_data_in_leaf=11\n",
      "[LightGBM] [Warning] feature_fraction is set=0.4071817343306039, colsample_bytree=1.0 will be ignored. Current value: feature_fraction=0.4071817343306039\n",
      "[LightGBM] [Warning] lambda_l2 is set=0.518074150987583, reg_lambda=0.0 will be ignored. Current value: lambda_l2=0.518074150987583\n",
      "[LightGBM] [Warning] boosting is set=goss, boosting_type=gbdt will be ignored. Current value: boosting=goss\n",
      "[LightGBM] [Warning] lambda_l1 is set=6.434021959796256, reg_alpha=0.0 will be ignored. Current value: lambda_l1=6.434021959796256\n",
      "[LightGBM] [Warning] min_data_in_leaf is set=11, min_child_samples=20 will be ignored. Current value: min_data_in_leaf=11\n",
      "[LightGBM] [Warning] feature_fraction is set=0.4071817343306039, colsample_bytree=1.0 will be ignored. Current value: feature_fraction=0.4071817343306039\n",
      "[LightGBM] [Warning] lambda_l2 is set=0.518074150987583, reg_lambda=0.0 will be ignored. Current value: lambda_l2=0.518074150987583\n",
      "[LightGBM] [Warning] boosting is set=goss, boosting_type=gbdt will be ignored. Current value: boosting=goss\n",
      "[LightGBM] [Warning] lambda_l1 is set=6.434021959796256, reg_alpha=0.0 will be ignored. Current value: lambda_l1=6.434021959796256\n",
      "[LightGBM] [Warning] min_data_in_leaf is set=11, min_child_samples=20 will be ignored. Current value: min_data_in_leaf=11\n",
      "[LightGBM] [Warning] feature_fraction is set=0.4071817343306039, colsample_bytree=1.0 will be ignored. Current value: feature_fraction=0.4071817343306039\n",
      "[LightGBM] [Warning] lambda_l2 is set=0.518074150987583, reg_lambda=0.0 will be ignored. Current value: lambda_l2=0.518074150987583\n",
      "[LightGBM] [Warning] boosting is set=goss, boosting_type=gbdt will be ignored. Current value: boosting=goss\n",
      "[LightGBM] [Warning] lambda_l1 is set=6.434021959796256, reg_alpha=0.0 will be ignored. Current value: lambda_l1=6.434021959796256\n",
      "[LightGBM] [Warning] min_data_in_leaf is set=11, min_child_samples=20 will be ignored. Current value: min_data_in_leaf=11\n",
      "[LightGBM] [Warning] feature_fraction is set=0.4071817343306039, colsample_bytree=1.0 will be ignored. Current value: feature_fraction=0.4071817343306039\n",
      "[LightGBM] [Warning] lambda_l2 is set=0.518074150987583, reg_lambda=0.0 will be ignored. Current value: lambda_l2=0.518074150987583\n",
      "[LightGBM] [Warning] boosting is set=goss, boosting_type=gbdt will be ignored. Current value: boosting=goss\n",
      "[LightGBM] [Warning] lambda_l1 is set=6.148757585781147, reg_alpha=0.0 will be ignored. Current value: lambda_l1=6.148757585781147\n",
      "[LightGBM] [Warning] min_data_in_leaf is set=15, min_child_samples=20 will be ignored. Current value: min_data_in_leaf=15\n",
      "[LightGBM] [Warning] feature_fraction is set=0.8809441778420166, colsample_bytree=1.0 will be ignored. Current value: feature_fraction=0.8809441778420166\n",
      "[LightGBM] [Warning] lambda_l2 is set=5.935449811618609, reg_lambda=0.0 will be ignored. Current value: lambda_l2=5.935449811618609\n",
      "[LightGBM] [Warning] boosting is set=gbdt, boosting_type=gbdt will be ignored. Current value: boosting=gbdt\n",
      "[LightGBM] [Warning] lambda_l1 is set=6.148757585781147, reg_alpha=0.0 will be ignored. Current value: lambda_l1=6.148757585781147\n",
      "[LightGBM] [Warning] min_data_in_leaf is set=15, min_child_samples=20 will be ignored. Current value: min_data_in_leaf=15\n",
      "[LightGBM] [Warning] feature_fraction is set=0.8809441778420166, colsample_bytree=1.0 will be ignored. Current value: feature_fraction=0.8809441778420166\n",
      "[LightGBM] [Warning] lambda_l2 is set=5.935449811618609, reg_lambda=0.0 will be ignored. Current value: lambda_l2=5.935449811618609\n",
      "[LightGBM] [Warning] boosting is set=gbdt, boosting_type=gbdt will be ignored. Current value: boosting=gbdt\n",
      "[LightGBM] [Warning] lambda_l1 is set=6.148757585781147, reg_alpha=0.0 will be ignored. Current value: lambda_l1=6.148757585781147\n",
      "[LightGBM] [Warning] min_data_in_leaf is set=15, min_child_samples=20 will be ignored. Current value: min_data_in_leaf=15\n",
      "[LightGBM] [Warning] feature_fraction is set=0.8809441778420166, colsample_bytree=1.0 will be ignored. Current value: feature_fraction=0.8809441778420166\n",
      "[LightGBM] [Warning] lambda_l2 is set=5.935449811618609, reg_lambda=0.0 will be ignored. Current value: lambda_l2=5.935449811618609\n",
      "[LightGBM] [Warning] boosting is set=gbdt, boosting_type=gbdt will be ignored. Current value: boosting=gbdt\n",
      "[LightGBM] [Warning] lambda_l1 is set=6.148757585781147, reg_alpha=0.0 will be ignored. Current value: lambda_l1=6.148757585781147\n",
      "[LightGBM] [Warning] min_data_in_leaf is set=15, min_child_samples=20 will be ignored. Current value: min_data_in_leaf=15\n",
      "[LightGBM] [Warning] feature_fraction is set=0.8809441778420166, colsample_bytree=1.0 will be ignored. Current value: feature_fraction=0.8809441778420166\n",
      "[LightGBM] [Warning] lambda_l2 is set=5.935449811618609, reg_lambda=0.0 will be ignored. Current value: lambda_l2=5.935449811618609\n",
      "[LightGBM] [Warning] boosting is set=gbdt, boosting_type=gbdt will be ignored. Current value: boosting=gbdt\n",
      "[LightGBM] [Warning] lambda_l1 is set=6.148757585781147, reg_alpha=0.0 will be ignored. Current value: lambda_l1=6.148757585781147\n",
      "[LightGBM] [Warning] min_data_in_leaf is set=15, min_child_samples=20 will be ignored. Current value: min_data_in_leaf=15\n",
      "[LightGBM] [Warning] feature_fraction is set=0.8809441778420166, colsample_bytree=1.0 will be ignored. Current value: feature_fraction=0.8809441778420166\n",
      "[LightGBM] [Warning] lambda_l2 is set=5.935449811618609, reg_lambda=0.0 will be ignored. Current value: lambda_l2=5.935449811618609\n",
      "[LightGBM] [Warning] boosting is set=gbdt, boosting_type=gbdt will be ignored. Current value: boosting=gbdt\n",
      "[LightGBM] [Warning] lambda_l1 is set=6.148757585781147, reg_alpha=0.0 will be ignored. Current value: lambda_l1=6.148757585781147\n",
      "[LightGBM] [Warning] min_data_in_leaf is set=15, min_child_samples=20 will be ignored. Current value: min_data_in_leaf=15\n",
      "[LightGBM] [Warning] feature_fraction is set=0.8809441778420166, colsample_bytree=1.0 will be ignored. Current value: feature_fraction=0.8809441778420166\n",
      "[LightGBM] [Warning] lambda_l2 is set=5.935449811618609, reg_lambda=0.0 will be ignored. Current value: lambda_l2=5.935449811618609\n",
      "[LightGBM] [Warning] boosting is set=gbdt, boosting_type=gbdt will be ignored. Current value: boosting=gbdt\n",
      "[LightGBM] [Warning] lambda_l1 is set=0.17329120268416598, reg_alpha=0.0 will be ignored. Current value: lambda_l1=0.17329120268416598\n",
      "[LightGBM] [Warning] min_data_in_leaf is set=1, min_child_samples=20 will be ignored. Current value: min_data_in_leaf=1\n",
      "[LightGBM] [Warning] feature_fraction is set=0.4213459535620334, colsample_bytree=1.0 will be ignored. Current value: feature_fraction=0.4213459535620334\n",
      "[LightGBM] [Warning] lambda_l2 is set=7.1442586220959985, reg_lambda=0.0 will be ignored. Current value: lambda_l2=7.1442586220959985\n",
      "[LightGBM] [Warning] boosting is set=gbdt, boosting_type=gbdt will be ignored. Current value: boosting=gbdt\n",
      "[LightGBM] [Warning] lambda_l1 is set=0.17329120268416598, reg_alpha=0.0 will be ignored. Current value: lambda_l1=0.17329120268416598\n",
      "[LightGBM] [Warning] min_data_in_leaf is set=1, min_child_samples=20 will be ignored. Current value: min_data_in_leaf=1\n",
      "[LightGBM] [Warning] feature_fraction is set=0.4213459535620334, colsample_bytree=1.0 will be ignored. Current value: feature_fraction=0.4213459535620334\n",
      "[LightGBM] [Warning] lambda_l2 is set=7.1442586220959985, reg_lambda=0.0 will be ignored. Current value: lambda_l2=7.1442586220959985\n",
      "[LightGBM] [Warning] boosting is set=gbdt, boosting_type=gbdt will be ignored. Current value: boosting=gbdt\n",
      "[LightGBM] [Warning] lambda_l1 is set=0.17329120268416598, reg_alpha=0.0 will be ignored. Current value: lambda_l1=0.17329120268416598\n",
      "[LightGBM] [Warning] min_data_in_leaf is set=1, min_child_samples=20 will be ignored. Current value: min_data_in_leaf=1\n",
      "[LightGBM] [Warning] feature_fraction is set=0.4213459535620334, colsample_bytree=1.0 will be ignored. Current value: feature_fraction=0.4213459535620334\n",
      "[LightGBM] [Warning] lambda_l2 is set=7.1442586220959985, reg_lambda=0.0 will be ignored. Current value: lambda_l2=7.1442586220959985\n",
      "[LightGBM] [Warning] boosting is set=gbdt, boosting_type=gbdt will be ignored. Current value: boosting=gbdt\n",
      "[LightGBM] [Warning] lambda_l1 is set=0.17329120268416598, reg_alpha=0.0 will be ignored. Current value: lambda_l1=0.17329120268416598\n",
      "[LightGBM] [Warning] min_data_in_leaf is set=1, min_child_samples=20 will be ignored. Current value: min_data_in_leaf=1\n",
      "[LightGBM] [Warning] feature_fraction is set=0.4213459535620334, colsample_bytree=1.0 will be ignored. Current value: feature_fraction=0.4213459535620334\n",
      "[LightGBM] [Warning] lambda_l2 is set=7.1442586220959985, reg_lambda=0.0 will be ignored. Current value: lambda_l2=7.1442586220959985\n",
      "[LightGBM] [Warning] boosting is set=gbdt, boosting_type=gbdt will be ignored. Current value: boosting=gbdt\n"
     ]
    },
    {
     "name": "stdout",
     "output_type": "stream",
     "text": [
      "[LightGBM] [Warning] lambda_l1 is set=0.17329120268416598, reg_alpha=0.0 will be ignored. Current value: lambda_l1=0.17329120268416598\n",
      "[LightGBM] [Warning] min_data_in_leaf is set=1, min_child_samples=20 will be ignored. Current value: min_data_in_leaf=1\n",
      "[LightGBM] [Warning] feature_fraction is set=0.4213459535620334, colsample_bytree=1.0 will be ignored. Current value: feature_fraction=0.4213459535620334\n",
      "[LightGBM] [Warning] lambda_l2 is set=7.1442586220959985, reg_lambda=0.0 will be ignored. Current value: lambda_l2=7.1442586220959985\n",
      "[LightGBM] [Warning] boosting is set=gbdt, boosting_type=gbdt will be ignored. Current value: boosting=gbdt\n",
      "[LightGBM] [Warning] lambda_l1 is set=0.17329120268416598, reg_alpha=0.0 will be ignored. Current value: lambda_l1=0.17329120268416598\n",
      "[LightGBM] [Warning] min_data_in_leaf is set=1, min_child_samples=20 will be ignored. Current value: min_data_in_leaf=1\n",
      "[LightGBM] [Warning] feature_fraction is set=0.4213459535620334, colsample_bytree=1.0 will be ignored. Current value: feature_fraction=0.4213459535620334\n",
      "[LightGBM] [Warning] lambda_l2 is set=7.1442586220959985, reg_lambda=0.0 will be ignored. Current value: lambda_l2=7.1442586220959985\n",
      "[LightGBM] [Warning] boosting is set=gbdt, boosting_type=gbdt will be ignored. Current value: boosting=gbdt\n",
      "  2%|▏         | 20/1000 [08:30<6:49:07, 25.05s/trial, best loss: -0.91599]           "
     ]
    },
    {
     "name": "stderr",
     "output_type": "stream",
     "text": [
      "INFO:hyperopt.tpe:build_posterior_wrapper took 0.006536 seconds\n",
      "INFO:hyperopt.tpe:TPE using 20/20 trials with best loss -0.915990\n",
      "INFO:hyperopt.tpe:build_posterior_wrapper took 0.007754 seconds\n",
      "INFO:hyperopt.tpe:TPE using 21/21 trials with best loss -0.915990\n",
      "INFO:hyperopt.tpe:build_posterior_wrapper took 0.006811 seconds\n",
      "INFO:hyperopt.tpe:TPE using 22/22 trials with best loss -0.915990\n",
      "INFO:hyperopt.tpe:build_posterior_wrapper took 0.008111 seconds\n",
      "INFO:hyperopt.tpe:TPE using 23/23 trials with best loss -0.915990\n",
      "INFO:hyperopt.tpe:build_posterior_wrapper took 0.006622 seconds\n",
      "INFO:hyperopt.tpe:TPE using 24/24 trials with best loss -0.915990\n",
      "INFO:hyperopt.tpe:build_posterior_wrapper took 0.006039 seconds\n",
      "INFO:hyperopt.tpe:TPE using 25/25 trials with best loss -0.915990\n",
      "INFO:hyperopt.tpe:build_posterior_wrapper took 0.004941 seconds\n",
      "INFO:hyperopt.tpe:TPE using 26/26 trials with best loss -0.915990\n",
      "INFO:hyperopt.tpe:build_posterior_wrapper took 0.008167 seconds\n",
      "INFO:hyperopt.tpe:TPE using 27/27 trials with best loss -0.915990\n",
      "INFO:hyperopt.tpe:build_posterior_wrapper took 0.005652 seconds\n",
      "INFO:hyperopt.tpe:TPE using 28/28 trials with best loss -0.915990\n",
      "INFO:hyperopt.tpe:build_posterior_wrapper took 0.004579 seconds\n",
      "INFO:hyperopt.tpe:TPE using 29/29 trials with best loss -0.915990\n"
     ]
    },
    {
     "name": "stdout",
     "output_type": "stream",
     "text": [
      "[LightGBM] [Warning] lambda_l1 is set=0.2482172700090861, reg_alpha=0.0 will be ignored. Current value: lambda_l1=0.2482172700090861\n",
      "[LightGBM] [Warning] min_data_in_leaf is set=19, min_child_samples=20 will be ignored. Current value: min_data_in_leaf=19\n",
      "[LightGBM] [Warning] feature_fraction is set=0.4816644059870498, colsample_bytree=1.0 will be ignored. Current value: feature_fraction=0.4816644059870498\n",
      "[LightGBM] [Warning] lambda_l2 is set=3.188204259850385, reg_lambda=0.0 will be ignored. Current value: lambda_l2=3.188204259850385\n",
      "[LightGBM] [Warning] boosting is set=dart, boosting_type=gbdt will be ignored. Current value: boosting=dart\n",
      "[LightGBM] [Warning] lambda_l1 is set=0.2482172700090861, reg_alpha=0.0 will be ignored. Current value: lambda_l1=0.2482172700090861\n",
      "[LightGBM] [Warning] min_data_in_leaf is set=19, min_child_samples=20 will be ignored. Current value: min_data_in_leaf=19\n",
      "[LightGBM] [Warning] feature_fraction is set=0.4816644059870498, colsample_bytree=1.0 will be ignored. Current value: feature_fraction=0.4816644059870498\n",
      "[LightGBM] [Warning] lambda_l2 is set=3.188204259850385, reg_lambda=0.0 will be ignored. Current value: lambda_l2=3.188204259850385\n",
      "[LightGBM] [Warning] boosting is set=dart, boosting_type=gbdt will be ignored. Current value: boosting=dart\n",
      "[LightGBM] [Warning] lambda_l1 is set=0.2482172700090861, reg_alpha=0.0 will be ignored. Current value: lambda_l1=0.2482172700090861\n",
      "[LightGBM] [Warning] min_data_in_leaf is set=19, min_child_samples=20 will be ignored. Current value: min_data_in_leaf=19\n",
      "[LightGBM] [Warning] feature_fraction is set=0.4816644059870498, colsample_bytree=1.0 will be ignored. Current value: feature_fraction=0.4816644059870498\n",
      "[LightGBM] [Warning] lambda_l2 is set=3.188204259850385, reg_lambda=0.0 will be ignored. Current value: lambda_l2=3.188204259850385\n",
      "[LightGBM] [Warning] boosting is set=dart, boosting_type=gbdt will be ignored. Current value: boosting=dart\n",
      "[LightGBM] [Warning] lambda_l1 is set=0.2482172700090861, reg_alpha=0.0 will be ignored. Current value: lambda_l1=0.2482172700090861\n",
      "[LightGBM] [Warning] min_data_in_leaf is set=19, min_child_samples=20 will be ignored. Current value: min_data_in_leaf=19\n",
      "[LightGBM] [Warning] feature_fraction is set=0.4816644059870498, colsample_bytree=1.0 will be ignored. Current value: feature_fraction=0.4816644059870498\n",
      "[LightGBM] [Warning] lambda_l2 is set=3.188204259850385, reg_lambda=0.0 will be ignored. Current value: lambda_l2=3.188204259850385\n",
      "[LightGBM] [Warning] boosting is set=dart, boosting_type=gbdt will be ignored. Current value: boosting=dart\n",
      "[LightGBM] [Warning] lambda_l1 is set=0.2482172700090861, reg_alpha=0.0 will be ignored. Current value: lambda_l1=0.2482172700090861\n",
      "[LightGBM] [Warning] min_data_in_leaf is set=19, min_child_samples=20 will be ignored. Current value: min_data_in_leaf=19\n",
      "[LightGBM] [Warning] feature_fraction is set=0.4816644059870498, colsample_bytree=1.0 will be ignored. Current value: feature_fraction=0.4816644059870498\n",
      "[LightGBM] [Warning] lambda_l2 is set=3.188204259850385, reg_lambda=0.0 will be ignored. Current value: lambda_l2=3.188204259850385\n",
      "[LightGBM] [Warning] boosting is set=dart, boosting_type=gbdt will be ignored. Current value: boosting=dart\n",
      "[LightGBM] [Warning] lambda_l1 is set=0.2482172700090861, reg_alpha=0.0 will be ignored. Current value: lambda_l1=0.2482172700090861\n",
      "[LightGBM] [Warning] min_data_in_leaf is set=19, min_child_samples=20 will be ignored. Current value: min_data_in_leaf=19\n",
      "[LightGBM] [Warning] feature_fraction is set=0.4816644059870498, colsample_bytree=1.0 will be ignored. Current value: feature_fraction=0.4816644059870498\n",
      "[LightGBM] [Warning] lambda_l2 is set=3.188204259850385, reg_lambda=0.0 will be ignored. Current value: lambda_l2=3.188204259850385\n",
      "[LightGBM] [Warning] boosting is set=dart, boosting_type=gbdt will be ignored. Current value: boosting=dart\n",
      "[LightGBM] [Warning] lambda_l1 is set=0.11548713232575297, reg_alpha=0.0 will be ignored. Current value: lambda_l1=0.11548713232575297\n",
      "[LightGBM] [Warning] min_data_in_leaf is set=13, min_child_samples=20 will be ignored. Current value: min_data_in_leaf=13\n",
      "[LightGBM] [Warning] feature_fraction is set=0.4339104553876089, colsample_bytree=1.0 will be ignored. Current value: feature_fraction=0.4339104553876089\n",
      "[LightGBM] [Warning] lambda_l2 is set=3.182011036231115, reg_lambda=0.0 will be ignored. Current value: lambda_l2=3.182011036231115\n",
      "[LightGBM] [Warning] boosting is set=dart, boosting_type=gbdt will be ignored. Current value: boosting=dart\n",
      "[LightGBM] [Warning] lambda_l1 is set=0.11548713232575297, reg_alpha=0.0 will be ignored. Current value: lambda_l1=0.11548713232575297\n",
      "[LightGBM] [Warning] min_data_in_leaf is set=13, min_child_samples=20 will be ignored. Current value: min_data_in_leaf=13\n",
      "[LightGBM] [Warning] feature_fraction is set=0.4339104553876089, colsample_bytree=1.0 will be ignored. Current value: feature_fraction=0.4339104553876089\n",
      "[LightGBM] [Warning] lambda_l2 is set=3.182011036231115, reg_lambda=0.0 will be ignored. Current value: lambda_l2=3.182011036231115\n",
      "[LightGBM] [Warning] boosting is set=dart, boosting_type=gbdt will be ignored. Current value: boosting=dart\n",
      "[LightGBM] [Warning] lambda_l1 is set=0.11548713232575297, reg_alpha=0.0 will be ignored. Current value: lambda_l1=0.11548713232575297\n",
      "[LightGBM] [Warning] min_data_in_leaf is set=13, min_child_samples=20 will be ignored. Current value: min_data_in_leaf=13\n",
      "[LightGBM] [Warning] feature_fraction is set=0.4339104553876089, colsample_bytree=1.0 will be ignored. Current value: feature_fraction=0.4339104553876089\n",
      "[LightGBM] [Warning] lambda_l2 is set=3.182011036231115, reg_lambda=0.0 will be ignored. Current value: lambda_l2=3.182011036231115\n",
      "[LightGBM] [Warning] boosting is set=dart, boosting_type=gbdt will be ignored. Current value: boosting=dart\n",
      "[LightGBM] [Warning] lambda_l1 is set=0.11548713232575297, reg_alpha=0.0 will be ignored. Current value: lambda_l1=0.11548713232575297\n",
      "[LightGBM] [Warning] min_data_in_leaf is set=13, min_child_samples=20 will be ignored. Current value: min_data_in_leaf=13\n",
      "[LightGBM] [Warning] feature_fraction is set=0.4339104553876089, colsample_bytree=1.0 will be ignored. Current value: feature_fraction=0.4339104553876089\n",
      "[LightGBM] [Warning] lambda_l2 is set=3.182011036231115, reg_lambda=0.0 will be ignored. Current value: lambda_l2=3.182011036231115\n",
      "[LightGBM] [Warning] boosting is set=dart, boosting_type=gbdt will be ignored. Current value: boosting=dart\n",
      "[LightGBM] [Warning] lambda_l1 is set=0.11548713232575297, reg_alpha=0.0 will be ignored. Current value: lambda_l1=0.11548713232575297\n",
      "[LightGBM] [Warning] min_data_in_leaf is set=13, min_child_samples=20 will be ignored. Current value: min_data_in_leaf=13\n",
      "[LightGBM] [Warning] feature_fraction is set=0.4339104553876089, colsample_bytree=1.0 will be ignored. Current value: feature_fraction=0.4339104553876089\n",
      "[LightGBM] [Warning] lambda_l2 is set=3.182011036231115, reg_lambda=0.0 will be ignored. Current value: lambda_l2=3.182011036231115\n",
      "[LightGBM] [Warning] boosting is set=dart, boosting_type=gbdt will be ignored. Current value: boosting=dart\n",
      "[LightGBM] [Warning] lambda_l1 is set=0.11548713232575297, reg_alpha=0.0 will be ignored. Current value: lambda_l1=0.11548713232575297\n",
      "[LightGBM] [Warning] min_data_in_leaf is set=13, min_child_samples=20 will be ignored. Current value: min_data_in_leaf=13\n",
      "[LightGBM] [Warning] feature_fraction is set=0.4339104553876089, colsample_bytree=1.0 will be ignored. Current value: feature_fraction=0.4339104553876089\n",
      "[LightGBM] [Warning] lambda_l2 is set=3.182011036231115, reg_lambda=0.0 will be ignored. Current value: lambda_l2=3.182011036231115\n",
      "[LightGBM] [Warning] boosting is set=dart, boosting_type=gbdt will be ignored. Current value: boosting=dart\n",
      "[LightGBM] [Warning] lambda_l1 is set=2.7584383765463127, reg_alpha=0.0 will be ignored. Current value: lambda_l1=2.7584383765463127\n",
      "[LightGBM] [Warning] min_data_in_leaf is set=2, min_child_samples=20 will be ignored. Current value: min_data_in_leaf=2\n",
      "[LightGBM] [Warning] feature_fraction is set=0.8499202264307988, colsample_bytree=1.0 will be ignored. Current value: feature_fraction=0.8499202264307988\n"
     ]
    },
    {
     "name": "stdout",
     "output_type": "stream",
     "text": [
      "[LightGBM] [Warning] lambda_l2 is set=9.66737707791545, reg_lambda=0.0 will be ignored. Current value: lambda_l2=9.66737707791545\n",
      "[LightGBM] [Warning] boosting is set=dart, boosting_type=gbdt will be ignored. Current value: boosting=dart\n",
      "[LightGBM] [Warning] lambda_l1 is set=2.7584383765463127, reg_alpha=0.0 will be ignored. Current value: lambda_l1=2.7584383765463127\n",
      "[LightGBM] [Warning] min_data_in_leaf is set=2, min_child_samples=20 will be ignored. Current value: min_data_in_leaf=2\n",
      "[LightGBM] [Warning] feature_fraction is set=0.8499202264307988, colsample_bytree=1.0 will be ignored. Current value: feature_fraction=0.8499202264307988\n",
      "[LightGBM] [Warning] lambda_l2 is set=9.66737707791545, reg_lambda=0.0 will be ignored. Current value: lambda_l2=9.66737707791545\n",
      "[LightGBM] [Warning] boosting is set=dart, boosting_type=gbdt will be ignored. Current value: boosting=dart\n",
      "[LightGBM] [Warning] lambda_l1 is set=2.7584383765463127, reg_alpha=0.0 will be ignored. Current value: lambda_l1=2.7584383765463127\n",
      "[LightGBM] [Warning] min_data_in_leaf is set=2, min_child_samples=20 will be ignored. Current value: min_data_in_leaf=2\n",
      "[LightGBM] [Warning] feature_fraction is set=0.8499202264307988, colsample_bytree=1.0 will be ignored. Current value: feature_fraction=0.8499202264307988\n",
      "[LightGBM] [Warning] lambda_l2 is set=9.66737707791545, reg_lambda=0.0 will be ignored. Current value: lambda_l2=9.66737707791545\n",
      "[LightGBM] [Warning] boosting is set=dart, boosting_type=gbdt will be ignored. Current value: boosting=dart\n",
      "[LightGBM] [Warning] lambda_l1 is set=2.7584383765463127, reg_alpha=0.0 will be ignored. Current value: lambda_l1=2.7584383765463127\n",
      "[LightGBM] [Warning] min_data_in_leaf is set=2, min_child_samples=20 will be ignored. Current value: min_data_in_leaf=2\n",
      "[LightGBM] [Warning] feature_fraction is set=0.8499202264307988, colsample_bytree=1.0 will be ignored. Current value: feature_fraction=0.8499202264307988\n",
      "[LightGBM] [Warning] lambda_l2 is set=9.66737707791545, reg_lambda=0.0 will be ignored. Current value: lambda_l2=9.66737707791545\n",
      "[LightGBM] [Warning] boosting is set=dart, boosting_type=gbdt will be ignored. Current value: boosting=dart\n",
      "[LightGBM] [Warning] lambda_l1 is set=2.7584383765463127, reg_alpha=0.0 will be ignored. Current value: lambda_l1=2.7584383765463127\n",
      "[LightGBM] [Warning] min_data_in_leaf is set=2, min_child_samples=20 will be ignored. Current value: min_data_in_leaf=2\n",
      "[LightGBM] [Warning] feature_fraction is set=0.8499202264307988, colsample_bytree=1.0 will be ignored. Current value: feature_fraction=0.8499202264307988\n",
      "[LightGBM] [Warning] lambda_l2 is set=9.66737707791545, reg_lambda=0.0 will be ignored. Current value: lambda_l2=9.66737707791545\n",
      "[LightGBM] [Warning] boosting is set=dart, boosting_type=gbdt will be ignored. Current value: boosting=dart\n",
      "[LightGBM] [Warning] lambda_l1 is set=2.7584383765463127, reg_alpha=0.0 will be ignored. Current value: lambda_l1=2.7584383765463127\n",
      "[LightGBM] [Warning] min_data_in_leaf is set=2, min_child_samples=20 will be ignored. Current value: min_data_in_leaf=2\n",
      "[LightGBM] [Warning] feature_fraction is set=0.8499202264307988, colsample_bytree=1.0 will be ignored. Current value: feature_fraction=0.8499202264307988\n",
      "[LightGBM] [Warning] lambda_l2 is set=9.66737707791545, reg_lambda=0.0 will be ignored. Current value: lambda_l2=9.66737707791545\n",
      "[LightGBM] [Warning] boosting is set=dart, boosting_type=gbdt will be ignored. Current value: boosting=dart\n",
      "[LightGBM] [Warning] lambda_l1 is set=1.8248393702753698, reg_alpha=0.0 will be ignored. Current value: lambda_l1=1.8248393702753698\n",
      "[LightGBM] [Warning] min_data_in_leaf is set=9, min_child_samples=20 will be ignored. Current value: min_data_in_leaf=9\n",
      "[LightGBM] [Warning] feature_fraction is set=0.5318939592349199, colsample_bytree=1.0 will be ignored. Current value: feature_fraction=0.5318939592349199\n",
      "[LightGBM] [Warning] lambda_l2 is set=6.762774804897713, reg_lambda=0.0 will be ignored. Current value: lambda_l2=6.762774804897713\n",
      "[LightGBM] [Warning] boosting is set=dart, boosting_type=gbdt will be ignored. Current value: boosting=dart\n",
      "[LightGBM] [Warning] lambda_l1 is set=1.8248393702753698, reg_alpha=0.0 will be ignored. Current value: lambda_l1=1.8248393702753698\n",
      "[LightGBM] [Warning] min_data_in_leaf is set=9, min_child_samples=20 will be ignored. Current value: min_data_in_leaf=9\n",
      "[LightGBM] [Warning] feature_fraction is set=0.5318939592349199, colsample_bytree=1.0 will be ignored. Current value: feature_fraction=0.5318939592349199\n",
      "[LightGBM] [Warning] lambda_l2 is set=6.762774804897713, reg_lambda=0.0 will be ignored. Current value: lambda_l2=6.762774804897713\n",
      "[LightGBM] [Warning] boosting is set=dart, boosting_type=gbdt will be ignored. Current value: boosting=dart\n",
      "[LightGBM] [Warning] lambda_l1 is set=1.8248393702753698, reg_alpha=0.0 will be ignored. Current value: lambda_l1=1.8248393702753698\n",
      "[LightGBM] [Warning] min_data_in_leaf is set=9, min_child_samples=20 will be ignored. Current value: min_data_in_leaf=9\n",
      "[LightGBM] [Warning] feature_fraction is set=0.5318939592349199, colsample_bytree=1.0 will be ignored. Current value: feature_fraction=0.5318939592349199\n",
      "[LightGBM] [Warning] lambda_l2 is set=6.762774804897713, reg_lambda=0.0 will be ignored. Current value: lambda_l2=6.762774804897713\n",
      "[LightGBM] [Warning] boosting is set=dart, boosting_type=gbdt will be ignored. Current value: boosting=dart\n",
      "[LightGBM] [Warning] lambda_l1 is set=1.8248393702753698, reg_alpha=0.0 will be ignored. Current value: lambda_l1=1.8248393702753698\n",
      "[LightGBM] [Warning] min_data_in_leaf is set=9, min_child_samples=20 will be ignored. Current value: min_data_in_leaf=9\n",
      "[LightGBM] [Warning] feature_fraction is set=0.5318939592349199, colsample_bytree=1.0 will be ignored. Current value: feature_fraction=0.5318939592349199\n",
      "[LightGBM] [Warning] lambda_l2 is set=6.762774804897713, reg_lambda=0.0 will be ignored. Current value: lambda_l2=6.762774804897713\n",
      "[LightGBM] [Warning] boosting is set=dart, boosting_type=gbdt will be ignored. Current value: boosting=dart\n",
      "[LightGBM] [Warning] lambda_l1 is set=1.8248393702753698, reg_alpha=0.0 will be ignored. Current value: lambda_l1=1.8248393702753698\n",
      "[LightGBM] [Warning] min_data_in_leaf is set=9, min_child_samples=20 will be ignored. Current value: min_data_in_leaf=9\n",
      "[LightGBM] [Warning] feature_fraction is set=0.5318939592349199, colsample_bytree=1.0 will be ignored. Current value: feature_fraction=0.5318939592349199\n",
      "[LightGBM] [Warning] lambda_l2 is set=6.762774804897713, reg_lambda=0.0 will be ignored. Current value: lambda_l2=6.762774804897713\n",
      "[LightGBM] [Warning] boosting is set=dart, boosting_type=gbdt will be ignored. Current value: boosting=dart\n",
      "  2%|▏         | 20/1000 [10:50<6:49:07, 25.05s/trial, best loss: -0.91599]"
     ]
    }
   ],
   "source": [
    "opt = Optimizer()\n",
    "opt.optimize(LGBM, X, y, param_space = hyper_space, n_rounds = 500)\n",
    "\n",
    "opt_results_gbm = opt.results"
   ]
  },
  {
   "cell_type": "markdown",
   "id": "03f2634c",
   "metadata": {
    "ExecuteTime": {
     "end_time": "2021-05-28T17:17:49.351335Z",
     "start_time": "2021-05-28T17:17:49.303381Z"
    }
   },
   "source": [
    "## ridge"
   ]
  },
  {
   "cell_type": "code",
   "execution_count": 92,
   "id": "9e1d6ef7",
   "metadata": {
    "ExecuteTime": {
     "end_time": "2021-05-29T22:29:58.523291Z",
     "start_time": "2021-05-29T22:29:58.224610Z"
    }
   },
   "outputs": [],
   "source": [
    "hyper_space_clf = {\n",
    "    'clf__alpha': hp.uniform('alpha', 0.1, 10.0),\n",
    "    'clf__fit_intercept': hp.choice('fit_intercept', [True, False]),\n",
    "    'clf__normalize': hp.choice('normalize', [True, False]),\n",
    "    'clf__tol': hp.uniform('tol', 0.0001, 0.1),\n",
    "}\n",
    "\n",
    "hyper_space = {**hyper_space_transformers, **hyper_space_clf}"
   ]
  },
  {
   "cell_type": "code",
   "execution_count": 312,
   "id": "802ee605",
   "metadata": {
    "ExecuteTime": {
     "end_time": "2021-05-30T21:33:59.175366Z",
     "start_time": "2021-05-30T21:33:59.124831Z"
    },
    "scrolled": true
   },
   "outputs": [],
   "source": [
    "opt = Optimizer()\n",
    "opt.optimize(Ridge, X, y, param_space = hyper_space, n_rounds = 500)\n",
    "\n",
    "opt_results_ridge = opt.results"
   ]
  },
  {
   "cell_type": "markdown",
   "id": "be7b227b",
   "metadata": {
    "ExecuteTime": {
     "end_time": "2021-05-29T22:42:59.809665Z",
     "start_time": "2021-05-29T22:42:59.751190Z"
    }
   },
   "source": [
    "# wybór optymalnych parametrów"
   ]
  },
  {
   "cell_type": "markdown",
   "id": "8a8c15db",
   "metadata": {},
   "source": [
    "Chcę upewnić się co do stabilności znalezionych parametrów.\n",
    "Dla każdego z nalepszych 10 punktów hiperprzestrzeni przeprowadzę 50x walidację krzyżową, za każdym razem z innym ziarnem dla splitów. Jako ostateczny zestaw parametrów wybiorę ten z najwyższą medianą `f1 makro`.  \n",
    "Przy wyborze można ewentualnie wziąć też pod uwagę wariancję wyników. Im mniejsza wariancja tym lepszy model."
   ]
  },
  {
   "cell_type": "code",
   "execution_count": 316,
   "id": "c6ce0ab9",
   "metadata": {
    "ExecuteTime": {
     "end_time": "2021-05-30T22:02:35.039444Z",
     "start_time": "2021-05-30T22:02:34.995151Z"
    },
    "scrolled": true
   },
   "outputs": [],
   "source": [
    "best_params_svm = best_hyperopt_params(SVM, X, y, opt_results_svm)\n",
    "best_params_rf = best_hyperopt_params(RF, X, y, opt_results_rf)\n",
    "best_params_gbm = best_hyperopt_params(LGBM, X, y, opt_results_gbm)\n",
    "best_params_ridge = best_hyperopt_params(Ridge, X, y, opt_results_ridge)"
   ]
  },
  {
   "cell_type": "code",
   "execution_count": 272,
   "id": "3bce00a4",
   "metadata": {
    "ExecuteTime": {
     "end_time": "2021-05-30T20:33:29.545716Z",
     "start_time": "2021-05-30T20:30:09.523006Z"
    },
    "scrolled": true
   },
   "outputs": [
    {
     "name": "stdout",
     "output_type": "stream",
     "text": [
      "[LightGBM] [Warning] lambda_l1 is set=6.452187474071411, reg_alpha=0.0 will be ignored. Current value: lambda_l1=6.452187474071411\n",
      "[LightGBM] [Warning] min_data_in_leaf is set=10, min_child_samples=20 will be ignored. Current value: min_data_in_leaf=10\n",
      "[LightGBM] [Warning] feature_fraction is set=0.38382875426001184, colsample_bytree=1.0 will be ignored. Current value: feature_fraction=0.38382875426001184\n",
      "[LightGBM] [Warning] lambda_l2 is set=9.670834661974457, reg_lambda=0.0 will be ignored. Current value: lambda_l2=9.670834661974457\n",
      "[LightGBM] [Warning] boosting is set=dart, boosting_type=gbdt will be ignored. Current value: boosting=dart\n",
      "[LightGBM] [Warning] lambda_l1 is set=6.452187474071411, reg_alpha=0.0 will be ignored. Current value: lambda_l1=6.452187474071411\n",
      "[LightGBM] [Warning] min_data_in_leaf is set=10, min_child_samples=20 will be ignored. Current value: min_data_in_leaf=10\n",
      "[LightGBM] [Warning] feature_fraction is set=0.38382875426001184, colsample_bytree=1.0 will be ignored. Current value: feature_fraction=0.38382875426001184\n",
      "[LightGBM] [Warning] lambda_l2 is set=9.670834661974457, reg_lambda=0.0 will be ignored. Current value: lambda_l2=9.670834661974457\n",
      "[LightGBM] [Warning] boosting is set=dart, boosting_type=gbdt will be ignored. Current value: boosting=dart\n",
      "[LightGBM] [Warning] lambda_l1 is set=6.452187474071411, reg_alpha=0.0 will be ignored. Current value: lambda_l1=6.452187474071411\n",
      "[LightGBM] [Warning] min_data_in_leaf is set=10, min_child_samples=20 will be ignored. Current value: min_data_in_leaf=10\n",
      "[LightGBM] [Warning] feature_fraction is set=0.38382875426001184, colsample_bytree=1.0 will be ignored. Current value: feature_fraction=0.38382875426001184\n",
      "[LightGBM] [Warning] lambda_l2 is set=9.670834661974457, reg_lambda=0.0 will be ignored. Current value: lambda_l2=9.670834661974457\n",
      "[LightGBM] [Warning] boosting is set=dart, boosting_type=gbdt will be ignored. Current value: boosting=dart\n",
      "[LightGBM] [Warning] lambda_l1 is set=6.452187474071411, reg_alpha=0.0 will be ignored. Current value: lambda_l1=6.452187474071411\n",
      "[LightGBM] [Warning] min_data_in_leaf is set=10, min_child_samples=20 will be ignored. Current value: min_data_in_leaf=10\n",
      "[LightGBM] [Warning] feature_fraction is set=0.38382875426001184, colsample_bytree=1.0 will be ignored. Current value: feature_fraction=0.38382875426001184\n",
      "[LightGBM] [Warning] lambda_l2 is set=9.670834661974457, reg_lambda=0.0 will be ignored. Current value: lambda_l2=9.670834661974457\n",
      "[LightGBM] [Warning] boosting is set=dart, boosting_type=gbdt will be ignored. Current value: boosting=dart\n",
      "[LightGBM] [Warning] lambda_l1 is set=6.452187474071411, reg_alpha=0.0 will be ignored. Current value: lambda_l1=6.452187474071411\n",
      "[LightGBM] [Warning] min_data_in_leaf is set=10, min_child_samples=20 will be ignored. Current value: min_data_in_leaf=10\n",
      "[LightGBM] [Warning] feature_fraction is set=0.38382875426001184, colsample_bytree=1.0 will be ignored. Current value: feature_fraction=0.38382875426001184\n",
      "[LightGBM] [Warning] lambda_l2 is set=9.670834661974457, reg_lambda=0.0 will be ignored. Current value: lambda_l2=9.670834661974457\n",
      "[LightGBM] [Warning] boosting is set=dart, boosting_type=gbdt will be ignored. Current value: boosting=dart\n",
      "[LightGBM] [Warning] lambda_l1 is set=6.452187474071411, reg_alpha=0.0 will be ignored. Current value: lambda_l1=6.452187474071411\n",
      "[LightGBM] [Warning] min_data_in_leaf is set=10, min_child_samples=20 will be ignored. Current value: min_data_in_leaf=10\n",
      "[LightGBM] [Warning] feature_fraction is set=0.38382875426001184, colsample_bytree=1.0 will be ignored. Current value: feature_fraction=0.38382875426001184\n",
      "[LightGBM] [Warning] lambda_l2 is set=9.670834661974457, reg_lambda=0.0 will be ignored. Current value: lambda_l2=9.670834661974457\n",
      "[LightGBM] [Warning] boosting is set=dart, boosting_type=gbdt will be ignored. Current value: boosting=dart\n"
     ]
    }
   ],
   "source": [
    "# train models with opt params\n",
    "svm_results_opt = model_performance(SVM(best_params_svm), X, y, X_test, y_test)\n",
    "rf_results_opt = model_performance(RF(best_params_rf), X, y, X_test, y_test)\n",
    "lgbm_results_opt = model_performance(LGBM(best_params_gbm), X, y, X_test, y_test)\n",
    "ridge_results_opt = model_performance(Ridge(best_params_ridge), X, y, X_test, y_test)\n",
    "\n",
    "\n",
    "opt_results = [svm_results_opt, rf_results_opt, lgbm_results_opt, ridge_results_opt]"
   ]
  },
  {
   "cell_type": "code",
   "execution_count": 318,
   "id": "9d380f90",
   "metadata": {
    "ExecuteTime": {
     "end_time": "2021-05-30T22:02:45.665512Z",
     "start_time": "2021-05-30T22:02:45.619629Z"
    }
   },
   "outputs": [
    {
     "name": "stdout",
     "output_type": "stream",
     "text": [
      "\n",
      "Model: default_svm (SVM)\n",
      "                macro\tmicro\n",
      "score train:\t0.993\t0.9664\n",
      "score oof:\t0.9281\t0.5169\n",
      "score test:\t0.876\t0.4026\n",
      "\n",
      "Model: default_rf (RF)\n",
      "                macro\tmicro\n",
      "score train:\t0.9165\t0.335\n",
      "score oof:\t0.9156\t0.3242\n",
      "score test:\t0.869\t0.3278\n",
      "\n",
      "Model: default_gbm (LGBM)\n",
      "                macro\tmicro\n",
      "score train:\t0.9276\t0.4383\n",
      "score oof:\t0.9185\t0.3729\n",
      "score test:\t0.873\t0.3555\n",
      "\n",
      "Model: default_ridge (Ridge)\n",
      "                macro\tmicro\n",
      "score train:\t0.988\t0.9382\n",
      "score oof:\t0.9282\t0.5061\n",
      "score test:\t0.873\t0.387\n"
     ]
    }
   ],
   "source": [
    "# display results\n",
    "for model_results in opt_results:\n",
    "    model_performance_summary(model_results)"
   ]
  },
  {
   "cell_type": "markdown",
   "id": "95ae6db6",
   "metadata": {},
   "source": [
    "**Obserwacje**\n",
    "* optymalizacja parametrów nie pozwoliła istotnie poprawić prognoz modeli\n",
    "* w niektórych przypadkach, najlepszy znaleziony punkt nie był lepszy od default-owego."
   ]
  },
  {
   "cell_type": "markdown",
   "id": "efd358d3",
   "metadata": {},
   "source": [
    "# modele z optymalnymi parametrami"
   ]
  },
  {
   "cell_type": "code",
   "execution_count": 320,
   "id": "ec7afae7",
   "metadata": {
    "ExecuteTime": {
     "end_time": "2021-05-30T22:08:26.702026Z",
     "start_time": "2021-05-30T22:06:23.300415Z"
    },
    "scrolled": true
   },
   "outputs": [
    {
     "name": "stdout",
     "output_type": "stream",
     "text": [
      "[LightGBM] [Warning] lambda_l1 is set=6.452187474071411, reg_alpha=0.0 will be ignored. Current value: lambda_l1=6.452187474071411\n",
      "[LightGBM] [Warning] min_data_in_leaf is set=10, min_child_samples=20 will be ignored. Current value: min_data_in_leaf=10\n",
      "[LightGBM] [Warning] feature_fraction is set=0.38382875426001184, colsample_bytree=1.0 will be ignored. Current value: feature_fraction=0.38382875426001184\n",
      "[LightGBM] [Warning] lambda_l2 is set=9.670834661974457, reg_lambda=0.0 will be ignored. Current value: lambda_l2=9.670834661974457\n",
      "[LightGBM] [Warning] boosting is set=dart, boosting_type=gbdt will be ignored. Current value: boosting=dart\n",
      "[LightGBM] [Warning] lambda_l1 is set=6.452187474071411, reg_alpha=0.0 will be ignored. Current value: lambda_l1=6.452187474071411\n",
      "[LightGBM] [Warning] min_data_in_leaf is set=10, min_child_samples=20 will be ignored. Current value: min_data_in_leaf=10\n",
      "[LightGBM] [Warning] feature_fraction is set=0.38382875426001184, colsample_bytree=1.0 will be ignored. Current value: feature_fraction=0.38382875426001184\n",
      "[LightGBM] [Warning] lambda_l2 is set=9.670834661974457, reg_lambda=0.0 will be ignored. Current value: lambda_l2=9.670834661974457\n",
      "[LightGBM] [Warning] boosting is set=dart, boosting_type=gbdt will be ignored. Current value: boosting=dart\n",
      "[LightGBM] [Warning] lambda_l1 is set=6.452187474071411, reg_alpha=0.0 will be ignored. Current value: lambda_l1=6.452187474071411\n",
      "[LightGBM] [Warning] min_data_in_leaf is set=10, min_child_samples=20 will be ignored. Current value: min_data_in_leaf=10\n",
      "[LightGBM] [Warning] feature_fraction is set=0.38382875426001184, colsample_bytree=1.0 will be ignored. Current value: feature_fraction=0.38382875426001184\n",
      "[LightGBM] [Warning] lambda_l2 is set=9.670834661974457, reg_lambda=0.0 will be ignored. Current value: lambda_l2=9.670834661974457\n",
      "[LightGBM] [Warning] boosting is set=dart, boosting_type=gbdt will be ignored. Current value: boosting=dart\n",
      "[LightGBM] [Warning] lambda_l1 is set=6.452187474071411, reg_alpha=0.0 will be ignored. Current value: lambda_l1=6.452187474071411\n",
      "[LightGBM] [Warning] min_data_in_leaf is set=10, min_child_samples=20 will be ignored. Current value: min_data_in_leaf=10\n",
      "[LightGBM] [Warning] feature_fraction is set=0.38382875426001184, colsample_bytree=1.0 will be ignored. Current value: feature_fraction=0.38382875426001184\n",
      "[LightGBM] [Warning] lambda_l2 is set=9.670834661974457, reg_lambda=0.0 will be ignored. Current value: lambda_l2=9.670834661974457\n",
      "[LightGBM] [Warning] boosting is set=dart, boosting_type=gbdt will be ignored. Current value: boosting=dart\n",
      "[LightGBM] [Warning] lambda_l1 is set=6.452187474071411, reg_alpha=0.0 will be ignored. Current value: lambda_l1=6.452187474071411\n",
      "[LightGBM] [Warning] min_data_in_leaf is set=10, min_child_samples=20 will be ignored. Current value: min_data_in_leaf=10\n",
      "[LightGBM] [Warning] feature_fraction is set=0.38382875426001184, colsample_bytree=1.0 will be ignored. Current value: feature_fraction=0.38382875426001184\n",
      "[LightGBM] [Warning] lambda_l2 is set=9.670834661974457, reg_lambda=0.0 will be ignored. Current value: lambda_l2=9.670834661974457\n",
      "[LightGBM] [Warning] boosting is set=dart, boosting_type=gbdt will be ignored. Current value: boosting=dart\n",
      "[LightGBM] [Warning] lambda_l1 is set=6.452187474071411, reg_alpha=0.0 will be ignored. Current value: lambda_l1=6.452187474071411\n",
      "[LightGBM] [Warning] min_data_in_leaf is set=10, min_child_samples=20 will be ignored. Current value: min_data_in_leaf=10\n",
      "[LightGBM] [Warning] feature_fraction is set=0.38382875426001184, colsample_bytree=1.0 will be ignored. Current value: feature_fraction=0.38382875426001184\n",
      "[LightGBM] [Warning] lambda_l2 is set=9.670834661974457, reg_lambda=0.0 will be ignored. Current value: lambda_l2=9.670834661974457\n",
      "[LightGBM] [Warning] boosting is set=dart, boosting_type=gbdt will be ignored. Current value: boosting=dart\n"
     ]
    }
   ],
   "source": [
    "# train and save best models\n",
    "final_svm = SVM(model_name='final_svm')\n",
    "final_rf = RF(model_name='final_rf')\n",
    "final_gbm = LGBM(best_params_gbm, model_name='final_gbm')\n",
    "final_ridge = Ridge(best_params_ridge, model_name='final_ridge')\n",
    "\n",
    "svm_results_final = model_performance(final_svm, X, y, X_test, y_test, save_model=True)\n",
    "rf_results_final = model_performance(final_rf, X, y, X_test, y_test, save_model=True)\n",
    "lgbm_results_final = model_performance(final_gbm, X, y, X_test, y_test, save_model=True)\n",
    "ridge_results_final = model_performance(final_ridge, X, y, X_test, y_test, save_model=True)"
   ]
  },
  {
   "cell_type": "markdown",
   "id": "3f29e949",
   "metadata": {
    "ExecuteTime": {
     "end_time": "2021-05-30T00:28:29.191370Z",
     "start_time": "2021-05-30T00:28:29.151205Z"
    }
   },
   "source": [
    "# analiza błędnych klasyfikacji"
   ]
  },
  {
   "cell_type": "markdown",
   "id": "516aa854",
   "metadata": {},
   "source": [
    "Przeprowadzę teraz analizę błędnych klasyfikacji. Interesuje mnie czy klasyfikatory mylą się na tych samych czy różnych tweet-ach.  \n",
    "W pierwszym przypadku jako ostateczny klasyfikator wybiorę ten z najlepszym scorem.  \n",
    "W drugim zastosuję blend."
   ]
  },
  {
   "cell_type": "code",
   "execution_count": 321,
   "id": "9d660acc",
   "metadata": {
    "ExecuteTime": {
     "end_time": "2021-05-30T22:11:20.392084Z",
     "start_time": "2021-05-30T22:11:20.319531Z"
    }
   },
   "outputs": [],
   "source": [
    "svm_oof = svm_results_final.tags_oof_pred\n",
    "rf_oof = rf_results_final.tags_oof_pred\n",
    "gbm_oof = lgbm_results_final.tags_oof_pred\n",
    "ridge_oof = ridge_results_final.tags_oof_pred"
   ]
  },
  {
   "cell_type": "code",
   "execution_count": 323,
   "id": "0e96d1c0",
   "metadata": {
    "ExecuteTime": {
     "end_time": "2021-05-30T22:11:38.853014Z",
     "start_time": "2021-05-30T22:11:38.762677Z"
    }
   },
   "outputs": [
    {
     "data": {
      "text/html": [
       "<div>\n",
       "<style scoped>\n",
       "    .dataframe tbody tr th:only-of-type {\n",
       "        vertical-align: middle;\n",
       "    }\n",
       "\n",
       "    .dataframe tbody tr th {\n",
       "        vertical-align: top;\n",
       "    }\n",
       "\n",
       "    .dataframe thead th {\n",
       "        text-align: right;\n",
       "    }\n",
       "</style>\n",
       "<table border=\"1\" class=\"dataframe\">\n",
       "  <thead>\n",
       "    <tr style=\"text-align: right;\">\n",
       "      <th>counts_models_match</th>\n",
       "      <th>0</th>\n",
       "      <th>1</th>\n",
       "      <th>2</th>\n",
       "      <th>3</th>\n",
       "      <th>4</th>\n",
       "    </tr>\n",
       "    <tr>\n",
       "      <th>act</th>\n",
       "      <th></th>\n",
       "      <th></th>\n",
       "      <th></th>\n",
       "      <th></th>\n",
       "      <th></th>\n",
       "    </tr>\n",
       "  </thead>\n",
       "  <tbody>\n",
       "    <tr>\n",
       "      <th>0</th>\n",
       "      <td>3</td>\n",
       "      <td>24</td>\n",
       "      <td>41</td>\n",
       "      <td>40</td>\n",
       "      <td>9082</td>\n",
       "    </tr>\n",
       "    <tr>\n",
       "      <th>1</th>\n",
       "      <td>230</td>\n",
       "      <td>4</td>\n",
       "      <td>7</td>\n",
       "      <td>11</td>\n",
       "      <td>1</td>\n",
       "    </tr>\n",
       "    <tr>\n",
       "      <th>2</th>\n",
       "      <td>376</td>\n",
       "      <td>30</td>\n",
       "      <td>52</td>\n",
       "      <td>115</td>\n",
       "      <td>25</td>\n",
       "    </tr>\n",
       "  </tbody>\n",
       "</table>\n",
       "</div>"
      ],
      "text/plain": [
       "counts_models_match    0   1   2    3     4\n",
       "act                                        \n",
       "0                      3  24  41   40  9082\n",
       "1                    230   4   7   11     1\n",
       "2                    376  30  52  115    25"
      ]
     },
     "execution_count": 323,
     "metadata": {},
     "output_type": "execute_result"
    }
   ],
   "source": [
    "results = pd.DataFrame(zip(y, svm_oof, rf_oof, ridge_oof, gbm_oof), \n",
    "                       columns=['act', 'svm', 'rf', 'ridge', 'lgbm'])\n",
    "\n",
    "results['svm'] = (results['svm']==results['act']).astype(int)\n",
    "results['rf'] = (results['rf']==results['act']).astype(int)\n",
    "results['ridge'] = (results['ridge']==results['act']).astype(int)\n",
    "results['lgbm'] = (results['lgbm']==results['act']).astype(int)\n",
    "\n",
    "results['counts_models_match'] = results[['svm', 'rf', 'ridge', 'lgbm']].sum(axis=1)\n",
    "\n",
    "results = results.groupby(['act', 'counts_models_match']).size().reset_index().rename(columns={0:'count'})\n",
    "results.pivot(index='act', columns='counts_models_match', values='count').fillna(0).astype(int)"
   ]
  },
  {
   "cell_type": "markdown",
   "id": "7065aa1b",
   "metadata": {},
   "source": [
    "**Obserwacje**\n",
    "* istotna część poprawnie znalezionych egzemplarzy klas 1/2 została oznaczona tylko przez jeden klasyfikator\n",
    "* analiza wyników blendów prognoz pozwoli ustalić czy jest jeden dominujący klasyfikator czy są one komplementarne"
   ]
  },
  {
   "cell_type": "markdown",
   "id": "8f9c6176",
   "metadata": {
    "ExecuteTime": {
     "end_time": "2021-05-30T01:07:29.176696Z",
     "start_time": "2021-05-30T01:07:29.133494Z"
    }
   },
   "source": [
    "# blend prognoz modeli"
   ]
  },
  {
   "cell_type": "code",
   "execution_count": 324,
   "id": "d7be8aab",
   "metadata": {
    "ExecuteTime": {
     "end_time": "2021-05-30T22:12:01.559267Z",
     "start_time": "2021-05-30T22:11:55.834304Z"
    }
   },
   "outputs": [
    {
     "name": "stdout",
     "output_type": "stream",
     "text": [
      "blend              f1makro    mikro\n",
      "                  : (0.9152, 0.3186)\n",
      "lgbm              : (0.9152, 0.3186)\n",
      "ridge_            : (0.9282, 0.5061)\n",
      "ridge_lgbm        : (0.9282, 0.5061)\n",
      "rf_               : (0.9287, 0.484)\n",
      "rf_lgbm           : (0.9287, 0.484)\n",
      "rf_ridge_         : (0.9289, 0.5168)\n",
      "rf_ridge_lgbm     : (0.9289, 0.5168)\n",
      "svm_              : (0.9282, 0.5141)\n",
      "svm_lgbm          : (0.9282, 0.5141)\n",
      "svm_ridge_        : (0.9282, 0.5199)\n",
      "svm_ridge_lgbm    : (0.9282, 0.5199)\n",
      "svm_rf_           : (0.9284, 0.5192)\n",
      "svm_rf_lgbm       : (0.9284, 0.5192)\n",
      "svm_rf_ridge_     : (0.928, 0.5215)\n",
      "svm_rf_ridge_lgbm : (0.928, 0.5215)\n"
     ]
    }
   ],
   "source": [
    "blend_base = pd.DataFrame(zip(svm_oof, rf_oof, ridge_oof, gbm_oof), columns=['svm',  'rf', 'ridge', 'lgbm'])\n",
    "\n",
    "blend_permutations = list(itertools.product([0, 1], repeat=blend_base.shape[1]))\n",
    "blend_permutations\n",
    "\n",
    "blend_names = []\n",
    "blend_tags = []\n",
    "\n",
    "print(f\"{'blend'+'f1makro'.rjust(21)}    mikro\")\n",
    "for p in blend_permutations:\n",
    "    blend_name = ('svm_' if p[0]==1 else '') + ('rf_' if p[1]==1 else '') + ('ridge_' if p[2]==1 else '') + ('lgbm' if p[3]==1 else '')\n",
    "    blend_names.append(blend_name)\n",
    "    \n",
    "    blend = blend_base.apply(\n",
    "        lambda x: \n",
    "        1 if 1 in [p[0]*x[0], p[1]*x[1], p[2]*x[2]] else \n",
    "        2 if 2 in [p[0]*x[0], p[1]*x[1], p[2]*x[2]] else 0, axis=1)\n",
    "    blend_tags.append(blend)\n",
    "    \n",
    "    print(f\"{blend_name.ljust(18)}: {score(y, blend)}\")"
   ]
  },
  {
   "cell_type": "markdown",
   "id": "97af79a1",
   "metadata": {},
   "source": [
    "**Obserwacje**\n",
    "* generalnie modele i ich blendy bardzo słabo radzą sobie z wykrywaniem klas 1/2, większość przypadków nie została poprawnie zaklasyfikowana.\n",
    "* najlepszym pojedynczym klasyfikatorem w sensie `f1-macro` jest `RF`\n",
    "* najlepszym blendem jest `RF`+`Ridge`, ten blend zostanie klasyfikatorem w aplikacji\n",
    "* Gdybym miał decydować o produkcyjnym wykorzystaniu modelu wybrałbym jednak `SVM`+`Ridge`. Maksymalizuje `f1-micro` - najlepiej radzi sobie z zadaniem klasyfikacji klas 1/2."
   ]
  },
  {
   "cell_type": "markdown",
   "id": "1fd01d4e",
   "metadata": {},
   "source": [
    "# sprawdzenie na zbiorze testowym"
   ]
  },
  {
   "cell_type": "code",
   "execution_count": 329,
   "id": "774ab226",
   "metadata": {
    "ExecuteTime": {
     "end_time": "2021-05-30T22:27:52.394348Z",
     "start_time": "2021-05-30T22:27:52.308191Z"
    }
   },
   "outputs": [],
   "source": [
    "# load final blend models\n",
    "with open('./models/rf/final_rf.pkl', 'rb') as f:\n",
    "    final_rf, _ = pickle.load(f)\n",
    "    \n",
    "with open('./models/ridge/final_ridge.pkl', 'rb') as f:\n",
    "    final_ridge, _ = pickle.load(f)"
   ]
  },
  {
   "cell_type": "code",
   "execution_count": 337,
   "id": "6222df24",
   "metadata": {
    "ExecuteTime": {
     "end_time": "2021-05-30T22:31:29.102227Z",
     "start_time": "2021-05-30T22:31:28.905240Z"
    }
   },
   "outputs": [],
   "source": [
    "test_rf_tags = final_rf.predict(X_test)\n",
    "test_ridge_tags = final_ridge.predict(X_test)\n",
    "\n",
    "test_tags = [1 if 1 in x else (2 if 2 in x else 0) for x in zip(test_rf_tags, test_ridge_tags)]"
   ]
  },
  {
   "cell_type": "code",
   "execution_count": 343,
   "id": "efe46fd0",
   "metadata": {
    "ExecuteTime": {
     "end_time": "2021-05-30T22:33:26.358600Z",
     "start_time": "2021-05-30T22:33:26.293655Z"
    }
   },
   "outputs": [
    {
     "name": "stdout",
     "output_type": "stream",
     "text": [
      "final blend f1-macro: 0.874, f1-micro: 0.4047\n"
     ]
    }
   ],
   "source": [
    "final_score = score(y_test, test_tags)\n",
    "print(f\"final blend f1-macro: {final_score[0]}, f1-micro: {final_score[1]}\")"
   ]
  }
 ],
 "metadata": {
  "hide_input": false,
  "kernelspec": {
   "display_name": "Python 3",
   "language": "python",
   "name": "python3"
  },
  "language_info": {
   "codemirror_mode": {
    "name": "ipython",
    "version": 3
   },
   "file_extension": ".py",
   "mimetype": "text/x-python",
   "name": "python",
   "nbconvert_exporter": "python",
   "pygments_lexer": "ipython3",
   "version": "3.8.5"
  },
  "toc": {
   "base_numbering": 1,
   "nav_menu": {},
   "number_sections": true,
   "sideBar": true,
   "skip_h1_title": false,
   "title_cell": "Table of Contents",
   "title_sidebar": "Contents",
   "toc_cell": false,
   "toc_position": {
    "height": "calc(100% - 180px)",
    "left": "10px",
    "top": "150px",
    "width": "288.767px"
   },
   "toc_section_display": true,
   "toc_window_display": true
  }
 },
 "nbformat": 4,
 "nbformat_minor": 5
}
